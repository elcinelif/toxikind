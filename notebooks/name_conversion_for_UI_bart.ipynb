{
 "cells": [
  {
   "cell_type": "markdown",
   "id": "90903764-11ca-4a12-b7dc-d247341aa6ef",
   "metadata": {},
   "source": [
    "# Converting InChi Keys of the compounds on the test dataset into IUPAC names (or to plain English synonyms if available)"
   ]
  },
  {
   "cell_type": "code",
   "execution_count": 1,
   "id": "c1b2376d-545c-4f31-bfbb-115b5faa08cb",
   "metadata": {
    "execution": {
     "iopub.execute_input": "2025-06-12T13:46:22.244424Z",
     "iopub.status.busy": "2025-06-12T13:46:22.244149Z",
     "iopub.status.idle": "2025-06-12T13:46:23.187939Z",
     "shell.execute_reply": "2025-06-12T13:46:23.186688Z",
     "shell.execute_reply.started": "2025-06-12T13:46:22.244403Z"
    }
   },
   "outputs": [],
   "source": [
    "import pandas as pd\n",
    "import requests\n",
    "import time"
   ]
  },
  {
   "cell_type": "markdown",
   "id": "01845e2d-1920-4f33-a4d7-518279091b92",
   "metadata": {},
   "source": [
    "# Raw Data"
   ]
  },
  {
   "cell_type": "code",
   "execution_count": 2,
   "id": "36955b99-25b5-4857-ac67-b2cc27e5e710",
   "metadata": {
    "execution": {
     "iopub.execute_input": "2025-06-12T13:46:25.120735Z",
     "iopub.status.busy": "2025-06-12T13:46:25.119823Z",
     "iopub.status.idle": "2025-06-12T13:46:25.212738Z",
     "shell.execute_reply": "2025-06-12T13:46:25.211696Z",
     "shell.execute_reply.started": "2025-06-12T13:46:25.120682Z"
    }
   },
   "outputs": [],
   "source": [
    "df = pd.read_csv(\"../raw_data/tox21_compoundData.csv\")"
   ]
  },
  {
   "cell_type": "code",
   "execution_count": 3,
   "id": "7dd2cfce-3e2e-48db-be70-9a20dba5ffb6",
   "metadata": {
    "execution": {
     "iopub.execute_input": "2025-06-12T13:46:26.079529Z",
     "iopub.status.busy": "2025-06-12T13:46:26.078999Z",
     "iopub.status.idle": "2025-06-12T13:46:26.114743Z",
     "shell.execute_reply": "2025-06-12T13:46:26.112786Z",
     "shell.execute_reply.started": "2025-06-12T13:46:26.079491Z"
    }
   },
   "outputs": [
    {
     "name": "stdout",
     "output_type": "stream",
     "text": [
      "(12707, 18)\n",
      "<class 'pandas.core.frame.DataFrame'>\n",
      "RangeIndex: 12707 entries, 0 to 12706\n",
      "Data columns (total 18 columns):\n",
      " #   Column         Non-Null Count  Dtype  \n",
      "---  ------         --------------  -----  \n",
      " 0   ID             12707 non-null  object \n",
      " 1   inchikey       12707 non-null  object \n",
      " 2   sdftitle       12707 non-null  object \n",
      " 3   order          12707 non-null  int64  \n",
      " 4   set            12707 non-null  object \n",
      " 5   CVfold         8245 non-null   float64\n",
      " 6   NR.AhR         9051 non-null   float64\n",
      " 7   NR.AR          10240 non-null  float64\n",
      " 8   NR.AR.LBD      9434 non-null   float64\n",
      " 9   NR.Aromatase   7968 non-null   float64\n",
      " 10  NR.ER          8478 non-null   float64\n",
      " 11  NR.ER.LBD      9640 non-null   float64\n",
      " 12  NR.PPAR.gamma  9056 non-null   float64\n",
      " 13  SR.ARE         7956 non-null   float64\n",
      " 14  SR.ATAD5       9985 non-null   float64\n",
      " 15  SR.HSE         9027 non-null   float64\n",
      " 16  SR.MMP         8101 non-null   float64\n",
      " 17  SR.p53         9519 non-null   float64\n",
      "dtypes: float64(13), int64(1), object(4)\n",
      "memory usage: 1.7+ MB\n",
      "None\n"
     ]
    }
   ],
   "source": [
    "print(df.shape)\n",
    "print(df.info())"
   ]
  },
  {
   "cell_type": "markdown",
   "id": "c280a8ff-d2b5-48dd-b223-832efe206922",
   "metadata": {},
   "source": [
    "# Retrieve SMILES, IUPAC name, and InChIKey for UI dataset"
   ]
  },
  {
   "cell_type": "markdown",
   "id": "d265dfb7-76b7-4914-81b1-95cb64d9474c",
   "metadata": {
    "execution": {
     "iopub.execute_input": "2025-06-12T12:22:38.181300Z",
     "iopub.status.busy": "2025-06-12T12:22:38.179455Z",
     "iopub.status.idle": "2025-06-12T12:22:38.190515Z",
     "shell.execute_reply": "2025-06-12T12:22:38.188460Z",
     "shell.execute_reply.started": "2025-06-12T12:22:38.181241Z"
    }
   },
   "source": [
    "## Dataset Without Targets"
   ]
  },
  {
   "cell_type": "markdown",
   "id": "00efc451-2554-4c5f-b930-50c608ed42ce",
   "metadata": {
    "execution": {
     "iopub.execute_input": "2025-06-12T12:24:05.953046Z",
     "iopub.status.busy": "2025-06-12T12:24:05.951139Z",
     "iopub.status.idle": "2025-06-12T12:24:05.982433Z",
     "shell.execute_reply": "2025-06-12T12:24:05.979177Z",
     "shell.execute_reply.started": "2025-06-12T12:24:05.952936Z"
    }
   },
   "source": [
    "**All data**"
   ]
  },
  {
   "cell_type": "code",
   "execution_count": 4,
   "id": "c45add32-5894-403b-8635-6cf51dfbfb68",
   "metadata": {
    "execution": {
     "iopub.execute_input": "2025-06-12T13:46:28.602527Z",
     "iopub.status.busy": "2025-06-12T13:46:28.601243Z",
     "iopub.status.idle": "2025-06-12T13:46:28.636102Z",
     "shell.execute_reply": "2025-06-12T13:46:28.634416Z",
     "shell.execute_reply.started": "2025-06-12T13:46:28.602468Z"
    }
   },
   "outputs": [
    {
     "data": {
      "text/html": [
       "<div>\n",
       "<style scoped>\n",
       "    .dataframe tbody tr th:only-of-type {\n",
       "        vertical-align: middle;\n",
       "    }\n",
       "\n",
       "    .dataframe tbody tr th {\n",
       "        vertical-align: top;\n",
       "    }\n",
       "\n",
       "    .dataframe thead th {\n",
       "        text-align: right;\n",
       "    }\n",
       "</style>\n",
       "<table border=\"1\" class=\"dataframe\">\n",
       "  <thead>\n",
       "    <tr style=\"text-align: right;\">\n",
       "      <th></th>\n",
       "      <th>ID</th>\n",
       "      <th>inchikey</th>\n",
       "      <th>set</th>\n",
       "    </tr>\n",
       "  </thead>\n",
       "  <tbody>\n",
       "    <tr>\n",
       "      <th>0</th>\n",
       "      <td>NCGC00178831-03</td>\n",
       "      <td>PEJLNXHANOHNSU-UHFFFAOYSA-N</td>\n",
       "      <td>training</td>\n",
       "    </tr>\n",
       "    <tr>\n",
       "      <th>1</th>\n",
       "      <td>NCGC00166114-03</td>\n",
       "      <td>SEACYXSIPDVVMV-UHFFFAOYSA-L</td>\n",
       "      <td>training</td>\n",
       "    </tr>\n",
       "    <tr>\n",
       "      <th>2</th>\n",
       "      <td>NCGC00263563-01</td>\n",
       "      <td>WQGJEAMPBSZCIF-VEKNOCPUSA-N</td>\n",
       "      <td>training</td>\n",
       "    </tr>\n",
       "    <tr>\n",
       "      <th>3</th>\n",
       "      <td>NCGC00013058-02</td>\n",
       "      <td>CNYGFPPAGUCRIC-UHFFFAOYSA-L</td>\n",
       "      <td>training</td>\n",
       "    </tr>\n",
       "    <tr>\n",
       "      <th>4</th>\n",
       "      <td>NCGC00167516-01</td>\n",
       "      <td>LYCYLGFSIXIXAB-NUZRHMIVSA-N</td>\n",
       "      <td>training</td>\n",
       "    </tr>\n",
       "    <tr>\n",
       "      <th>...</th>\n",
       "      <td>...</td>\n",
       "      <td>...</td>\n",
       "      <td>...</td>\n",
       "    </tr>\n",
       "    <tr>\n",
       "      <th>12702</th>\n",
       "      <td>NCGC00357168-01</td>\n",
       "      <td>SHLSSLVZXJBVHE-UHFFFAOYSA-N</td>\n",
       "      <td>test</td>\n",
       "    </tr>\n",
       "    <tr>\n",
       "      <th>12703</th>\n",
       "      <td>NCGC00357283-01</td>\n",
       "      <td>HUHGPYXAVBJSJV-UHFFFAOYSA-N</td>\n",
       "      <td>test</td>\n",
       "    </tr>\n",
       "    <tr>\n",
       "      <th>12704</th>\n",
       "      <td>NCGC00357210-01</td>\n",
       "      <td>XOHZHMUQBFJTNH-UHFFFAOYSA-N</td>\n",
       "      <td>test</td>\n",
       "    </tr>\n",
       "    <tr>\n",
       "      <th>12705</th>\n",
       "      <td>NCGC00357118-01</td>\n",
       "      <td>MNHVNIJQQRJYDH-UHFFFAOYSA-N</td>\n",
       "      <td>test</td>\n",
       "    </tr>\n",
       "    <tr>\n",
       "      <th>12706</th>\n",
       "      <td>NCGC00357144-01</td>\n",
       "      <td>ZFFTZDQKIXPDAF-UHFFFAOYSA-N</td>\n",
       "      <td>test</td>\n",
       "    </tr>\n",
       "  </tbody>\n",
       "</table>\n",
       "<p>12707 rows × 3 columns</p>\n",
       "</div>"
      ],
      "text/plain": [
       "                    ID                     inchikey       set\n",
       "0      NCGC00178831-03  PEJLNXHANOHNSU-UHFFFAOYSA-N  training\n",
       "1      NCGC00166114-03  SEACYXSIPDVVMV-UHFFFAOYSA-L  training\n",
       "2      NCGC00263563-01  WQGJEAMPBSZCIF-VEKNOCPUSA-N  training\n",
       "3      NCGC00013058-02  CNYGFPPAGUCRIC-UHFFFAOYSA-L  training\n",
       "4      NCGC00167516-01  LYCYLGFSIXIXAB-NUZRHMIVSA-N  training\n",
       "...                ...                          ...       ...\n",
       "12702  NCGC00357168-01  SHLSSLVZXJBVHE-UHFFFAOYSA-N      test\n",
       "12703  NCGC00357283-01  HUHGPYXAVBJSJV-UHFFFAOYSA-N      test\n",
       "12704  NCGC00357210-01  XOHZHMUQBFJTNH-UHFFFAOYSA-N      test\n",
       "12705  NCGC00357118-01  MNHVNIJQQRJYDH-UHFFFAOYSA-N      test\n",
       "12706  NCGC00357144-01  ZFFTZDQKIXPDAF-UHFFFAOYSA-N      test\n",
       "\n",
       "[12707 rows x 3 columns]"
      ]
     },
     "execution_count": 4,
     "metadata": {},
     "output_type": "execute_result"
    }
   ],
   "source": [
    "df_ids = df[[\"ID\", \"inchikey\", \"set\"]]\n",
    "df_ids"
   ]
  },
  {
   "cell_type": "markdown",
   "id": "ab075e0b-7fb6-471e-9280-56c4cdaa4031",
   "metadata": {},
   "source": [
    "**Test data only**"
   ]
  },
  {
   "cell_type": "code",
   "execution_count": 5,
   "id": "d340b4c4-fd7c-4e02-a3ee-0a145e0e86a2",
   "metadata": {
    "execution": {
     "iopub.execute_input": "2025-06-12T13:46:29.287975Z",
     "iopub.status.busy": "2025-06-12T13:46:29.287303Z",
     "iopub.status.idle": "2025-06-12T13:46:29.306378Z",
     "shell.execute_reply": "2025-06-12T13:46:29.305287Z",
     "shell.execute_reply.started": "2025-06-12T13:46:29.287935Z"
    }
   },
   "outputs": [
    {
     "data": {
      "text/html": [
       "<div>\n",
       "<style scoped>\n",
       "    .dataframe tbody tr th:only-of-type {\n",
       "        vertical-align: middle;\n",
       "    }\n",
       "\n",
       "    .dataframe tbody tr th {\n",
       "        vertical-align: top;\n",
       "    }\n",
       "\n",
       "    .dataframe thead th {\n",
       "        text-align: right;\n",
       "    }\n",
       "</style>\n",
       "<table border=\"1\" class=\"dataframe\">\n",
       "  <thead>\n",
       "    <tr style=\"text-align: right;\">\n",
       "      <th></th>\n",
       "      <th>ID</th>\n",
       "      <th>inchikey</th>\n",
       "      <th>set</th>\n",
       "    </tr>\n",
       "  </thead>\n",
       "  <tbody>\n",
       "    <tr>\n",
       "      <th>0</th>\n",
       "      <td>NCGC00261900-01</td>\n",
       "      <td>ABCSSKWSUJMJCP-WQDFMEOSSA-N</td>\n",
       "      <td>test</td>\n",
       "    </tr>\n",
       "    <tr>\n",
       "      <th>1</th>\n",
       "      <td>NCGC00260869-01</td>\n",
       "      <td>DMRMZQATXPQOTP-XIIVPSJUSA-M</td>\n",
       "      <td>test</td>\n",
       "    </tr>\n",
       "    <tr>\n",
       "      <th>2</th>\n",
       "      <td>NCGC00261776-01</td>\n",
       "      <td>ACVGWSKVRYFWRP-UHFFFAOYSA-N</td>\n",
       "      <td>test</td>\n",
       "    </tr>\n",
       "    <tr>\n",
       "      <th>3</th>\n",
       "      <td>NCGC00261380-01</td>\n",
       "      <td>LCHACRBDLUKTTM-UHFFFAOYSA-N</td>\n",
       "      <td>test</td>\n",
       "    </tr>\n",
       "    <tr>\n",
       "      <th>4</th>\n",
       "      <td>NCGC00261842-01</td>\n",
       "      <td>MQUQNUAYKLCRME-INIZCTEOSA-N</td>\n",
       "      <td>test</td>\n",
       "    </tr>\n",
       "    <tr>\n",
       "      <th>...</th>\n",
       "      <td>...</td>\n",
       "      <td>...</td>\n",
       "      <td>...</td>\n",
       "    </tr>\n",
       "    <tr>\n",
       "      <th>642</th>\n",
       "      <td>NCGC00357168-01</td>\n",
       "      <td>SHLSSLVZXJBVHE-UHFFFAOYSA-N</td>\n",
       "      <td>test</td>\n",
       "    </tr>\n",
       "    <tr>\n",
       "      <th>643</th>\n",
       "      <td>NCGC00357283-01</td>\n",
       "      <td>HUHGPYXAVBJSJV-UHFFFAOYSA-N</td>\n",
       "      <td>test</td>\n",
       "    </tr>\n",
       "    <tr>\n",
       "      <th>644</th>\n",
       "      <td>NCGC00357210-01</td>\n",
       "      <td>XOHZHMUQBFJTNH-UHFFFAOYSA-N</td>\n",
       "      <td>test</td>\n",
       "    </tr>\n",
       "    <tr>\n",
       "      <th>645</th>\n",
       "      <td>NCGC00357118-01</td>\n",
       "      <td>MNHVNIJQQRJYDH-UHFFFAOYSA-N</td>\n",
       "      <td>test</td>\n",
       "    </tr>\n",
       "    <tr>\n",
       "      <th>646</th>\n",
       "      <td>NCGC00357144-01</td>\n",
       "      <td>ZFFTZDQKIXPDAF-UHFFFAOYSA-N</td>\n",
       "      <td>test</td>\n",
       "    </tr>\n",
       "  </tbody>\n",
       "</table>\n",
       "<p>647 rows × 3 columns</p>\n",
       "</div>"
      ],
      "text/plain": [
       "                  ID                     inchikey   set\n",
       "0    NCGC00261900-01  ABCSSKWSUJMJCP-WQDFMEOSSA-N  test\n",
       "1    NCGC00260869-01  DMRMZQATXPQOTP-XIIVPSJUSA-M  test\n",
       "2    NCGC00261776-01  ACVGWSKVRYFWRP-UHFFFAOYSA-N  test\n",
       "3    NCGC00261380-01  LCHACRBDLUKTTM-UHFFFAOYSA-N  test\n",
       "4    NCGC00261842-01  MQUQNUAYKLCRME-INIZCTEOSA-N  test\n",
       "..               ...                          ...   ...\n",
       "642  NCGC00357168-01  SHLSSLVZXJBVHE-UHFFFAOYSA-N  test\n",
       "643  NCGC00357283-01  HUHGPYXAVBJSJV-UHFFFAOYSA-N  test\n",
       "644  NCGC00357210-01  XOHZHMUQBFJTNH-UHFFFAOYSA-N  test\n",
       "645  NCGC00357118-01  MNHVNIJQQRJYDH-UHFFFAOYSA-N  test\n",
       "646  NCGC00357144-01  ZFFTZDQKIXPDAF-UHFFFAOYSA-N  test\n",
       "\n",
       "[647 rows x 3 columns]"
      ]
     },
     "execution_count": 5,
     "metadata": {},
     "output_type": "execute_result"
    }
   ],
   "source": [
    "df_ids_test = df_ids[df_ids[\"set\"] == \"test\"].reset_index(drop=True)\n",
    "df_ids_test"
   ]
  },
  {
   "cell_type": "markdown",
   "id": "ec262f99-04d9-4fdc-a734-8735b79dc8ab",
   "metadata": {},
   "source": [
    "## Functions that collect the names of the compounds from PubChem based on their InChi Keys "
   ]
  },
  {
   "cell_type": "code",
   "execution_count": 6,
   "id": "31de129c-f1a4-4d5e-b739-e3c82d966ceb",
   "metadata": {
    "execution": {
     "iopub.execute_input": "2025-06-12T13:46:29.892951Z",
     "iopub.status.busy": "2025-06-12T13:46:29.892419Z",
     "iopub.status.idle": "2025-06-12T13:46:29.907222Z",
     "shell.execute_reply": "2025-06-12T13:46:29.904431Z",
     "shell.execute_reply.started": "2025-06-12T13:46:29.892914Z"
    }
   },
   "outputs": [],
   "source": [
    "def get_smiles(inchikey):\n",
    "    url = f\"https://pubchem.ncbi.nlm.nih.gov/rest/pug/compound/inchikey/{inchikey}/property/CanonicalSMILES/JSON\"\n",
    "    try:\n",
    "        res = requests.get(url, timeout=10)\n",
    "        if res.status_code == 200:\n",
    "            return res.json()[\"PropertyTable\"][\"Properties\"][0][\"CanonicalSMILES\"]\n",
    "    except:\n",
    "        pass\n",
    "    return None"
   ]
  },
  {
   "cell_type": "code",
   "execution_count": 7,
   "id": "be4008e1-8379-46ce-82bd-e16c62a439ef",
   "metadata": {
    "execution": {
     "iopub.execute_input": "2025-06-12T13:46:30.263707Z",
     "iopub.status.busy": "2025-06-12T13:46:30.263165Z",
     "iopub.status.idle": "2025-06-12T13:46:30.274746Z",
     "shell.execute_reply": "2025-06-12T13:46:30.271536Z",
     "shell.execute_reply.started": "2025-06-12T13:46:30.263669Z"
    }
   },
   "outputs": [],
   "source": [
    "def get_iupac_name(inchikey):\n",
    "    url = f\"https://pubchem.ncbi.nlm.nih.gov/rest/pug/compound/inchikey/{inchikey}/property/IUPACName/JSON\"\n",
    "    try:\n",
    "        res = requests.get(url, timeout=10)\n",
    "        if res.status_code == 200:\n",
    "            data = res.json()\n",
    "            return data[\"PropertyTable\"][\"Properties\"][0][\"IUPACName\"]\n",
    "    except:\n",
    "        pass\n",
    "    return None\n"
   ]
  },
  {
   "cell_type": "code",
   "execution_count": 8,
   "id": "db5abae9-6ff1-40ef-beec-54ec1df2a358",
   "metadata": {
    "execution": {
     "iopub.execute_input": "2025-06-12T13:46:31.093597Z",
     "iopub.status.busy": "2025-06-12T13:46:31.093254Z",
     "iopub.status.idle": "2025-06-12T13:46:31.100137Z",
     "shell.execute_reply": "2025-06-12T13:46:31.098789Z",
     "shell.execute_reply.started": "2025-06-12T13:46:31.093576Z"
    }
   },
   "outputs": [],
   "source": [
    "def get_title(inchikey):\n",
    "    url = f\"https://pubchem.ncbi.nlm.nih.gov/rest/pug/compound/inchikey/{inchikey}/property/Title/JSON\"\n",
    "    try:\n",
    "        res = requests.get(url, timeout=10)\n",
    "        if res.status_code == 200:\n",
    "            data = res.json()\n",
    "            return data[\"PropertyTable\"][\"Properties\"][0][\"Title\"]\n",
    "    except:\n",
    "        pass\n",
    "    return None"
   ]
  },
  {
   "cell_type": "markdown",
   "id": "770908f0-5a0f-41b9-afed-e7f8d86d686b",
   "metadata": {},
   "source": [
    "## Retrieve Data From Pubchem API"
   ]
  },
  {
   "cell_type": "markdown",
   "id": "f36921ce-1f37-43d7-9859-82f376d14e5f",
   "metadata": {
    "execution": {
     "iopub.execute_input": "2025-06-12T12:29:06.564993Z",
     "iopub.status.busy": "2025-06-12T12:29:06.562835Z",
     "iopub.status.idle": "2025-06-12T12:29:06.586021Z",
     "shell.execute_reply": "2025-06-12T12:29:06.584474Z",
     "shell.execute_reply.started": "2025-06-12T12:29:06.564944Z"
    }
   },
   "source": [
    "**Create empty lists**"
   ]
  },
  {
   "cell_type": "code",
   "execution_count": 9,
   "id": "f6ff65fa-ee26-41be-a2c0-0f0224f93c48",
   "metadata": {
    "execution": {
     "iopub.execute_input": "2025-06-12T13:46:33.312291Z",
     "iopub.status.busy": "2025-06-12T13:46:33.311605Z",
     "iopub.status.idle": "2025-06-12T13:46:33.323618Z",
     "shell.execute_reply": "2025-06-12T13:46:33.321840Z",
     "shell.execute_reply.started": "2025-06-12T13:46:33.312187Z"
    }
   },
   "outputs": [],
   "source": [
    "smiles_list = []\n",
    "iupac_names = []\n",
    "titles = []\n",
    "total = len(df_ids_test)"
   ]
  },
  {
   "cell_type": "markdown",
   "id": "d9ebda61-2f1f-449b-a6ea-017fce4d2640",
   "metadata": {},
   "source": [
    "**Loop call to API**"
   ]
  },
  {
   "cell_type": "code",
   "execution_count": 10,
   "id": "ca3fb7f8-50b4-4cdd-8f29-cf8a8b6aed8a",
   "metadata": {
    "execution": {
     "iopub.execute_input": "2025-06-12T13:46:37.666466Z",
     "iopub.status.busy": "2025-06-12T13:46:37.665885Z",
     "iopub.status.idle": "2025-06-12T14:02:32.511414Z",
     "shell.execute_reply": "2025-06-12T14:02:32.496303Z",
     "shell.execute_reply.started": "2025-06-12T13:46:37.666425Z"
    }
   },
   "outputs": [
    {
     "name": "stdout",
     "output_type": "stream",
     "text": [
      "Processed 50 of 647 compounds\n",
      "Processed 100 of 647 compounds\n",
      "Processed 150 of 647 compounds\n",
      "Processed 200 of 647 compounds\n",
      "Processed 250 of 647 compounds\n",
      "Processed 300 of 647 compounds\n",
      "Processed 350 of 647 compounds\n",
      "Processed 400 of 647 compounds\n",
      "Processed 450 of 647 compounds\n",
      "Processed 500 of 647 compounds\n",
      "Processed 550 of 647 compounds\n",
      "Processed 600 of 647 compounds\n"
     ]
    }
   ],
   "source": [
    "for i, inchikey in enumerate(df_ids_test[\"inchikey\"], 1):\n",
    "    smiles = get_smiles(inchikey)\n",
    "    iupac = get_iupac_name(inchikey)\n",
    "    title = get_title(inchikey)\n",
    "\n",
    "    smiles_list.append(smiles)\n",
    "    iupac_names.append(iupac)\n",
    "    titles.append(title)\n",
    "    \n",
    "    time.sleep(0.2)  \n",
    "    if i % 50 == 0:\n",
    "        print(f\"Processed {i} of {total} compounds\")"
   ]
  },
  {
   "cell_type": "markdown",
   "id": "9fb91d6a-5223-41de-a204-22c40a89a67a",
   "metadata": {},
   "source": [
    "**Add lists to DataFrame**"
   ]
  },
  {
   "cell_type": "code",
   "execution_count": 11,
   "id": "2ff681f0-bf0d-4306-98bf-54c0c6def009",
   "metadata": {
    "execution": {
     "iopub.execute_input": "2025-06-12T14:06:04.376363Z",
     "iopub.status.busy": "2025-06-12T14:06:04.372903Z",
     "iopub.status.idle": "2025-06-12T14:06:04.598430Z",
     "shell.execute_reply": "2025-06-12T14:06:04.597114Z",
     "shell.execute_reply.started": "2025-06-12T14:06:04.376316Z"
    }
   },
   "outputs": [
    {
     "data": {
      "text/html": [
       "<div>\n",
       "<style scoped>\n",
       "    .dataframe tbody tr th:only-of-type {\n",
       "        vertical-align: middle;\n",
       "    }\n",
       "\n",
       "    .dataframe tbody tr th {\n",
       "        vertical-align: top;\n",
       "    }\n",
       "\n",
       "    .dataframe thead th {\n",
       "        text-align: right;\n",
       "    }\n",
       "</style>\n",
       "<table border=\"1\" class=\"dataframe\">\n",
       "  <thead>\n",
       "    <tr style=\"text-align: right;\">\n",
       "      <th></th>\n",
       "      <th>ID</th>\n",
       "      <th>inchikey</th>\n",
       "      <th>set</th>\n",
       "      <th>smiles</th>\n",
       "      <th>iupac_name</th>\n",
       "      <th>title</th>\n",
       "    </tr>\n",
       "  </thead>\n",
       "  <tbody>\n",
       "    <tr>\n",
       "      <th>0</th>\n",
       "      <td>NCGC00261900-01</td>\n",
       "      <td>ABCSSKWSUJMJCP-WQDFMEOSSA-N</td>\n",
       "      <td>test</td>\n",
       "      <td>CC12CC=C3C(C1CCC2C(=O)CN4CCN(CC4)C5=NC(=NC(=C5...</td>\n",
       "      <td>(Z)-but-2-enedioic acid;(8S,10S,13S,14S,17S)-1...</td>\n",
       "      <td>U-74389G maleate</td>\n",
       "    </tr>\n",
       "    <tr>\n",
       "      <th>1</th>\n",
       "      <td>NCGC00260869-01</td>\n",
       "      <td>DMRMZQATXPQOTP-XIIVPSJUSA-M</td>\n",
       "      <td>test</td>\n",
       "      <td>C1C2C(C(C(O2)N3C4=NC=NC(=C4N=C3Br)N)O)OP(=O)(O...</td>\n",
       "      <td>sodium;(7aR)-6-(6-amino-8-bromopurin-9-yl)-2-o...</td>\n",
       "      <td>None</td>\n",
       "    </tr>\n",
       "    <tr>\n",
       "      <th>2</th>\n",
       "      <td>NCGC00261776-01</td>\n",
       "      <td>ACVGWSKVRYFWRP-UHFFFAOYSA-N</td>\n",
       "      <td>test</td>\n",
       "      <td>C1CN2C(=NC3=CC=CC=C3C2=O)C4=C1C5=CC=CC=C5N4</td>\n",
       "      <td>3,13,21-triazapentacyclo[11.8.0.02,10.04,9.015...</td>\n",
       "      <td>Rutecarpine</td>\n",
       "    </tr>\n",
       "    <tr>\n",
       "      <th>3</th>\n",
       "      <td>NCGC00261380-01</td>\n",
       "      <td>LCHACRBDLUKTTM-UHFFFAOYSA-N</td>\n",
       "      <td>test</td>\n",
       "      <td>C1=CC(=CC=C1C(C2=CC=C(C=C2)F)OCCCC3=CN=CN3)F.Cl</td>\n",
       "      <td>5-[3-[bis(4-fluorophenyl)methoxy]propyl]-1H-im...</td>\n",
       "      <td>3-(1H-Imidazol-4-yl)propyl di(p-fluorophenyl)m...</td>\n",
       "    </tr>\n",
       "    <tr>\n",
       "      <th>4</th>\n",
       "      <td>NCGC00261842-01</td>\n",
       "      <td>MQUQNUAYKLCRME-INIZCTEOSA-N</td>\n",
       "      <td>test</td>\n",
       "      <td>CC1=CC=C(C=C1)S(=O)(=O)NC(CC2=CC=CC=C2)C(=O)CCl</td>\n",
       "      <td>N-[(2S)-4-chloro-3-oxo-1-phenylbutan-2-yl]-4-m...</td>\n",
       "      <td>N-Tosyl-L-phenylalanyl chloromethyl ketone</td>\n",
       "    </tr>\n",
       "    <tr>\n",
       "      <th>...</th>\n",
       "      <td>...</td>\n",
       "      <td>...</td>\n",
       "      <td>...</td>\n",
       "      <td>...</td>\n",
       "      <td>...</td>\n",
       "      <td>...</td>\n",
       "    </tr>\n",
       "    <tr>\n",
       "      <th>642</th>\n",
       "      <td>NCGC00357168-01</td>\n",
       "      <td>SHLSSLVZXJBVHE-UHFFFAOYSA-N</td>\n",
       "      <td>test</td>\n",
       "      <td>C(CO)CS</td>\n",
       "      <td>3-sulfanylpropan-1-ol</td>\n",
       "      <td>3-Mercapto-1-propanol</td>\n",
       "    </tr>\n",
       "    <tr>\n",
       "      <th>643</th>\n",
       "      <td>NCGC00357283-01</td>\n",
       "      <td>HUHGPYXAVBJSJV-UHFFFAOYSA-N</td>\n",
       "      <td>test</td>\n",
       "      <td>C1N(CN(CN1CCO)CCO)CCO</td>\n",
       "      <td>2-[3,5-bis(2-hydroxyethyl)-1,3,5-triazinan-1-y...</td>\n",
       "      <td>Triazinetriethanol</td>\n",
       "    </tr>\n",
       "    <tr>\n",
       "      <th>644</th>\n",
       "      <td>NCGC00357210-01</td>\n",
       "      <td>XOHZHMUQBFJTNH-UHFFFAOYSA-N</td>\n",
       "      <td>test</td>\n",
       "      <td>CN1C(=NN=N1)S</td>\n",
       "      <td>1-methyltetrazole-5-thiol</td>\n",
       "      <td>None</td>\n",
       "    </tr>\n",
       "    <tr>\n",
       "      <th>645</th>\n",
       "      <td>NCGC00357118-01</td>\n",
       "      <td>MNHVNIJQQRJYDH-UHFFFAOYSA-N</td>\n",
       "      <td>test</td>\n",
       "      <td>C1CC1(C(CC2=CC=CC=C2Cl)(CN3C(=S)N=CN3)O)Cl</td>\n",
       "      <td>2-[2-(1-chlorocyclopropyl)-3-(2-chlorophenyl)-...</td>\n",
       "      <td>Prothioconazole</td>\n",
       "    </tr>\n",
       "    <tr>\n",
       "      <th>646</th>\n",
       "      <td>NCGC00357144-01</td>\n",
       "      <td>ZFFTZDQKIXPDAF-UHFFFAOYSA-N</td>\n",
       "      <td>test</td>\n",
       "      <td>C1=COC(=C1)CS</td>\n",
       "      <td>furan-2-ylmethanethiol</td>\n",
       "      <td>Furfuryl mercaptan</td>\n",
       "    </tr>\n",
       "  </tbody>\n",
       "</table>\n",
       "<p>647 rows × 6 columns</p>\n",
       "</div>"
      ],
      "text/plain": [
       "                  ID                     inchikey   set  \\\n",
       "0    NCGC00261900-01  ABCSSKWSUJMJCP-WQDFMEOSSA-N  test   \n",
       "1    NCGC00260869-01  DMRMZQATXPQOTP-XIIVPSJUSA-M  test   \n",
       "2    NCGC00261776-01  ACVGWSKVRYFWRP-UHFFFAOYSA-N  test   \n",
       "3    NCGC00261380-01  LCHACRBDLUKTTM-UHFFFAOYSA-N  test   \n",
       "4    NCGC00261842-01  MQUQNUAYKLCRME-INIZCTEOSA-N  test   \n",
       "..               ...                          ...   ...   \n",
       "642  NCGC00357168-01  SHLSSLVZXJBVHE-UHFFFAOYSA-N  test   \n",
       "643  NCGC00357283-01  HUHGPYXAVBJSJV-UHFFFAOYSA-N  test   \n",
       "644  NCGC00357210-01  XOHZHMUQBFJTNH-UHFFFAOYSA-N  test   \n",
       "645  NCGC00357118-01  MNHVNIJQQRJYDH-UHFFFAOYSA-N  test   \n",
       "646  NCGC00357144-01  ZFFTZDQKIXPDAF-UHFFFAOYSA-N  test   \n",
       "\n",
       "                                                smiles  \\\n",
       "0    CC12CC=C3C(C1CCC2C(=O)CN4CCN(CC4)C5=NC(=NC(=C5...   \n",
       "1    C1C2C(C(C(O2)N3C4=NC=NC(=C4N=C3Br)N)O)OP(=O)(O...   \n",
       "2          C1CN2C(=NC3=CC=CC=C3C2=O)C4=C1C5=CC=CC=C5N4   \n",
       "3      C1=CC(=CC=C1C(C2=CC=C(C=C2)F)OCCCC3=CN=CN3)F.Cl   \n",
       "4      CC1=CC=C(C=C1)S(=O)(=O)NC(CC2=CC=CC=C2)C(=O)CCl   \n",
       "..                                                 ...   \n",
       "642                                            C(CO)CS   \n",
       "643                              C1N(CN(CN1CCO)CCO)CCO   \n",
       "644                                      CN1C(=NN=N1)S   \n",
       "645         C1CC1(C(CC2=CC=CC=C2Cl)(CN3C(=S)N=CN3)O)Cl   \n",
       "646                                      C1=COC(=C1)CS   \n",
       "\n",
       "                                            iupac_name  \\\n",
       "0    (Z)-but-2-enedioic acid;(8S,10S,13S,14S,17S)-1...   \n",
       "1    sodium;(7aR)-6-(6-amino-8-bromopurin-9-yl)-2-o...   \n",
       "2    3,13,21-triazapentacyclo[11.8.0.02,10.04,9.015...   \n",
       "3    5-[3-[bis(4-fluorophenyl)methoxy]propyl]-1H-im...   \n",
       "4    N-[(2S)-4-chloro-3-oxo-1-phenylbutan-2-yl]-4-m...   \n",
       "..                                                 ...   \n",
       "642                              3-sulfanylpropan-1-ol   \n",
       "643  2-[3,5-bis(2-hydroxyethyl)-1,3,5-triazinan-1-y...   \n",
       "644                          1-methyltetrazole-5-thiol   \n",
       "645  2-[2-(1-chlorocyclopropyl)-3-(2-chlorophenyl)-...   \n",
       "646                             furan-2-ylmethanethiol   \n",
       "\n",
       "                                                 title  \n",
       "0                                     U-74389G maleate  \n",
       "1                                                 None  \n",
       "2                                          Rutecarpine  \n",
       "3    3-(1H-Imidazol-4-yl)propyl di(p-fluorophenyl)m...  \n",
       "4           N-Tosyl-L-phenylalanyl chloromethyl ketone  \n",
       "..                                                 ...  \n",
       "642                              3-Mercapto-1-propanol  \n",
       "643                                 Triazinetriethanol  \n",
       "644                                               None  \n",
       "645                                    Prothioconazole  \n",
       "646                                 Furfuryl mercaptan  \n",
       "\n",
       "[647 rows x 6 columns]"
      ]
     },
     "execution_count": 11,
     "metadata": {},
     "output_type": "execute_result"
    }
   ],
   "source": [
    "df_ids_test[\"smiles\"] = smiles_list\n",
    "df_ids_test[\"iupac_name\"] = iupac_names\n",
    "df_ids_test[\"title\"] = titles\n",
    "df_ids_test"
   ]
  },
  {
   "cell_type": "code",
   "execution_count": 12,
   "id": "5d4f744b-615e-4092-9071-b36e9473a51e",
   "metadata": {
    "execution": {
     "iopub.execute_input": "2025-06-12T14:06:20.748065Z",
     "iopub.status.busy": "2025-06-12T14:06:20.747403Z",
     "iopub.status.idle": "2025-06-12T14:06:20.780185Z",
     "shell.execute_reply": "2025-06-12T14:06:20.777216Z",
     "shell.execute_reply.started": "2025-06-12T14:06:20.748023Z"
    }
   },
   "outputs": [
    {
     "data": {
      "text/plain": [
       "'sodium;(7aR)-6-(6-amino-8-bromopurin-9-yl)-2-oxido-2-oxo-4a,6,7,7a-tetrahydro-4H-furo[3,2-d][1,3,2]dioxaphosphinin-7-ol'"
      ]
     },
     "execution_count": 12,
     "metadata": {},
     "output_type": "execute_result"
    }
   ],
   "source": [
    "df_ids_test[\"iupac_name\"][1]"
   ]
  },
  {
   "cell_type": "markdown",
   "id": "9f387b2d-f9c9-4503-becd-032285175569",
   "metadata": {},
   "source": [
    "**Save compound names to disk**"
   ]
  },
  {
   "cell_type": "code",
   "execution_count": 16,
   "id": "c0693727-09ab-4601-9356-68f71100e964",
   "metadata": {
    "execution": {
     "iopub.execute_input": "2025-06-12T14:31:25.958679Z",
     "iopub.status.busy": "2025-06-12T14:31:25.953485Z",
     "iopub.status.idle": "2025-06-12T14:31:26.115503Z",
     "shell.execute_reply": "2025-06-12T14:31:26.114318Z",
     "shell.execute_reply.started": "2025-06-12T14:31:25.958452Z"
    }
   },
   "outputs": [],
   "source": [
    "df_ids_test.to_csv(\"../data/test_compound_names.csv\", index=False)"
   ]
  },
  {
   "cell_type": "markdown",
   "id": "0dabd904-331e-4a60-98eb-21afc82ca6de",
   "metadata": {},
   "source": [
    "**Load compound names from disk**"
   ]
  },
  {
   "cell_type": "code",
   "execution_count": 17,
   "id": "1de66bf2-2154-44c3-8c97-4cffeee2e41e",
   "metadata": {
    "execution": {
     "iopub.execute_input": "2025-06-12T14:31:27.542428Z",
     "iopub.status.busy": "2025-06-12T14:31:27.541983Z",
     "iopub.status.idle": "2025-06-12T14:31:27.663095Z",
     "shell.execute_reply": "2025-06-12T14:31:27.661725Z",
     "shell.execute_reply.started": "2025-06-12T14:31:27.542396Z"
    }
   },
   "outputs": [
    {
     "data": {
      "text/html": [
       "<div>\n",
       "<style scoped>\n",
       "    .dataframe tbody tr th:only-of-type {\n",
       "        vertical-align: middle;\n",
       "    }\n",
       "\n",
       "    .dataframe tbody tr th {\n",
       "        vertical-align: top;\n",
       "    }\n",
       "\n",
       "    .dataframe thead th {\n",
       "        text-align: right;\n",
       "    }\n",
       "</style>\n",
       "<table border=\"1\" class=\"dataframe\">\n",
       "  <thead>\n",
       "    <tr style=\"text-align: right;\">\n",
       "      <th></th>\n",
       "      <th>ID</th>\n",
       "      <th>inchikey</th>\n",
       "      <th>set</th>\n",
       "      <th>smiles</th>\n",
       "      <th>iupac_name</th>\n",
       "      <th>title</th>\n",
       "    </tr>\n",
       "  </thead>\n",
       "  <tbody>\n",
       "    <tr>\n",
       "      <th>0</th>\n",
       "      <td>NCGC00261900-01</td>\n",
       "      <td>ABCSSKWSUJMJCP-WQDFMEOSSA-N</td>\n",
       "      <td>test</td>\n",
       "      <td>CC12CC=C3C(C1CCC2C(=O)CN4CCN(CC4)C5=NC(=NC(=C5...</td>\n",
       "      <td>(Z)-but-2-enedioic acid;(8S,10S,13S,14S,17S)-1...</td>\n",
       "      <td>U-74389G maleate</td>\n",
       "    </tr>\n",
       "    <tr>\n",
       "      <th>1</th>\n",
       "      <td>NCGC00260869-01</td>\n",
       "      <td>DMRMZQATXPQOTP-XIIVPSJUSA-M</td>\n",
       "      <td>test</td>\n",
       "      <td>C1C2C(C(C(O2)N3C4=NC=NC(=C4N=C3Br)N)O)OP(=O)(O...</td>\n",
       "      <td>sodium;(7aR)-6-(6-amino-8-bromopurin-9-yl)-2-o...</td>\n",
       "      <td>NaN</td>\n",
       "    </tr>\n",
       "    <tr>\n",
       "      <th>2</th>\n",
       "      <td>NCGC00261776-01</td>\n",
       "      <td>ACVGWSKVRYFWRP-UHFFFAOYSA-N</td>\n",
       "      <td>test</td>\n",
       "      <td>C1CN2C(=NC3=CC=CC=C3C2=O)C4=C1C5=CC=CC=C5N4</td>\n",
       "      <td>3,13,21-triazapentacyclo[11.8.0.02,10.04,9.015...</td>\n",
       "      <td>Rutecarpine</td>\n",
       "    </tr>\n",
       "    <tr>\n",
       "      <th>3</th>\n",
       "      <td>NCGC00261380-01</td>\n",
       "      <td>LCHACRBDLUKTTM-UHFFFAOYSA-N</td>\n",
       "      <td>test</td>\n",
       "      <td>C1=CC(=CC=C1C(C2=CC=C(C=C2)F)OCCCC3=CN=CN3)F.Cl</td>\n",
       "      <td>5-[3-[bis(4-fluorophenyl)methoxy]propyl]-1H-im...</td>\n",
       "      <td>3-(1H-Imidazol-4-yl)propyl di(p-fluorophenyl)m...</td>\n",
       "    </tr>\n",
       "    <tr>\n",
       "      <th>4</th>\n",
       "      <td>NCGC00261842-01</td>\n",
       "      <td>MQUQNUAYKLCRME-INIZCTEOSA-N</td>\n",
       "      <td>test</td>\n",
       "      <td>CC1=CC=C(C=C1)S(=O)(=O)NC(CC2=CC=CC=C2)C(=O)CCl</td>\n",
       "      <td>N-[(2S)-4-chloro-3-oxo-1-phenylbutan-2-yl]-4-m...</td>\n",
       "      <td>N-Tosyl-L-phenylalanyl chloromethyl ketone</td>\n",
       "    </tr>\n",
       "    <tr>\n",
       "      <th>...</th>\n",
       "      <td>...</td>\n",
       "      <td>...</td>\n",
       "      <td>...</td>\n",
       "      <td>...</td>\n",
       "      <td>...</td>\n",
       "      <td>...</td>\n",
       "    </tr>\n",
       "    <tr>\n",
       "      <th>642</th>\n",
       "      <td>NCGC00357168-01</td>\n",
       "      <td>SHLSSLVZXJBVHE-UHFFFAOYSA-N</td>\n",
       "      <td>test</td>\n",
       "      <td>C(CO)CS</td>\n",
       "      <td>3-sulfanylpropan-1-ol</td>\n",
       "      <td>3-Mercapto-1-propanol</td>\n",
       "    </tr>\n",
       "    <tr>\n",
       "      <th>643</th>\n",
       "      <td>NCGC00357283-01</td>\n",
       "      <td>HUHGPYXAVBJSJV-UHFFFAOYSA-N</td>\n",
       "      <td>test</td>\n",
       "      <td>C1N(CN(CN1CCO)CCO)CCO</td>\n",
       "      <td>2-[3,5-bis(2-hydroxyethyl)-1,3,5-triazinan-1-y...</td>\n",
       "      <td>Triazinetriethanol</td>\n",
       "    </tr>\n",
       "    <tr>\n",
       "      <th>644</th>\n",
       "      <td>NCGC00357210-01</td>\n",
       "      <td>XOHZHMUQBFJTNH-UHFFFAOYSA-N</td>\n",
       "      <td>test</td>\n",
       "      <td>CN1C(=NN=N1)S</td>\n",
       "      <td>1-methyltetrazole-5-thiol</td>\n",
       "      <td>NaN</td>\n",
       "    </tr>\n",
       "    <tr>\n",
       "      <th>645</th>\n",
       "      <td>NCGC00357118-01</td>\n",
       "      <td>MNHVNIJQQRJYDH-UHFFFAOYSA-N</td>\n",
       "      <td>test</td>\n",
       "      <td>C1CC1(C(CC2=CC=CC=C2Cl)(CN3C(=S)N=CN3)O)Cl</td>\n",
       "      <td>2-[2-(1-chlorocyclopropyl)-3-(2-chlorophenyl)-...</td>\n",
       "      <td>Prothioconazole</td>\n",
       "    </tr>\n",
       "    <tr>\n",
       "      <th>646</th>\n",
       "      <td>NCGC00357144-01</td>\n",
       "      <td>ZFFTZDQKIXPDAF-UHFFFAOYSA-N</td>\n",
       "      <td>test</td>\n",
       "      <td>C1=COC(=C1)CS</td>\n",
       "      <td>furan-2-ylmethanethiol</td>\n",
       "      <td>Furfuryl mercaptan</td>\n",
       "    </tr>\n",
       "  </tbody>\n",
       "</table>\n",
       "<p>647 rows × 6 columns</p>\n",
       "</div>"
      ],
      "text/plain": [
       "                  ID                     inchikey   set  \\\n",
       "0    NCGC00261900-01  ABCSSKWSUJMJCP-WQDFMEOSSA-N  test   \n",
       "1    NCGC00260869-01  DMRMZQATXPQOTP-XIIVPSJUSA-M  test   \n",
       "2    NCGC00261776-01  ACVGWSKVRYFWRP-UHFFFAOYSA-N  test   \n",
       "3    NCGC00261380-01  LCHACRBDLUKTTM-UHFFFAOYSA-N  test   \n",
       "4    NCGC00261842-01  MQUQNUAYKLCRME-INIZCTEOSA-N  test   \n",
       "..               ...                          ...   ...   \n",
       "642  NCGC00357168-01  SHLSSLVZXJBVHE-UHFFFAOYSA-N  test   \n",
       "643  NCGC00357283-01  HUHGPYXAVBJSJV-UHFFFAOYSA-N  test   \n",
       "644  NCGC00357210-01  XOHZHMUQBFJTNH-UHFFFAOYSA-N  test   \n",
       "645  NCGC00357118-01  MNHVNIJQQRJYDH-UHFFFAOYSA-N  test   \n",
       "646  NCGC00357144-01  ZFFTZDQKIXPDAF-UHFFFAOYSA-N  test   \n",
       "\n",
       "                                                smiles  \\\n",
       "0    CC12CC=C3C(C1CCC2C(=O)CN4CCN(CC4)C5=NC(=NC(=C5...   \n",
       "1    C1C2C(C(C(O2)N3C4=NC=NC(=C4N=C3Br)N)O)OP(=O)(O...   \n",
       "2          C1CN2C(=NC3=CC=CC=C3C2=O)C4=C1C5=CC=CC=C5N4   \n",
       "3      C1=CC(=CC=C1C(C2=CC=C(C=C2)F)OCCCC3=CN=CN3)F.Cl   \n",
       "4      CC1=CC=C(C=C1)S(=O)(=O)NC(CC2=CC=CC=C2)C(=O)CCl   \n",
       "..                                                 ...   \n",
       "642                                            C(CO)CS   \n",
       "643                              C1N(CN(CN1CCO)CCO)CCO   \n",
       "644                                      CN1C(=NN=N1)S   \n",
       "645         C1CC1(C(CC2=CC=CC=C2Cl)(CN3C(=S)N=CN3)O)Cl   \n",
       "646                                      C1=COC(=C1)CS   \n",
       "\n",
       "                                            iupac_name  \\\n",
       "0    (Z)-but-2-enedioic acid;(8S,10S,13S,14S,17S)-1...   \n",
       "1    sodium;(7aR)-6-(6-amino-8-bromopurin-9-yl)-2-o...   \n",
       "2    3,13,21-triazapentacyclo[11.8.0.02,10.04,9.015...   \n",
       "3    5-[3-[bis(4-fluorophenyl)methoxy]propyl]-1H-im...   \n",
       "4    N-[(2S)-4-chloro-3-oxo-1-phenylbutan-2-yl]-4-m...   \n",
       "..                                                 ...   \n",
       "642                              3-sulfanylpropan-1-ol   \n",
       "643  2-[3,5-bis(2-hydroxyethyl)-1,3,5-triazinan-1-y...   \n",
       "644                          1-methyltetrazole-5-thiol   \n",
       "645  2-[2-(1-chlorocyclopropyl)-3-(2-chlorophenyl)-...   \n",
       "646                             furan-2-ylmethanethiol   \n",
       "\n",
       "                                                 title  \n",
       "0                                     U-74389G maleate  \n",
       "1                                                  NaN  \n",
       "2                                          Rutecarpine  \n",
       "3    3-(1H-Imidazol-4-yl)propyl di(p-fluorophenyl)m...  \n",
       "4           N-Tosyl-L-phenylalanyl chloromethyl ketone  \n",
       "..                                                 ...  \n",
       "642                              3-Mercapto-1-propanol  \n",
       "643                                 Triazinetriethanol  \n",
       "644                                                NaN  \n",
       "645                                    Prothioconazole  \n",
       "646                                 Furfuryl mercaptan  \n",
       "\n",
       "[647 rows x 6 columns]"
      ]
     },
     "execution_count": 17,
     "metadata": {},
     "output_type": "execute_result"
    }
   ],
   "source": [
    "test_compound_names = pd.read_csv(\"../data/test_compound_names.csv\")\n",
    "test_compound_names"
   ]
  },
  {
   "cell_type": "code",
   "execution_count": null,
   "id": "15c76211-139e-4c1d-8ac2-dccdb1ca7098",
   "metadata": {},
   "outputs": [],
   "source": [
    "path_features_test = \"../raw_data/tox21_dense_test.csv.gz\" \n",
    "X_test = pd.read_csv(path_features_test)\n",
    "X_test.shape"
   ]
  },
  {
   "cell_type": "code",
   "execution_count": null,
   "id": "2552c080-b88e-48b8-812a-7503a7498c02",
   "metadata": {},
   "outputs": [],
   "source": [
    "X_test.head()"
   ]
  },
  {
   "cell_type": "code",
   "execution_count": null,
   "id": "84c59cca-e9e0-450b-ac8b-8cd070e3776a",
   "metadata": {},
   "outputs": [],
   "source": [
    "X_test = X_test.rename(columns={\"Unnamed: 0\": \"ID\"})"
   ]
  },
  {
   "cell_type": "code",
   "execution_count": null,
   "id": "6b99bf3e-6003-4627-8b98-3cd273a2d8d2",
   "metadata": {},
   "outputs": [],
   "source": [
    "X_test_with_names = df_ids_test.merge(X_test, how=\"inner\", on=\"ID\")"
   ]
  },
  {
   "cell_type": "markdown",
   "id": "87473f20-a6f3-4d3c-b384-d8bedb31de49",
   "metadata": {},
   "source": [
    "### Dataframe for prediction in the backend"
   ]
  },
  {
   "cell_type": "code",
   "execution_count": null,
   "id": "fa036c04-421d-482d-9505-8b10e6497e60",
   "metadata": {},
   "outputs": [],
   "source": [
    "X_test_with_names"
   ]
  },
  {
   "cell_type": "markdown",
   "id": "ecad2700-7842-46ac-abe5-b332a7d65611",
   "metadata": {},
   "source": [
    "### Dictionary of names for the frontend"
   ]
  },
  {
   "cell_type": "code",
   "execution_count": null,
   "id": "7a36a73a-9c86-4381-a63a-26cc8dfb1eca",
   "metadata": {},
   "outputs": [],
   "source": [
    "compound_names_dict = X_test_with_names.set_index('ID')[['smiles', 'iupac_name', 'title']].to_dict(orient='index')"
   ]
  },
  {
   "cell_type": "code",
   "execution_count": null,
   "id": "5c0c42a8-851d-456c-9ca1-de4b379c989d",
   "metadata": {},
   "outputs": [],
   "source": [
    "compound_names_dict"
   ]
  },
  {
   "cell_type": "code",
   "execution_count": null,
   "id": "798cdbd7-27f2-4607-9266-01e770b6d61f",
   "metadata": {},
   "outputs": [],
   "source": []
  }
 ],
 "metadata": {
  "kernelspec": {
   "display_name": "Python 3 (ipykernel)",
   "language": "python",
   "name": "python3"
  },
  "language_info": {
   "codemirror_mode": {
    "name": "ipython",
    "version": 3
   },
   "file_extension": ".py",
   "mimetype": "text/x-python",
   "name": "python",
   "nbconvert_exporter": "python",
   "pygments_lexer": "ipython3",
   "version": "3.12.9"
  }
 },
 "nbformat": 4,
 "nbformat_minor": 5
}
