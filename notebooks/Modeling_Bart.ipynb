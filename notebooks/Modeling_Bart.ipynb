{
 "cells": [
  {
   "cell_type": "markdown",
   "id": "9fa9bd65-fc44-4231-8711-b4cb174a3e3e",
   "metadata": {},
   "source": [
    "# Toxikind: Models"
   ]
  },
  {
   "cell_type": "code",
   "execution_count": 35,
   "id": "f86f4291-1bb3-4314-828a-54924a4bc1bd",
   "metadata": {
    "execution": {
     "iopub.execute_input": "2025-06-17T14:05:59.296174Z",
     "iopub.status.busy": "2025-06-17T14:05:59.293313Z",
     "iopub.status.idle": "2025-06-17T14:05:59.394996Z",
     "shell.execute_reply": "2025-06-17T14:05:59.393121Z",
     "shell.execute_reply.started": "2025-06-17T14:05:59.295931Z"
    }
   },
   "outputs": [],
   "source": [
    "# Runtime\n",
    "import time\n",
    "\n",
    "# OS I/O\n",
    "import os\n",
    "import pickle\n",
    "\n",
    "# Data handling\n",
    "import numpy as np\n",
    "import pandas as pd\n",
    "from sklearn.pipeline import Pipeline\n",
    "from sklearn.preprocessing import MinMaxScaler, StandardScaler\n",
    "from sklearn.compose import ColumnTransformer\n",
    "\n",
    "# Modeling\n",
    "from sklearn.model_selection import cross_validate, cross_val_predict, GridSearchCV\n",
    "from sklearn.metrics import f1_score, precision_recall_curve, classification_report, ConfusionMatrixDisplay\n",
    "from sklearn.tree import DecisionTreeClassifier\n",
    "from sklearn.ensemble import RandomForestClassifier\n",
    "from sklearn.ensemble import GradientBoostingClassifier\n",
    "\n",
    "# Plotting\n",
    "%matplotlib inline\n",
    "import matplotlib.pyplot as plt\n",
    "import seaborn as sns"
   ]
  },
  {
   "cell_type": "markdown",
   "id": "8209b3d8-b072-439f-bbc6-655f97ab45de",
   "metadata": {
    "execution": {
     "iopub.execute_input": "2025-06-09T14:45:59.895942Z",
     "iopub.status.busy": "2025-06-09T14:45:59.891764Z",
     "iopub.status.idle": "2025-06-09T14:45:59.917825Z",
     "shell.execute_reply": "2025-06-09T14:45:59.912899Z",
     "shell.execute_reply.started": "2025-06-09T14:45:59.895887Z"
    }
   },
   "source": [
    "# Training Data"
   ]
  },
  {
   "cell_type": "markdown",
   "id": "167bf06a-71b4-4162-8913-456929ce28c0",
   "metadata": {},
   "source": [
    "## Full Data"
   ]
  },
  {
   "cell_type": "markdown",
   "id": "9e5e40ca-8424-4f9a-9489-52ce0e0abc8c",
   "metadata": {},
   "source": [
    "**Load features:**"
   ]
  },
  {
   "cell_type": "code",
   "execution_count": 2,
   "id": "97da19ce-864a-4628-b5e4-785c5c8a3625",
   "metadata": {
    "execution": {
     "iopub.execute_input": "2025-06-17T13:52:44.853616Z",
     "iopub.status.busy": "2025-06-17T13:52:44.853114Z",
     "iopub.status.idle": "2025-06-17T13:52:47.487163Z",
     "shell.execute_reply": "2025-06-17T13:52:47.485884Z",
     "shell.execute_reply.started": "2025-06-17T13:52:44.853586Z"
    }
   },
   "outputs": [
    {
     "data": {
      "text/html": [
       "<div>\n",
       "<style scoped>\n",
       "    .dataframe tbody tr th:only-of-type {\n",
       "        vertical-align: middle;\n",
       "    }\n",
       "\n",
       "    .dataframe tbody tr th {\n",
       "        vertical-align: top;\n",
       "    }\n",
       "\n",
       "    .dataframe thead th {\n",
       "        text-align: right;\n",
       "    }\n",
       "</style>\n",
       "<table border=\"1\" class=\"dataframe\">\n",
       "  <thead>\n",
       "    <tr style=\"text-align: right;\">\n",
       "      <th></th>\n",
       "      <th>AW</th>\n",
       "      <th>AWeight</th>\n",
       "      <th>Arto</th>\n",
       "      <th>BertzCT</th>\n",
       "      <th>Chi0</th>\n",
       "      <th>Chi1</th>\n",
       "      <th>Chi10</th>\n",
       "      <th>Chi2</th>\n",
       "      <th>Chi3</th>\n",
       "      <th>Chi3c</th>\n",
       "      <th>...</th>\n",
       "      <th>W3D</th>\n",
       "      <th>W3DH</th>\n",
       "      <th>WNSA1</th>\n",
       "      <th>WNSA2</th>\n",
       "      <th>WNSA3</th>\n",
       "      <th>WPSA1</th>\n",
       "      <th>WPSA2</th>\n",
       "      <th>WPSA3</th>\n",
       "      <th>grav</th>\n",
       "      <th>rygr</th>\n",
       "    </tr>\n",
       "    <tr>\n",
       "      <th>ID</th>\n",
       "      <th></th>\n",
       "      <th></th>\n",
       "      <th></th>\n",
       "      <th></th>\n",
       "      <th></th>\n",
       "      <th></th>\n",
       "      <th></th>\n",
       "      <th></th>\n",
       "      <th></th>\n",
       "      <th></th>\n",
       "      <th></th>\n",
       "      <th></th>\n",
       "      <th></th>\n",
       "      <th></th>\n",
       "      <th></th>\n",
       "      <th></th>\n",
       "      <th></th>\n",
       "      <th></th>\n",
       "      <th></th>\n",
       "      <th></th>\n",
       "      <th></th>\n",
       "    </tr>\n",
       "  </thead>\n",
       "  <tbody>\n",
       "    <tr>\n",
       "      <th>NCGC00178831-03</th>\n",
       "      <td>5.436720e-01</td>\n",
       "      <td>0.012041</td>\n",
       "      <td>0.815898</td>\n",
       "      <td>0.832518</td>\n",
       "      <td>0.244068</td>\n",
       "      <td>0.251849</td>\n",
       "      <td>0.122744</td>\n",
       "      <td>0.255645</td>\n",
       "      <td>0.247884</td>\n",
       "      <td>0.131926</td>\n",
       "      <td>...</td>\n",
       "      <td>0.028705</td>\n",
       "      <td>0.025992</td>\n",
       "      <td>0.084419</td>\n",
       "      <td>0.992430</td>\n",
       "      <td>0.967627</td>\n",
       "      <td>0.086494</td>\n",
       "      <td>0.022640</td>\n",
       "      <td>0.042745</td>\n",
       "      <td>0.000218</td>\n",
       "      <td>0.231025</td>\n",
       "    </tr>\n",
       "    <tr>\n",
       "      <th>NCGC00166114-03</th>\n",
       "      <td>1.268818e-01</td>\n",
       "      <td>0.076781</td>\n",
       "      <td>0.774278</td>\n",
       "      <td>0.816115</td>\n",
       "      <td>0.222113</td>\n",
       "      <td>0.217725</td>\n",
       "      <td>0.158927</td>\n",
       "      <td>0.222859</td>\n",
       "      <td>0.235265</td>\n",
       "      <td>0.126033</td>\n",
       "      <td>...</td>\n",
       "      <td>0.023329</td>\n",
       "      <td>0.009094</td>\n",
       "      <td>0.142494</td>\n",
       "      <td>0.991487</td>\n",
       "      <td>0.972305</td>\n",
       "      <td>0.070178</td>\n",
       "      <td>0.012238</td>\n",
       "      <td>0.059568</td>\n",
       "      <td>0.000336</td>\n",
       "      <td>0.258584</td>\n",
       "    </tr>\n",
       "    <tr>\n",
       "      <th>NCGC00263563-01</th>\n",
       "      <td>3.076931e-02</td>\n",
       "      <td>0.012270</td>\n",
       "      <td>0.807649</td>\n",
       "      <td>0.836259</td>\n",
       "      <td>0.495232</td>\n",
       "      <td>0.475479</td>\n",
       "      <td>0.312274</td>\n",
       "      <td>0.508771</td>\n",
       "      <td>0.503347</td>\n",
       "      <td>0.393865</td>\n",
       "      <td>...</td>\n",
       "      <td>0.147491</td>\n",
       "      <td>0.215437</td>\n",
       "      <td>0.174151</td>\n",
       "      <td>0.963958</td>\n",
       "      <td>0.913740</td>\n",
       "      <td>0.259019</td>\n",
       "      <td>0.156472</td>\n",
       "      <td>0.097238</td>\n",
       "      <td>0.000542</td>\n",
       "      <td>0.320086</td>\n",
       "    </tr>\n",
       "    <tr>\n",
       "      <th>NCGC00013058-02</th>\n",
       "      <td>7.168569e-01</td>\n",
       "      <td>0.010464</td>\n",
       "      <td>0.760780</td>\n",
       "      <td>0.886043</td>\n",
       "      <td>0.539479</td>\n",
       "      <td>0.508602</td>\n",
       "      <td>0.148179</td>\n",
       "      <td>0.491618</td>\n",
       "      <td>0.425273</td>\n",
       "      <td>0.263047</td>\n",
       "      <td>...</td>\n",
       "      <td>0.147532</td>\n",
       "      <td>0.142056</td>\n",
       "      <td>0.165596</td>\n",
       "      <td>0.976968</td>\n",
       "      <td>0.949863</td>\n",
       "      <td>0.227592</td>\n",
       "      <td>0.092400</td>\n",
       "      <td>0.090178</td>\n",
       "      <td>0.000596</td>\n",
       "      <td>0.291745</td>\n",
       "    </tr>\n",
       "    <tr>\n",
       "      <th>NCGC00167516-01</th>\n",
       "      <td>7.989701e-02</td>\n",
       "      <td>0.011206</td>\n",
       "      <td>0.796400</td>\n",
       "      <td>0.941583</td>\n",
       "      <td>0.742331</td>\n",
       "      <td>0.736470</td>\n",
       "      <td>0.295701</td>\n",
       "      <td>0.712026</td>\n",
       "      <td>0.641167</td>\n",
       "      <td>0.352710</td>\n",
       "      <td>...</td>\n",
       "      <td>0.461955</td>\n",
       "      <td>0.460399</td>\n",
       "      <td>0.622595</td>\n",
       "      <td>0.825232</td>\n",
       "      <td>0.702753</td>\n",
       "      <td>0.536326</td>\n",
       "      <td>0.439447</td>\n",
       "      <td>0.260218</td>\n",
       "      <td>0.000796</td>\n",
       "      <td>0.500554</td>\n",
       "    </tr>\n",
       "    <tr>\n",
       "      <th>...</th>\n",
       "      <td>...</td>\n",
       "      <td>...</td>\n",
       "      <td>...</td>\n",
       "      <td>...</td>\n",
       "      <td>...</td>\n",
       "      <td>...</td>\n",
       "      <td>...</td>\n",
       "      <td>...</td>\n",
       "      <td>...</td>\n",
       "      <td>...</td>\n",
       "      <td>...</td>\n",
       "      <td>...</td>\n",
       "      <td>...</td>\n",
       "      <td>...</td>\n",
       "      <td>...</td>\n",
       "      <td>...</td>\n",
       "      <td>...</td>\n",
       "      <td>...</td>\n",
       "      <td>...</td>\n",
       "      <td>...</td>\n",
       "      <td>...</td>\n",
       "    </tr>\n",
       "    <tr>\n",
       "      <th>NCGC00261292-01</th>\n",
       "      <td>1.428572e-01</td>\n",
       "      <td>0.020621</td>\n",
       "      <td>0.749906</td>\n",
       "      <td>0.669640</td>\n",
       "      <td>0.097777</td>\n",
       "      <td>0.100133</td>\n",
       "      <td>0.012882</td>\n",
       "      <td>0.092409</td>\n",
       "      <td>0.088271</td>\n",
       "      <td>0.038183</td>\n",
       "      <td>...</td>\n",
       "      <td>0.003261</td>\n",
       "      <td>0.004034</td>\n",
       "      <td>0.055917</td>\n",
       "      <td>0.998427</td>\n",
       "      <td>0.988861</td>\n",
       "      <td>0.030003</td>\n",
       "      <td>0.002463</td>\n",
       "      <td>0.013849</td>\n",
       "      <td>0.000069</td>\n",
       "      <td>0.157600</td>\n",
       "    </tr>\n",
       "    <tr>\n",
       "      <th>NCGC00261245-01</th>\n",
       "      <td>1.193182e-01</td>\n",
       "      <td>0.016474</td>\n",
       "      <td>0.772778</td>\n",
       "      <td>0.753669</td>\n",
       "      <td>0.223264</td>\n",
       "      <td>0.244135</td>\n",
       "      <td>0.098540</td>\n",
       "      <td>0.214848</td>\n",
       "      <td>0.208197</td>\n",
       "      <td>0.054503</td>\n",
       "      <td>...</td>\n",
       "      <td>0.027008</td>\n",
       "      <td>0.034580</td>\n",
       "      <td>0.069424</td>\n",
       "      <td>0.995076</td>\n",
       "      <td>0.981965</td>\n",
       "      <td>0.096647</td>\n",
       "      <td>0.020009</td>\n",
       "      <td>0.035527</td>\n",
       "      <td>0.000232</td>\n",
       "      <td>0.228288</td>\n",
       "    </tr>\n",
       "    <tr>\n",
       "      <th>NCGC00260828-01</th>\n",
       "      <td>9.818000e-08</td>\n",
       "      <td>0.007195</td>\n",
       "      <td>0.766779</td>\n",
       "      <td>0.813525</td>\n",
       "      <td>0.351043</td>\n",
       "      <td>0.324683</td>\n",
       "      <td>0.066131</td>\n",
       "      <td>0.333114</td>\n",
       "      <td>0.291330</td>\n",
       "      <td>0.238414</td>\n",
       "      <td>...</td>\n",
       "      <td>0.097991</td>\n",
       "      <td>0.123973</td>\n",
       "      <td>0.195661</td>\n",
       "      <td>0.978034</td>\n",
       "      <td>0.915763</td>\n",
       "      <td>0.260806</td>\n",
       "      <td>0.085466</td>\n",
       "      <td>0.103675</td>\n",
       "      <td>0.000227</td>\n",
       "      <td>0.514170</td>\n",
       "    </tr>\n",
       "    <tr>\n",
       "      <th>NCGC00260687-01</th>\n",
       "      <td>2.229000e-08</td>\n",
       "      <td>0.008401</td>\n",
       "      <td>0.850019</td>\n",
       "      <td>0.690360</td>\n",
       "      <td>0.108253</td>\n",
       "      <td>0.117148</td>\n",
       "      <td>0.048162</td>\n",
       "      <td>0.109089</td>\n",
       "      <td>0.115300</td>\n",
       "      <td>0.040802</td>\n",
       "      <td>...</td>\n",
       "      <td>0.004174</td>\n",
       "      <td>0.005102</td>\n",
       "      <td>0.028960</td>\n",
       "      <td>0.999130</td>\n",
       "      <td>0.991930</td>\n",
       "      <td>0.043702</td>\n",
       "      <td>0.003833</td>\n",
       "      <td>0.017157</td>\n",
       "      <td>0.000067</td>\n",
       "      <td>0.181901</td>\n",
       "    </tr>\n",
       "    <tr>\n",
       "      <th>NCGC00261465-01</th>\n",
       "      <td>1.931035e-01</td>\n",
       "      <td>0.025967</td>\n",
       "      <td>0.700037</td>\n",
       "      <td>0.772374</td>\n",
       "      <td>0.213211</td>\n",
       "      <td>0.200283</td>\n",
       "      <td>0.060551</td>\n",
       "      <td>0.207362</td>\n",
       "      <td>0.174849</td>\n",
       "      <td>0.157767</td>\n",
       "      <td>...</td>\n",
       "      <td>0.024257</td>\n",
       "      <td>0.012632</td>\n",
       "      <td>0.114484</td>\n",
       "      <td>0.992172</td>\n",
       "      <td>0.944764</td>\n",
       "      <td>0.071846</td>\n",
       "      <td>0.014340</td>\n",
       "      <td>0.075183</td>\n",
       "      <td>0.000217</td>\n",
       "      <td>0.253437</td>\n",
       "    </tr>\n",
       "  </tbody>\n",
       "</table>\n",
       "<p>12060 rows × 801 columns</p>\n",
       "</div>"
      ],
      "text/plain": [
       "                           AW   AWeight      Arto   BertzCT      Chi0  \\\n",
       "ID                                                                      \n",
       "NCGC00178831-03  5.436720e-01  0.012041  0.815898  0.832518  0.244068   \n",
       "NCGC00166114-03  1.268818e-01  0.076781  0.774278  0.816115  0.222113   \n",
       "NCGC00263563-01  3.076931e-02  0.012270  0.807649  0.836259  0.495232   \n",
       "NCGC00013058-02  7.168569e-01  0.010464  0.760780  0.886043  0.539479   \n",
       "NCGC00167516-01  7.989701e-02  0.011206  0.796400  0.941583  0.742331   \n",
       "...                       ...       ...       ...       ...       ...   \n",
       "NCGC00261292-01  1.428572e-01  0.020621  0.749906  0.669640  0.097777   \n",
       "NCGC00261245-01  1.193182e-01  0.016474  0.772778  0.753669  0.223264   \n",
       "NCGC00260828-01  9.818000e-08  0.007195  0.766779  0.813525  0.351043   \n",
       "NCGC00260687-01  2.229000e-08  0.008401  0.850019  0.690360  0.108253   \n",
       "NCGC00261465-01  1.931035e-01  0.025967  0.700037  0.772374  0.213211   \n",
       "\n",
       "                     Chi1     Chi10      Chi2      Chi3     Chi3c  ...  \\\n",
       "ID                                                                 ...   \n",
       "NCGC00178831-03  0.251849  0.122744  0.255645  0.247884  0.131926  ...   \n",
       "NCGC00166114-03  0.217725  0.158927  0.222859  0.235265  0.126033  ...   \n",
       "NCGC00263563-01  0.475479  0.312274  0.508771  0.503347  0.393865  ...   \n",
       "NCGC00013058-02  0.508602  0.148179  0.491618  0.425273  0.263047  ...   \n",
       "NCGC00167516-01  0.736470  0.295701  0.712026  0.641167  0.352710  ...   \n",
       "...                   ...       ...       ...       ...       ...  ...   \n",
       "NCGC00261292-01  0.100133  0.012882  0.092409  0.088271  0.038183  ...   \n",
       "NCGC00261245-01  0.244135  0.098540  0.214848  0.208197  0.054503  ...   \n",
       "NCGC00260828-01  0.324683  0.066131  0.333114  0.291330  0.238414  ...   \n",
       "NCGC00260687-01  0.117148  0.048162  0.109089  0.115300  0.040802  ...   \n",
       "NCGC00261465-01  0.200283  0.060551  0.207362  0.174849  0.157767  ...   \n",
       "\n",
       "                      W3D      W3DH     WNSA1     WNSA2     WNSA3     WPSA1  \\\n",
       "ID                                                                            \n",
       "NCGC00178831-03  0.028705  0.025992  0.084419  0.992430  0.967627  0.086494   \n",
       "NCGC00166114-03  0.023329  0.009094  0.142494  0.991487  0.972305  0.070178   \n",
       "NCGC00263563-01  0.147491  0.215437  0.174151  0.963958  0.913740  0.259019   \n",
       "NCGC00013058-02  0.147532  0.142056  0.165596  0.976968  0.949863  0.227592   \n",
       "NCGC00167516-01  0.461955  0.460399  0.622595  0.825232  0.702753  0.536326   \n",
       "...                   ...       ...       ...       ...       ...       ...   \n",
       "NCGC00261292-01  0.003261  0.004034  0.055917  0.998427  0.988861  0.030003   \n",
       "NCGC00261245-01  0.027008  0.034580  0.069424  0.995076  0.981965  0.096647   \n",
       "NCGC00260828-01  0.097991  0.123973  0.195661  0.978034  0.915763  0.260806   \n",
       "NCGC00260687-01  0.004174  0.005102  0.028960  0.999130  0.991930  0.043702   \n",
       "NCGC00261465-01  0.024257  0.012632  0.114484  0.992172  0.944764  0.071846   \n",
       "\n",
       "                    WPSA2     WPSA3      grav      rygr  \n",
       "ID                                                       \n",
       "NCGC00178831-03  0.022640  0.042745  0.000218  0.231025  \n",
       "NCGC00166114-03  0.012238  0.059568  0.000336  0.258584  \n",
       "NCGC00263563-01  0.156472  0.097238  0.000542  0.320086  \n",
       "NCGC00013058-02  0.092400  0.090178  0.000596  0.291745  \n",
       "NCGC00167516-01  0.439447  0.260218  0.000796  0.500554  \n",
       "...                   ...       ...       ...       ...  \n",
       "NCGC00261292-01  0.002463  0.013849  0.000069  0.157600  \n",
       "NCGC00261245-01  0.020009  0.035527  0.000232  0.228288  \n",
       "NCGC00260828-01  0.085466  0.103675  0.000227  0.514170  \n",
       "NCGC00260687-01  0.003833  0.017157  0.000067  0.181901  \n",
       "NCGC00261465-01  0.014340  0.075183  0.000217  0.253437  \n",
       "\n",
       "[12060 rows x 801 columns]"
      ]
     },
     "execution_count": 2,
     "metadata": {},
     "output_type": "execute_result"
    }
   ],
   "source": [
    "path_x_train = \"../data/X_train.csv\"\n",
    "X_train = pd.read_csv(path_x_train).set_index(\"ID\")\n",
    "X_train"
   ]
  },
  {
   "cell_type": "markdown",
   "id": "71fbb176-75b4-4d6f-a4da-aa4a636acc54",
   "metadata": {},
   "source": [
    "**Load targets:**"
   ]
  },
  {
   "cell_type": "code",
   "execution_count": 3,
   "id": "a4e44528-7777-46d3-8590-d5735e6e639a",
   "metadata": {
    "execution": {
     "iopub.execute_input": "2025-06-17T13:52:47.491056Z",
     "iopub.status.busy": "2025-06-17T13:52:47.490277Z",
     "iopub.status.idle": "2025-06-17T13:52:47.544932Z",
     "shell.execute_reply": "2025-06-17T13:52:47.543523Z",
     "shell.execute_reply.started": "2025-06-17T13:52:47.491025Z"
    }
   },
   "outputs": [
    {
     "data": {
      "text/html": [
       "<div>\n",
       "<style scoped>\n",
       "    .dataframe tbody tr th:only-of-type {\n",
       "        vertical-align: middle;\n",
       "    }\n",
       "\n",
       "    .dataframe tbody tr th {\n",
       "        vertical-align: top;\n",
       "    }\n",
       "\n",
       "    .dataframe thead th {\n",
       "        text-align: right;\n",
       "    }\n",
       "</style>\n",
       "<table border=\"1\" class=\"dataframe\">\n",
       "  <thead>\n",
       "    <tr style=\"text-align: right;\">\n",
       "      <th></th>\n",
       "      <th>NR.AhR</th>\n",
       "      <th>NR.AR</th>\n",
       "      <th>NR.AR.LBD</th>\n",
       "      <th>NR.Aromatase</th>\n",
       "      <th>NR.ER</th>\n",
       "      <th>NR.ER.LBD</th>\n",
       "      <th>NR.PPAR.gamma</th>\n",
       "      <th>SR.ARE</th>\n",
       "      <th>SR.ATAD5</th>\n",
       "      <th>SR.HSE</th>\n",
       "      <th>SR.MMP</th>\n",
       "      <th>SR.p53</th>\n",
       "    </tr>\n",
       "    <tr>\n",
       "      <th>ID</th>\n",
       "      <th></th>\n",
       "      <th></th>\n",
       "      <th></th>\n",
       "      <th></th>\n",
       "      <th></th>\n",
       "      <th></th>\n",
       "      <th></th>\n",
       "      <th></th>\n",
       "      <th></th>\n",
       "      <th></th>\n",
       "      <th></th>\n",
       "      <th></th>\n",
       "    </tr>\n",
       "  </thead>\n",
       "  <tbody>\n",
       "    <tr>\n",
       "      <th>NCGC00178831-03</th>\n",
       "      <td>NaN</td>\n",
       "      <td>NaN</td>\n",
       "      <td>NaN</td>\n",
       "      <td>NaN</td>\n",
       "      <td>NaN</td>\n",
       "      <td>NaN</td>\n",
       "      <td>NaN</td>\n",
       "      <td>NaN</td>\n",
       "      <td>NaN</td>\n",
       "      <td>0.0</td>\n",
       "      <td>NaN</td>\n",
       "      <td>NaN</td>\n",
       "    </tr>\n",
       "    <tr>\n",
       "      <th>NCGC00166114-03</th>\n",
       "      <td>NaN</td>\n",
       "      <td>NaN</td>\n",
       "      <td>NaN</td>\n",
       "      <td>NaN</td>\n",
       "      <td>NaN</td>\n",
       "      <td>NaN</td>\n",
       "      <td>NaN</td>\n",
       "      <td>NaN</td>\n",
       "      <td>NaN</td>\n",
       "      <td>0.0</td>\n",
       "      <td>NaN</td>\n",
       "      <td>NaN</td>\n",
       "    </tr>\n",
       "    <tr>\n",
       "      <th>NCGC00263563-01</th>\n",
       "      <td>NaN</td>\n",
       "      <td>NaN</td>\n",
       "      <td>NaN</td>\n",
       "      <td>NaN</td>\n",
       "      <td>NaN</td>\n",
       "      <td>NaN</td>\n",
       "      <td>NaN</td>\n",
       "      <td>NaN</td>\n",
       "      <td>NaN</td>\n",
       "      <td>0.0</td>\n",
       "      <td>NaN</td>\n",
       "      <td>NaN</td>\n",
       "    </tr>\n",
       "    <tr>\n",
       "      <th>NCGC00013058-02</th>\n",
       "      <td>NaN</td>\n",
       "      <td>NaN</td>\n",
       "      <td>NaN</td>\n",
       "      <td>NaN</td>\n",
       "      <td>NaN</td>\n",
       "      <td>NaN</td>\n",
       "      <td>NaN</td>\n",
       "      <td>NaN</td>\n",
       "      <td>NaN</td>\n",
       "      <td>1.0</td>\n",
       "      <td>NaN</td>\n",
       "      <td>NaN</td>\n",
       "    </tr>\n",
       "    <tr>\n",
       "      <th>NCGC00167516-01</th>\n",
       "      <td>NaN</td>\n",
       "      <td>0.0</td>\n",
       "      <td>NaN</td>\n",
       "      <td>NaN</td>\n",
       "      <td>NaN</td>\n",
       "      <td>NaN</td>\n",
       "      <td>NaN</td>\n",
       "      <td>NaN</td>\n",
       "      <td>NaN</td>\n",
       "      <td>NaN</td>\n",
       "      <td>NaN</td>\n",
       "      <td>NaN</td>\n",
       "    </tr>\n",
       "    <tr>\n",
       "      <th>...</th>\n",
       "      <td>...</td>\n",
       "      <td>...</td>\n",
       "      <td>...</td>\n",
       "      <td>...</td>\n",
       "      <td>...</td>\n",
       "      <td>...</td>\n",
       "      <td>...</td>\n",
       "      <td>...</td>\n",
       "      <td>...</td>\n",
       "      <td>...</td>\n",
       "      <td>...</td>\n",
       "      <td>...</td>\n",
       "    </tr>\n",
       "    <tr>\n",
       "      <th>NCGC00261292-01</th>\n",
       "      <td>0.0</td>\n",
       "      <td>0.0</td>\n",
       "      <td>0.0</td>\n",
       "      <td>0.0</td>\n",
       "      <td>0.0</td>\n",
       "      <td>0.0</td>\n",
       "      <td>0.0</td>\n",
       "      <td>0.0</td>\n",
       "      <td>0.0</td>\n",
       "      <td>0.0</td>\n",
       "      <td>0.0</td>\n",
       "      <td>0.0</td>\n",
       "    </tr>\n",
       "    <tr>\n",
       "      <th>NCGC00261245-01</th>\n",
       "      <td>0.0</td>\n",
       "      <td>0.0</td>\n",
       "      <td>0.0</td>\n",
       "      <td>NaN</td>\n",
       "      <td>NaN</td>\n",
       "      <td>0.0</td>\n",
       "      <td>0.0</td>\n",
       "      <td>NaN</td>\n",
       "      <td>NaN</td>\n",
       "      <td>NaN</td>\n",
       "      <td>NaN</td>\n",
       "      <td>NaN</td>\n",
       "    </tr>\n",
       "    <tr>\n",
       "      <th>NCGC00260828-01</th>\n",
       "      <td>0.0</td>\n",
       "      <td>0.0</td>\n",
       "      <td>0.0</td>\n",
       "      <td>0.0</td>\n",
       "      <td>0.0</td>\n",
       "      <td>0.0</td>\n",
       "      <td>0.0</td>\n",
       "      <td>0.0</td>\n",
       "      <td>0.0</td>\n",
       "      <td>0.0</td>\n",
       "      <td>0.0</td>\n",
       "      <td>0.0</td>\n",
       "    </tr>\n",
       "    <tr>\n",
       "      <th>NCGC00260687-01</th>\n",
       "      <td>0.0</td>\n",
       "      <td>0.0</td>\n",
       "      <td>0.0</td>\n",
       "      <td>0.0</td>\n",
       "      <td>0.0</td>\n",
       "      <td>0.0</td>\n",
       "      <td>0.0</td>\n",
       "      <td>0.0</td>\n",
       "      <td>0.0</td>\n",
       "      <td>0.0</td>\n",
       "      <td>0.0</td>\n",
       "      <td>0.0</td>\n",
       "    </tr>\n",
       "    <tr>\n",
       "      <th>NCGC00261465-01</th>\n",
       "      <td>0.0</td>\n",
       "      <td>0.0</td>\n",
       "      <td>0.0</td>\n",
       "      <td>0.0</td>\n",
       "      <td>NaN</td>\n",
       "      <td>0.0</td>\n",
       "      <td>0.0</td>\n",
       "      <td>0.0</td>\n",
       "      <td>0.0</td>\n",
       "      <td>0.0</td>\n",
       "      <td>0.0</td>\n",
       "      <td>0.0</td>\n",
       "    </tr>\n",
       "  </tbody>\n",
       "</table>\n",
       "<p>12060 rows × 12 columns</p>\n",
       "</div>"
      ],
      "text/plain": [
       "                 NR.AhR  NR.AR  NR.AR.LBD  NR.Aromatase  NR.ER  NR.ER.LBD  \\\n",
       "ID                                                                          \n",
       "NCGC00178831-03     NaN    NaN        NaN           NaN    NaN        NaN   \n",
       "NCGC00166114-03     NaN    NaN        NaN           NaN    NaN        NaN   \n",
       "NCGC00263563-01     NaN    NaN        NaN           NaN    NaN        NaN   \n",
       "NCGC00013058-02     NaN    NaN        NaN           NaN    NaN        NaN   \n",
       "NCGC00167516-01     NaN    0.0        NaN           NaN    NaN        NaN   \n",
       "...                 ...    ...        ...           ...    ...        ...   \n",
       "NCGC00261292-01     0.0    0.0        0.0           0.0    0.0        0.0   \n",
       "NCGC00261245-01     0.0    0.0        0.0           NaN    NaN        0.0   \n",
       "NCGC00260828-01     0.0    0.0        0.0           0.0    0.0        0.0   \n",
       "NCGC00260687-01     0.0    0.0        0.0           0.0    0.0        0.0   \n",
       "NCGC00261465-01     0.0    0.0        0.0           0.0    NaN        0.0   \n",
       "\n",
       "                 NR.PPAR.gamma  SR.ARE  SR.ATAD5  SR.HSE  SR.MMP  SR.p53  \n",
       "ID                                                                        \n",
       "NCGC00178831-03            NaN     NaN       NaN     0.0     NaN     NaN  \n",
       "NCGC00166114-03            NaN     NaN       NaN     0.0     NaN     NaN  \n",
       "NCGC00263563-01            NaN     NaN       NaN     0.0     NaN     NaN  \n",
       "NCGC00013058-02            NaN     NaN       NaN     1.0     NaN     NaN  \n",
       "NCGC00167516-01            NaN     NaN       NaN     NaN     NaN     NaN  \n",
       "...                        ...     ...       ...     ...     ...     ...  \n",
       "NCGC00261292-01            0.0     0.0       0.0     0.0     0.0     0.0  \n",
       "NCGC00261245-01            0.0     NaN       NaN     NaN     NaN     NaN  \n",
       "NCGC00260828-01            0.0     0.0       0.0     0.0     0.0     0.0  \n",
       "NCGC00260687-01            0.0     0.0       0.0     0.0     0.0     0.0  \n",
       "NCGC00261465-01            0.0     0.0       0.0     0.0     0.0     0.0  \n",
       "\n",
       "[12060 rows x 12 columns]"
      ]
     },
     "execution_count": 3,
     "metadata": {},
     "output_type": "execute_result"
    }
   ],
   "source": [
    "path_y_train = \"../data/y_train.csv\"\n",
    "y_train = pd.read_csv(path_y_train).set_index(\"ID\")\n",
    "y_train"
   ]
  },
  {
   "cell_type": "markdown",
   "id": "f7943864-c931-4ec9-935b-eb51ff157f7d",
   "metadata": {},
   "source": [
    "## Data Without NAs For Each Target"
   ]
  },
  {
   "cell_type": "markdown",
   "id": "477b7f5b-d2e7-4fe3-a6e2-2274aeefdc61",
   "metadata": {},
   "source": [
    "### 1. NR.AhR"
   ]
  },
  {
   "cell_type": "code",
   "execution_count": 4,
   "id": "37d3aadf-cd6d-4e57-b2c8-7b8e25ae17bd",
   "metadata": {
    "execution": {
     "iopub.execute_input": "2025-06-17T13:52:47.546835Z",
     "iopub.status.busy": "2025-06-17T13:52:47.546300Z",
     "iopub.status.idle": "2025-06-17T13:52:47.746922Z",
     "shell.execute_reply": "2025-06-17T13:52:47.744628Z",
     "shell.execute_reply.started": "2025-06-17T13:52:47.546777Z"
    }
   },
   "outputs": [
    {
     "name": "stdout",
     "output_type": "stream",
     "text": [
      "<class 'pandas.core.frame.DataFrame'>\n",
      "Index: 8441 entries, NCGC00255644-01 to NCGC00261465-01\n",
      "Columns: 802 entries, NR.AhR to rygr\n",
      "dtypes: float64(802)\n",
      "memory usage: 51.7+ MB\n",
      "None\n"
     ]
    }
   ],
   "source": [
    "# Create single target without NAs\n",
    "y_train_ahr = y_train[[\"NR.AhR\"]].dropna()\n",
    "\n",
    "# Inner merge with features:\n",
    "train_ahr = y_train_ahr.merge(X_train, how=\"inner\", on=\"ID\")\n",
    "\n",
    "# Inspect\n",
    "print(train_ahr.info())\n",
    "\n",
    "# Split again\n",
    "X_train_ahr = train_ahr.drop(columns=[\"NR.AhR\"])\n",
    "y_train_ahr = train_ahr[\"NR.AhR\"]"
   ]
  },
  {
   "cell_type": "markdown",
   "id": "e3241085-9306-429f-886b-cbb23eeae7d6",
   "metadata": {},
   "source": [
    "### 2. NR.AR"
   ]
  },
  {
   "cell_type": "code",
   "execution_count": 5,
   "id": "f325a076-543f-4ffc-a441-d58bdb890e92",
   "metadata": {
    "execution": {
     "iopub.execute_input": "2025-06-17T13:52:47.750648Z",
     "iopub.status.busy": "2025-06-17T13:52:47.749937Z",
     "iopub.status.idle": "2025-06-17T13:52:48.170166Z",
     "shell.execute_reply": "2025-06-17T13:52:48.167607Z",
     "shell.execute_reply.started": "2025-06-17T13:52:47.750576Z"
    }
   },
   "outputs": [
    {
     "name": "stdout",
     "output_type": "stream",
     "text": [
      "<class 'pandas.core.frame.DataFrame'>\n",
      "Index: 9654 entries, NCGC00167516-01 to NCGC00261465-01\n",
      "Columns: 802 entries, NR.AR to rygr\n",
      "dtypes: float64(802)\n",
      "memory usage: 59.1+ MB\n",
      "None\n"
     ]
    }
   ],
   "source": [
    "# Create single target without NAs\n",
    "y_train_ar = y_train[[\"NR.AR\"]].dropna()\n",
    "\n",
    "# Inner merge with features:\n",
    "train_ar = y_train_ar.merge(X_train, how=\"inner\", on=\"ID\")\n",
    "\n",
    "# Inspect\n",
    "print(train_ar.info())\n",
    "\n",
    "# Split again\n",
    "X_train_ar = train_ar.drop(columns=[\"NR.AR\"])\n",
    "y_train_ar = train_ar[\"NR.AR\"]"
   ]
  },
  {
   "cell_type": "markdown",
   "id": "e45a7583-9b78-4495-a315-e88a90356ddb",
   "metadata": {},
   "source": [
    "### 3. NR.AR.LBD"
   ]
  },
  {
   "cell_type": "code",
   "execution_count": 6,
   "id": "e1b109b1-751c-4955-980c-9eee54ec314e",
   "metadata": {
    "execution": {
     "iopub.execute_input": "2025-06-17T13:52:48.173662Z",
     "iopub.status.busy": "2025-06-17T13:52:48.172480Z",
     "iopub.status.idle": "2025-06-17T13:52:48.494220Z",
     "shell.execute_reply": "2025-06-17T13:52:48.492081Z",
     "shell.execute_reply.started": "2025-06-17T13:52:48.173583Z"
    }
   },
   "outputs": [
    {
     "name": "stdout",
     "output_type": "stream",
     "text": [
      "<class 'pandas.core.frame.DataFrame'>\n",
      "Index: 8852 entries, NCGC00094891-01 to NCGC00261465-01\n",
      "Columns: 802 entries, NR.AR.LBD to rygr\n",
      "dtypes: float64(802)\n",
      "memory usage: 54.2+ MB\n",
      "None\n"
     ]
    }
   ],
   "source": [
    "# Create single target without NAs\n",
    "y_train_lbd = y_train[[\"NR.AR.LBD\"]].dropna()\n",
    "\n",
    "# Inner merge with features:\n",
    "train_lbd = y_train_lbd.merge(X_train, how=\"inner\", on=\"ID\")\n",
    "\n",
    "# Inspect\n",
    "print(train_lbd.info())\n",
    "\n",
    "# Split again\n",
    "X_train_lbd = train_lbd.drop(columns=[\"NR.AR.LBD\"])\n",
    "y_train_lbd = train_lbd[\"NR.AR.LBD\"]"
   ]
  },
  {
   "cell_type": "markdown",
   "id": "03508288-5c25-4da0-b76c-ea44ce4224c0",
   "metadata": {},
   "source": [
    "### 4. NR.Aromatase"
   ]
  },
  {
   "cell_type": "code",
   "execution_count": 7,
   "id": "39a32f4e-f6e2-4a1c-83c1-18d22b2eb340",
   "metadata": {
    "execution": {
     "iopub.execute_input": "2025-06-17T13:52:48.497350Z",
     "iopub.status.busy": "2025-06-17T13:52:48.496323Z",
     "iopub.status.idle": "2025-06-17T13:52:48.892367Z",
     "shell.execute_reply": "2025-06-17T13:52:48.889620Z",
     "shell.execute_reply.started": "2025-06-17T13:52:48.497298Z"
    }
   },
   "outputs": [
    {
     "name": "stdout",
     "output_type": "stream",
     "text": [
      "<class 'pandas.core.frame.DataFrame'>\n",
      "Index: 7440 entries, NCGC00258497-01 to NCGC00261465-01\n",
      "Columns: 802 entries, NR.Aromatase to rygr\n",
      "dtypes: float64(802)\n",
      "memory usage: 45.6+ MB\n",
      "None\n"
     ]
    }
   ],
   "source": [
    "# Create single target without NAs\n",
    "y_train_aromatase = y_train[[\"NR.Aromatase\"]].dropna()\n",
    "\n",
    "# Inner merge with features:\n",
    "train_aromatase = y_train_aromatase.merge(X_train, how=\"inner\", on=\"ID\")\n",
    "\n",
    "# Inspect\n",
    "print(train_aromatase.info())\n",
    "\n",
    "# Split again\n",
    "X_train_aromatase = train_aromatase.drop(columns=[\"NR.Aromatase\"])\n",
    "y_train_aromatase = train_aromatase[\"NR.Aromatase\"]"
   ]
  },
  {
   "cell_type": "markdown",
   "id": "31e9be8e-e676-41ff-a055-cc8d3608bac7",
   "metadata": {},
   "source": [
    "### 5. NR.ER"
   ]
  },
  {
   "cell_type": "code",
   "execution_count": 8,
   "id": "e1dd0726-12bd-4019-a888-1f4e1d1bbdb0",
   "metadata": {
    "execution": {
     "iopub.execute_input": "2025-06-17T13:52:48.895066Z",
     "iopub.status.busy": "2025-06-17T13:52:48.894585Z",
     "iopub.status.idle": "2025-06-17T13:52:49.387845Z",
     "shell.execute_reply": "2025-06-17T13:52:49.386047Z",
     "shell.execute_reply.started": "2025-06-17T13:52:48.895027Z"
    }
   },
   "outputs": [
    {
     "name": "stdout",
     "output_type": "stream",
     "text": [
      "<class 'pandas.core.frame.DataFrame'>\n",
      "Index: 7962 entries, NCGC00161831-02 to NCGC00260687-01\n",
      "Columns: 802 entries, NR.ER to rygr\n",
      "dtypes: float64(802)\n",
      "memory usage: 48.8+ MB\n",
      "None\n"
     ]
    }
   ],
   "source": [
    "# Create single target without NAs\n",
    "y_train_er = y_train[[\"NR.ER\"]].dropna()\n",
    "\n",
    "# Inner merge with features:\n",
    "train_er = y_train_er.merge(X_train, how=\"inner\", on=\"ID\")\n",
    "\n",
    "# Inspect\n",
    "print(train_er.info())\n",
    "\n",
    "# Split again\n",
    "X_train_er = train_er.drop(columns=[\"NR.ER\"])\n",
    "y_train_er = train_er[\"NR.ER\"]"
   ]
  },
  {
   "cell_type": "markdown",
   "id": "5f4165ba-e61c-4a4d-bfbd-e0e9ad88b586",
   "metadata": {},
   "source": [
    "### 6. NR.ER.LBD"
   ]
  },
  {
   "cell_type": "code",
   "execution_count": 9,
   "id": "07c19e2f-1d37-4ff3-877b-4799cc0430f7",
   "metadata": {
    "execution": {
     "iopub.execute_input": "2025-06-17T13:52:49.390336Z",
     "iopub.status.busy": "2025-06-17T13:52:49.389569Z",
     "iopub.status.idle": "2025-06-17T13:52:49.822937Z",
     "shell.execute_reply": "2025-06-17T13:52:49.821057Z",
     "shell.execute_reply.started": "2025-06-17T13:52:49.390259Z"
    }
   },
   "outputs": [
    {
     "name": "stdout",
     "output_type": "stream",
     "text": [
      "<class 'pandas.core.frame.DataFrame'>\n",
      "Index: 9040 entries, NCGC00095843-01 to NCGC00261465-01\n",
      "Columns: 802 entries, NR.ER.LBD to rygr\n",
      "dtypes: float64(802)\n",
      "memory usage: 55.4+ MB\n",
      "None\n"
     ]
    }
   ],
   "source": [
    "# Create single target without NAs\n",
    "y_train_er_lbd = y_train[[\"NR.ER.LBD\"]].dropna()\n",
    "\n",
    "# Inner merge with features:\n",
    "train_er_lbd = y_train_er_lbd.merge(X_train, how=\"inner\", on=\"ID\")\n",
    "\n",
    "# Inspect\n",
    "print(train_er_lbd.info())\n",
    "\n",
    "# Split again\n",
    "X_train_er_lbd = train_er_lbd.drop(columns=[\"NR.ER.LBD\"])\n",
    "y_train_er_lbd = train_er_lbd[\"NR.ER.LBD\"]"
   ]
  },
  {
   "cell_type": "markdown",
   "id": "6eea67a5-72c8-4e40-8bf2-e593c6e5f0be",
   "metadata": {},
   "source": [
    "### 7. NR.PPAR.gamma"
   ]
  },
  {
   "cell_type": "code",
   "execution_count": 10,
   "id": "833a87cb-4ad0-4baf-8850-94d44019cf08",
   "metadata": {
    "execution": {
     "iopub.execute_input": "2025-06-17T13:52:49.825944Z",
     "iopub.status.busy": "2025-06-17T13:52:49.825527Z",
     "iopub.status.idle": "2025-06-17T13:52:50.166419Z",
     "shell.execute_reply": "2025-06-17T13:52:50.164625Z",
     "shell.execute_reply.started": "2025-06-17T13:52:49.825916Z"
    }
   },
   "outputs": [
    {
     "name": "stdout",
     "output_type": "stream",
     "text": [
      "<class 'pandas.core.frame.DataFrame'>\n",
      "Index: 8451 entries, NCGC00091441-01 to NCGC00261465-01\n",
      "Columns: 802 entries, NR.PPAR.gamma to rygr\n",
      "dtypes: float64(802)\n",
      "memory usage: 51.8+ MB\n",
      "None\n"
     ]
    }
   ],
   "source": [
    "# Create single target without NAs\n",
    "y_train_ppar_gamma = y_train[[\"NR.PPAR.gamma\"]].dropna()\n",
    "\n",
    "# Inner merge with features:\n",
    "train_ppar_gamma = y_train_ppar_gamma.merge(X_train, how=\"inner\", on=\"ID\")\n",
    "\n",
    "# Inspect\n",
    "print(train_ppar_gamma.info())\n",
    "\n",
    "# Split again\n",
    "X_train_ppar_gamma = train_ppar_gamma.drop(columns=[\"NR.PPAR.gamma\"])\n",
    "y_train_ppar_gamma = train_ppar_gamma[\"NR.PPAR.gamma\"]"
   ]
  },
  {
   "cell_type": "markdown",
   "id": "e3e30aa0-4669-4413-b592-124bb260a4bb",
   "metadata": {},
   "source": [
    "### 8. SR.ARE"
   ]
  },
  {
   "cell_type": "code",
   "execution_count": 11,
   "id": "fdb5f561-1091-40c6-a796-071f0630d632",
   "metadata": {
    "execution": {
     "iopub.execute_input": "2025-06-17T13:52:50.171922Z",
     "iopub.status.busy": "2025-06-17T13:52:50.169576Z",
     "iopub.status.idle": "2025-06-17T13:52:50.469459Z",
     "shell.execute_reply": "2025-06-17T13:52:50.467133Z",
     "shell.execute_reply.started": "2025-06-17T13:52:50.171867Z"
    }
   },
   "outputs": [
    {
     "name": "stdout",
     "output_type": "stream",
     "text": [
      "<class 'pandas.core.frame.DataFrame'>\n",
      "Index: 7401 entries, NCGC00095016-05 to NCGC00261465-01\n",
      "Columns: 802 entries, SR.ARE to rygr\n",
      "dtypes: float64(802)\n",
      "memory usage: 45.3+ MB\n",
      "None\n"
     ]
    }
   ],
   "source": [
    "# Create single target without NAs\n",
    "y_train_are = y_train[[\"SR.ARE\"]].dropna()\n",
    "\n",
    "# Inner merge with features:\n",
    "train_are = y_train_are.merge(X_train, how=\"inner\", on=\"ID\")\n",
    "\n",
    "# Inspect\n",
    "print(train_are.info())\n",
    "\n",
    "# Split again\n",
    "X_train_are = train_are.drop(columns=[\"SR.ARE\"])\n",
    "y_train_are = train_are[\"SR.ARE\"]"
   ]
  },
  {
   "cell_type": "markdown",
   "id": "1ca60d2a-a83b-4743-b695-3c835113639a",
   "metadata": {},
   "source": [
    "### 9. SR.ATAD5"
   ]
  },
  {
   "cell_type": "code",
   "execution_count": 12,
   "id": "687be89e-9004-459f-ae90-ad585a9620cb",
   "metadata": {
    "execution": {
     "iopub.execute_input": "2025-06-17T13:52:50.484896Z",
     "iopub.status.busy": "2025-06-17T13:52:50.483556Z",
     "iopub.status.idle": "2025-06-17T13:52:51.155504Z",
     "shell.execute_reply": "2025-06-17T13:52:51.153644Z",
     "shell.execute_reply.started": "2025-06-17T13:52:50.484833Z"
    }
   },
   "outputs": [
    {
     "name": "stdout",
     "output_type": "stream",
     "text": [
      "<class 'pandas.core.frame.DataFrame'>\n",
      "Index: 9363 entries, NCGC00094121-01 to NCGC00261465-01\n",
      "Columns: 802 entries, SR.ATAD5 to rygr\n",
      "dtypes: float64(802)\n",
      "memory usage: 57.4+ MB\n",
      "None\n"
     ]
    }
   ],
   "source": [
    "# Create single target without NAs\n",
    "y_train_atad5 = y_train[[\"SR.ATAD5\"]].dropna()\n",
    "\n",
    "# Inner merge with features:\n",
    "train_atad5 = y_train_atad5.merge(X_train, how=\"inner\", on=\"ID\")\n",
    "\n",
    "# Inspect\n",
    "print(train_atad5.info())\n",
    "\n",
    "# Split again\n",
    "X_train_atad5 = train_atad5.drop(columns=[\"SR.ATAD5\"])\n",
    "y_train_atad5 = train_atad5[\"SR.ATAD5\"]"
   ]
  },
  {
   "cell_type": "markdown",
   "id": "0fb13450-230d-47e2-821c-7a2d4e4cbb5f",
   "metadata": {},
   "source": [
    "### 10. SR.HSE"
   ]
  },
  {
   "cell_type": "code",
   "execution_count": 13,
   "id": "ec7fe0ef-a904-4172-ba1d-535962e3b365",
   "metadata": {
    "execution": {
     "iopub.execute_input": "2025-06-17T13:52:51.158382Z",
     "iopub.status.busy": "2025-06-17T13:52:51.157687Z",
     "iopub.status.idle": "2025-06-17T13:52:52.684828Z",
     "shell.execute_reply": "2025-06-17T13:52:52.682802Z",
     "shell.execute_reply.started": "2025-06-17T13:52:51.158317Z"
    }
   },
   "outputs": [
    {
     "name": "stdout",
     "output_type": "stream",
     "text": [
      "<class 'pandas.core.frame.DataFrame'>\n",
      "Index: 8417 entries, NCGC00178831-03 to NCGC00261465-01\n",
      "Columns: 802 entries, SR.HSE to rygr\n",
      "dtypes: float64(802)\n",
      "memory usage: 51.6+ MB\n",
      "None\n"
     ]
    }
   ],
   "source": [
    "# Create single target without NAs\n",
    "y_train_hse = y_train[[\"SR.HSE\"]].dropna()\n",
    "\n",
    "# Inner merge with features:\n",
    "train_hse = y_train_hse.merge(X_train, how=\"inner\", on=\"ID\")\n",
    "\n",
    "# Inspect\n",
    "print(train_hse.info())\n",
    "\n",
    "# Split again\n",
    "X_train_hse = train_hse.drop(columns=[\"SR.HSE\"])\n",
    "y_train_hse = train_hse[\"SR.HSE\"]"
   ]
  },
  {
   "cell_type": "markdown",
   "id": "6ec6c6f4-722b-4c6e-8113-91aeec6a9e08",
   "metadata": {},
   "source": [
    "### 11. SR.MMP"
   ]
  },
  {
   "cell_type": "code",
   "execution_count": 14,
   "id": "34e37cdf-997f-4d11-96eb-f8c4828ece19",
   "metadata": {
    "execution": {
     "iopub.execute_input": "2025-06-17T13:52:52.689434Z",
     "iopub.status.busy": "2025-06-17T13:52:52.687920Z",
     "iopub.status.idle": "2025-06-17T13:52:53.221467Z",
     "shell.execute_reply": "2025-06-17T13:52:53.220161Z",
     "shell.execute_reply.started": "2025-06-17T13:52:52.689377Z"
    }
   },
   "outputs": [
    {
     "name": "stdout",
     "output_type": "stream",
     "text": [
      "<class 'pandas.core.frame.DataFrame'>\n",
      "Index: 7558 entries, NCGC00165865-01 to NCGC00261465-01\n",
      "Columns: 802 entries, SR.MMP to rygr\n",
      "dtypes: float64(802)\n",
      "memory usage: 46.3+ MB\n",
      "None\n"
     ]
    }
   ],
   "source": [
    "# Create single target without NAs\n",
    "y_train_mmp = y_train[[\"SR.MMP\"]].dropna()\n",
    "\n",
    "# Inner merge with features:\n",
    "train_mmp = y_train_mmp.merge(X_train, how=\"inner\", on=\"ID\")\n",
    "\n",
    "# Inspect\n",
    "print(train_mmp.info())\n",
    "\n",
    "# Split again\n",
    "X_train_mmp = train_mmp.drop(columns=[\"SR.MMP\"])\n",
    "y_train_mmp = train_mmp[\"SR.MMP\"]"
   ]
  },
  {
   "cell_type": "markdown",
   "id": "f8803e8a-60a5-4e1f-bfea-0fc907ae950c",
   "metadata": {},
   "source": [
    "### 12. SR.p53"
   ]
  },
  {
   "cell_type": "code",
   "execution_count": 15,
   "id": "1bbd5024-31a7-4ba3-9943-92fd6e991d4f",
   "metadata": {
    "execution": {
     "iopub.execute_input": "2025-06-17T13:52:53.223809Z",
     "iopub.status.busy": "2025-06-17T13:52:53.223429Z",
     "iopub.status.idle": "2025-06-17T13:52:53.500353Z",
     "shell.execute_reply": "2025-06-17T13:52:53.499161Z",
     "shell.execute_reply.started": "2025-06-17T13:52:53.223784Z"
    }
   },
   "outputs": [
    {
     "name": "stdout",
     "output_type": "stream",
     "text": [
      "<class 'pandas.core.frame.DataFrame'>\n",
      "Index: 8903 entries, NCGC00166288-01 to NCGC00261465-01\n",
      "Columns: 802 entries, SR.p53 to rygr\n",
      "dtypes: float64(802)\n",
      "memory usage: 54.5+ MB\n",
      "None\n"
     ]
    }
   ],
   "source": [
    "# Create single target without NAs\n",
    "y_train_p53 = y_train[[\"SR.p53\"]].dropna()\n",
    "\n",
    "# Inner merge with features:\n",
    "train_p53 = y_train_p53.merge(X_train, how=\"inner\", on=\"ID\")\n",
    "\n",
    "# Inspect\n",
    "print(train_p53.info())\n",
    "\n",
    "# Split again\n",
    "X_train_p53 = train_p53.drop(columns=[\"SR.p53\"])\n",
    "y_train_p53 = train_p53[\"SR.p53\"]"
   ]
  },
  {
   "cell_type": "markdown",
   "id": "e9b78f2f-bad0-47d4-a34c-132d9523c837",
   "metadata": {},
   "source": [
    "# Test Data"
   ]
  },
  {
   "cell_type": "markdown",
   "id": "efdf2393-7134-4853-81dc-642532067041",
   "metadata": {},
   "source": [
    "## Full Data"
   ]
  },
  {
   "cell_type": "markdown",
   "id": "4cefb345-d4c7-4411-98f8-d73de3a6fb78",
   "metadata": {
    "execution": {
     "iopub.execute_input": "2025-06-17T12:55:32.972183Z",
     "iopub.status.busy": "2025-06-17T12:55:32.969315Z",
     "iopub.status.idle": "2025-06-17T12:55:33.001435Z",
     "shell.execute_reply": "2025-06-17T12:55:32.998632Z",
     "shell.execute_reply.started": "2025-06-17T12:55:32.972129Z"
    }
   },
   "source": [
    "**Load features:**"
   ]
  },
  {
   "cell_type": "code",
   "execution_count": 16,
   "id": "74440c17-82a4-4f7d-8da0-13f18f46e1fa",
   "metadata": {
    "execution": {
     "iopub.execute_input": "2025-06-17T13:52:53.502950Z",
     "iopub.status.busy": "2025-06-17T13:52:53.502060Z",
     "iopub.status.idle": "2025-06-17T13:52:53.912198Z",
     "shell.execute_reply": "2025-06-17T13:52:53.910216Z",
     "shell.execute_reply.started": "2025-06-17T13:52:53.502909Z"
    }
   },
   "outputs": [
    {
     "data": {
      "text/html": [
       "<div>\n",
       "<style scoped>\n",
       "    .dataframe tbody tr th:only-of-type {\n",
       "        vertical-align: middle;\n",
       "    }\n",
       "\n",
       "    .dataframe tbody tr th {\n",
       "        vertical-align: top;\n",
       "    }\n",
       "\n",
       "    .dataframe thead th {\n",
       "        text-align: right;\n",
       "    }\n",
       "</style>\n",
       "<table border=\"1\" class=\"dataframe\">\n",
       "  <thead>\n",
       "    <tr style=\"text-align: right;\">\n",
       "      <th></th>\n",
       "      <th>AW</th>\n",
       "      <th>AWeight</th>\n",
       "      <th>Arto</th>\n",
       "      <th>BertzCT</th>\n",
       "      <th>Chi0</th>\n",
       "      <th>Chi1</th>\n",
       "      <th>Chi10</th>\n",
       "      <th>Chi2</th>\n",
       "      <th>Chi3</th>\n",
       "      <th>Chi3c</th>\n",
       "      <th>...</th>\n",
       "      <th>W3D</th>\n",
       "      <th>W3DH</th>\n",
       "      <th>WNSA1</th>\n",
       "      <th>WNSA2</th>\n",
       "      <th>WNSA3</th>\n",
       "      <th>WPSA1</th>\n",
       "      <th>WPSA2</th>\n",
       "      <th>WPSA3</th>\n",
       "      <th>grav</th>\n",
       "      <th>rygr</th>\n",
       "    </tr>\n",
       "    <tr>\n",
       "      <th>ID</th>\n",
       "      <th></th>\n",
       "      <th></th>\n",
       "      <th></th>\n",
       "      <th></th>\n",
       "      <th></th>\n",
       "      <th></th>\n",
       "      <th></th>\n",
       "      <th></th>\n",
       "      <th></th>\n",
       "      <th></th>\n",
       "      <th></th>\n",
       "      <th></th>\n",
       "      <th></th>\n",
       "      <th></th>\n",
       "      <th></th>\n",
       "      <th></th>\n",
       "      <th></th>\n",
       "      <th></th>\n",
       "      <th></th>\n",
       "      <th></th>\n",
       "      <th></th>\n",
       "    </tr>\n",
       "  </thead>\n",
       "  <tbody>\n",
       "    <tr>\n",
       "      <th>NCGC00261900-01</th>\n",
       "      <td>2.612482e-01</td>\n",
       "      <td>0.009436</td>\n",
       "      <td>0.834646</td>\n",
       "      <td>0.841727</td>\n",
       "      <td>0.394202</td>\n",
       "      <td>0.403771</td>\n",
       "      <td>0.300542</td>\n",
       "      <td>0.408977</td>\n",
       "      <td>0.398087</td>\n",
       "      <td>0.229952</td>\n",
       "      <td>...</td>\n",
       "      <td>0.103505</td>\n",
       "      <td>0.119139</td>\n",
       "      <td>0.142278</td>\n",
       "      <td>0.979173</td>\n",
       "      <td>0.932708</td>\n",
       "      <td>0.230205</td>\n",
       "      <td>0.098362</td>\n",
       "      <td>0.094579</td>\n",
       "      <td>0.000364</td>\n",
       "      <td>0.347710</td>\n",
       "    </tr>\n",
       "    <tr>\n",
       "      <th>NCGC00260869-01</th>\n",
       "      <td>8.333336e-02</td>\n",
       "      <td>0.043783</td>\n",
       "      <td>0.812523</td>\n",
       "      <td>0.754532</td>\n",
       "      <td>0.172691</td>\n",
       "      <td>0.172555</td>\n",
       "      <td>0.097883</td>\n",
       "      <td>0.187859</td>\n",
       "      <td>0.182665</td>\n",
       "      <td>0.135654</td>\n",
       "      <td>...</td>\n",
       "      <td>0.013413</td>\n",
       "      <td>0.007371</td>\n",
       "      <td>0.076107</td>\n",
       "      <td>0.996066</td>\n",
       "      <td>0.972912</td>\n",
       "      <td>0.065423</td>\n",
       "      <td>0.009872</td>\n",
       "      <td>0.055111</td>\n",
       "      <td>0.000187</td>\n",
       "      <td>0.232328</td>\n",
       "    </tr>\n",
       "    <tr>\n",
       "      <th>NCGC00261776-01</th>\n",
       "      <td>3.074000e-08</td>\n",
       "      <td>0.007837</td>\n",
       "      <td>0.886389</td>\n",
       "      <td>0.789065</td>\n",
       "      <td>0.155035</td>\n",
       "      <td>0.171825</td>\n",
       "      <td>0.176321</td>\n",
       "      <td>0.168661</td>\n",
       "      <td>0.186405</td>\n",
       "      <td>0.067600</td>\n",
       "      <td>...</td>\n",
       "      <td>0.011447</td>\n",
       "      <td>0.008864</td>\n",
       "      <td>0.068405</td>\n",
       "      <td>0.997175</td>\n",
       "      <td>0.982732</td>\n",
       "      <td>0.052118</td>\n",
       "      <td>0.006282</td>\n",
       "      <td>0.023628</td>\n",
       "      <td>0.000112</td>\n",
       "      <td>0.227702</td>\n",
       "    </tr>\n",
       "    <tr>\n",
       "      <th>NCGC00261380-01</th>\n",
       "      <td>8.000004e-02</td>\n",
       "      <td>0.017566</td>\n",
       "      <td>0.779903</td>\n",
       "      <td>0.732086</td>\n",
       "      <td>0.177179</td>\n",
       "      <td>0.186014</td>\n",
       "      <td>0.063751</td>\n",
       "      <td>0.171348</td>\n",
       "      <td>0.161561</td>\n",
       "      <td>0.063016</td>\n",
       "      <td>...</td>\n",
       "      <td>0.015035</td>\n",
       "      <td>0.012926</td>\n",
       "      <td>0.093085</td>\n",
       "      <td>0.995702</td>\n",
       "      <td>0.977549</td>\n",
       "      <td>0.059355</td>\n",
       "      <td>0.007999</td>\n",
       "      <td>0.025659</td>\n",
       "      <td>0.000143</td>\n",
       "      <td>0.227832</td>\n",
       "    </tr>\n",
       "    <tr>\n",
       "      <th>NCGC00261842-01</th>\n",
       "      <td>3.838000e-08</td>\n",
       "      <td>0.022434</td>\n",
       "      <td>0.782527</td>\n",
       "      <td>0.742158</td>\n",
       "      <td>0.178172</td>\n",
       "      <td>0.173317</td>\n",
       "      <td>0.033886</td>\n",
       "      <td>0.169590</td>\n",
       "      <td>0.151955</td>\n",
       "      <td>0.105279</td>\n",
       "      <td>...</td>\n",
       "      <td>0.012993</td>\n",
       "      <td>0.012214</td>\n",
       "      <td>0.098637</td>\n",
       "      <td>0.993249</td>\n",
       "      <td>0.955067</td>\n",
       "      <td>0.057505</td>\n",
       "      <td>0.011489</td>\n",
       "      <td>0.023847</td>\n",
       "      <td>0.000140</td>\n",
       "      <td>0.226269</td>\n",
       "    </tr>\n",
       "    <tr>\n",
       "      <th>...</th>\n",
       "      <td>...</td>\n",
       "      <td>...</td>\n",
       "      <td>...</td>\n",
       "      <td>...</td>\n",
       "      <td>...</td>\n",
       "      <td>...</td>\n",
       "      <td>...</td>\n",
       "      <td>...</td>\n",
       "      <td>...</td>\n",
       "      <td>...</td>\n",
       "      <td>...</td>\n",
       "      <td>...</td>\n",
       "      <td>...</td>\n",
       "      <td>...</td>\n",
       "      <td>...</td>\n",
       "      <td>...</td>\n",
       "      <td>...</td>\n",
       "      <td>...</td>\n",
       "      <td>...</td>\n",
       "      <td>...</td>\n",
       "      <td>...</td>\n",
       "    </tr>\n",
       "    <tr>\n",
       "      <th>NCGC00357168-01</th>\n",
       "      <td>1.000000e-08</td>\n",
       "      <td>0.038929</td>\n",
       "      <td>0.599925</td>\n",
       "      <td>0.246331</td>\n",
       "      <td>0.043519</td>\n",
       "      <td>0.038314</td>\n",
       "      <td>0.000000</td>\n",
       "      <td>0.022882</td>\n",
       "      <td>0.013918</td>\n",
       "      <td>0.000000</td>\n",
       "      <td>...</td>\n",
       "      <td>0.000256</td>\n",
       "      <td>0.000578</td>\n",
       "      <td>0.018569</td>\n",
       "      <td>0.999713</td>\n",
       "      <td>0.993413</td>\n",
       "      <td>0.013657</td>\n",
       "      <td>0.000617</td>\n",
       "      <td>0.005536</td>\n",
       "      <td>0.000013</td>\n",
       "      <td>0.111147</td>\n",
       "    </tr>\n",
       "    <tr>\n",
       "      <th>NCGC00357283-01</th>\n",
       "      <td>2.714000e-08</td>\n",
       "      <td>0.013148</td>\n",
       "      <td>0.749906</td>\n",
       "      <td>0.527482</td>\n",
       "      <td>0.117176</td>\n",
       "      <td>0.115798</td>\n",
       "      <td>0.005907</td>\n",
       "      <td>0.095839</td>\n",
       "      <td>0.080535</td>\n",
       "      <td>0.030828</td>\n",
       "      <td>...</td>\n",
       "      <td>0.004334</td>\n",
       "      <td>0.007400</td>\n",
       "      <td>0.037757</td>\n",
       "      <td>0.998458</td>\n",
       "      <td>0.979364</td>\n",
       "      <td>0.045173</td>\n",
       "      <td>0.005385</td>\n",
       "      <td>0.017875</td>\n",
       "      <td>0.000070</td>\n",
       "      <td>0.183334</td>\n",
       "    </tr>\n",
       "    <tr>\n",
       "      <th>NCGC00357210-01</th>\n",
       "      <td>9.050000e-09</td>\n",
       "      <td>0.033198</td>\n",
       "      <td>0.749906</td>\n",
       "      <td>0.573813</td>\n",
       "      <td>0.055716</td>\n",
       "      <td>0.052455</td>\n",
       "      <td>0.000000</td>\n",
       "      <td>0.048756</td>\n",
       "      <td>0.045081</td>\n",
       "      <td>0.023726</td>\n",
       "      <td>...</td>\n",
       "      <td>0.000517</td>\n",
       "      <td>0.000408</td>\n",
       "      <td>0.025334</td>\n",
       "      <td>0.999671</td>\n",
       "      <td>0.994989</td>\n",
       "      <td>0.011548</td>\n",
       "      <td>0.000437</td>\n",
       "      <td>0.005116</td>\n",
       "      <td>0.000028</td>\n",
       "      <td>0.105349</td>\n",
       "    </tr>\n",
       "    <tr>\n",
       "      <th>NCGC00357118-01</th>\n",
       "      <td>3.186000e-08</td>\n",
       "      <td>0.030749</td>\n",
       "      <td>0.821147</td>\n",
       "      <td>0.733813</td>\n",
       "      <td>0.159333</td>\n",
       "      <td>0.157683</td>\n",
       "      <td>0.030030</td>\n",
       "      <td>0.164267</td>\n",
       "      <td>0.159179</td>\n",
       "      <td>0.113943</td>\n",
       "      <td>...</td>\n",
       "      <td>0.009635</td>\n",
       "      <td>0.008028</td>\n",
       "      <td>0.082346</td>\n",
       "      <td>0.996334</td>\n",
       "      <td>0.976904</td>\n",
       "      <td>0.042581</td>\n",
       "      <td>0.005533</td>\n",
       "      <td>0.020194</td>\n",
       "      <td>0.000137</td>\n",
       "      <td>0.203271</td>\n",
       "    </tr>\n",
       "    <tr>\n",
       "      <th>NCGC00357144-01</th>\n",
       "      <td>1.048000e-08</td>\n",
       "      <td>0.029122</td>\n",
       "      <td>0.749906</td>\n",
       "      <td>0.514532</td>\n",
       "      <td>0.053994</td>\n",
       "      <td>0.054471</td>\n",
       "      <td>0.000000</td>\n",
       "      <td>0.043247</td>\n",
       "      <td>0.040395</td>\n",
       "      <td>0.010276</td>\n",
       "      <td>...</td>\n",
       "      <td>0.000553</td>\n",
       "      <td>0.000661</td>\n",
       "      <td>0.027307</td>\n",
       "      <td>0.999645</td>\n",
       "      <td>0.995229</td>\n",
       "      <td>0.014172</td>\n",
       "      <td>0.000537</td>\n",
       "      <td>0.005964</td>\n",
       "      <td>0.000025</td>\n",
       "      <td>0.119161</td>\n",
       "    </tr>\n",
       "  </tbody>\n",
       "</table>\n",
       "<p>647 rows × 801 columns</p>\n",
       "</div>"
      ],
      "text/plain": [
       "                           AW   AWeight      Arto   BertzCT      Chi0  \\\n",
       "ID                                                                      \n",
       "NCGC00261900-01  2.612482e-01  0.009436  0.834646  0.841727  0.394202   \n",
       "NCGC00260869-01  8.333336e-02  0.043783  0.812523  0.754532  0.172691   \n",
       "NCGC00261776-01  3.074000e-08  0.007837  0.886389  0.789065  0.155035   \n",
       "NCGC00261380-01  8.000004e-02  0.017566  0.779903  0.732086  0.177179   \n",
       "NCGC00261842-01  3.838000e-08  0.022434  0.782527  0.742158  0.178172   \n",
       "...                       ...       ...       ...       ...       ...   \n",
       "NCGC00357168-01  1.000000e-08  0.038929  0.599925  0.246331  0.043519   \n",
       "NCGC00357283-01  2.714000e-08  0.013148  0.749906  0.527482  0.117176   \n",
       "NCGC00357210-01  9.050000e-09  0.033198  0.749906  0.573813  0.055716   \n",
       "NCGC00357118-01  3.186000e-08  0.030749  0.821147  0.733813  0.159333   \n",
       "NCGC00357144-01  1.048000e-08  0.029122  0.749906  0.514532  0.053994   \n",
       "\n",
       "                     Chi1     Chi10      Chi2      Chi3     Chi3c  ...  \\\n",
       "ID                                                                 ...   \n",
       "NCGC00261900-01  0.403771  0.300542  0.408977  0.398087  0.229952  ...   \n",
       "NCGC00260869-01  0.172555  0.097883  0.187859  0.182665  0.135654  ...   \n",
       "NCGC00261776-01  0.171825  0.176321  0.168661  0.186405  0.067600  ...   \n",
       "NCGC00261380-01  0.186014  0.063751  0.171348  0.161561  0.063016  ...   \n",
       "NCGC00261842-01  0.173317  0.033886  0.169590  0.151955  0.105279  ...   \n",
       "...                   ...       ...       ...       ...       ...  ...   \n",
       "NCGC00357168-01  0.038314  0.000000  0.022882  0.013918  0.000000  ...   \n",
       "NCGC00357283-01  0.115798  0.005907  0.095839  0.080535  0.030828  ...   \n",
       "NCGC00357210-01  0.052455  0.000000  0.048756  0.045081  0.023726  ...   \n",
       "NCGC00357118-01  0.157683  0.030030  0.164267  0.159179  0.113943  ...   \n",
       "NCGC00357144-01  0.054471  0.000000  0.043247  0.040395  0.010276  ...   \n",
       "\n",
       "                      W3D      W3DH     WNSA1     WNSA2     WNSA3     WPSA1  \\\n",
       "ID                                                                            \n",
       "NCGC00261900-01  0.103505  0.119139  0.142278  0.979173  0.932708  0.230205   \n",
       "NCGC00260869-01  0.013413  0.007371  0.076107  0.996066  0.972912  0.065423   \n",
       "NCGC00261776-01  0.011447  0.008864  0.068405  0.997175  0.982732  0.052118   \n",
       "NCGC00261380-01  0.015035  0.012926  0.093085  0.995702  0.977549  0.059355   \n",
       "NCGC00261842-01  0.012993  0.012214  0.098637  0.993249  0.955067  0.057505   \n",
       "...                   ...       ...       ...       ...       ...       ...   \n",
       "NCGC00357168-01  0.000256  0.000578  0.018569  0.999713  0.993413  0.013657   \n",
       "NCGC00357283-01  0.004334  0.007400  0.037757  0.998458  0.979364  0.045173   \n",
       "NCGC00357210-01  0.000517  0.000408  0.025334  0.999671  0.994989  0.011548   \n",
       "NCGC00357118-01  0.009635  0.008028  0.082346  0.996334  0.976904  0.042581   \n",
       "NCGC00357144-01  0.000553  0.000661  0.027307  0.999645  0.995229  0.014172   \n",
       "\n",
       "                    WPSA2     WPSA3      grav      rygr  \n",
       "ID                                                       \n",
       "NCGC00261900-01  0.098362  0.094579  0.000364  0.347710  \n",
       "NCGC00260869-01  0.009872  0.055111  0.000187  0.232328  \n",
       "NCGC00261776-01  0.006282  0.023628  0.000112  0.227702  \n",
       "NCGC00261380-01  0.007999  0.025659  0.000143  0.227832  \n",
       "NCGC00261842-01  0.011489  0.023847  0.000140  0.226269  \n",
       "...                   ...       ...       ...       ...  \n",
       "NCGC00357168-01  0.000617  0.005536  0.000013  0.111147  \n",
       "NCGC00357283-01  0.005385  0.017875  0.000070  0.183334  \n",
       "NCGC00357210-01  0.000437  0.005116  0.000028  0.105349  \n",
       "NCGC00357118-01  0.005533  0.020194  0.000137  0.203271  \n",
       "NCGC00357144-01  0.000537  0.005964  0.000025  0.119161  \n",
       "\n",
       "[647 rows x 801 columns]"
      ]
     },
     "execution_count": 16,
     "metadata": {},
     "output_type": "execute_result"
    }
   ],
   "source": [
    "path_x_test = \"../data/X_test.csv\"\n",
    "X_test = pd.read_csv(path_x_test).set_index(\"ID\")\n",
    "X_test"
   ]
  },
  {
   "cell_type": "markdown",
   "id": "4b8bc080-807e-4e4e-a6e6-ce868204343e",
   "metadata": {},
   "source": [
    "**Load targets:**"
   ]
  },
  {
   "cell_type": "code",
   "execution_count": 17,
   "id": "0a709ed4-3f01-4b8c-8b75-1f65016c775e",
   "metadata": {
    "execution": {
     "iopub.execute_input": "2025-06-17T13:52:53.914472Z",
     "iopub.status.busy": "2025-06-17T13:52:53.914039Z",
     "iopub.status.idle": "2025-06-17T13:52:53.964217Z",
     "shell.execute_reply": "2025-06-17T13:52:53.962155Z",
     "shell.execute_reply.started": "2025-06-17T13:52:53.914444Z"
    }
   },
   "outputs": [
    {
     "data": {
      "text/html": [
       "<div>\n",
       "<style scoped>\n",
       "    .dataframe tbody tr th:only-of-type {\n",
       "        vertical-align: middle;\n",
       "    }\n",
       "\n",
       "    .dataframe tbody tr th {\n",
       "        vertical-align: top;\n",
       "    }\n",
       "\n",
       "    .dataframe thead th {\n",
       "        text-align: right;\n",
       "    }\n",
       "</style>\n",
       "<table border=\"1\" class=\"dataframe\">\n",
       "  <thead>\n",
       "    <tr style=\"text-align: right;\">\n",
       "      <th></th>\n",
       "      <th>NR.AhR</th>\n",
       "      <th>NR.AR</th>\n",
       "      <th>NR.AR.LBD</th>\n",
       "      <th>NR.Aromatase</th>\n",
       "      <th>NR.ER</th>\n",
       "      <th>NR.ER.LBD</th>\n",
       "      <th>NR.PPAR.gamma</th>\n",
       "      <th>SR.ARE</th>\n",
       "      <th>SR.ATAD5</th>\n",
       "      <th>SR.HSE</th>\n",
       "      <th>SR.MMP</th>\n",
       "      <th>SR.p53</th>\n",
       "    </tr>\n",
       "    <tr>\n",
       "      <th>ID</th>\n",
       "      <th></th>\n",
       "      <th></th>\n",
       "      <th></th>\n",
       "      <th></th>\n",
       "      <th></th>\n",
       "      <th></th>\n",
       "      <th></th>\n",
       "      <th></th>\n",
       "      <th></th>\n",
       "      <th></th>\n",
       "      <th></th>\n",
       "      <th></th>\n",
       "    </tr>\n",
       "  </thead>\n",
       "  <tbody>\n",
       "    <tr>\n",
       "      <th>NCGC00261900-01</th>\n",
       "      <td>0.0</td>\n",
       "      <td>1.0</td>\n",
       "      <td>NaN</td>\n",
       "      <td>0.0</td>\n",
       "      <td>0.0</td>\n",
       "      <td>0.0</td>\n",
       "      <td>0.0</td>\n",
       "      <td>NaN</td>\n",
       "      <td>0.0</td>\n",
       "      <td>0.0</td>\n",
       "      <td>NaN</td>\n",
       "      <td>0.0</td>\n",
       "    </tr>\n",
       "    <tr>\n",
       "      <th>NCGC00260869-01</th>\n",
       "      <td>0.0</td>\n",
       "      <td>1.0</td>\n",
       "      <td>NaN</td>\n",
       "      <td>NaN</td>\n",
       "      <td>0.0</td>\n",
       "      <td>0.0</td>\n",
       "      <td>0.0</td>\n",
       "      <td>0.0</td>\n",
       "      <td>0.0</td>\n",
       "      <td>0.0</td>\n",
       "      <td>0.0</td>\n",
       "      <td>0.0</td>\n",
       "    </tr>\n",
       "    <tr>\n",
       "      <th>NCGC00261776-01</th>\n",
       "      <td>1.0</td>\n",
       "      <td>1.0</td>\n",
       "      <td>0.0</td>\n",
       "      <td>NaN</td>\n",
       "      <td>1.0</td>\n",
       "      <td>0.0</td>\n",
       "      <td>0.0</td>\n",
       "      <td>1.0</td>\n",
       "      <td>1.0</td>\n",
       "      <td>0.0</td>\n",
       "      <td>1.0</td>\n",
       "      <td>0.0</td>\n",
       "    </tr>\n",
       "    <tr>\n",
       "      <th>NCGC00261380-01</th>\n",
       "      <td>NaN</td>\n",
       "      <td>0.0</td>\n",
       "      <td>NaN</td>\n",
       "      <td>1.0</td>\n",
       "      <td>0.0</td>\n",
       "      <td>NaN</td>\n",
       "      <td>NaN</td>\n",
       "      <td>1.0</td>\n",
       "      <td>0.0</td>\n",
       "      <td>NaN</td>\n",
       "      <td>0.0</td>\n",
       "      <td>NaN</td>\n",
       "    </tr>\n",
       "    <tr>\n",
       "      <th>NCGC00261842-01</th>\n",
       "      <td>0.0</td>\n",
       "      <td>0.0</td>\n",
       "      <td>0.0</td>\n",
       "      <td>NaN</td>\n",
       "      <td>0.0</td>\n",
       "      <td>0.0</td>\n",
       "      <td>0.0</td>\n",
       "      <td>0.0</td>\n",
       "      <td>0.0</td>\n",
       "      <td>0.0</td>\n",
       "      <td>NaN</td>\n",
       "      <td>1.0</td>\n",
       "    </tr>\n",
       "    <tr>\n",
       "      <th>...</th>\n",
       "      <td>...</td>\n",
       "      <td>...</td>\n",
       "      <td>...</td>\n",
       "      <td>...</td>\n",
       "      <td>...</td>\n",
       "      <td>...</td>\n",
       "      <td>...</td>\n",
       "      <td>...</td>\n",
       "      <td>...</td>\n",
       "      <td>...</td>\n",
       "      <td>...</td>\n",
       "      <td>...</td>\n",
       "    </tr>\n",
       "    <tr>\n",
       "      <th>NCGC00357168-01</th>\n",
       "      <td>0.0</td>\n",
       "      <td>0.0</td>\n",
       "      <td>0.0</td>\n",
       "      <td>0.0</td>\n",
       "      <td>NaN</td>\n",
       "      <td>0.0</td>\n",
       "      <td>0.0</td>\n",
       "      <td>1.0</td>\n",
       "      <td>0.0</td>\n",
       "      <td>0.0</td>\n",
       "      <td>0.0</td>\n",
       "      <td>0.0</td>\n",
       "    </tr>\n",
       "    <tr>\n",
       "      <th>NCGC00357283-01</th>\n",
       "      <td>0.0</td>\n",
       "      <td>0.0</td>\n",
       "      <td>0.0</td>\n",
       "      <td>0.0</td>\n",
       "      <td>0.0</td>\n",
       "      <td>0.0</td>\n",
       "      <td>0.0</td>\n",
       "      <td>0.0</td>\n",
       "      <td>0.0</td>\n",
       "      <td>0.0</td>\n",
       "      <td>0.0</td>\n",
       "      <td>0.0</td>\n",
       "    </tr>\n",
       "    <tr>\n",
       "      <th>NCGC00357210-01</th>\n",
       "      <td>0.0</td>\n",
       "      <td>0.0</td>\n",
       "      <td>0.0</td>\n",
       "      <td>0.0</td>\n",
       "      <td>0.0</td>\n",
       "      <td>0.0</td>\n",
       "      <td>NaN</td>\n",
       "      <td>NaN</td>\n",
       "      <td>NaN</td>\n",
       "      <td>0.0</td>\n",
       "      <td>NaN</td>\n",
       "      <td>0.0</td>\n",
       "    </tr>\n",
       "    <tr>\n",
       "      <th>NCGC00357118-01</th>\n",
       "      <td>0.0</td>\n",
       "      <td>0.0</td>\n",
       "      <td>0.0</td>\n",
       "      <td>NaN</td>\n",
       "      <td>NaN</td>\n",
       "      <td>0.0</td>\n",
       "      <td>NaN</td>\n",
       "      <td>1.0</td>\n",
       "      <td>0.0</td>\n",
       "      <td>NaN</td>\n",
       "      <td>NaN</td>\n",
       "      <td>1.0</td>\n",
       "    </tr>\n",
       "    <tr>\n",
       "      <th>NCGC00357144-01</th>\n",
       "      <td>0.0</td>\n",
       "      <td>0.0</td>\n",
       "      <td>0.0</td>\n",
       "      <td>0.0</td>\n",
       "      <td>0.0</td>\n",
       "      <td>NaN</td>\n",
       "      <td>0.0</td>\n",
       "      <td>1.0</td>\n",
       "      <td>NaN</td>\n",
       "      <td>0.0</td>\n",
       "      <td>0.0</td>\n",
       "      <td>1.0</td>\n",
       "    </tr>\n",
       "  </tbody>\n",
       "</table>\n",
       "<p>647 rows × 12 columns</p>\n",
       "</div>"
      ],
      "text/plain": [
       "                 NR.AhR  NR.AR  NR.AR.LBD  NR.Aromatase  NR.ER  NR.ER.LBD  \\\n",
       "ID                                                                          \n",
       "NCGC00261900-01     0.0    1.0        NaN           0.0    0.0        0.0   \n",
       "NCGC00260869-01     0.0    1.0        NaN           NaN    0.0        0.0   \n",
       "NCGC00261776-01     1.0    1.0        0.0           NaN    1.0        0.0   \n",
       "NCGC00261380-01     NaN    0.0        NaN           1.0    0.0        NaN   \n",
       "NCGC00261842-01     0.0    0.0        0.0           NaN    0.0        0.0   \n",
       "...                 ...    ...        ...           ...    ...        ...   \n",
       "NCGC00357168-01     0.0    0.0        0.0           0.0    NaN        0.0   \n",
       "NCGC00357283-01     0.0    0.0        0.0           0.0    0.0        0.0   \n",
       "NCGC00357210-01     0.0    0.0        0.0           0.0    0.0        0.0   \n",
       "NCGC00357118-01     0.0    0.0        0.0           NaN    NaN        0.0   \n",
       "NCGC00357144-01     0.0    0.0        0.0           0.0    0.0        NaN   \n",
       "\n",
       "                 NR.PPAR.gamma  SR.ARE  SR.ATAD5  SR.HSE  SR.MMP  SR.p53  \n",
       "ID                                                                        \n",
       "NCGC00261900-01            0.0     NaN       0.0     0.0     NaN     0.0  \n",
       "NCGC00260869-01            0.0     0.0       0.0     0.0     0.0     0.0  \n",
       "NCGC00261776-01            0.0     1.0       1.0     0.0     1.0     0.0  \n",
       "NCGC00261380-01            NaN     1.0       0.0     NaN     0.0     NaN  \n",
       "NCGC00261842-01            0.0     0.0       0.0     0.0     NaN     1.0  \n",
       "...                        ...     ...       ...     ...     ...     ...  \n",
       "NCGC00357168-01            0.0     1.0       0.0     0.0     0.0     0.0  \n",
       "NCGC00357283-01            0.0     0.0       0.0     0.0     0.0     0.0  \n",
       "NCGC00357210-01            NaN     NaN       NaN     0.0     NaN     0.0  \n",
       "NCGC00357118-01            NaN     1.0       0.0     NaN     NaN     1.0  \n",
       "NCGC00357144-01            0.0     1.0       NaN     0.0     0.0     1.0  \n",
       "\n",
       "[647 rows x 12 columns]"
      ]
     },
     "execution_count": 17,
     "metadata": {},
     "output_type": "execute_result"
    }
   ],
   "source": [
    "path_y_test = \"../data/y_test.csv\"\n",
    "y_test = pd.read_csv(path_y_test).set_index(\"ID\")\n",
    "y_test"
   ]
  },
  {
   "cell_type": "markdown",
   "id": "f1a24083-d72e-4fc3-9f23-a6d88fcf504d",
   "metadata": {},
   "source": [
    "## Data Without NAs For Each Target"
   ]
  },
  {
   "cell_type": "markdown",
   "id": "7581ad1a-b1ad-4d6e-acfa-21a98df1a902",
   "metadata": {
    "execution": {
     "iopub.execute_input": "2025-06-17T12:58:40.014758Z",
     "iopub.status.busy": "2025-06-17T12:58:40.014266Z",
     "iopub.status.idle": "2025-06-17T12:58:40.020855Z",
     "shell.execute_reply": "2025-06-17T12:58:40.019485Z",
     "shell.execute_reply.started": "2025-06-17T12:58:40.014731Z"
    }
   },
   "source": [
    "### 1. NR.AhR"
   ]
  },
  {
   "cell_type": "code",
   "execution_count": 18,
   "id": "322fdb5c-3b9c-45ae-aa55-994f406e4bc5",
   "metadata": {
    "execution": {
     "iopub.execute_input": "2025-06-17T13:52:53.968929Z",
     "iopub.status.busy": "2025-06-17T13:52:53.966598Z",
     "iopub.status.idle": "2025-06-17T13:52:54.051408Z",
     "shell.execute_reply": "2025-06-17T13:52:54.049804Z",
     "shell.execute_reply.started": "2025-06-17T13:52:53.968834Z"
    }
   },
   "outputs": [
    {
     "name": "stdout",
     "output_type": "stream",
     "text": [
      "<class 'pandas.core.frame.DataFrame'>\n",
      "Index: 610 entries, NCGC00261900-01 to NCGC00357144-01\n",
      "Columns: 802 entries, NR.AhR to rygr\n",
      "dtypes: float64(802)\n",
      "memory usage: 3.7+ MB\n",
      "None\n"
     ]
    }
   ],
   "source": [
    "# Create single target without NAs\n",
    "y_test_ahr = y_test[[\"NR.AhR\"]].dropna()\n",
    "\n",
    "# Inner merge with features:\n",
    "test_ahr = y_test_ahr.merge(X_test, how=\"inner\", on=\"ID\")\n",
    "\n",
    "# Inspect\n",
    "print(test_ahr.info())\n",
    "\n",
    "# Split again\n",
    "X_test_ahr = test_ahr.drop(columns=[\"NR.AhR\"])\n",
    "y_test_ahr = test_ahr[\"NR.AhR\"]"
   ]
  },
  {
   "cell_type": "markdown",
   "id": "2b90896e-eabc-4e6b-a4fd-f507a157fbc3",
   "metadata": {},
   "source": [
    "### 2. NR.AR"
   ]
  },
  {
   "cell_type": "code",
   "execution_count": 19,
   "id": "180b3ce2-7d97-480b-93c9-3f7bc8a006fb",
   "metadata": {
    "execution": {
     "iopub.execute_input": "2025-06-17T13:52:54.054954Z",
     "iopub.status.busy": "2025-06-17T13:52:54.053682Z",
     "iopub.status.idle": "2025-06-17T13:52:54.143357Z",
     "shell.execute_reply": "2025-06-17T13:52:54.141294Z",
     "shell.execute_reply.started": "2025-06-17T13:52:54.054885Z"
    }
   },
   "outputs": [
    {
     "name": "stdout",
     "output_type": "stream",
     "text": [
      "<class 'pandas.core.frame.DataFrame'>\n",
      "Index: 586 entries, NCGC00261900-01 to NCGC00357144-01\n",
      "Columns: 802 entries, NR.AR to rygr\n",
      "dtypes: float64(802)\n",
      "memory usage: 3.6+ MB\n",
      "None\n"
     ]
    }
   ],
   "source": [
    "# Create single target without NAs\n",
    "y_test_ar = y_test[[\"NR.AR\"]].dropna()\n",
    "\n",
    "# Inner merge with features:\n",
    "test_ar = y_test_ar.merge(X_test, how=\"inner\", on=\"ID\")\n",
    "\n",
    "# Inspect\n",
    "print(test_ar.info())\n",
    "\n",
    "# Split again\n",
    "X_test_ar = test_ar.drop(columns=[\"NR.AR\"])\n",
    "y_test_ar = test_ar[\"NR.AR\"]"
   ]
  },
  {
   "cell_type": "markdown",
   "id": "025e8650-3456-4526-ad65-8b2b14db839f",
   "metadata": {},
   "source": [
    "### 3. NR.AR.LBD"
   ]
  },
  {
   "cell_type": "code",
   "execution_count": 20,
   "id": "83da0c8a-fdf6-4680-9dac-051a5e300018",
   "metadata": {
    "execution": {
     "iopub.execute_input": "2025-06-17T13:52:54.147287Z",
     "iopub.status.busy": "2025-06-17T13:52:54.146180Z",
     "iopub.status.idle": "2025-06-17T13:52:54.219721Z",
     "shell.execute_reply": "2025-06-17T13:52:54.218118Z",
     "shell.execute_reply.started": "2025-06-17T13:52:54.147221Z"
    }
   },
   "outputs": [
    {
     "name": "stdout",
     "output_type": "stream",
     "text": [
      "<class 'pandas.core.frame.DataFrame'>\n",
      "Index: 582 entries, NCGC00261776-01 to NCGC00357144-01\n",
      "Columns: 802 entries, NR.AR.LBD to rygr\n",
      "dtypes: float64(802)\n",
      "memory usage: 3.6+ MB\n",
      "None\n"
     ]
    }
   ],
   "source": [
    "# Create single target without NAs\n",
    "y_test_lbd = y_test[[\"NR.AR.LBD\"]].dropna()\n",
    "\n",
    "# Inner merge with features:\n",
    "test_lbd = y_test_lbd.merge(X_test, how=\"inner\", on=\"ID\")\n",
    "\n",
    "# Inspect\n",
    "print(test_lbd.info())\n",
    "\n",
    "# Split again\n",
    "X_test_lbd = test_lbd.drop(columns=[\"NR.AR.LBD\"])\n",
    "y_test_lbd = test_lbd[\"NR.AR.LBD\"]"
   ]
  },
  {
   "cell_type": "markdown",
   "id": "fe12b083-b01e-49e5-a265-1f6d9564ca89",
   "metadata": {},
   "source": [
    "### 4. NR.Aromatase"
   ]
  },
  {
   "cell_type": "code",
   "execution_count": 21,
   "id": "d33ec8fa-fa69-4d15-8ab7-fbb63164a17a",
   "metadata": {
    "execution": {
     "iopub.execute_input": "2025-06-17T13:52:54.224253Z",
     "iopub.status.busy": "2025-06-17T13:52:54.222415Z",
     "iopub.status.idle": "2025-06-17T13:52:54.305490Z",
     "shell.execute_reply": "2025-06-17T13:52:54.303422Z",
     "shell.execute_reply.started": "2025-06-17T13:52:54.224203Z"
    }
   },
   "outputs": [
    {
     "name": "stdout",
     "output_type": "stream",
     "text": [
      "<class 'pandas.core.frame.DataFrame'>\n",
      "Index: 528 entries, NCGC00261900-01 to NCGC00357144-01\n",
      "Columns: 802 entries, NR.Aromatase to rygr\n",
      "dtypes: float64(802)\n",
      "memory usage: 3.2+ MB\n",
      "None\n"
     ]
    }
   ],
   "source": [
    "# Create single target without NAs\n",
    "y_test_aromatase = y_test[[\"NR.Aromatase\"]].dropna()\n",
    "\n",
    "# Inner merge with features:\n",
    "test_aromatase = y_test_aromatase.merge(X_test, how=\"inner\", on=\"ID\")\n",
    "\n",
    "# Inspect\n",
    "print(test_aromatase.info())\n",
    "\n",
    "# Split again\n",
    "X_test_aromatase = test_aromatase.drop(columns=[\"NR.Aromatase\"])\n",
    "y_test_aromatase = test_aromatase[\"NR.Aromatase\"]"
   ]
  },
  {
   "cell_type": "markdown",
   "id": "e44f369b-553f-4249-b198-8ef9a09ba316",
   "metadata": {},
   "source": [
    "### 5. NR.ER"
   ]
  },
  {
   "cell_type": "code",
   "execution_count": 22,
   "id": "92486e27-44ca-4b87-a719-881f30a25617",
   "metadata": {
    "execution": {
     "iopub.execute_input": "2025-06-17T13:52:54.307613Z",
     "iopub.status.busy": "2025-06-17T13:52:54.307025Z",
     "iopub.status.idle": "2025-06-17T13:52:54.387329Z",
     "shell.execute_reply": "2025-06-17T13:52:54.385283Z",
     "shell.execute_reply.started": "2025-06-17T13:52:54.307558Z"
    }
   },
   "outputs": [
    {
     "name": "stdout",
     "output_type": "stream",
     "text": [
      "<class 'pandas.core.frame.DataFrame'>\n",
      "Index: 516 entries, NCGC00261900-01 to NCGC00357144-01\n",
      "Columns: 802 entries, NR.ER to rygr\n",
      "dtypes: float64(802)\n",
      "memory usage: 3.2+ MB\n",
      "None\n"
     ]
    }
   ],
   "source": [
    "# Create single target without NAs\n",
    "y_test_er = y_test[[\"NR.ER\"]].dropna()\n",
    "\n",
    "# Inner merge with features:\n",
    "test_er = y_test_er.merge(X_test, how=\"inner\", on=\"ID\")\n",
    "\n",
    "# Inspect\n",
    "print(test_er.info())\n",
    "\n",
    "# Split again\n",
    "X_test_er = test_er.drop(columns=[\"NR.ER\"])\n",
    "y_test_er = test_er[\"NR.ER\"]"
   ]
  },
  {
   "cell_type": "markdown",
   "id": "e6b9d5ea-228c-4c42-8653-4594b1ee9ad1",
   "metadata": {},
   "source": [
    "### 6. NR.ER.LBD"
   ]
  },
  {
   "cell_type": "code",
   "execution_count": 23,
   "id": "e35e44bc-a8dd-4dcc-9e38-fc8cd4aefc69",
   "metadata": {
    "execution": {
     "iopub.execute_input": "2025-06-17T13:52:54.392697Z",
     "iopub.status.busy": "2025-06-17T13:52:54.391528Z",
     "iopub.status.idle": "2025-06-17T13:52:54.605163Z",
     "shell.execute_reply": "2025-06-17T13:52:54.603593Z",
     "shell.execute_reply.started": "2025-06-17T13:52:54.392654Z"
    }
   },
   "outputs": [
    {
     "name": "stdout",
     "output_type": "stream",
     "text": [
      "<class 'pandas.core.frame.DataFrame'>\n",
      "Index: 600 entries, NCGC00261900-01 to NCGC00357118-01\n",
      "Columns: 802 entries, NR.ER.LBD to rygr\n",
      "dtypes: float64(802)\n",
      "memory usage: 3.7+ MB\n",
      "None\n"
     ]
    }
   ],
   "source": [
    "# Create single target without NAs\n",
    "y_test_er_lbd = y_test[[\"NR.ER.LBD\"]].dropna()\n",
    "\n",
    "# Inner merge with features:\n",
    "test_er_lbd = y_test_er_lbd.merge(X_test, how=\"inner\", on=\"ID\")\n",
    "\n",
    "# Inspect\n",
    "print(test_er_lbd.info())\n",
    "\n",
    "# Split again\n",
    "X_test_er_lbd = test_er_lbd.drop(columns=[\"NR.ER.LBD\"])\n",
    "y_test_er_lbd = test_er_lbd[\"NR.ER.LBD\"]"
   ]
  },
  {
   "cell_type": "markdown",
   "id": "47821929-6edd-4ea0-8be7-544d7797e9d4",
   "metadata": {},
   "source": [
    "### 7. NR.PPAR.gamma"
   ]
  },
  {
   "cell_type": "code",
   "execution_count": 24,
   "id": "4d37d3e6-6f84-4566-acbd-d4380b4164cf",
   "metadata": {
    "execution": {
     "iopub.execute_input": "2025-06-17T13:52:54.609728Z",
     "iopub.status.busy": "2025-06-17T13:52:54.607236Z",
     "iopub.status.idle": "2025-06-17T13:52:54.694893Z",
     "shell.execute_reply": "2025-06-17T13:52:54.692541Z",
     "shell.execute_reply.started": "2025-06-17T13:52:54.609668Z"
    }
   },
   "outputs": [
    {
     "name": "stdout",
     "output_type": "stream",
     "text": [
      "<class 'pandas.core.frame.DataFrame'>\n",
      "Index: 605 entries, NCGC00261900-01 to NCGC00357144-01\n",
      "Columns: 802 entries, NR.PPAR.gamma to rygr\n",
      "dtypes: float64(802)\n",
      "memory usage: 3.7+ MB\n",
      "None\n"
     ]
    }
   ],
   "source": [
    "# Create single target without NAs\n",
    "y_test_ppar_gamma = y_test[[\"NR.PPAR.gamma\"]].dropna()\n",
    "\n",
    "# Inner merge with features:\n",
    "test_ppar_gamma = y_test_ppar_gamma.merge(X_test, how=\"inner\", on=\"ID\")\n",
    "\n",
    "# Inspect\n",
    "print(test_ppar_gamma.info())\n",
    "\n",
    "# Split again\n",
    "X_test_ppar_gamma = test_ppar_gamma.drop(columns=[\"NR.PPAR.gamma\"])\n",
    "y_test_ppar_gamma = test_ppar_gamma[\"NR.PPAR.gamma\"]"
   ]
  },
  {
   "cell_type": "markdown",
   "id": "1d6f2f18-6e83-4405-8513-5357501e562c",
   "metadata": {},
   "source": [
    "### 8. SR.ARE"
   ]
  },
  {
   "cell_type": "code",
   "execution_count": 25,
   "id": "394a3ad1-5c64-4ead-8a6b-e91aea4cb409",
   "metadata": {
    "execution": {
     "iopub.execute_input": "2025-06-17T13:52:54.697934Z",
     "iopub.status.busy": "2025-06-17T13:52:54.697001Z",
     "iopub.status.idle": "2025-06-17T13:52:54.876069Z",
     "shell.execute_reply": "2025-06-17T13:52:54.868352Z",
     "shell.execute_reply.started": "2025-06-17T13:52:54.697857Z"
    }
   },
   "outputs": [
    {
     "name": "stdout",
     "output_type": "stream",
     "text": [
      "<class 'pandas.core.frame.DataFrame'>\n",
      "Index: 555 entries, NCGC00260869-01 to NCGC00357144-01\n",
      "Columns: 802 entries, SR.ARE to rygr\n",
      "dtypes: float64(802)\n",
      "memory usage: 3.4+ MB\n",
      "None\n"
     ]
    }
   ],
   "source": [
    "# Create single target without NAs\n",
    "y_test_are = y_test[[\"SR.ARE\"]].dropna()\n",
    "\n",
    "# Inner merge with features:\n",
    "test_are = y_test_are.merge(X_test, how=\"inner\", on=\"ID\")\n",
    "\n",
    "# Inspect\n",
    "print(test_are.info())\n",
    "\n",
    "# Split again\n",
    "X_test_are = test_are.drop(columns=[\"SR.ARE\"])\n",
    "y_test_are = test_are[\"SR.ARE\"]"
   ]
  },
  {
   "cell_type": "markdown",
   "id": "b3b607ce-0e99-4d6a-a742-5150edd0edc2",
   "metadata": {},
   "source": [
    "### 9. SR.ATAD5"
   ]
  },
  {
   "cell_type": "code",
   "execution_count": 26,
   "id": "dd0976e4-b99d-4a3b-b1e6-b2b97ae8980d",
   "metadata": {
    "execution": {
     "iopub.execute_input": "2025-06-17T13:52:54.880108Z",
     "iopub.status.busy": "2025-06-17T13:52:54.878814Z",
     "iopub.status.idle": "2025-06-17T13:52:55.025973Z",
     "shell.execute_reply": "2025-06-17T13:52:55.024384Z",
     "shell.execute_reply.started": "2025-06-17T13:52:54.880015Z"
    }
   },
   "outputs": [
    {
     "name": "stdout",
     "output_type": "stream",
     "text": [
      "<class 'pandas.core.frame.DataFrame'>\n",
      "Index: 622 entries, NCGC00261900-01 to NCGC00357118-01\n",
      "Columns: 802 entries, SR.ATAD5 to rygr\n",
      "dtypes: float64(802)\n",
      "memory usage: 3.8+ MB\n",
      "None\n"
     ]
    }
   ],
   "source": [
    "# Create single target without NAs\n",
    "y_test_atad5 = y_test[[\"SR.ATAD5\"]].dropna()\n",
    "\n",
    "# Inner merge with features:\n",
    "test_atad5 = y_test_atad5.merge(X_test, how=\"inner\", on=\"ID\")\n",
    "\n",
    "# Inspect\n",
    "print(test_atad5.info())\n",
    "\n",
    "# Split again\n",
    "X_test_atad5 = test_atad5.drop(columns=[\"SR.ATAD5\"])\n",
    "y_test_atad5 = test_atad5[\"SR.ATAD5\"]"
   ]
  },
  {
   "cell_type": "markdown",
   "id": "7935722b-f22e-40f5-b7dd-8ee7976fd437",
   "metadata": {},
   "source": [
    "### 10. SR.HSE"
   ]
  },
  {
   "cell_type": "code",
   "execution_count": 27,
   "id": "3207e344-2da1-4063-b80e-8f3648e28420",
   "metadata": {
    "execution": {
     "iopub.execute_input": "2025-06-17T13:52:55.030027Z",
     "iopub.status.busy": "2025-06-17T13:52:55.028955Z",
     "iopub.status.idle": "2025-06-17T13:52:55.123123Z",
     "shell.execute_reply": "2025-06-17T13:52:55.121219Z",
     "shell.execute_reply.started": "2025-06-17T13:52:55.029987Z"
    }
   },
   "outputs": [
    {
     "name": "stdout",
     "output_type": "stream",
     "text": [
      "<class 'pandas.core.frame.DataFrame'>\n",
      "Index: 610 entries, NCGC00261900-01 to NCGC00357144-01\n",
      "Columns: 802 entries, SR.HSE to rygr\n",
      "dtypes: float64(802)\n",
      "memory usage: 3.7+ MB\n",
      "None\n"
     ]
    }
   ],
   "source": [
    "# Create single target without NAs\n",
    "y_test_hse = y_test[[\"SR.HSE\"]].dropna()\n",
    "\n",
    "# Inner merge with features:\n",
    "test_hse = y_test_hse.merge(X_test, how=\"inner\", on=\"ID\")\n",
    "\n",
    "# Inspect\n",
    "print(test_hse.info())\n",
    "\n",
    "# Split again\n",
    "X_test_hse = test_hse.drop(columns=[\"SR.HSE\"])\n",
    "y_test_hse = test_hse[\"SR.HSE\"]"
   ]
  },
  {
   "cell_type": "markdown",
   "id": "5282dab7-d07b-44cd-a1ea-107e8f27bf5b",
   "metadata": {},
   "source": [
    "### 11. SR.MMP"
   ]
  },
  {
   "cell_type": "code",
   "execution_count": 28,
   "id": "66c05ba2-5989-4f50-853e-b670b684c7c2",
   "metadata": {
    "execution": {
     "iopub.execute_input": "2025-06-17T13:52:55.127222Z",
     "iopub.status.busy": "2025-06-17T13:52:55.126189Z",
     "iopub.status.idle": "2025-06-17T13:52:55.226313Z",
     "shell.execute_reply": "2025-06-17T13:52:55.223781Z",
     "shell.execute_reply.started": "2025-06-17T13:52:55.127169Z"
    }
   },
   "outputs": [
    {
     "name": "stdout",
     "output_type": "stream",
     "text": [
      "<class 'pandas.core.frame.DataFrame'>\n",
      "Index: 543 entries, NCGC00260869-01 to NCGC00357144-01\n",
      "Columns: 802 entries, SR.MMP to rygr\n",
      "dtypes: float64(802)\n",
      "memory usage: 3.3+ MB\n",
      "None\n"
     ]
    }
   ],
   "source": [
    "# Create single target without NAs\n",
    "y_test_mmp = y_test[[\"SR.MMP\"]].dropna()\n",
    "\n",
    "# Inner merge with features:\n",
    "test_mmp = y_test_mmp.merge(X_test, how=\"inner\", on=\"ID\")\n",
    "\n",
    "# Inspect\n",
    "print(test_mmp.info())\n",
    "\n",
    "# Split again\n",
    "X_test_mmp = test_mmp.drop(columns=[\"SR.MMP\"])\n",
    "y_test_mmp = test_mmp[\"SR.MMP\"]"
   ]
  },
  {
   "cell_type": "markdown",
   "id": "6f085461-a763-4104-99ba-75dfee882dc9",
   "metadata": {},
   "source": [
    "### 12. SR.p53"
   ]
  },
  {
   "cell_type": "code",
   "execution_count": 29,
   "id": "ec673ec3-29f5-4115-82d8-2a5d262539cb",
   "metadata": {
    "execution": {
     "iopub.execute_input": "2025-06-17T13:52:55.229140Z",
     "iopub.status.busy": "2025-06-17T13:52:55.228482Z",
     "iopub.status.idle": "2025-06-17T13:52:55.374770Z",
     "shell.execute_reply": "2025-06-17T13:52:55.372773Z",
     "shell.execute_reply.started": "2025-06-17T13:52:55.229105Z"
    }
   },
   "outputs": [
    {
     "name": "stdout",
     "output_type": "stream",
     "text": [
      "<class 'pandas.core.frame.DataFrame'>\n",
      "Index: 616 entries, NCGC00261900-01 to NCGC00357144-01\n",
      "Columns: 802 entries, SR.p53 to rygr\n",
      "dtypes: float64(802)\n",
      "memory usage: 3.8+ MB\n",
      "None\n"
     ]
    }
   ],
   "source": [
    "# Create single target without NAs\n",
    "y_test_p53 = y_test[[\"SR.p53\"]].dropna()\n",
    "\n",
    "# Inner merge with features:\n",
    "test_p53 = y_test_p53.merge(X_test, how=\"inner\", on=\"ID\")\n",
    "\n",
    "# Inspect\n",
    "print(test_p53.info())\n",
    "\n",
    "# Split again\n",
    "X_test_p53 = test_p53.drop(columns=[\"SR.p53\"])\n",
    "y_test_p53 = test_p53[\"SR.p53\"]"
   ]
  },
  {
   "cell_type": "markdown",
   "id": "7002d82a-fb50-4746-8b81-eb174297845c",
   "metadata": {},
   "source": [
    "# Gradient Boost"
   ]
  },
  {
   "cell_type": "markdown",
   "id": "86d47eca-edb5-456e-a3b5-1d1ef8ff25cb",
   "metadata": {},
   "source": [
    "## 0. Hyperparameters, Definition & Instantiation, Cross Validation Function"
   ]
  },
  {
   "cell_type": "code",
   "execution_count": 38,
   "id": "e8e778e5-9569-4d46-b129-6ebeb5a3ae46",
   "metadata": {
    "execution": {
     "iopub.execute_input": "2025-06-17T14:07:31.700507Z",
     "iopub.status.busy": "2025-06-17T14:07:31.699766Z",
     "iopub.status.idle": "2025-06-17T14:07:31.713408Z",
     "shell.execute_reply": "2025-06-17T14:07:31.711655Z",
     "shell.execute_reply.started": "2025-06-17T14:07:31.700450Z"
    }
   },
   "outputs": [],
   "source": [
    "# Hyperparameters\n",
    "n_estimators = 300\n",
    "learning_rate= 0.1\n",
    "max_depth = 4\n",
    "\n",
    "# Paths\n",
    "path_model_GBC = \"../models\""
   ]
  },
  {
   "cell_type": "code",
   "execution_count": 31,
   "id": "d8ac0fbc-393d-48c1-832a-a2dd0e430b87",
   "metadata": {
    "execution": {
     "iopub.execute_input": "2025-06-17T13:52:55.491347Z",
     "iopub.status.busy": "2025-06-17T13:52:55.489982Z",
     "iopub.status.idle": "2025-06-17T13:52:55.657481Z",
     "shell.execute_reply": "2025-06-17T13:52:55.655864Z",
     "shell.execute_reply.started": "2025-06-17T13:52:55.491233Z"
    }
   },
   "outputs": [],
   "source": [
    "# Definition and Instantiation\n",
    "# Instantiate\n",
    "model_GBC = GradientBoostingClassifier(\n",
    "    n_estimators=n_estimators, \n",
    "    learning_rate=learning_rate,\n",
    "    max_depth=max_depth\n",
    "    )"
   ]
  },
  {
   "cell_type": "code",
   "execution_count": null,
   "id": "1e461ada-01e9-4ccb-a49e-02a9582f5e3f",
   "metadata": {},
   "outputs": [],
   "source": [
    "def cross_validate_classifier(model, X_test, y_test, cv=5) -> dict:\n",
    "    \"\"\"\n",
    "    This function calls \"sklearn.model_selection.cross_validate\" with\n",
    "    standard one-number metrics for a classifier and returns a dictionary\n",
    "    with the validation results.\n",
    "    \"\"\"\n",
    "    "
   ]
  },
  {
   "cell_type": "raw",
   "id": "c9c8885f-1099-422d-96a4-109223cca6ad",
   "metadata": {
    "execution": {
     "iopub.execute_input": "2025-06-17T13:52:55.658828Z",
     "iopub.status.busy": "2025-06-17T13:52:55.658537Z",
     "iopub.status.idle": "2025-06-17T13:52:56.663341Z",
     "shell.execute_reply": "2025-06-17T13:52:56.659911Z",
     "shell.execute_reply.started": "2025-06-17T13:52:55.658803Z"
    }
   },
   "source": [
    "# TODO: out of this a function\n",
    "# Cross-validation\n",
    "model_logit_are_cv = cross_validate(model_logit_are, X=X_train_are, y=y_train_are, cv=5, \n",
    "                                scoring=[\"accuracy\",\n",
    "                                         \"recall\", \n",
    "                                         \"precision\",\n",
    "                                         \"f1\"\n",
    "                                        ]\n",
    "                               )\n",
    "\n",
    "# Cast validation metrics into dictionary\n",
    "model_logit_are_metrics = pd.DataFrame((list(model_logit_are_cv.values()))[2:]).mean(axis=1)\n",
    "keys = [\"accuracy\", \"recall\", \"precision\", \"f1\"]\n",
    "model_logit_are_metrics = dict(zip(keys, list(model_logit_are_metrics)))\n",
    "model_logit_are_metrics"
   ]
  },
  {
   "cell_type": "markdown",
   "id": "728f95a8-da71-440a-a068-1dba7b1ec3b9",
   "metadata": {
    "execution": {
     "iopub.execute_input": "2025-06-17T13:36:00.683554Z",
     "iopub.status.busy": "2025-06-17T13:36:00.680099Z",
     "iopub.status.idle": "2025-06-17T13:36:00.693883Z",
     "shell.execute_reply": "2025-06-17T13:36:00.691994Z",
     "shell.execute_reply.started": "2025-06-17T13:36:00.683477Z"
    }
   },
   "source": [
    "## 1. NR.AhR"
   ]
  },
  {
   "cell_type": "code",
   "execution_count": 34,
   "id": "f0a64128-cf10-4258-8126-af2e64d134a9",
   "metadata": {
    "execution": {
     "iopub.execute_input": "2025-06-17T13:53:31.701843Z",
     "iopub.status.busy": "2025-06-17T13:53:31.700026Z",
     "iopub.status.idle": "2025-06-17T14:04:20.445311Z",
     "shell.execute_reply": "2025-06-17T14:04:20.432639Z",
     "shell.execute_reply.started": "2025-06-17T13:53:31.701766Z"
    }
   },
   "outputs": [],
   "source": [
    "# Fit model\n",
    "model_GBC_ahr = model_GBC.fit(X_train_ahr, y_train_ahr)"
   ]
  },
  {
   "cell_type": "code",
   "execution_count": 39,
   "id": "3e246fee-8bf3-4115-a511-75c7a0fb0aac",
   "metadata": {
    "execution": {
     "iopub.execute_input": "2025-06-17T14:07:33.517891Z",
     "iopub.status.busy": "2025-06-17T14:07:33.517033Z",
     "iopub.status.idle": "2025-06-17T14:07:34.894265Z",
     "shell.execute_reply": "2025-06-17T14:07:34.892558Z",
     "shell.execute_reply.started": "2025-06-17T14:07:33.517844Z"
    }
   },
   "outputs": [],
   "source": [
    "# Save fitted model\n",
    "timestamp = time.strftime(\"%Y%m%d-%H%M%S\")\n",
    "\n",
    "path_model_GBC_ahr = f\"{path_model_GBC}/model_GBC_ahr-{timestamp}.pkl\"\n",
    "with open(path_model_GBC_ahr, \"wb\") as file:\n",
    "    pickle.dump(model_GBC_ahr, file)"
   ]
  },
  {
   "cell_type": "markdown",
   "id": "bf74ebd9-836e-40af-a8dd-06e7511d828f",
   "metadata": {
    "execution": {
     "iopub.execute_input": "2025-06-17T14:08:23.997795Z",
     "iopub.status.busy": "2025-06-17T14:08:23.995955Z",
     "iopub.status.idle": "2025-06-17T14:08:24.008319Z",
     "shell.execute_reply": "2025-06-17T14:08:24.005479Z",
     "shell.execute_reply.started": "2025-06-17T14:08:23.997737Z"
    }
   },
   "source": [
    "## 2. NR.AR"
   ]
  },
  {
   "cell_type": "code",
   "execution_count": 41,
   "id": "ba8fea6b-5e4a-4ec1-a2b6-951d9a1f4e30",
   "metadata": {
    "execution": {
     "iopub.execute_input": "2025-06-17T14:09:17.132596Z",
     "iopub.status.busy": "2025-06-17T14:09:17.130463Z",
     "iopub.status.idle": "2025-06-17T14:21:34.804127Z",
     "shell.execute_reply": "2025-06-17T14:21:34.789637Z",
     "shell.execute_reply.started": "2025-06-17T14:09:17.132516Z"
    }
   },
   "outputs": [],
   "source": [
    "# Fit model\n",
    "model_GBC_ar = model_GBC.fit(X_train_ar, y_train_ar)"
   ]
  },
  {
   "cell_type": "code",
   "execution_count": 44,
   "id": "2f0f81f9-1e63-40a7-a2ce-d88294e71b4e",
   "metadata": {
    "execution": {
     "iopub.execute_input": "2025-06-17T14:22:07.573657Z",
     "iopub.status.busy": "2025-06-17T14:22:07.572741Z",
     "iopub.status.idle": "2025-06-17T14:22:07.753440Z",
     "shell.execute_reply": "2025-06-17T14:22:07.752377Z",
     "shell.execute_reply.started": "2025-06-17T14:22:07.573609Z"
    }
   },
   "outputs": [],
   "source": [
    "# Save fitted model\n",
    "timestamp = time.strftime(\"%Y%m%d-%H%M%S\")\n",
    "\n",
    "path_model_GBC_ar = f\"{path_model_GBC}/model_GBC_ar-{timestamp}.pkl\"\n",
    "with open(path_model_GBC_ar, \"wb\") as file:\n",
    "    pickle.dump(model_GBC_ar, file)"
   ]
  },
  {
   "cell_type": "markdown",
   "id": "0c2d653e-2e65-4ad8-8ec3-e93ee3bb1d0e",
   "metadata": {},
   "source": [
    "## 3. NR.AR.LBD"
   ]
  },
  {
   "cell_type": "code",
   "execution_count": 45,
   "id": "24d5d11e-02e7-4ea2-81e4-ae47f34b07c4",
   "metadata": {
    "execution": {
     "iopub.execute_input": "2025-06-17T14:22:49.427669Z",
     "iopub.status.busy": "2025-06-17T14:22:49.426482Z",
     "iopub.status.idle": "2025-06-17T14:33:53.608458Z",
     "shell.execute_reply": "2025-06-17T14:33:53.598219Z",
     "shell.execute_reply.started": "2025-06-17T14:22:49.427619Z"
    }
   },
   "outputs": [],
   "source": [
    "# Fit model\n",
    "model_GBC_lbd = model_GBC.fit(X_train_lbd, y_train_lbd)"
   ]
  },
  {
   "cell_type": "code",
   "execution_count": 47,
   "id": "140e84a1-1d5c-47d2-89c0-915777ef541f",
   "metadata": {
    "execution": {
     "iopub.execute_input": "2025-06-17T14:34:08.480259Z",
     "iopub.status.busy": "2025-06-17T14:34:08.477214Z",
     "iopub.status.idle": "2025-06-17T14:34:08.574292Z",
     "shell.execute_reply": "2025-06-17T14:34:08.571729Z",
     "shell.execute_reply.started": "2025-06-17T14:34:08.480199Z"
    }
   },
   "outputs": [],
   "source": [
    "# Save fitted model\n",
    "timestamp = time.strftime(\"%Y%m%d-%H%M%S\")\n",
    "\n",
    "path_model_GBC_lbd = f\"{path_model_GBC}/model_GBC_lbd-{timestamp}.pkl\"\n",
    "with open(path_model_GBC_lbd, \"wb\") as file:\n",
    "    pickle.dump(model_GBC_lbd, file)"
   ]
  },
  {
   "cell_type": "markdown",
   "id": "07f37063-5e1a-4f9c-9572-3333572fe764",
   "metadata": {},
   "source": [
    "## 4. NR.Aromatase"
   ]
  },
  {
   "cell_type": "code",
   "execution_count": 48,
   "id": "377612d3-dd40-4191-ad4e-37ffba7d7a3d",
   "metadata": {
    "execution": {
     "iopub.execute_input": "2025-06-17T14:34:18.406946Z",
     "iopub.status.busy": "2025-06-17T14:34:18.405633Z",
     "iopub.status.idle": "2025-06-17T14:43:44.327321Z",
     "shell.execute_reply": "2025-06-17T14:43:44.314009Z",
     "shell.execute_reply.started": "2025-06-17T14:34:18.406875Z"
    }
   },
   "outputs": [],
   "source": [
    "# Fit model\n",
    "model_GBC_aromatase = model_GBC.fit(X_train_aromatase, y_train_aromatase)"
   ]
  },
  {
   "cell_type": "code",
   "execution_count": 49,
   "id": "ca494d7f-2aac-493c-b8e3-140e25bffccd",
   "metadata": {
    "execution": {
     "iopub.execute_input": "2025-06-17T14:46:34.768218Z",
     "iopub.status.busy": "2025-06-17T14:46:34.763401Z",
     "iopub.status.idle": "2025-06-17T14:46:34.867650Z",
     "shell.execute_reply": "2025-06-17T14:46:34.865407Z",
     "shell.execute_reply.started": "2025-06-17T14:46:34.767870Z"
    }
   },
   "outputs": [],
   "source": [
    "# Save fitted model\n",
    "timestamp = time.strftime(\"%Y%m%d-%H%M%S\")\n",
    "\n",
    "path_model_GBC_aromatase = f\"{path_model_GBC}/model_GBC_aromatase-{timestamp}.pkl\"\n",
    "with open(path_model_GBC_aromatase, \"wb\") as file:\n",
    "    pickle.dump(model_GBC_aromatase, file)"
   ]
  },
  {
   "cell_type": "markdown",
   "id": "54618820-0833-4a17-9d5f-116e08debba4",
   "metadata": {},
   "source": [
    "## 5. NR.ER"
   ]
  },
  {
   "cell_type": "code",
   "execution_count": 50,
   "id": "adc2fab6-3e05-49bd-ab89-4ef82a31e8f3",
   "metadata": {
    "execution": {
     "iopub.execute_input": "2025-06-17T14:46:39.369009Z",
     "iopub.status.busy": "2025-06-17T14:46:39.366677Z",
     "iopub.status.idle": "2025-06-17T14:56:54.129992Z",
     "shell.execute_reply": "2025-06-17T14:56:54.116726Z",
     "shell.execute_reply.started": "2025-06-17T14:46:39.368918Z"
    }
   },
   "outputs": [],
   "source": [
    "# Fit model\n",
    "model_GBC_er = model_GBC.fit(X_train_er, y_train_er)"
   ]
  },
  {
   "cell_type": "code",
   "execution_count": 51,
   "id": "34b6cc56-9a71-40fa-9063-3f7e0a3a61b6",
   "metadata": {
    "execution": {
     "iopub.execute_input": "2025-06-17T14:57:25.350600Z",
     "iopub.status.busy": "2025-06-17T14:57:25.344006Z",
     "iopub.status.idle": "2025-06-17T14:57:25.450772Z",
     "shell.execute_reply": "2025-06-17T14:57:25.449569Z",
     "shell.execute_reply.started": "2025-06-17T14:57:25.350363Z"
    }
   },
   "outputs": [],
   "source": [
    "# Save fitted model\n",
    "timestamp = time.strftime(\"%Y%m%d-%H%M%S\")\n",
    "\n",
    "path_model_GBC_er = f\"{path_model_GBC}/model_GBC_er-{timestamp}.pkl\"\n",
    "with open(path_model_GBC_er, \"wb\") as file:\n",
    "    pickle.dump(model_GBC_er, file)"
   ]
  },
  {
   "cell_type": "markdown",
   "id": "508d506e-59e8-4b48-94c7-c76bd003d226",
   "metadata": {},
   "source": [
    "## 6. NR.ER.LBD"
   ]
  },
  {
   "cell_type": "code",
   "execution_count": 52,
   "id": "00166f32-4211-4e7c-9a30-4253bd0109a9",
   "metadata": {
    "execution": {
     "iopub.execute_input": "2025-06-17T14:58:47.349816Z",
     "iopub.status.busy": "2025-06-17T14:58:47.347319Z",
     "iopub.status.idle": "2025-06-17T15:14:04.650021Z",
     "shell.execute_reply": "2025-06-17T15:14:04.570376Z",
     "shell.execute_reply.started": "2025-06-17T14:58:47.349728Z"
    }
   },
   "outputs": [],
   "source": [
    "# Fit model\n",
    "model_GBC_er_lbd = model_GBC.fit(X_train_er_lbd, y_train_er_lbd)"
   ]
  },
  {
   "cell_type": "code",
   "execution_count": null,
   "id": "43a36114-4e38-4338-b39c-9bfa8353ea2e",
   "metadata": {},
   "outputs": [],
   "source": [
    "# Save fitted model\n",
    "timestamp = time.strftime(\"%Y%m%d-%H%M%S\")\n",
    "\n",
    "path_model_GBC_er_lbd = f\"{path_model_GBC}/model_GBC_er_lbd-{timestamp}.pkl\"\n",
    "with open(path_model_GBC_er_lbd, \"wb\") as file:\n",
    "    pickle.dump(model_GBC_er_lbd, file)"
   ]
  },
  {
   "cell_type": "markdown",
   "id": "0b75cd32-1dbd-418d-9672-c67ec56a0253",
   "metadata": {},
   "source": [
    "## 7. NR.PPAR.gamma"
   ]
  },
  {
   "cell_type": "code",
   "execution_count": null,
   "id": "4de863f0-bb02-436d-913d-6de67f07e0cc",
   "metadata": {},
   "outputs": [],
   "source": [
    "# Fit model\n",
    "model_GBC_ppar_gamma = model_GBC.fit(X_train_ppar_gamma, y_train_ppar_gamma)"
   ]
  },
  {
   "cell_type": "code",
   "execution_count": null,
   "id": "ede2af0f-d417-4151-9ee0-b5488fce2432",
   "metadata": {},
   "outputs": [],
   "source": [
    "# Save fitted model\n",
    "timestamp = time.strftime(\"%Y%m%d-%H%M%S\")\n",
    "\n",
    "path_model_GBC_ppar_gamma = f\"{path_model_GBC}/model_GBC_ppar_gamma-{timestamp}.pkl\"\n",
    "with open(path_model_GBC_ppar_gamma, \"wb\") as file:\n",
    "    pickle.dump(model_GBC_ppar_gamma, file)"
   ]
  },
  {
   "cell_type": "markdown",
   "id": "43e0d73f-9ddd-4e51-9612-05abeb01411d",
   "metadata": {},
   "source": [
    "## 8. SR.ARE"
   ]
  },
  {
   "cell_type": "code",
   "execution_count": null,
   "id": "73a62675-4c0e-4c3e-a005-a8055cc7f8a7",
   "metadata": {},
   "outputs": [],
   "source": [
    "# Fit model\n",
    "model_GBC_are = model_GBC.fit(X_train_are, y_train_are)"
   ]
  },
  {
   "cell_type": "code",
   "execution_count": null,
   "id": "d49e9b11-5303-4087-92fe-4ee525173aa9",
   "metadata": {},
   "outputs": [],
   "source": [
    "# Save fitted model\n",
    "timestamp = time.strftime(\"%Y%m%d-%H%M%S\")\n",
    "\n",
    "path_model_GBC_are = f\"{path_model_GBC}/model_GBC_are-{timestamp}.pkl\"\n",
    "with open(path_model_GBC_are, \"wb\") as file:\n",
    "    pickle.dump(model_GBC_are, file)"
   ]
  },
  {
   "cell_type": "markdown",
   "id": "35cae9c6-34b6-485c-8d68-6dcb0c915ee2",
   "metadata": {},
   "source": [
    "## 9. SR.ATAD5"
   ]
  },
  {
   "cell_type": "code",
   "execution_count": null,
   "id": "417ebce9-0d8a-4ad9-8b1f-c49fb3ca66ab",
   "metadata": {},
   "outputs": [],
   "source": [
    "# Fit model\n",
    "model_GBC_atad5 = model_GBC.fit(X_train_atad5, y_train_atad5)"
   ]
  },
  {
   "cell_type": "code",
   "execution_count": null,
   "id": "1b02b205-efc0-4c2c-aaff-91c50ee8d339",
   "metadata": {},
   "outputs": [],
   "source": [
    "# Save fitted model\n",
    "timestamp = time.strftime(\"%Y%m%d-%H%M%S\")\n",
    "\n",
    "path_model_GBC_atad5 = f\"{path_model_GBC}/model_GBC_atad5-{timestamp}.pkl\"\n",
    "with open(path_model_GBC_atad5, \"wb\") as file:\n",
    "    pickle.dump(model_GBC_atad5, file)"
   ]
  },
  {
   "cell_type": "markdown",
   "id": "f2dd7802-b32b-427a-a81e-2107aed788ee",
   "metadata": {},
   "source": [
    "## 10. SR.HSE"
   ]
  },
  {
   "cell_type": "code",
   "execution_count": null,
   "id": "6e14bc94-344c-4bd9-84bc-8868c3565799",
   "metadata": {},
   "outputs": [],
   "source": [
    "# Fit model\n",
    "model_GBC_hse = model_GBC.fit(X_train_hse, y_train_hse)"
   ]
  },
  {
   "cell_type": "code",
   "execution_count": null,
   "id": "5c4f4c61-f03b-41c1-b287-2cc84b71437f",
   "metadata": {},
   "outputs": [],
   "source": [
    "# Save fitted model\n",
    "timestamp = time.strftime(\"%Y%m%d-%H%M%S\")\n",
    "\n",
    "path_model_GBC_hse = f\"{path_model_GBC}/model_GBC_hse-{timestamp}.pkl\"\n",
    "with open(path_model_GBC_hse, \"wb\") as file:\n",
    "    pickle.dump(model_GBC_hse, file)"
   ]
  },
  {
   "cell_type": "markdown",
   "id": "4e0382f0-f463-42f1-9c8a-464d90ec77c0",
   "metadata": {},
   "source": [
    "## 11. SR.MMP"
   ]
  },
  {
   "cell_type": "code",
   "execution_count": null,
   "id": "f2ff9887-648d-4aa6-b5e9-d745ab260c73",
   "metadata": {},
   "outputs": [],
   "source": [
    "# Fit model\n",
    "model_GBC_mmp = model_GBC.fit(X_train_mmp, y_train_mmp)"
   ]
  },
  {
   "cell_type": "code",
   "execution_count": null,
   "id": "00c1efac-0b4a-4efa-9c5d-acda097f0598",
   "metadata": {},
   "outputs": [],
   "source": [
    "# Save fitted model\n",
    "timestamp = time.strftime(\"%Y%m%d-%H%M%S\")\n",
    "\n",
    "path_model_GBC_mmp = f\"{path_model_GBC}/model_GBC_mmp-{timestamp}.pkl\"\n",
    "with open(path_model_GBC_mmp, \"wb\") as file:\n",
    "    pickle.dump(model_GBC_mmp, file)"
   ]
  },
  {
   "cell_type": "markdown",
   "id": "942d21c6-153f-4fa5-9d1c-c8cc2f827d32",
   "metadata": {},
   "source": [
    "## 12. SR.p53"
   ]
  },
  {
   "cell_type": "code",
   "execution_count": null,
   "id": "cbd416ca-adcb-4e08-85ac-c25570aabb10",
   "metadata": {},
   "outputs": [],
   "source": [
    "# Fit model\n",
    "model_GBC_p53 = model_GBC.fit(X_train_p53, y_train_p53)"
   ]
  },
  {
   "cell_type": "code",
   "execution_count": null,
   "id": "bb517ce6-8551-44ee-995f-16cb31b505da",
   "metadata": {},
   "outputs": [],
   "source": [
    "# Save fitted model\n",
    "timestamp = time.strftime(\"%Y%m%d-%H%M%S\")\n",
    "\n",
    "path_model_GBC_p53 = f\"{path_model_GBC}/model_GBC_p53-{timestamp}.pkl\"\n",
    "with open(path_model_GBC_p53, \"wb\") as file:\n",
    "    pickle.dump(model_GBC_p53, file)"
   ]
  }
 ],
 "metadata": {
  "kernelspec": {
   "display_name": "Python 3 (ipykernel)",
   "language": "python",
   "name": "python3"
  },
  "language_info": {
   "codemirror_mode": {
    "name": "ipython",
    "version": 3
   },
   "file_extension": ".py",
   "mimetype": "text/x-python",
   "name": "python",
   "nbconvert_exporter": "python",
   "pygments_lexer": "ipython3",
   "version": "3.12.9"
  }
 },
 "nbformat": 4,
 "nbformat_minor": 5
}
