{
 "cells": [
  {
   "cell_type": "markdown",
   "id": "9fa9bd65-fc44-4231-8711-b4cb174a3e3e",
   "metadata": {},
   "source": [
    "# Toxikind: Models"
   ]
  },
  {
   "cell_type": "code",
   "execution_count": 1,
   "id": "f86f4291-1bb3-4314-828a-54924a4bc1bd",
   "metadata": {
    "execution": {
     "iopub.execute_input": "2025-06-17T13:28:43.088661Z",
     "iopub.status.busy": "2025-06-17T13:28:43.087648Z",
     "iopub.status.idle": "2025-06-17T13:28:48.224612Z",
     "shell.execute_reply": "2025-06-17T13:28:48.223034Z",
     "shell.execute_reply.started": "2025-06-17T13:28:43.088630Z"
    }
   },
   "outputs": [],
   "source": [
    "# OS I/O\n",
    "import os\n",
    "import pickle\n",
    "\n",
    "# Data handling\n",
    "import numpy as np\n",
    "import pandas as pd\n",
    "from sklearn.pipeline import Pipeline\n",
    "from sklearn.preprocessing import MinMaxScaler, StandardScaler\n",
    "from sklearn.compose import ColumnTransformer\n",
    "\n",
    "# Modeling\n",
    "from sklearn.model_selection import cross_validate, cross_val_predict, GridSearchCV\n",
    "from sklearn.metrics import f1_score, precision_recall_curve, classification_report, ConfusionMatrixDisplay\n",
    "from sklearn.tree import DecisionTreeClassifier\n",
    "from sklearn.ensemble import RandomForestClassifier\n",
    "from sklearn.ensemble import GradientBoostingClassifier\n",
    "\n",
    "# Plotting\n",
    "%matplotlib inline\n",
    "import matplotlib.pyplot as plt\n",
    "import seaborn as sns"
   ]
  },
  {
   "cell_type": "markdown",
   "id": "8209b3d8-b072-439f-bbc6-655f97ab45de",
   "metadata": {
    "execution": {
     "iopub.execute_input": "2025-06-09T14:45:59.895942Z",
     "iopub.status.busy": "2025-06-09T14:45:59.891764Z",
     "iopub.status.idle": "2025-06-09T14:45:59.917825Z",
     "shell.execute_reply": "2025-06-09T14:45:59.912899Z",
     "shell.execute_reply.started": "2025-06-09T14:45:59.895887Z"
    }
   },
   "source": [
    "# Training Data"
   ]
  },
  {
   "cell_type": "markdown",
   "id": "167bf06a-71b4-4162-8913-456929ce28c0",
   "metadata": {},
   "source": [
    "## Full Data"
   ]
  },
  {
   "cell_type": "markdown",
   "id": "9e5e40ca-8424-4f9a-9489-52ce0e0abc8c",
   "metadata": {},
   "source": [
    "**Load features:**"
   ]
  },
  {
   "cell_type": "code",
   "execution_count": 47,
   "id": "97da19ce-864a-4628-b5e4-785c5c8a3625",
   "metadata": {
    "execution": {
     "iopub.execute_input": "2025-06-17T13:32:58.232530Z",
     "iopub.status.busy": "2025-06-17T13:32:58.230917Z",
     "iopub.status.idle": "2025-06-17T13:33:11.185650Z",
     "shell.execute_reply": "2025-06-17T13:33:11.178352Z",
     "shell.execute_reply.started": "2025-06-17T13:32:58.232484Z"
    }
   },
   "outputs": [
    {
     "data": {
      "text/html": [
       "<div>\n",
       "<style scoped>\n",
       "    .dataframe tbody tr th:only-of-type {\n",
       "        vertical-align: middle;\n",
       "    }\n",
       "\n",
       "    .dataframe tbody tr th {\n",
       "        vertical-align: top;\n",
       "    }\n",
       "\n",
       "    .dataframe thead th {\n",
       "        text-align: right;\n",
       "    }\n",
       "</style>\n",
       "<table border=\"1\" class=\"dataframe\">\n",
       "  <thead>\n",
       "    <tr style=\"text-align: right;\">\n",
       "      <th></th>\n",
       "      <th>AW</th>\n",
       "      <th>AWeight</th>\n",
       "      <th>Arto</th>\n",
       "      <th>BertzCT</th>\n",
       "      <th>Chi0</th>\n",
       "      <th>Chi1</th>\n",
       "      <th>Chi10</th>\n",
       "      <th>Chi2</th>\n",
       "      <th>Chi3</th>\n",
       "      <th>Chi3c</th>\n",
       "      <th>...</th>\n",
       "      <th>W3D</th>\n",
       "      <th>W3DH</th>\n",
       "      <th>WNSA1</th>\n",
       "      <th>WNSA2</th>\n",
       "      <th>WNSA3</th>\n",
       "      <th>WPSA1</th>\n",
       "      <th>WPSA2</th>\n",
       "      <th>WPSA3</th>\n",
       "      <th>grav</th>\n",
       "      <th>rygr</th>\n",
       "    </tr>\n",
       "    <tr>\n",
       "      <th>ID</th>\n",
       "      <th></th>\n",
       "      <th></th>\n",
       "      <th></th>\n",
       "      <th></th>\n",
       "      <th></th>\n",
       "      <th></th>\n",
       "      <th></th>\n",
       "      <th></th>\n",
       "      <th></th>\n",
       "      <th></th>\n",
       "      <th></th>\n",
       "      <th></th>\n",
       "      <th></th>\n",
       "      <th></th>\n",
       "      <th></th>\n",
       "      <th></th>\n",
       "      <th></th>\n",
       "      <th></th>\n",
       "      <th></th>\n",
       "      <th></th>\n",
       "      <th></th>\n",
       "    </tr>\n",
       "  </thead>\n",
       "  <tbody>\n",
       "    <tr>\n",
       "      <th>NCGC00178831-03</th>\n",
       "      <td>5.436720e-01</td>\n",
       "      <td>0.012041</td>\n",
       "      <td>0.815898</td>\n",
       "      <td>0.832518</td>\n",
       "      <td>0.244068</td>\n",
       "      <td>0.251849</td>\n",
       "      <td>0.122744</td>\n",
       "      <td>0.255645</td>\n",
       "      <td>0.247884</td>\n",
       "      <td>0.131926</td>\n",
       "      <td>...</td>\n",
       "      <td>0.028705</td>\n",
       "      <td>0.025992</td>\n",
       "      <td>0.084419</td>\n",
       "      <td>0.992430</td>\n",
       "      <td>0.967627</td>\n",
       "      <td>0.086494</td>\n",
       "      <td>0.022640</td>\n",
       "      <td>0.042745</td>\n",
       "      <td>0.000218</td>\n",
       "      <td>0.231025</td>\n",
       "    </tr>\n",
       "    <tr>\n",
       "      <th>NCGC00166114-03</th>\n",
       "      <td>1.268818e-01</td>\n",
       "      <td>0.076781</td>\n",
       "      <td>0.774278</td>\n",
       "      <td>0.816115</td>\n",
       "      <td>0.222113</td>\n",
       "      <td>0.217725</td>\n",
       "      <td>0.158927</td>\n",
       "      <td>0.222859</td>\n",
       "      <td>0.235265</td>\n",
       "      <td>0.126033</td>\n",
       "      <td>...</td>\n",
       "      <td>0.023329</td>\n",
       "      <td>0.009094</td>\n",
       "      <td>0.142494</td>\n",
       "      <td>0.991487</td>\n",
       "      <td>0.972305</td>\n",
       "      <td>0.070178</td>\n",
       "      <td>0.012238</td>\n",
       "      <td>0.059568</td>\n",
       "      <td>0.000336</td>\n",
       "      <td>0.258584</td>\n",
       "    </tr>\n",
       "    <tr>\n",
       "      <th>NCGC00263563-01</th>\n",
       "      <td>3.076931e-02</td>\n",
       "      <td>0.012270</td>\n",
       "      <td>0.807649</td>\n",
       "      <td>0.836259</td>\n",
       "      <td>0.495232</td>\n",
       "      <td>0.475479</td>\n",
       "      <td>0.312274</td>\n",
       "      <td>0.508771</td>\n",
       "      <td>0.503347</td>\n",
       "      <td>0.393865</td>\n",
       "      <td>...</td>\n",
       "      <td>0.147491</td>\n",
       "      <td>0.215437</td>\n",
       "      <td>0.174151</td>\n",
       "      <td>0.963958</td>\n",
       "      <td>0.913740</td>\n",
       "      <td>0.259019</td>\n",
       "      <td>0.156472</td>\n",
       "      <td>0.097238</td>\n",
       "      <td>0.000542</td>\n",
       "      <td>0.320086</td>\n",
       "    </tr>\n",
       "    <tr>\n",
       "      <th>NCGC00013058-02</th>\n",
       "      <td>7.168569e-01</td>\n",
       "      <td>0.010464</td>\n",
       "      <td>0.760780</td>\n",
       "      <td>0.886043</td>\n",
       "      <td>0.539479</td>\n",
       "      <td>0.508602</td>\n",
       "      <td>0.148179</td>\n",
       "      <td>0.491618</td>\n",
       "      <td>0.425273</td>\n",
       "      <td>0.263047</td>\n",
       "      <td>...</td>\n",
       "      <td>0.147532</td>\n",
       "      <td>0.142056</td>\n",
       "      <td>0.165596</td>\n",
       "      <td>0.976968</td>\n",
       "      <td>0.949863</td>\n",
       "      <td>0.227592</td>\n",
       "      <td>0.092400</td>\n",
       "      <td>0.090178</td>\n",
       "      <td>0.000596</td>\n",
       "      <td>0.291745</td>\n",
       "    </tr>\n",
       "    <tr>\n",
       "      <th>NCGC00167516-01</th>\n",
       "      <td>7.989701e-02</td>\n",
       "      <td>0.011206</td>\n",
       "      <td>0.796400</td>\n",
       "      <td>0.941583</td>\n",
       "      <td>0.742331</td>\n",
       "      <td>0.736470</td>\n",
       "      <td>0.295701</td>\n",
       "      <td>0.712026</td>\n",
       "      <td>0.641167</td>\n",
       "      <td>0.352710</td>\n",
       "      <td>...</td>\n",
       "      <td>0.461955</td>\n",
       "      <td>0.460399</td>\n",
       "      <td>0.622595</td>\n",
       "      <td>0.825232</td>\n",
       "      <td>0.702753</td>\n",
       "      <td>0.536326</td>\n",
       "      <td>0.439447</td>\n",
       "      <td>0.260218</td>\n",
       "      <td>0.000796</td>\n",
       "      <td>0.500554</td>\n",
       "    </tr>\n",
       "    <tr>\n",
       "      <th>...</th>\n",
       "      <td>...</td>\n",
       "      <td>...</td>\n",
       "      <td>...</td>\n",
       "      <td>...</td>\n",
       "      <td>...</td>\n",
       "      <td>...</td>\n",
       "      <td>...</td>\n",
       "      <td>...</td>\n",
       "      <td>...</td>\n",
       "      <td>...</td>\n",
       "      <td>...</td>\n",
       "      <td>...</td>\n",
       "      <td>...</td>\n",
       "      <td>...</td>\n",
       "      <td>...</td>\n",
       "      <td>...</td>\n",
       "      <td>...</td>\n",
       "      <td>...</td>\n",
       "      <td>...</td>\n",
       "      <td>...</td>\n",
       "      <td>...</td>\n",
       "    </tr>\n",
       "    <tr>\n",
       "      <th>NCGC00261292-01</th>\n",
       "      <td>1.428572e-01</td>\n",
       "      <td>0.020621</td>\n",
       "      <td>0.749906</td>\n",
       "      <td>0.669640</td>\n",
       "      <td>0.097777</td>\n",
       "      <td>0.100133</td>\n",
       "      <td>0.012882</td>\n",
       "      <td>0.092409</td>\n",
       "      <td>0.088271</td>\n",
       "      <td>0.038183</td>\n",
       "      <td>...</td>\n",
       "      <td>0.003261</td>\n",
       "      <td>0.004034</td>\n",
       "      <td>0.055917</td>\n",
       "      <td>0.998427</td>\n",
       "      <td>0.988861</td>\n",
       "      <td>0.030003</td>\n",
       "      <td>0.002463</td>\n",
       "      <td>0.013849</td>\n",
       "      <td>0.000069</td>\n",
       "      <td>0.157600</td>\n",
       "    </tr>\n",
       "    <tr>\n",
       "      <th>NCGC00261245-01</th>\n",
       "      <td>1.193182e-01</td>\n",
       "      <td>0.016474</td>\n",
       "      <td>0.772778</td>\n",
       "      <td>0.753669</td>\n",
       "      <td>0.223264</td>\n",
       "      <td>0.244135</td>\n",
       "      <td>0.098540</td>\n",
       "      <td>0.214848</td>\n",
       "      <td>0.208197</td>\n",
       "      <td>0.054503</td>\n",
       "      <td>...</td>\n",
       "      <td>0.027008</td>\n",
       "      <td>0.034580</td>\n",
       "      <td>0.069424</td>\n",
       "      <td>0.995076</td>\n",
       "      <td>0.981965</td>\n",
       "      <td>0.096647</td>\n",
       "      <td>0.020009</td>\n",
       "      <td>0.035527</td>\n",
       "      <td>0.000232</td>\n",
       "      <td>0.228288</td>\n",
       "    </tr>\n",
       "    <tr>\n",
       "      <th>NCGC00260828-01</th>\n",
       "      <td>9.818000e-08</td>\n",
       "      <td>0.007195</td>\n",
       "      <td>0.766779</td>\n",
       "      <td>0.813525</td>\n",
       "      <td>0.351043</td>\n",
       "      <td>0.324683</td>\n",
       "      <td>0.066131</td>\n",
       "      <td>0.333114</td>\n",
       "      <td>0.291330</td>\n",
       "      <td>0.238414</td>\n",
       "      <td>...</td>\n",
       "      <td>0.097991</td>\n",
       "      <td>0.123973</td>\n",
       "      <td>0.195661</td>\n",
       "      <td>0.978034</td>\n",
       "      <td>0.915763</td>\n",
       "      <td>0.260806</td>\n",
       "      <td>0.085466</td>\n",
       "      <td>0.103675</td>\n",
       "      <td>0.000227</td>\n",
       "      <td>0.514170</td>\n",
       "    </tr>\n",
       "    <tr>\n",
       "      <th>NCGC00260687-01</th>\n",
       "      <td>2.229000e-08</td>\n",
       "      <td>0.008401</td>\n",
       "      <td>0.850019</td>\n",
       "      <td>0.690360</td>\n",
       "      <td>0.108253</td>\n",
       "      <td>0.117148</td>\n",
       "      <td>0.048162</td>\n",
       "      <td>0.109089</td>\n",
       "      <td>0.115300</td>\n",
       "      <td>0.040802</td>\n",
       "      <td>...</td>\n",
       "      <td>0.004174</td>\n",
       "      <td>0.005102</td>\n",
       "      <td>0.028960</td>\n",
       "      <td>0.999130</td>\n",
       "      <td>0.991930</td>\n",
       "      <td>0.043702</td>\n",
       "      <td>0.003833</td>\n",
       "      <td>0.017157</td>\n",
       "      <td>0.000067</td>\n",
       "      <td>0.181901</td>\n",
       "    </tr>\n",
       "    <tr>\n",
       "      <th>NCGC00261465-01</th>\n",
       "      <td>1.931035e-01</td>\n",
       "      <td>0.025967</td>\n",
       "      <td>0.700037</td>\n",
       "      <td>0.772374</td>\n",
       "      <td>0.213211</td>\n",
       "      <td>0.200283</td>\n",
       "      <td>0.060551</td>\n",
       "      <td>0.207362</td>\n",
       "      <td>0.174849</td>\n",
       "      <td>0.157767</td>\n",
       "      <td>...</td>\n",
       "      <td>0.024257</td>\n",
       "      <td>0.012632</td>\n",
       "      <td>0.114484</td>\n",
       "      <td>0.992172</td>\n",
       "      <td>0.944764</td>\n",
       "      <td>0.071846</td>\n",
       "      <td>0.014340</td>\n",
       "      <td>0.075183</td>\n",
       "      <td>0.000217</td>\n",
       "      <td>0.253437</td>\n",
       "    </tr>\n",
       "  </tbody>\n",
       "</table>\n",
       "<p>12060 rows × 801 columns</p>\n",
       "</div>"
      ],
      "text/plain": [
       "                           AW   AWeight      Arto   BertzCT      Chi0  \\\n",
       "ID                                                                      \n",
       "NCGC00178831-03  5.436720e-01  0.012041  0.815898  0.832518  0.244068   \n",
       "NCGC00166114-03  1.268818e-01  0.076781  0.774278  0.816115  0.222113   \n",
       "NCGC00263563-01  3.076931e-02  0.012270  0.807649  0.836259  0.495232   \n",
       "NCGC00013058-02  7.168569e-01  0.010464  0.760780  0.886043  0.539479   \n",
       "NCGC00167516-01  7.989701e-02  0.011206  0.796400  0.941583  0.742331   \n",
       "...                       ...       ...       ...       ...       ...   \n",
       "NCGC00261292-01  1.428572e-01  0.020621  0.749906  0.669640  0.097777   \n",
       "NCGC00261245-01  1.193182e-01  0.016474  0.772778  0.753669  0.223264   \n",
       "NCGC00260828-01  9.818000e-08  0.007195  0.766779  0.813525  0.351043   \n",
       "NCGC00260687-01  2.229000e-08  0.008401  0.850019  0.690360  0.108253   \n",
       "NCGC00261465-01  1.931035e-01  0.025967  0.700037  0.772374  0.213211   \n",
       "\n",
       "                     Chi1     Chi10      Chi2      Chi3     Chi3c  ...  \\\n",
       "ID                                                                 ...   \n",
       "NCGC00178831-03  0.251849  0.122744  0.255645  0.247884  0.131926  ...   \n",
       "NCGC00166114-03  0.217725  0.158927  0.222859  0.235265  0.126033  ...   \n",
       "NCGC00263563-01  0.475479  0.312274  0.508771  0.503347  0.393865  ...   \n",
       "NCGC00013058-02  0.508602  0.148179  0.491618  0.425273  0.263047  ...   \n",
       "NCGC00167516-01  0.736470  0.295701  0.712026  0.641167  0.352710  ...   \n",
       "...                   ...       ...       ...       ...       ...  ...   \n",
       "NCGC00261292-01  0.100133  0.012882  0.092409  0.088271  0.038183  ...   \n",
       "NCGC00261245-01  0.244135  0.098540  0.214848  0.208197  0.054503  ...   \n",
       "NCGC00260828-01  0.324683  0.066131  0.333114  0.291330  0.238414  ...   \n",
       "NCGC00260687-01  0.117148  0.048162  0.109089  0.115300  0.040802  ...   \n",
       "NCGC00261465-01  0.200283  0.060551  0.207362  0.174849  0.157767  ...   \n",
       "\n",
       "                      W3D      W3DH     WNSA1     WNSA2     WNSA3     WPSA1  \\\n",
       "ID                                                                            \n",
       "NCGC00178831-03  0.028705  0.025992  0.084419  0.992430  0.967627  0.086494   \n",
       "NCGC00166114-03  0.023329  0.009094  0.142494  0.991487  0.972305  0.070178   \n",
       "NCGC00263563-01  0.147491  0.215437  0.174151  0.963958  0.913740  0.259019   \n",
       "NCGC00013058-02  0.147532  0.142056  0.165596  0.976968  0.949863  0.227592   \n",
       "NCGC00167516-01  0.461955  0.460399  0.622595  0.825232  0.702753  0.536326   \n",
       "...                   ...       ...       ...       ...       ...       ...   \n",
       "NCGC00261292-01  0.003261  0.004034  0.055917  0.998427  0.988861  0.030003   \n",
       "NCGC00261245-01  0.027008  0.034580  0.069424  0.995076  0.981965  0.096647   \n",
       "NCGC00260828-01  0.097991  0.123973  0.195661  0.978034  0.915763  0.260806   \n",
       "NCGC00260687-01  0.004174  0.005102  0.028960  0.999130  0.991930  0.043702   \n",
       "NCGC00261465-01  0.024257  0.012632  0.114484  0.992172  0.944764  0.071846   \n",
       "\n",
       "                    WPSA2     WPSA3      grav      rygr  \n",
       "ID                                                       \n",
       "NCGC00178831-03  0.022640  0.042745  0.000218  0.231025  \n",
       "NCGC00166114-03  0.012238  0.059568  0.000336  0.258584  \n",
       "NCGC00263563-01  0.156472  0.097238  0.000542  0.320086  \n",
       "NCGC00013058-02  0.092400  0.090178  0.000596  0.291745  \n",
       "NCGC00167516-01  0.439447  0.260218  0.000796  0.500554  \n",
       "...                   ...       ...       ...       ...  \n",
       "NCGC00261292-01  0.002463  0.013849  0.000069  0.157600  \n",
       "NCGC00261245-01  0.020009  0.035527  0.000232  0.228288  \n",
       "NCGC00260828-01  0.085466  0.103675  0.000227  0.514170  \n",
       "NCGC00260687-01  0.003833  0.017157  0.000067  0.181901  \n",
       "NCGC00261465-01  0.014340  0.075183  0.000217  0.253437  \n",
       "\n",
       "[12060 rows x 801 columns]"
      ]
     },
     "execution_count": 47,
     "metadata": {},
     "output_type": "execute_result"
    }
   ],
   "source": [
    "path_x_train = \"../data/X_train.csv\"\n",
    "X_train = pd.read_csv(path_x_train).set_index(\"ID\")\n",
    "X_train"
   ]
  },
  {
   "cell_type": "markdown",
   "id": "71fbb176-75b4-4d6f-a4da-aa4a636acc54",
   "metadata": {},
   "source": [
    "**Load targets:**"
   ]
  },
  {
   "cell_type": "code",
   "execution_count": 48,
   "id": "a4e44528-7777-46d3-8590-d5735e6e639a",
   "metadata": {
    "execution": {
     "iopub.execute_input": "2025-06-17T13:33:11.201709Z",
     "iopub.status.busy": "2025-06-17T13:33:11.199847Z",
     "iopub.status.idle": "2025-06-17T13:33:11.361460Z",
     "shell.execute_reply": "2025-06-17T13:33:11.359139Z",
     "shell.execute_reply.started": "2025-06-17T13:33:11.201510Z"
    }
   },
   "outputs": [
    {
     "data": {
      "text/html": [
       "<div>\n",
       "<style scoped>\n",
       "    .dataframe tbody tr th:only-of-type {\n",
       "        vertical-align: middle;\n",
       "    }\n",
       "\n",
       "    .dataframe tbody tr th {\n",
       "        vertical-align: top;\n",
       "    }\n",
       "\n",
       "    .dataframe thead th {\n",
       "        text-align: right;\n",
       "    }\n",
       "</style>\n",
       "<table border=\"1\" class=\"dataframe\">\n",
       "  <thead>\n",
       "    <tr style=\"text-align: right;\">\n",
       "      <th></th>\n",
       "      <th>NR.AhR</th>\n",
       "      <th>NR.AR</th>\n",
       "      <th>NR.AR.LBD</th>\n",
       "      <th>NR.Aromatase</th>\n",
       "      <th>NR.ER</th>\n",
       "      <th>NR.ER.LBD</th>\n",
       "      <th>NR.PPAR.gamma</th>\n",
       "      <th>SR.ARE</th>\n",
       "      <th>SR.ATAD5</th>\n",
       "      <th>SR.HSE</th>\n",
       "      <th>SR.MMP</th>\n",
       "      <th>SR.p53</th>\n",
       "    </tr>\n",
       "    <tr>\n",
       "      <th>ID</th>\n",
       "      <th></th>\n",
       "      <th></th>\n",
       "      <th></th>\n",
       "      <th></th>\n",
       "      <th></th>\n",
       "      <th></th>\n",
       "      <th></th>\n",
       "      <th></th>\n",
       "      <th></th>\n",
       "      <th></th>\n",
       "      <th></th>\n",
       "      <th></th>\n",
       "    </tr>\n",
       "  </thead>\n",
       "  <tbody>\n",
       "    <tr>\n",
       "      <th>NCGC00178831-03</th>\n",
       "      <td>NaN</td>\n",
       "      <td>NaN</td>\n",
       "      <td>NaN</td>\n",
       "      <td>NaN</td>\n",
       "      <td>NaN</td>\n",
       "      <td>NaN</td>\n",
       "      <td>NaN</td>\n",
       "      <td>NaN</td>\n",
       "      <td>NaN</td>\n",
       "      <td>0.0</td>\n",
       "      <td>NaN</td>\n",
       "      <td>NaN</td>\n",
       "    </tr>\n",
       "    <tr>\n",
       "      <th>NCGC00166114-03</th>\n",
       "      <td>NaN</td>\n",
       "      <td>NaN</td>\n",
       "      <td>NaN</td>\n",
       "      <td>NaN</td>\n",
       "      <td>NaN</td>\n",
       "      <td>NaN</td>\n",
       "      <td>NaN</td>\n",
       "      <td>NaN</td>\n",
       "      <td>NaN</td>\n",
       "      <td>0.0</td>\n",
       "      <td>NaN</td>\n",
       "      <td>NaN</td>\n",
       "    </tr>\n",
       "    <tr>\n",
       "      <th>NCGC00263563-01</th>\n",
       "      <td>NaN</td>\n",
       "      <td>NaN</td>\n",
       "      <td>NaN</td>\n",
       "      <td>NaN</td>\n",
       "      <td>NaN</td>\n",
       "      <td>NaN</td>\n",
       "      <td>NaN</td>\n",
       "      <td>NaN</td>\n",
       "      <td>NaN</td>\n",
       "      <td>0.0</td>\n",
       "      <td>NaN</td>\n",
       "      <td>NaN</td>\n",
       "    </tr>\n",
       "    <tr>\n",
       "      <th>NCGC00013058-02</th>\n",
       "      <td>NaN</td>\n",
       "      <td>NaN</td>\n",
       "      <td>NaN</td>\n",
       "      <td>NaN</td>\n",
       "      <td>NaN</td>\n",
       "      <td>NaN</td>\n",
       "      <td>NaN</td>\n",
       "      <td>NaN</td>\n",
       "      <td>NaN</td>\n",
       "      <td>1.0</td>\n",
       "      <td>NaN</td>\n",
       "      <td>NaN</td>\n",
       "    </tr>\n",
       "    <tr>\n",
       "      <th>NCGC00167516-01</th>\n",
       "      <td>NaN</td>\n",
       "      <td>0.0</td>\n",
       "      <td>NaN</td>\n",
       "      <td>NaN</td>\n",
       "      <td>NaN</td>\n",
       "      <td>NaN</td>\n",
       "      <td>NaN</td>\n",
       "      <td>NaN</td>\n",
       "      <td>NaN</td>\n",
       "      <td>NaN</td>\n",
       "      <td>NaN</td>\n",
       "      <td>NaN</td>\n",
       "    </tr>\n",
       "    <tr>\n",
       "      <th>...</th>\n",
       "      <td>...</td>\n",
       "      <td>...</td>\n",
       "      <td>...</td>\n",
       "      <td>...</td>\n",
       "      <td>...</td>\n",
       "      <td>...</td>\n",
       "      <td>...</td>\n",
       "      <td>...</td>\n",
       "      <td>...</td>\n",
       "      <td>...</td>\n",
       "      <td>...</td>\n",
       "      <td>...</td>\n",
       "    </tr>\n",
       "    <tr>\n",
       "      <th>NCGC00261292-01</th>\n",
       "      <td>0.0</td>\n",
       "      <td>0.0</td>\n",
       "      <td>0.0</td>\n",
       "      <td>0.0</td>\n",
       "      <td>0.0</td>\n",
       "      <td>0.0</td>\n",
       "      <td>0.0</td>\n",
       "      <td>0.0</td>\n",
       "      <td>0.0</td>\n",
       "      <td>0.0</td>\n",
       "      <td>0.0</td>\n",
       "      <td>0.0</td>\n",
       "    </tr>\n",
       "    <tr>\n",
       "      <th>NCGC00261245-01</th>\n",
       "      <td>0.0</td>\n",
       "      <td>0.0</td>\n",
       "      <td>0.0</td>\n",
       "      <td>NaN</td>\n",
       "      <td>NaN</td>\n",
       "      <td>0.0</td>\n",
       "      <td>0.0</td>\n",
       "      <td>NaN</td>\n",
       "      <td>NaN</td>\n",
       "      <td>NaN</td>\n",
       "      <td>NaN</td>\n",
       "      <td>NaN</td>\n",
       "    </tr>\n",
       "    <tr>\n",
       "      <th>NCGC00260828-01</th>\n",
       "      <td>0.0</td>\n",
       "      <td>0.0</td>\n",
       "      <td>0.0</td>\n",
       "      <td>0.0</td>\n",
       "      <td>0.0</td>\n",
       "      <td>0.0</td>\n",
       "      <td>0.0</td>\n",
       "      <td>0.0</td>\n",
       "      <td>0.0</td>\n",
       "      <td>0.0</td>\n",
       "      <td>0.0</td>\n",
       "      <td>0.0</td>\n",
       "    </tr>\n",
       "    <tr>\n",
       "      <th>NCGC00260687-01</th>\n",
       "      <td>0.0</td>\n",
       "      <td>0.0</td>\n",
       "      <td>0.0</td>\n",
       "      <td>0.0</td>\n",
       "      <td>0.0</td>\n",
       "      <td>0.0</td>\n",
       "      <td>0.0</td>\n",
       "      <td>0.0</td>\n",
       "      <td>0.0</td>\n",
       "      <td>0.0</td>\n",
       "      <td>0.0</td>\n",
       "      <td>0.0</td>\n",
       "    </tr>\n",
       "    <tr>\n",
       "      <th>NCGC00261465-01</th>\n",
       "      <td>0.0</td>\n",
       "      <td>0.0</td>\n",
       "      <td>0.0</td>\n",
       "      <td>0.0</td>\n",
       "      <td>NaN</td>\n",
       "      <td>0.0</td>\n",
       "      <td>0.0</td>\n",
       "      <td>0.0</td>\n",
       "      <td>0.0</td>\n",
       "      <td>0.0</td>\n",
       "      <td>0.0</td>\n",
       "      <td>0.0</td>\n",
       "    </tr>\n",
       "  </tbody>\n",
       "</table>\n",
       "<p>12060 rows × 12 columns</p>\n",
       "</div>"
      ],
      "text/plain": [
       "                 NR.AhR  NR.AR  NR.AR.LBD  NR.Aromatase  NR.ER  NR.ER.LBD  \\\n",
       "ID                                                                          \n",
       "NCGC00178831-03     NaN    NaN        NaN           NaN    NaN        NaN   \n",
       "NCGC00166114-03     NaN    NaN        NaN           NaN    NaN        NaN   \n",
       "NCGC00263563-01     NaN    NaN        NaN           NaN    NaN        NaN   \n",
       "NCGC00013058-02     NaN    NaN        NaN           NaN    NaN        NaN   \n",
       "NCGC00167516-01     NaN    0.0        NaN           NaN    NaN        NaN   \n",
       "...                 ...    ...        ...           ...    ...        ...   \n",
       "NCGC00261292-01     0.0    0.0        0.0           0.0    0.0        0.0   \n",
       "NCGC00261245-01     0.0    0.0        0.0           NaN    NaN        0.0   \n",
       "NCGC00260828-01     0.0    0.0        0.0           0.0    0.0        0.0   \n",
       "NCGC00260687-01     0.0    0.0        0.0           0.0    0.0        0.0   \n",
       "NCGC00261465-01     0.0    0.0        0.0           0.0    NaN        0.0   \n",
       "\n",
       "                 NR.PPAR.gamma  SR.ARE  SR.ATAD5  SR.HSE  SR.MMP  SR.p53  \n",
       "ID                                                                        \n",
       "NCGC00178831-03            NaN     NaN       NaN     0.0     NaN     NaN  \n",
       "NCGC00166114-03            NaN     NaN       NaN     0.0     NaN     NaN  \n",
       "NCGC00263563-01            NaN     NaN       NaN     0.0     NaN     NaN  \n",
       "NCGC00013058-02            NaN     NaN       NaN     1.0     NaN     NaN  \n",
       "NCGC00167516-01            NaN     NaN       NaN     NaN     NaN     NaN  \n",
       "...                        ...     ...       ...     ...     ...     ...  \n",
       "NCGC00261292-01            0.0     0.0       0.0     0.0     0.0     0.0  \n",
       "NCGC00261245-01            0.0     NaN       NaN     NaN     NaN     NaN  \n",
       "NCGC00260828-01            0.0     0.0       0.0     0.0     0.0     0.0  \n",
       "NCGC00260687-01            0.0     0.0       0.0     0.0     0.0     0.0  \n",
       "NCGC00261465-01            0.0     0.0       0.0     0.0     0.0     0.0  \n",
       "\n",
       "[12060 rows x 12 columns]"
      ]
     },
     "execution_count": 48,
     "metadata": {},
     "output_type": "execute_result"
    }
   ],
   "source": [
    "path_y_train = \"../data/y_train.csv\"\n",
    "y_train = pd.read_csv(path_y_train).set_index(\"ID\")\n",
    "y_train"
   ]
  },
  {
   "cell_type": "markdown",
   "id": "f7943864-c931-4ec9-935b-eb51ff157f7d",
   "metadata": {},
   "source": [
    "## Data Without NAs For Each Target"
   ]
  },
  {
   "cell_type": "markdown",
   "id": "477b7f5b-d2e7-4fe3-a6e2-2274aeefdc61",
   "metadata": {},
   "source": [
    "### 1. NR.AhR"
   ]
  },
  {
   "cell_type": "code",
   "execution_count": 49,
   "id": "37d3aadf-cd6d-4e57-b2c8-7b8e25ae17bd",
   "metadata": {
    "execution": {
     "iopub.execute_input": "2025-06-17T13:33:11.366246Z",
     "iopub.status.busy": "2025-06-17T13:33:11.364591Z",
     "iopub.status.idle": "2025-06-17T13:33:15.541923Z",
     "shell.execute_reply": "2025-06-17T13:33:15.539511Z",
     "shell.execute_reply.started": "2025-06-17T13:33:11.366190Z"
    }
   },
   "outputs": [
    {
     "name": "stdout",
     "output_type": "stream",
     "text": [
      "<class 'pandas.core.frame.DataFrame'>\n",
      "Index: 8441 entries, NCGC00255644-01 to NCGC00261465-01\n",
      "Columns: 802 entries, NR.AhR to rygr\n",
      "dtypes: float64(802)\n",
      "memory usage: 51.7+ MB\n",
      "None\n"
     ]
    }
   ],
   "source": [
    "# Create single target without NAs\n",
    "y_train_ahr = y_train[[\"NR.AhR\"]].dropna()\n",
    "\n",
    "# Inner merge with features:\n",
    "train_ahr = y_train_ahr.merge(X_train, how=\"inner\", on=\"ID\")\n",
    "\n",
    "# Inspect\n",
    "print(train_ahr.info())\n",
    "\n",
    "# Split again\n",
    "X_train_ahr = train_ahr.drop(columns=[\"NR.AhR\"])\n",
    "y_train_ahr = train_ahr[\"NR.AhR\"]"
   ]
  },
  {
   "cell_type": "markdown",
   "id": "e3241085-9306-429f-886b-cbb23eeae7d6",
   "metadata": {},
   "source": [
    "### 2. NR.AR"
   ]
  },
  {
   "cell_type": "code",
   "execution_count": 50,
   "id": "f325a076-543f-4ffc-a441-d58bdb890e92",
   "metadata": {
    "execution": {
     "iopub.execute_input": "2025-06-17T13:33:15.547945Z",
     "iopub.status.busy": "2025-06-17T13:33:15.546662Z",
     "iopub.status.idle": "2025-06-17T13:33:17.112363Z",
     "shell.execute_reply": "2025-06-17T13:33:17.110903Z",
     "shell.execute_reply.started": "2025-06-17T13:33:15.547843Z"
    }
   },
   "outputs": [
    {
     "name": "stdout",
     "output_type": "stream",
     "text": [
      "<class 'pandas.core.frame.DataFrame'>\n",
      "Index: 9654 entries, NCGC00167516-01 to NCGC00261465-01\n",
      "Columns: 802 entries, NR.AR to rygr\n",
      "dtypes: float64(802)\n",
      "memory usage: 59.1+ MB\n",
      "None\n"
     ]
    }
   ],
   "source": [
    "# Create single target without NAs\n",
    "y_train_ar = y_train[[\"NR.AR\"]].dropna()\n",
    "\n",
    "# Inner merge with features:\n",
    "train_ar = y_train_ar.merge(X_train, how=\"inner\", on=\"ID\")\n",
    "\n",
    "# Inspect\n",
    "print(train_ar.info())\n",
    "\n",
    "# Split again\n",
    "X_train_ar = train_ar.drop(columns=[\"NR.AR\"])\n",
    "y_train_ar = train_ar[\"NR.AR\"]"
   ]
  },
  {
   "cell_type": "markdown",
   "id": "e45a7583-9b78-4495-a315-e88a90356ddb",
   "metadata": {},
   "source": [
    "### 3. NR.AR.LBD"
   ]
  },
  {
   "cell_type": "code",
   "execution_count": 51,
   "id": "e1b109b1-751c-4955-980c-9eee54ec314e",
   "metadata": {
    "execution": {
     "iopub.execute_input": "2025-06-17T13:33:17.115035Z",
     "iopub.status.busy": "2025-06-17T13:33:17.114147Z",
     "iopub.status.idle": "2025-06-17T13:33:18.032067Z",
     "shell.execute_reply": "2025-06-17T13:33:18.030714Z",
     "shell.execute_reply.started": "2025-06-17T13:33:17.114983Z"
    }
   },
   "outputs": [
    {
     "name": "stdout",
     "output_type": "stream",
     "text": [
      "<class 'pandas.core.frame.DataFrame'>\n",
      "Index: 8852 entries, NCGC00094891-01 to NCGC00261465-01\n",
      "Columns: 802 entries, NR.AR.LBD to rygr\n",
      "dtypes: float64(802)\n",
      "memory usage: 54.2+ MB\n",
      "None\n"
     ]
    }
   ],
   "source": [
    "# Create single target without NAs\n",
    "y_train_lbd = y_train[[\"NR.AR.LBD\"]].dropna()\n",
    "\n",
    "# Inner merge with features:\n",
    "train_lbd = y_train_lbd.merge(X_train, how=\"inner\", on=\"ID\")\n",
    "\n",
    "# Inspect\n",
    "print(train_lbd.info())\n",
    "\n",
    "# Split again\n",
    "X_train_lbd = train_lbd.drop(columns=[\"NR.AR.LBD\"])\n",
    "y_train_lbd = train_lbd[\"NR.AR.LBD\"]"
   ]
  },
  {
   "cell_type": "markdown",
   "id": "03508288-5c25-4da0-b76c-ea44ce4224c0",
   "metadata": {},
   "source": [
    "### 4. NR.Aromatase"
   ]
  },
  {
   "cell_type": "code",
   "execution_count": 52,
   "id": "39a32f4e-f6e2-4a1c-83c1-18d22b2eb340",
   "metadata": {
    "execution": {
     "iopub.execute_input": "2025-06-17T13:33:18.033605Z",
     "iopub.status.busy": "2025-06-17T13:33:18.033310Z",
     "iopub.status.idle": "2025-06-17T13:33:18.693913Z",
     "shell.execute_reply": "2025-06-17T13:33:18.692681Z",
     "shell.execute_reply.started": "2025-06-17T13:33:18.033581Z"
    }
   },
   "outputs": [
    {
     "name": "stdout",
     "output_type": "stream",
     "text": [
      "<class 'pandas.core.frame.DataFrame'>\n",
      "Index: 7440 entries, NCGC00258497-01 to NCGC00261465-01\n",
      "Columns: 802 entries, NR.Aromatase to rygr\n",
      "dtypes: float64(802)\n",
      "memory usage: 45.6+ MB\n",
      "None\n"
     ]
    }
   ],
   "source": [
    "# Create single target without NAs\n",
    "y_train_aromatase = y_train[[\"NR.Aromatase\"]].dropna()\n",
    "\n",
    "# Inner merge with features:\n",
    "train_aromatase = y_train_aromatase.merge(X_train, how=\"inner\", on=\"ID\")\n",
    "\n",
    "# Inspect\n",
    "print(train_aromatase.info())\n",
    "\n",
    "# Split again\n",
    "X_train_aromatase = train_aromatase.drop(columns=[\"NR.Aromatase\"])\n",
    "y_train_aromatase = train_aromatase[\"NR.Aromatase\"]"
   ]
  },
  {
   "cell_type": "markdown",
   "id": "31e9be8e-e676-41ff-a055-cc8d3608bac7",
   "metadata": {},
   "source": [
    "### 5. NR.ER"
   ]
  },
  {
   "cell_type": "code",
   "execution_count": 53,
   "id": "e1dd0726-12bd-4019-a888-1f4e1d1bbdb0",
   "metadata": {
    "execution": {
     "iopub.execute_input": "2025-06-17T13:33:18.695938Z",
     "iopub.status.busy": "2025-06-17T13:33:18.695497Z",
     "iopub.status.idle": "2025-06-17T13:33:19.186124Z",
     "shell.execute_reply": "2025-06-17T13:33:19.184972Z",
     "shell.execute_reply.started": "2025-06-17T13:33:18.695903Z"
    }
   },
   "outputs": [
    {
     "name": "stdout",
     "output_type": "stream",
     "text": [
      "<class 'pandas.core.frame.DataFrame'>\n",
      "Index: 7962 entries, NCGC00161831-02 to NCGC00260687-01\n",
      "Columns: 802 entries, NR.ER to rygr\n",
      "dtypes: float64(802)\n",
      "memory usage: 48.8+ MB\n",
      "None\n"
     ]
    }
   ],
   "source": [
    "# Create single target without NAs\n",
    "y_train_er = y_train[[\"NR.ER\"]].dropna()\n",
    "\n",
    "# Inner merge with features:\n",
    "train_er = y_train_er.merge(X_train, how=\"inner\", on=\"ID\")\n",
    "\n",
    "# Inspect\n",
    "print(train_er.info())\n",
    "\n",
    "# Split again\n",
    "X_train_er = train_er.drop(columns=[\"NR.ER\"])\n",
    "y_train_er = train_er[\"NR.ER\"]"
   ]
  },
  {
   "cell_type": "markdown",
   "id": "5f4165ba-e61c-4a4d-bfbd-e0e9ad88b586",
   "metadata": {},
   "source": [
    "### 6. NR.ER.LBD"
   ]
  },
  {
   "cell_type": "code",
   "execution_count": 54,
   "id": "07c19e2f-1d37-4ff3-877b-4799cc0430f7",
   "metadata": {
    "execution": {
     "iopub.execute_input": "2025-06-17T13:33:19.187733Z",
     "iopub.status.busy": "2025-06-17T13:33:19.187439Z",
     "iopub.status.idle": "2025-06-17T13:33:20.164574Z",
     "shell.execute_reply": "2025-06-17T13:33:20.162661Z",
     "shell.execute_reply.started": "2025-06-17T13:33:19.187711Z"
    }
   },
   "outputs": [
    {
     "name": "stdout",
     "output_type": "stream",
     "text": [
      "<class 'pandas.core.frame.DataFrame'>\n",
      "Index: 9040 entries, NCGC00095843-01 to NCGC00261465-01\n",
      "Columns: 802 entries, NR.ER.LBD to rygr\n",
      "dtypes: float64(802)\n",
      "memory usage: 55.4+ MB\n",
      "None\n"
     ]
    }
   ],
   "source": [
    "# Create single target without NAs\n",
    "y_train_er_lbd = y_train[[\"NR.ER.LBD\"]].dropna()\n",
    "\n",
    "# Inner merge with features:\n",
    "train_er_lbd = y_train_er_lbd.merge(X_train, how=\"inner\", on=\"ID\")\n",
    "\n",
    "# Inspect\n",
    "print(train_er_lbd.info())\n",
    "\n",
    "# Split again\n",
    "X_train_er_lbd = train_er_lbd.drop(columns=[\"NR.ER.LBD\"])\n",
    "y_train_er_lbd = train_er_lbd[\"NR.ER.LBD\"]"
   ]
  },
  {
   "cell_type": "markdown",
   "id": "6eea67a5-72c8-4e40-8bf2-e593c6e5f0be",
   "metadata": {},
   "source": [
    "### 7. NR.PPAR.gamma"
   ]
  },
  {
   "cell_type": "code",
   "execution_count": 55,
   "id": "833a87cb-4ad0-4baf-8850-94d44019cf08",
   "metadata": {
    "execution": {
     "iopub.execute_input": "2025-06-17T13:33:20.168113Z",
     "iopub.status.busy": "2025-06-17T13:33:20.166661Z",
     "iopub.status.idle": "2025-06-17T13:33:21.651875Z",
     "shell.execute_reply": "2025-06-17T13:33:21.650540Z",
     "shell.execute_reply.started": "2025-06-17T13:33:20.168064Z"
    }
   },
   "outputs": [
    {
     "name": "stdout",
     "output_type": "stream",
     "text": [
      "<class 'pandas.core.frame.DataFrame'>\n",
      "Index: 8451 entries, NCGC00091441-01 to NCGC00261465-01\n",
      "Columns: 802 entries, NR.PPAR.gamma to rygr\n",
      "dtypes: float64(802)\n",
      "memory usage: 51.8+ MB\n",
      "None\n"
     ]
    }
   ],
   "source": [
    "# Create single target without NAs\n",
    "y_train_ppar_gamma = y_train[[\"NR.PPAR.gamma\"]].dropna()\n",
    "\n",
    "# Inner merge with features:\n",
    "train_ppar_gamma = y_train_ppar_gamma.merge(X_train, how=\"inner\", on=\"ID\")\n",
    "\n",
    "# Inspect\n",
    "print(train_ppar_gamma.info())\n",
    "\n",
    "# Split again\n",
    "X_train_ppar_gamma = train_ppar_gamma.drop(columns=[\"NR.PPAR.gamma\"])\n",
    "y_train_ppar_gamma = train_ppar_gamma[\"NR.PPAR.gamma\"]"
   ]
  },
  {
   "cell_type": "markdown",
   "id": "e3e30aa0-4669-4413-b592-124bb260a4bb",
   "metadata": {},
   "source": [
    "### 8. SR.ARE"
   ]
  },
  {
   "cell_type": "code",
   "execution_count": 56,
   "id": "fdb5f561-1091-40c6-a796-071f0630d632",
   "metadata": {
    "execution": {
     "iopub.execute_input": "2025-06-17T13:33:21.658039Z",
     "iopub.status.busy": "2025-06-17T13:33:21.656821Z",
     "iopub.status.idle": "2025-06-17T13:33:22.352492Z",
     "shell.execute_reply": "2025-06-17T13:33:22.351081Z",
     "shell.execute_reply.started": "2025-06-17T13:33:21.657993Z"
    }
   },
   "outputs": [
    {
     "name": "stdout",
     "output_type": "stream",
     "text": [
      "<class 'pandas.core.frame.DataFrame'>\n",
      "Index: 7401 entries, NCGC00095016-05 to NCGC00261465-01\n",
      "Columns: 802 entries, SR.ARE to rygr\n",
      "dtypes: float64(802)\n",
      "memory usage: 45.3+ MB\n",
      "None\n"
     ]
    }
   ],
   "source": [
    "# Create single target without NAs\n",
    "y_train_are = y_train[[\"SR.ARE\"]].dropna()\n",
    "\n",
    "# Inner merge with features:\n",
    "train_are = y_train_are.merge(X_train, how=\"inner\", on=\"ID\")\n",
    "\n",
    "# Inspect\n",
    "print(train_are.info())\n",
    "\n",
    "# Split again\n",
    "X_train_are = train_are.drop(columns=[\"SR.ARE\"])\n",
    "y_train_are = train_are[\"SR.ARE\"]"
   ]
  },
  {
   "cell_type": "markdown",
   "id": "1ca60d2a-a83b-4743-b695-3c835113639a",
   "metadata": {},
   "source": [
    "### 9. SR.ATAD5"
   ]
  },
  {
   "cell_type": "code",
   "execution_count": 57,
   "id": "687be89e-9004-459f-ae90-ad585a9620cb",
   "metadata": {
    "execution": {
     "iopub.execute_input": "2025-06-17T13:33:22.353922Z",
     "iopub.status.busy": "2025-06-17T13:33:22.353547Z",
     "iopub.status.idle": "2025-06-17T13:33:23.333457Z",
     "shell.execute_reply": "2025-06-17T13:33:23.332195Z",
     "shell.execute_reply.started": "2025-06-17T13:33:22.353896Z"
    }
   },
   "outputs": [
    {
     "name": "stdout",
     "output_type": "stream",
     "text": [
      "<class 'pandas.core.frame.DataFrame'>\n",
      "Index: 9363 entries, NCGC00094121-01 to NCGC00261465-01\n",
      "Columns: 802 entries, SR.ATAD5 to rygr\n",
      "dtypes: float64(802)\n",
      "memory usage: 57.4+ MB\n",
      "None\n"
     ]
    }
   ],
   "source": [
    "# Create single target without NAs\n",
    "y_train_atad5 = y_train[[\"SR.ATAD5\"]].dropna()\n",
    "\n",
    "# Inner merge with features:\n",
    "train_atad5 = y_train_atad5.merge(X_train, how=\"inner\", on=\"ID\")\n",
    "\n",
    "# Inspect\n",
    "print(train_atad5.info())\n",
    "\n",
    "# Split again\n",
    "X_train_atad5 = train_atad5.drop(columns=[\"SR.ATAD5\"])\n",
    "y_train_atad5 = train_atad5[\"SR.ATAD5\"]"
   ]
  },
  {
   "cell_type": "markdown",
   "id": "0fb13450-230d-47e2-821c-7a2d4e4cbb5f",
   "metadata": {},
   "source": [
    "### 10. SR.HSE"
   ]
  },
  {
   "cell_type": "code",
   "execution_count": 58,
   "id": "ec7fe0ef-a904-4172-ba1d-535962e3b365",
   "metadata": {
    "execution": {
     "iopub.execute_input": "2025-06-17T13:33:23.337164Z",
     "iopub.status.busy": "2025-06-17T13:33:23.335606Z",
     "iopub.status.idle": "2025-06-17T13:33:24.151325Z",
     "shell.execute_reply": "2025-06-17T13:33:24.150266Z",
     "shell.execute_reply.started": "2025-06-17T13:33:23.337096Z"
    }
   },
   "outputs": [
    {
     "name": "stdout",
     "output_type": "stream",
     "text": [
      "<class 'pandas.core.frame.DataFrame'>\n",
      "Index: 8417 entries, NCGC00178831-03 to NCGC00261465-01\n",
      "Columns: 802 entries, SR.HSE to rygr\n",
      "dtypes: float64(802)\n",
      "memory usage: 51.6+ MB\n",
      "None\n"
     ]
    }
   ],
   "source": [
    "# Create single target without NAs\n",
    "y_train_hse = y_train[[\"SR.HSE\"]].dropna()\n",
    "\n",
    "# Inner merge with features:\n",
    "train_hse = y_train_hse.merge(X_train, how=\"inner\", on=\"ID\")\n",
    "\n",
    "# Inspect\n",
    "print(train_hse.info())\n",
    "\n",
    "# Split again\n",
    "X_train_hse = train_hse.drop(columns=[\"SR.HSE\"])\n",
    "y_train_hse = train_hse[\"SR.HSE\"]"
   ]
  },
  {
   "cell_type": "markdown",
   "id": "6ec6c6f4-722b-4c6e-8113-91aeec6a9e08",
   "metadata": {},
   "source": [
    "### 11. SR.MMP"
   ]
  },
  {
   "cell_type": "code",
   "execution_count": 59,
   "id": "34e37cdf-997f-4d11-96eb-f8c4828ece19",
   "metadata": {
    "execution": {
     "iopub.execute_input": "2025-06-17T13:33:24.153302Z",
     "iopub.status.busy": "2025-06-17T13:33:24.152821Z",
     "iopub.status.idle": "2025-06-17T13:33:26.041622Z",
     "shell.execute_reply": "2025-06-17T13:33:26.040237Z",
     "shell.execute_reply.started": "2025-06-17T13:33:24.153261Z"
    }
   },
   "outputs": [
    {
     "name": "stdout",
     "output_type": "stream",
     "text": [
      "<class 'pandas.core.frame.DataFrame'>\n",
      "Index: 7558 entries, NCGC00165865-01 to NCGC00261465-01\n",
      "Columns: 802 entries, SR.MMP to rygr\n",
      "dtypes: float64(802)\n",
      "memory usage: 46.3+ MB\n",
      "None\n"
     ]
    }
   ],
   "source": [
    "# Create single target without NAs\n",
    "y_train_mmp = y_train[[\"SR.MMP\"]].dropna()\n",
    "\n",
    "# Inner merge with features:\n",
    "train_mmp = y_train_mmp.merge(X_train, how=\"inner\", on=\"ID\")\n",
    "\n",
    "# Inspect\n",
    "print(train_mmp.info())\n",
    "\n",
    "# Split again\n",
    "X_train_mmp = train_mmp.drop(columns=[\"SR.MMP\"])\n",
    "y_train_mmp = train_mmp[\"SR.MMP\"]"
   ]
  },
  {
   "cell_type": "markdown",
   "id": "f8803e8a-60a5-4e1f-bfea-0fc907ae950c",
   "metadata": {},
   "source": [
    "### 12. SR.p53"
   ]
  },
  {
   "cell_type": "code",
   "execution_count": 60,
   "id": "1bbd5024-31a7-4ba3-9943-92fd6e991d4f",
   "metadata": {
    "execution": {
     "iopub.execute_input": "2025-06-17T13:33:26.043499Z",
     "iopub.status.busy": "2025-06-17T13:33:26.043010Z",
     "iopub.status.idle": "2025-06-17T13:33:26.640559Z",
     "shell.execute_reply": "2025-06-17T13:33:26.639201Z",
     "shell.execute_reply.started": "2025-06-17T13:33:26.043472Z"
    }
   },
   "outputs": [
    {
     "name": "stdout",
     "output_type": "stream",
     "text": [
      "<class 'pandas.core.frame.DataFrame'>\n",
      "Index: 8903 entries, NCGC00166288-01 to NCGC00261465-01\n",
      "Columns: 802 entries, SR.p53 to rygr\n",
      "dtypes: float64(802)\n",
      "memory usage: 54.5+ MB\n",
      "None\n"
     ]
    }
   ],
   "source": [
    "# Create single target without NAs\n",
    "y_train_p53 = y_train[[\"SR.p53\"]].dropna()\n",
    "\n",
    "# Inner merge with features:\n",
    "train_p53 = y_train_p53.merge(X_train, how=\"inner\", on=\"ID\")\n",
    "\n",
    "# Inspect\n",
    "print(train_p53.info())\n",
    "\n",
    "# Split again\n",
    "X_train_p53 = train_p53.drop(columns=[\"SR.p53\"])\n",
    "y_train_p53 = train_p53[\"SR.p53\"]"
   ]
  },
  {
   "cell_type": "markdown",
   "id": "e9b78f2f-bad0-47d4-a34c-132d9523c837",
   "metadata": {},
   "source": [
    "# Test Data"
   ]
  },
  {
   "cell_type": "markdown",
   "id": "efdf2393-7134-4853-81dc-642532067041",
   "metadata": {},
   "source": [
    "## Full Data"
   ]
  },
  {
   "cell_type": "markdown",
   "id": "4cefb345-d4c7-4411-98f8-d73de3a6fb78",
   "metadata": {
    "execution": {
     "iopub.execute_input": "2025-06-17T12:55:32.972183Z",
     "iopub.status.busy": "2025-06-17T12:55:32.969315Z",
     "iopub.status.idle": "2025-06-17T12:55:33.001435Z",
     "shell.execute_reply": "2025-06-17T12:55:32.998632Z",
     "shell.execute_reply.started": "2025-06-17T12:55:32.972129Z"
    }
   },
   "source": [
    "**Load features:**"
   ]
  },
  {
   "cell_type": "code",
   "execution_count": 61,
   "id": "74440c17-82a4-4f7d-8da0-13f18f46e1fa",
   "metadata": {
    "execution": {
     "iopub.execute_input": "2025-06-17T13:33:26.642087Z",
     "iopub.status.busy": "2025-06-17T13:33:26.641780Z",
     "iopub.status.idle": "2025-06-17T13:33:27.054143Z",
     "shell.execute_reply": "2025-06-17T13:33:27.052676Z",
     "shell.execute_reply.started": "2025-06-17T13:33:26.642062Z"
    }
   },
   "outputs": [
    {
     "data": {
      "text/html": [
       "<div>\n",
       "<style scoped>\n",
       "    .dataframe tbody tr th:only-of-type {\n",
       "        vertical-align: middle;\n",
       "    }\n",
       "\n",
       "    .dataframe tbody tr th {\n",
       "        vertical-align: top;\n",
       "    }\n",
       "\n",
       "    .dataframe thead th {\n",
       "        text-align: right;\n",
       "    }\n",
       "</style>\n",
       "<table border=\"1\" class=\"dataframe\">\n",
       "  <thead>\n",
       "    <tr style=\"text-align: right;\">\n",
       "      <th></th>\n",
       "      <th>AW</th>\n",
       "      <th>AWeight</th>\n",
       "      <th>Arto</th>\n",
       "      <th>BertzCT</th>\n",
       "      <th>Chi0</th>\n",
       "      <th>Chi1</th>\n",
       "      <th>Chi10</th>\n",
       "      <th>Chi2</th>\n",
       "      <th>Chi3</th>\n",
       "      <th>Chi3c</th>\n",
       "      <th>...</th>\n",
       "      <th>W3D</th>\n",
       "      <th>W3DH</th>\n",
       "      <th>WNSA1</th>\n",
       "      <th>WNSA2</th>\n",
       "      <th>WNSA3</th>\n",
       "      <th>WPSA1</th>\n",
       "      <th>WPSA2</th>\n",
       "      <th>WPSA3</th>\n",
       "      <th>grav</th>\n",
       "      <th>rygr</th>\n",
       "    </tr>\n",
       "    <tr>\n",
       "      <th>ID</th>\n",
       "      <th></th>\n",
       "      <th></th>\n",
       "      <th></th>\n",
       "      <th></th>\n",
       "      <th></th>\n",
       "      <th></th>\n",
       "      <th></th>\n",
       "      <th></th>\n",
       "      <th></th>\n",
       "      <th></th>\n",
       "      <th></th>\n",
       "      <th></th>\n",
       "      <th></th>\n",
       "      <th></th>\n",
       "      <th></th>\n",
       "      <th></th>\n",
       "      <th></th>\n",
       "      <th></th>\n",
       "      <th></th>\n",
       "      <th></th>\n",
       "      <th></th>\n",
       "    </tr>\n",
       "  </thead>\n",
       "  <tbody>\n",
       "    <tr>\n",
       "      <th>NCGC00261900-01</th>\n",
       "      <td>2.612482e-01</td>\n",
       "      <td>0.009436</td>\n",
       "      <td>0.834646</td>\n",
       "      <td>0.841727</td>\n",
       "      <td>0.394202</td>\n",
       "      <td>0.403771</td>\n",
       "      <td>0.300542</td>\n",
       "      <td>0.408977</td>\n",
       "      <td>0.398087</td>\n",
       "      <td>0.229952</td>\n",
       "      <td>...</td>\n",
       "      <td>0.103505</td>\n",
       "      <td>0.119139</td>\n",
       "      <td>0.142278</td>\n",
       "      <td>0.979173</td>\n",
       "      <td>0.932708</td>\n",
       "      <td>0.230205</td>\n",
       "      <td>0.098362</td>\n",
       "      <td>0.094579</td>\n",
       "      <td>0.000364</td>\n",
       "      <td>0.347710</td>\n",
       "    </tr>\n",
       "    <tr>\n",
       "      <th>NCGC00260869-01</th>\n",
       "      <td>8.333336e-02</td>\n",
       "      <td>0.043783</td>\n",
       "      <td>0.812523</td>\n",
       "      <td>0.754532</td>\n",
       "      <td>0.172691</td>\n",
       "      <td>0.172555</td>\n",
       "      <td>0.097883</td>\n",
       "      <td>0.187859</td>\n",
       "      <td>0.182665</td>\n",
       "      <td>0.135654</td>\n",
       "      <td>...</td>\n",
       "      <td>0.013413</td>\n",
       "      <td>0.007371</td>\n",
       "      <td>0.076107</td>\n",
       "      <td>0.996066</td>\n",
       "      <td>0.972912</td>\n",
       "      <td>0.065423</td>\n",
       "      <td>0.009872</td>\n",
       "      <td>0.055111</td>\n",
       "      <td>0.000187</td>\n",
       "      <td>0.232328</td>\n",
       "    </tr>\n",
       "    <tr>\n",
       "      <th>NCGC00261776-01</th>\n",
       "      <td>3.074000e-08</td>\n",
       "      <td>0.007837</td>\n",
       "      <td>0.886389</td>\n",
       "      <td>0.789065</td>\n",
       "      <td>0.155035</td>\n",
       "      <td>0.171825</td>\n",
       "      <td>0.176321</td>\n",
       "      <td>0.168661</td>\n",
       "      <td>0.186405</td>\n",
       "      <td>0.067600</td>\n",
       "      <td>...</td>\n",
       "      <td>0.011447</td>\n",
       "      <td>0.008864</td>\n",
       "      <td>0.068405</td>\n",
       "      <td>0.997175</td>\n",
       "      <td>0.982732</td>\n",
       "      <td>0.052118</td>\n",
       "      <td>0.006282</td>\n",
       "      <td>0.023628</td>\n",
       "      <td>0.000112</td>\n",
       "      <td>0.227702</td>\n",
       "    </tr>\n",
       "    <tr>\n",
       "      <th>NCGC00261380-01</th>\n",
       "      <td>8.000004e-02</td>\n",
       "      <td>0.017566</td>\n",
       "      <td>0.779903</td>\n",
       "      <td>0.732086</td>\n",
       "      <td>0.177179</td>\n",
       "      <td>0.186014</td>\n",
       "      <td>0.063751</td>\n",
       "      <td>0.171348</td>\n",
       "      <td>0.161561</td>\n",
       "      <td>0.063016</td>\n",
       "      <td>...</td>\n",
       "      <td>0.015035</td>\n",
       "      <td>0.012926</td>\n",
       "      <td>0.093085</td>\n",
       "      <td>0.995702</td>\n",
       "      <td>0.977549</td>\n",
       "      <td>0.059355</td>\n",
       "      <td>0.007999</td>\n",
       "      <td>0.025659</td>\n",
       "      <td>0.000143</td>\n",
       "      <td>0.227832</td>\n",
       "    </tr>\n",
       "    <tr>\n",
       "      <th>NCGC00261842-01</th>\n",
       "      <td>3.838000e-08</td>\n",
       "      <td>0.022434</td>\n",
       "      <td>0.782527</td>\n",
       "      <td>0.742158</td>\n",
       "      <td>0.178172</td>\n",
       "      <td>0.173317</td>\n",
       "      <td>0.033886</td>\n",
       "      <td>0.169590</td>\n",
       "      <td>0.151955</td>\n",
       "      <td>0.105279</td>\n",
       "      <td>...</td>\n",
       "      <td>0.012993</td>\n",
       "      <td>0.012214</td>\n",
       "      <td>0.098637</td>\n",
       "      <td>0.993249</td>\n",
       "      <td>0.955067</td>\n",
       "      <td>0.057505</td>\n",
       "      <td>0.011489</td>\n",
       "      <td>0.023847</td>\n",
       "      <td>0.000140</td>\n",
       "      <td>0.226269</td>\n",
       "    </tr>\n",
       "    <tr>\n",
       "      <th>...</th>\n",
       "      <td>...</td>\n",
       "      <td>...</td>\n",
       "      <td>...</td>\n",
       "      <td>...</td>\n",
       "      <td>...</td>\n",
       "      <td>...</td>\n",
       "      <td>...</td>\n",
       "      <td>...</td>\n",
       "      <td>...</td>\n",
       "      <td>...</td>\n",
       "      <td>...</td>\n",
       "      <td>...</td>\n",
       "      <td>...</td>\n",
       "      <td>...</td>\n",
       "      <td>...</td>\n",
       "      <td>...</td>\n",
       "      <td>...</td>\n",
       "      <td>...</td>\n",
       "      <td>...</td>\n",
       "      <td>...</td>\n",
       "      <td>...</td>\n",
       "    </tr>\n",
       "    <tr>\n",
       "      <th>NCGC00357168-01</th>\n",
       "      <td>1.000000e-08</td>\n",
       "      <td>0.038929</td>\n",
       "      <td>0.599925</td>\n",
       "      <td>0.246331</td>\n",
       "      <td>0.043519</td>\n",
       "      <td>0.038314</td>\n",
       "      <td>0.000000</td>\n",
       "      <td>0.022882</td>\n",
       "      <td>0.013918</td>\n",
       "      <td>0.000000</td>\n",
       "      <td>...</td>\n",
       "      <td>0.000256</td>\n",
       "      <td>0.000578</td>\n",
       "      <td>0.018569</td>\n",
       "      <td>0.999713</td>\n",
       "      <td>0.993413</td>\n",
       "      <td>0.013657</td>\n",
       "      <td>0.000617</td>\n",
       "      <td>0.005536</td>\n",
       "      <td>0.000013</td>\n",
       "      <td>0.111147</td>\n",
       "    </tr>\n",
       "    <tr>\n",
       "      <th>NCGC00357283-01</th>\n",
       "      <td>2.714000e-08</td>\n",
       "      <td>0.013148</td>\n",
       "      <td>0.749906</td>\n",
       "      <td>0.527482</td>\n",
       "      <td>0.117176</td>\n",
       "      <td>0.115798</td>\n",
       "      <td>0.005907</td>\n",
       "      <td>0.095839</td>\n",
       "      <td>0.080535</td>\n",
       "      <td>0.030828</td>\n",
       "      <td>...</td>\n",
       "      <td>0.004334</td>\n",
       "      <td>0.007400</td>\n",
       "      <td>0.037757</td>\n",
       "      <td>0.998458</td>\n",
       "      <td>0.979364</td>\n",
       "      <td>0.045173</td>\n",
       "      <td>0.005385</td>\n",
       "      <td>0.017875</td>\n",
       "      <td>0.000070</td>\n",
       "      <td>0.183334</td>\n",
       "    </tr>\n",
       "    <tr>\n",
       "      <th>NCGC00357210-01</th>\n",
       "      <td>9.050000e-09</td>\n",
       "      <td>0.033198</td>\n",
       "      <td>0.749906</td>\n",
       "      <td>0.573813</td>\n",
       "      <td>0.055716</td>\n",
       "      <td>0.052455</td>\n",
       "      <td>0.000000</td>\n",
       "      <td>0.048756</td>\n",
       "      <td>0.045081</td>\n",
       "      <td>0.023726</td>\n",
       "      <td>...</td>\n",
       "      <td>0.000517</td>\n",
       "      <td>0.000408</td>\n",
       "      <td>0.025334</td>\n",
       "      <td>0.999671</td>\n",
       "      <td>0.994989</td>\n",
       "      <td>0.011548</td>\n",
       "      <td>0.000437</td>\n",
       "      <td>0.005116</td>\n",
       "      <td>0.000028</td>\n",
       "      <td>0.105349</td>\n",
       "    </tr>\n",
       "    <tr>\n",
       "      <th>NCGC00357118-01</th>\n",
       "      <td>3.186000e-08</td>\n",
       "      <td>0.030749</td>\n",
       "      <td>0.821147</td>\n",
       "      <td>0.733813</td>\n",
       "      <td>0.159333</td>\n",
       "      <td>0.157683</td>\n",
       "      <td>0.030030</td>\n",
       "      <td>0.164267</td>\n",
       "      <td>0.159179</td>\n",
       "      <td>0.113943</td>\n",
       "      <td>...</td>\n",
       "      <td>0.009635</td>\n",
       "      <td>0.008028</td>\n",
       "      <td>0.082346</td>\n",
       "      <td>0.996334</td>\n",
       "      <td>0.976904</td>\n",
       "      <td>0.042581</td>\n",
       "      <td>0.005533</td>\n",
       "      <td>0.020194</td>\n",
       "      <td>0.000137</td>\n",
       "      <td>0.203271</td>\n",
       "    </tr>\n",
       "    <tr>\n",
       "      <th>NCGC00357144-01</th>\n",
       "      <td>1.048000e-08</td>\n",
       "      <td>0.029122</td>\n",
       "      <td>0.749906</td>\n",
       "      <td>0.514532</td>\n",
       "      <td>0.053994</td>\n",
       "      <td>0.054471</td>\n",
       "      <td>0.000000</td>\n",
       "      <td>0.043247</td>\n",
       "      <td>0.040395</td>\n",
       "      <td>0.010276</td>\n",
       "      <td>...</td>\n",
       "      <td>0.000553</td>\n",
       "      <td>0.000661</td>\n",
       "      <td>0.027307</td>\n",
       "      <td>0.999645</td>\n",
       "      <td>0.995229</td>\n",
       "      <td>0.014172</td>\n",
       "      <td>0.000537</td>\n",
       "      <td>0.005964</td>\n",
       "      <td>0.000025</td>\n",
       "      <td>0.119161</td>\n",
       "    </tr>\n",
       "  </tbody>\n",
       "</table>\n",
       "<p>647 rows × 801 columns</p>\n",
       "</div>"
      ],
      "text/plain": [
       "                           AW   AWeight      Arto   BertzCT      Chi0  \\\n",
       "ID                                                                      \n",
       "NCGC00261900-01  2.612482e-01  0.009436  0.834646  0.841727  0.394202   \n",
       "NCGC00260869-01  8.333336e-02  0.043783  0.812523  0.754532  0.172691   \n",
       "NCGC00261776-01  3.074000e-08  0.007837  0.886389  0.789065  0.155035   \n",
       "NCGC00261380-01  8.000004e-02  0.017566  0.779903  0.732086  0.177179   \n",
       "NCGC00261842-01  3.838000e-08  0.022434  0.782527  0.742158  0.178172   \n",
       "...                       ...       ...       ...       ...       ...   \n",
       "NCGC00357168-01  1.000000e-08  0.038929  0.599925  0.246331  0.043519   \n",
       "NCGC00357283-01  2.714000e-08  0.013148  0.749906  0.527482  0.117176   \n",
       "NCGC00357210-01  9.050000e-09  0.033198  0.749906  0.573813  0.055716   \n",
       "NCGC00357118-01  3.186000e-08  0.030749  0.821147  0.733813  0.159333   \n",
       "NCGC00357144-01  1.048000e-08  0.029122  0.749906  0.514532  0.053994   \n",
       "\n",
       "                     Chi1     Chi10      Chi2      Chi3     Chi3c  ...  \\\n",
       "ID                                                                 ...   \n",
       "NCGC00261900-01  0.403771  0.300542  0.408977  0.398087  0.229952  ...   \n",
       "NCGC00260869-01  0.172555  0.097883  0.187859  0.182665  0.135654  ...   \n",
       "NCGC00261776-01  0.171825  0.176321  0.168661  0.186405  0.067600  ...   \n",
       "NCGC00261380-01  0.186014  0.063751  0.171348  0.161561  0.063016  ...   \n",
       "NCGC00261842-01  0.173317  0.033886  0.169590  0.151955  0.105279  ...   \n",
       "...                   ...       ...       ...       ...       ...  ...   \n",
       "NCGC00357168-01  0.038314  0.000000  0.022882  0.013918  0.000000  ...   \n",
       "NCGC00357283-01  0.115798  0.005907  0.095839  0.080535  0.030828  ...   \n",
       "NCGC00357210-01  0.052455  0.000000  0.048756  0.045081  0.023726  ...   \n",
       "NCGC00357118-01  0.157683  0.030030  0.164267  0.159179  0.113943  ...   \n",
       "NCGC00357144-01  0.054471  0.000000  0.043247  0.040395  0.010276  ...   \n",
       "\n",
       "                      W3D      W3DH     WNSA1     WNSA2     WNSA3     WPSA1  \\\n",
       "ID                                                                            \n",
       "NCGC00261900-01  0.103505  0.119139  0.142278  0.979173  0.932708  0.230205   \n",
       "NCGC00260869-01  0.013413  0.007371  0.076107  0.996066  0.972912  0.065423   \n",
       "NCGC00261776-01  0.011447  0.008864  0.068405  0.997175  0.982732  0.052118   \n",
       "NCGC00261380-01  0.015035  0.012926  0.093085  0.995702  0.977549  0.059355   \n",
       "NCGC00261842-01  0.012993  0.012214  0.098637  0.993249  0.955067  0.057505   \n",
       "...                   ...       ...       ...       ...       ...       ...   \n",
       "NCGC00357168-01  0.000256  0.000578  0.018569  0.999713  0.993413  0.013657   \n",
       "NCGC00357283-01  0.004334  0.007400  0.037757  0.998458  0.979364  0.045173   \n",
       "NCGC00357210-01  0.000517  0.000408  0.025334  0.999671  0.994989  0.011548   \n",
       "NCGC00357118-01  0.009635  0.008028  0.082346  0.996334  0.976904  0.042581   \n",
       "NCGC00357144-01  0.000553  0.000661  0.027307  0.999645  0.995229  0.014172   \n",
       "\n",
       "                    WPSA2     WPSA3      grav      rygr  \n",
       "ID                                                       \n",
       "NCGC00261900-01  0.098362  0.094579  0.000364  0.347710  \n",
       "NCGC00260869-01  0.009872  0.055111  0.000187  0.232328  \n",
       "NCGC00261776-01  0.006282  0.023628  0.000112  0.227702  \n",
       "NCGC00261380-01  0.007999  0.025659  0.000143  0.227832  \n",
       "NCGC00261842-01  0.011489  0.023847  0.000140  0.226269  \n",
       "...                   ...       ...       ...       ...  \n",
       "NCGC00357168-01  0.000617  0.005536  0.000013  0.111147  \n",
       "NCGC00357283-01  0.005385  0.017875  0.000070  0.183334  \n",
       "NCGC00357210-01  0.000437  0.005116  0.000028  0.105349  \n",
       "NCGC00357118-01  0.005533  0.020194  0.000137  0.203271  \n",
       "NCGC00357144-01  0.000537  0.005964  0.000025  0.119161  \n",
       "\n",
       "[647 rows x 801 columns]"
      ]
     },
     "execution_count": 61,
     "metadata": {},
     "output_type": "execute_result"
    }
   ],
   "source": [
    "path_x_test = \"../data/X_test.csv\"\n",
    "X_test = pd.read_csv(path_x_test).set_index(\"ID\")\n",
    "X_test"
   ]
  },
  {
   "cell_type": "markdown",
   "id": "4b8bc080-807e-4e4e-a6e6-ce868204343e",
   "metadata": {},
   "source": [
    "**Load targets:**"
   ]
  },
  {
   "cell_type": "code",
   "execution_count": 62,
   "id": "0a709ed4-3f01-4b8c-8b75-1f65016c775e",
   "metadata": {
    "execution": {
     "iopub.execute_input": "2025-06-17T13:33:27.056089Z",
     "iopub.status.busy": "2025-06-17T13:33:27.055673Z",
     "iopub.status.idle": "2025-06-17T13:33:27.094848Z",
     "shell.execute_reply": "2025-06-17T13:33:27.093737Z",
     "shell.execute_reply.started": "2025-06-17T13:33:27.056062Z"
    }
   },
   "outputs": [
    {
     "data": {
      "text/html": [
       "<div>\n",
       "<style scoped>\n",
       "    .dataframe tbody tr th:only-of-type {\n",
       "        vertical-align: middle;\n",
       "    }\n",
       "\n",
       "    .dataframe tbody tr th {\n",
       "        vertical-align: top;\n",
       "    }\n",
       "\n",
       "    .dataframe thead th {\n",
       "        text-align: right;\n",
       "    }\n",
       "</style>\n",
       "<table border=\"1\" class=\"dataframe\">\n",
       "  <thead>\n",
       "    <tr style=\"text-align: right;\">\n",
       "      <th></th>\n",
       "      <th>NR.AhR</th>\n",
       "      <th>NR.AR</th>\n",
       "      <th>NR.AR.LBD</th>\n",
       "      <th>NR.Aromatase</th>\n",
       "      <th>NR.ER</th>\n",
       "      <th>NR.ER.LBD</th>\n",
       "      <th>NR.PPAR.gamma</th>\n",
       "      <th>SR.ARE</th>\n",
       "      <th>SR.ATAD5</th>\n",
       "      <th>SR.HSE</th>\n",
       "      <th>SR.MMP</th>\n",
       "      <th>SR.p53</th>\n",
       "    </tr>\n",
       "    <tr>\n",
       "      <th>ID</th>\n",
       "      <th></th>\n",
       "      <th></th>\n",
       "      <th></th>\n",
       "      <th></th>\n",
       "      <th></th>\n",
       "      <th></th>\n",
       "      <th></th>\n",
       "      <th></th>\n",
       "      <th></th>\n",
       "      <th></th>\n",
       "      <th></th>\n",
       "      <th></th>\n",
       "    </tr>\n",
       "  </thead>\n",
       "  <tbody>\n",
       "    <tr>\n",
       "      <th>NCGC00261900-01</th>\n",
       "      <td>0.0</td>\n",
       "      <td>1.0</td>\n",
       "      <td>NaN</td>\n",
       "      <td>0.0</td>\n",
       "      <td>0.0</td>\n",
       "      <td>0.0</td>\n",
       "      <td>0.0</td>\n",
       "      <td>NaN</td>\n",
       "      <td>0.0</td>\n",
       "      <td>0.0</td>\n",
       "      <td>NaN</td>\n",
       "      <td>0.0</td>\n",
       "    </tr>\n",
       "    <tr>\n",
       "      <th>NCGC00260869-01</th>\n",
       "      <td>0.0</td>\n",
       "      <td>1.0</td>\n",
       "      <td>NaN</td>\n",
       "      <td>NaN</td>\n",
       "      <td>0.0</td>\n",
       "      <td>0.0</td>\n",
       "      <td>0.0</td>\n",
       "      <td>0.0</td>\n",
       "      <td>0.0</td>\n",
       "      <td>0.0</td>\n",
       "      <td>0.0</td>\n",
       "      <td>0.0</td>\n",
       "    </tr>\n",
       "    <tr>\n",
       "      <th>NCGC00261776-01</th>\n",
       "      <td>1.0</td>\n",
       "      <td>1.0</td>\n",
       "      <td>0.0</td>\n",
       "      <td>NaN</td>\n",
       "      <td>1.0</td>\n",
       "      <td>0.0</td>\n",
       "      <td>0.0</td>\n",
       "      <td>1.0</td>\n",
       "      <td>1.0</td>\n",
       "      <td>0.0</td>\n",
       "      <td>1.0</td>\n",
       "      <td>0.0</td>\n",
       "    </tr>\n",
       "    <tr>\n",
       "      <th>NCGC00261380-01</th>\n",
       "      <td>NaN</td>\n",
       "      <td>0.0</td>\n",
       "      <td>NaN</td>\n",
       "      <td>1.0</td>\n",
       "      <td>0.0</td>\n",
       "      <td>NaN</td>\n",
       "      <td>NaN</td>\n",
       "      <td>1.0</td>\n",
       "      <td>0.0</td>\n",
       "      <td>NaN</td>\n",
       "      <td>0.0</td>\n",
       "      <td>NaN</td>\n",
       "    </tr>\n",
       "    <tr>\n",
       "      <th>NCGC00261842-01</th>\n",
       "      <td>0.0</td>\n",
       "      <td>0.0</td>\n",
       "      <td>0.0</td>\n",
       "      <td>NaN</td>\n",
       "      <td>0.0</td>\n",
       "      <td>0.0</td>\n",
       "      <td>0.0</td>\n",
       "      <td>0.0</td>\n",
       "      <td>0.0</td>\n",
       "      <td>0.0</td>\n",
       "      <td>NaN</td>\n",
       "      <td>1.0</td>\n",
       "    </tr>\n",
       "    <tr>\n",
       "      <th>...</th>\n",
       "      <td>...</td>\n",
       "      <td>...</td>\n",
       "      <td>...</td>\n",
       "      <td>...</td>\n",
       "      <td>...</td>\n",
       "      <td>...</td>\n",
       "      <td>...</td>\n",
       "      <td>...</td>\n",
       "      <td>...</td>\n",
       "      <td>...</td>\n",
       "      <td>...</td>\n",
       "      <td>...</td>\n",
       "    </tr>\n",
       "    <tr>\n",
       "      <th>NCGC00357168-01</th>\n",
       "      <td>0.0</td>\n",
       "      <td>0.0</td>\n",
       "      <td>0.0</td>\n",
       "      <td>0.0</td>\n",
       "      <td>NaN</td>\n",
       "      <td>0.0</td>\n",
       "      <td>0.0</td>\n",
       "      <td>1.0</td>\n",
       "      <td>0.0</td>\n",
       "      <td>0.0</td>\n",
       "      <td>0.0</td>\n",
       "      <td>0.0</td>\n",
       "    </tr>\n",
       "    <tr>\n",
       "      <th>NCGC00357283-01</th>\n",
       "      <td>0.0</td>\n",
       "      <td>0.0</td>\n",
       "      <td>0.0</td>\n",
       "      <td>0.0</td>\n",
       "      <td>0.0</td>\n",
       "      <td>0.0</td>\n",
       "      <td>0.0</td>\n",
       "      <td>0.0</td>\n",
       "      <td>0.0</td>\n",
       "      <td>0.0</td>\n",
       "      <td>0.0</td>\n",
       "      <td>0.0</td>\n",
       "    </tr>\n",
       "    <tr>\n",
       "      <th>NCGC00357210-01</th>\n",
       "      <td>0.0</td>\n",
       "      <td>0.0</td>\n",
       "      <td>0.0</td>\n",
       "      <td>0.0</td>\n",
       "      <td>0.0</td>\n",
       "      <td>0.0</td>\n",
       "      <td>NaN</td>\n",
       "      <td>NaN</td>\n",
       "      <td>NaN</td>\n",
       "      <td>0.0</td>\n",
       "      <td>NaN</td>\n",
       "      <td>0.0</td>\n",
       "    </tr>\n",
       "    <tr>\n",
       "      <th>NCGC00357118-01</th>\n",
       "      <td>0.0</td>\n",
       "      <td>0.0</td>\n",
       "      <td>0.0</td>\n",
       "      <td>NaN</td>\n",
       "      <td>NaN</td>\n",
       "      <td>0.0</td>\n",
       "      <td>NaN</td>\n",
       "      <td>1.0</td>\n",
       "      <td>0.0</td>\n",
       "      <td>NaN</td>\n",
       "      <td>NaN</td>\n",
       "      <td>1.0</td>\n",
       "    </tr>\n",
       "    <tr>\n",
       "      <th>NCGC00357144-01</th>\n",
       "      <td>0.0</td>\n",
       "      <td>0.0</td>\n",
       "      <td>0.0</td>\n",
       "      <td>0.0</td>\n",
       "      <td>0.0</td>\n",
       "      <td>NaN</td>\n",
       "      <td>0.0</td>\n",
       "      <td>1.0</td>\n",
       "      <td>NaN</td>\n",
       "      <td>0.0</td>\n",
       "      <td>0.0</td>\n",
       "      <td>1.0</td>\n",
       "    </tr>\n",
       "  </tbody>\n",
       "</table>\n",
       "<p>647 rows × 12 columns</p>\n",
       "</div>"
      ],
      "text/plain": [
       "                 NR.AhR  NR.AR  NR.AR.LBD  NR.Aromatase  NR.ER  NR.ER.LBD  \\\n",
       "ID                                                                          \n",
       "NCGC00261900-01     0.0    1.0        NaN           0.0    0.0        0.0   \n",
       "NCGC00260869-01     0.0    1.0        NaN           NaN    0.0        0.0   \n",
       "NCGC00261776-01     1.0    1.0        0.0           NaN    1.0        0.0   \n",
       "NCGC00261380-01     NaN    0.0        NaN           1.0    0.0        NaN   \n",
       "NCGC00261842-01     0.0    0.0        0.0           NaN    0.0        0.0   \n",
       "...                 ...    ...        ...           ...    ...        ...   \n",
       "NCGC00357168-01     0.0    0.0        0.0           0.0    NaN        0.0   \n",
       "NCGC00357283-01     0.0    0.0        0.0           0.0    0.0        0.0   \n",
       "NCGC00357210-01     0.0    0.0        0.0           0.0    0.0        0.0   \n",
       "NCGC00357118-01     0.0    0.0        0.0           NaN    NaN        0.0   \n",
       "NCGC00357144-01     0.0    0.0        0.0           0.0    0.0        NaN   \n",
       "\n",
       "                 NR.PPAR.gamma  SR.ARE  SR.ATAD5  SR.HSE  SR.MMP  SR.p53  \n",
       "ID                                                                        \n",
       "NCGC00261900-01            0.0     NaN       0.0     0.0     NaN     0.0  \n",
       "NCGC00260869-01            0.0     0.0       0.0     0.0     0.0     0.0  \n",
       "NCGC00261776-01            0.0     1.0       1.0     0.0     1.0     0.0  \n",
       "NCGC00261380-01            NaN     1.0       0.0     NaN     0.0     NaN  \n",
       "NCGC00261842-01            0.0     0.0       0.0     0.0     NaN     1.0  \n",
       "...                        ...     ...       ...     ...     ...     ...  \n",
       "NCGC00357168-01            0.0     1.0       0.0     0.0     0.0     0.0  \n",
       "NCGC00357283-01            0.0     0.0       0.0     0.0     0.0     0.0  \n",
       "NCGC00357210-01            NaN     NaN       NaN     0.0     NaN     0.0  \n",
       "NCGC00357118-01            NaN     1.0       0.0     NaN     NaN     1.0  \n",
       "NCGC00357144-01            0.0     1.0       NaN     0.0     0.0     1.0  \n",
       "\n",
       "[647 rows x 12 columns]"
      ]
     },
     "execution_count": 62,
     "metadata": {},
     "output_type": "execute_result"
    }
   ],
   "source": [
    "path_y_test = \"../data/y_test.csv\"\n",
    "y_test = pd.read_csv(path_y_test).set_index(\"ID\")\n",
    "y_test"
   ]
  },
  {
   "cell_type": "markdown",
   "id": "f1a24083-d72e-4fc3-9f23-a6d88fcf504d",
   "metadata": {},
   "source": [
    "## Data Without NAs For Each Target"
   ]
  },
  {
   "cell_type": "markdown",
   "id": "7581ad1a-b1ad-4d6e-acfa-21a98df1a902",
   "metadata": {
    "execution": {
     "iopub.execute_input": "2025-06-17T12:58:40.014758Z",
     "iopub.status.busy": "2025-06-17T12:58:40.014266Z",
     "iopub.status.idle": "2025-06-17T12:58:40.020855Z",
     "shell.execute_reply": "2025-06-17T12:58:40.019485Z",
     "shell.execute_reply.started": "2025-06-17T12:58:40.014731Z"
    }
   },
   "source": [
    "### 1. NR.AhR"
   ]
  },
  {
   "cell_type": "code",
   "execution_count": 63,
   "id": "322fdb5c-3b9c-45ae-aa55-994f406e4bc5",
   "metadata": {
    "execution": {
     "iopub.execute_input": "2025-06-17T13:33:27.096672Z",
     "iopub.status.busy": "2025-06-17T13:33:27.096306Z",
     "iopub.status.idle": "2025-06-17T13:33:27.174177Z",
     "shell.execute_reply": "2025-06-17T13:33:27.173141Z",
     "shell.execute_reply.started": "2025-06-17T13:33:27.096649Z"
    }
   },
   "outputs": [
    {
     "name": "stdout",
     "output_type": "stream",
     "text": [
      "<class 'pandas.core.frame.DataFrame'>\n",
      "Index: 610 entries, NCGC00261900-01 to NCGC00357144-01\n",
      "Columns: 802 entries, NR.AhR to rygr\n",
      "dtypes: float64(802)\n",
      "memory usage: 3.7+ MB\n",
      "None\n"
     ]
    }
   ],
   "source": [
    "# Create single target without NAs\n",
    "y_test_ahr = y_test[[\"NR.AhR\"]].dropna()\n",
    "\n",
    "# Inner merge with features:\n",
    "test_ahr = y_test_ahr.merge(X_test, how=\"inner\", on=\"ID\")\n",
    "\n",
    "# Inspect\n",
    "print(test_ahr.info())\n",
    "\n",
    "# Split again\n",
    "X_test_ahr = test_ahr.drop(columns=[\"NR.AhR\"])\n",
    "y_test_ahr = test_ahr[\"NR.AhR\"]"
   ]
  },
  {
   "cell_type": "markdown",
   "id": "2b90896e-eabc-4e6b-a4fd-f507a157fbc3",
   "metadata": {},
   "source": [
    "### 2. NR.AR"
   ]
  },
  {
   "cell_type": "code",
   "execution_count": 64,
   "id": "180b3ce2-7d97-480b-93c9-3f7bc8a006fb",
   "metadata": {
    "execution": {
     "iopub.execute_input": "2025-06-17T13:33:27.175336Z",
     "iopub.status.busy": "2025-06-17T13:33:27.175025Z",
     "iopub.status.idle": "2025-06-17T13:33:27.249235Z",
     "shell.execute_reply": "2025-06-17T13:33:27.248032Z",
     "shell.execute_reply.started": "2025-06-17T13:33:27.175314Z"
    }
   },
   "outputs": [
    {
     "name": "stdout",
     "output_type": "stream",
     "text": [
      "<class 'pandas.core.frame.DataFrame'>\n",
      "Index: 586 entries, NCGC00261900-01 to NCGC00357144-01\n",
      "Columns: 802 entries, NR.AR to rygr\n",
      "dtypes: float64(802)\n",
      "memory usage: 3.6+ MB\n",
      "None\n"
     ]
    }
   ],
   "source": [
    "# Create single target without NAs\n",
    "y_test_ar = y_test[[\"NR.AR\"]].dropna()\n",
    "\n",
    "# Inner merge with features:\n",
    "test_ar = y_test_ar.merge(X_test, how=\"inner\", on=\"ID\")\n",
    "\n",
    "# Inspect\n",
    "print(test_ar.info())\n",
    "\n",
    "# Split again\n",
    "X_test_ar = test_ar.drop(columns=[\"NR.AR\"])\n",
    "y_test_ar = test_ar[\"NR.AR\"]"
   ]
  },
  {
   "cell_type": "markdown",
   "id": "025e8650-3456-4526-ad65-8b2b14db839f",
   "metadata": {},
   "source": [
    "### 3. NR.AR.LBD"
   ]
  },
  {
   "cell_type": "code",
   "execution_count": 65,
   "id": "83da0c8a-fdf6-4680-9dac-051a5e300018",
   "metadata": {
    "execution": {
     "iopub.execute_input": "2025-06-17T13:33:27.252265Z",
     "iopub.status.busy": "2025-06-17T13:33:27.251080Z",
     "iopub.status.idle": "2025-06-17T13:33:27.338253Z",
     "shell.execute_reply": "2025-06-17T13:33:27.336471Z",
     "shell.execute_reply.started": "2025-06-17T13:33:27.252198Z"
    }
   },
   "outputs": [
    {
     "name": "stdout",
     "output_type": "stream",
     "text": [
      "<class 'pandas.core.frame.DataFrame'>\n",
      "Index: 582 entries, NCGC00261776-01 to NCGC00357144-01\n",
      "Columns: 802 entries, NR.AR.LBD to rygr\n",
      "dtypes: float64(802)\n",
      "memory usage: 3.6+ MB\n",
      "None\n"
     ]
    }
   ],
   "source": [
    "# Create single target without NAs\n",
    "y_test_lbd = y_test[[\"NR.AR.LBD\"]].dropna()\n",
    "\n",
    "# Inner merge with features:\n",
    "test_lbd = y_test_lbd.merge(X_test, how=\"inner\", on=\"ID\")\n",
    "\n",
    "# Inspect\n",
    "print(test_lbd.info())\n",
    "\n",
    "# Split again\n",
    "X_test_lbd = test_lbd.drop(columns=[\"NR.AR.LBD\"])\n",
    "y_test_lbd = test_lbd[\"NR.AR.LBD\"]"
   ]
  },
  {
   "cell_type": "markdown",
   "id": "fe12b083-b01e-49e5-a265-1f6d9564ca89",
   "metadata": {},
   "source": [
    "### 4. NR.Aromatase"
   ]
  },
  {
   "cell_type": "code",
   "execution_count": 66,
   "id": "d33ec8fa-fa69-4d15-8ab7-fbb63164a17a",
   "metadata": {
    "execution": {
     "iopub.execute_input": "2025-06-17T13:33:32.065871Z",
     "iopub.status.busy": "2025-06-17T13:33:32.065456Z",
     "iopub.status.idle": "2025-06-17T13:33:32.173913Z",
     "shell.execute_reply": "2025-06-17T13:33:32.173058Z",
     "shell.execute_reply.started": "2025-06-17T13:33:32.065844Z"
    }
   },
   "outputs": [
    {
     "name": "stdout",
     "output_type": "stream",
     "text": [
      "<class 'pandas.core.frame.DataFrame'>\n",
      "Index: 528 entries, NCGC00261900-01 to NCGC00357144-01\n",
      "Columns: 802 entries, NR.Aromatase to rygr\n",
      "dtypes: float64(802)\n",
      "memory usage: 3.2+ MB\n",
      "None\n"
     ]
    }
   ],
   "source": [
    "# Create single target without NAs\n",
    "y_test_aromatase = y_test[[\"NR.Aromatase\"]].dropna()\n",
    "\n",
    "# Inner merge with features:\n",
    "test_aromatase = y_test_aromatase.merge(X_test, how=\"inner\", on=\"ID\")\n",
    "\n",
    "# Inspect\n",
    "print(test_aromatase.info())\n",
    "\n",
    "# Split again\n",
    "X_test_aromatase = test_aromatase.drop(columns=[\"NR.Aromatase\"])\n",
    "y_test_aromatase = test_aromatase[\"NR.Aromatase\"]"
   ]
  },
  {
   "cell_type": "markdown",
   "id": "e44f369b-553f-4249-b198-8ef9a09ba316",
   "metadata": {},
   "source": [
    "### 5. NR.ER"
   ]
  },
  {
   "cell_type": "code",
   "execution_count": 67,
   "id": "92486e27-44ca-4b87-a719-881f30a25617",
   "metadata": {
    "execution": {
     "iopub.execute_input": "2025-06-17T13:33:33.332643Z",
     "iopub.status.busy": "2025-06-17T13:33:33.331302Z",
     "iopub.status.idle": "2025-06-17T13:33:33.443675Z",
     "shell.execute_reply": "2025-06-17T13:33:33.441275Z",
     "shell.execute_reply.started": "2025-06-17T13:33:33.332555Z"
    }
   },
   "outputs": [
    {
     "name": "stdout",
     "output_type": "stream",
     "text": [
      "<class 'pandas.core.frame.DataFrame'>\n",
      "Index: 516 entries, NCGC00261900-01 to NCGC00357144-01\n",
      "Columns: 802 entries, NR.ER to rygr\n",
      "dtypes: float64(802)\n",
      "memory usage: 3.2+ MB\n",
      "None\n"
     ]
    }
   ],
   "source": [
    "# Create single target without NAs\n",
    "y_test_er = y_test[[\"NR.ER\"]].dropna()\n",
    "\n",
    "# Inner merge with features:\n",
    "test_er = y_test_er.merge(X_test, how=\"inner\", on=\"ID\")\n",
    "\n",
    "# Inspect\n",
    "print(test_er.info())\n",
    "\n",
    "# Split again\n",
    "X_test_er = test_er.drop(columns=[\"NR.ER\"])\n",
    "y_test_er = test_er[\"NR.ER\"]"
   ]
  },
  {
   "cell_type": "markdown",
   "id": "e6b9d5ea-228c-4c42-8653-4594b1ee9ad1",
   "metadata": {},
   "source": [
    "### 6. NR.ER.LBD"
   ]
  },
  {
   "cell_type": "code",
   "execution_count": 68,
   "id": "e35e44bc-a8dd-4dcc-9e38-fc8cd4aefc69",
   "metadata": {
    "execution": {
     "iopub.execute_input": "2025-06-17T13:33:36.512365Z",
     "iopub.status.busy": "2025-06-17T13:33:36.511543Z",
     "iopub.status.idle": "2025-06-17T13:33:36.642553Z",
     "shell.execute_reply": "2025-06-17T13:33:36.641532Z",
     "shell.execute_reply.started": "2025-06-17T13:33:36.512312Z"
    }
   },
   "outputs": [
    {
     "name": "stdout",
     "output_type": "stream",
     "text": [
      "<class 'pandas.core.frame.DataFrame'>\n",
      "Index: 600 entries, NCGC00261900-01 to NCGC00357118-01\n",
      "Columns: 802 entries, NR.ER.LBD to rygr\n",
      "dtypes: float64(802)\n",
      "memory usage: 3.7+ MB\n",
      "None\n"
     ]
    }
   ],
   "source": [
    "# Create single target without NAs\n",
    "y_test_er_lbd = y_test[[\"NR.ER.LBD\"]].dropna()\n",
    "\n",
    "# Inner merge with features:\n",
    "test_er_lbd = y_test_er_lbd.merge(X_test, how=\"inner\", on=\"ID\")\n",
    "\n",
    "# Inspect\n",
    "print(test_er_lbd.info())\n",
    "\n",
    "# Split again\n",
    "X_test_er_lbd = test_er_lbd.drop(columns=[\"NR.ER.LBD\"])\n",
    "y_test_er_lbd = test_er_lbd[\"NR.ER.LBD\"]"
   ]
  },
  {
   "cell_type": "markdown",
   "id": "47821929-6edd-4ea0-8be7-544d7797e9d4",
   "metadata": {},
   "source": [
    "### 7. NR.PPAR.gamma"
   ]
  },
  {
   "cell_type": "code",
   "execution_count": 69,
   "id": "4d37d3e6-6f84-4566-acbd-d4380b4164cf",
   "metadata": {
    "execution": {
     "iopub.execute_input": "2025-06-17T13:33:39.513308Z",
     "iopub.status.busy": "2025-06-17T13:33:39.512674Z",
     "iopub.status.idle": "2025-06-17T13:33:39.626201Z",
     "shell.execute_reply": "2025-06-17T13:33:39.624952Z",
     "shell.execute_reply.started": "2025-06-17T13:33:39.513225Z"
    }
   },
   "outputs": [
    {
     "name": "stdout",
     "output_type": "stream",
     "text": [
      "<class 'pandas.core.frame.DataFrame'>\n",
      "Index: 605 entries, NCGC00261900-01 to NCGC00357144-01\n",
      "Columns: 802 entries, NR.PPAR.gamma to rygr\n",
      "dtypes: float64(802)\n",
      "memory usage: 3.7+ MB\n",
      "None\n"
     ]
    }
   ],
   "source": [
    "# Create single target without NAs\n",
    "y_test_ppar_gamma = y_test[[\"NR.PPAR.gamma\"]].dropna()\n",
    "\n",
    "# Inner merge with features:\n",
    "test_ppar_gamma = y_test_ppar_gamma.merge(X_test, how=\"inner\", on=\"ID\")\n",
    "\n",
    "# Inspect\n",
    "print(test_ppar_gamma.info())\n",
    "\n",
    "# Split again\n",
    "X_test_ppar_gamma = test_ppar_gamma.drop(columns=[\"NR.PPAR.gamma\"])\n",
    "y_test_ppar_gamma = test_ppar_gamma[\"NR.PPAR.gamma\"]"
   ]
  },
  {
   "cell_type": "markdown",
   "id": "1d6f2f18-6e83-4405-8513-5357501e562c",
   "metadata": {},
   "source": [
    "### 8. SR.ARE"
   ]
  },
  {
   "cell_type": "code",
   "execution_count": 70,
   "id": "394a3ad1-5c64-4ead-8a6b-e91aea4cb409",
   "metadata": {
    "execution": {
     "iopub.execute_input": "2025-06-17T13:33:40.773915Z",
     "iopub.status.busy": "2025-06-17T13:33:40.773246Z",
     "iopub.status.idle": "2025-06-17T13:33:40.882773Z",
     "shell.execute_reply": "2025-06-17T13:33:40.880394Z",
     "shell.execute_reply.started": "2025-06-17T13:33:40.773873Z"
    }
   },
   "outputs": [
    {
     "name": "stdout",
     "output_type": "stream",
     "text": [
      "<class 'pandas.core.frame.DataFrame'>\n",
      "Index: 555 entries, NCGC00260869-01 to NCGC00357144-01\n",
      "Columns: 802 entries, SR.ARE to rygr\n",
      "dtypes: float64(802)\n",
      "memory usage: 3.4+ MB\n",
      "None\n"
     ]
    }
   ],
   "source": [
    "# Create single target without NAs\n",
    "y_test_are = y_test[[\"SR.ARE\"]].dropna()\n",
    "\n",
    "# Inner merge with features:\n",
    "test_are = y_test_are.merge(X_test, how=\"inner\", on=\"ID\")\n",
    "\n",
    "# Inspect\n",
    "print(test_are.info())\n",
    "\n",
    "# Split again\n",
    "X_test_are = test_are.drop(columns=[\"SR.ARE\"])\n",
    "y_test_are = test_are[\"SR.ARE\"]"
   ]
  },
  {
   "cell_type": "markdown",
   "id": "b3b607ce-0e99-4d6a-a742-5150edd0edc2",
   "metadata": {},
   "source": [
    "### 9. SR.ATAD5"
   ]
  },
  {
   "cell_type": "code",
   "execution_count": 71,
   "id": "dd0976e4-b99d-4a3b-b1e6-b2b97ae8980d",
   "metadata": {
    "execution": {
     "iopub.execute_input": "2025-06-17T13:33:43.486266Z",
     "iopub.status.busy": "2025-06-17T13:33:43.485839Z",
     "iopub.status.idle": "2025-06-17T13:33:43.597169Z",
     "shell.execute_reply": "2025-06-17T13:33:43.595916Z",
     "shell.execute_reply.started": "2025-06-17T13:33:43.486237Z"
    }
   },
   "outputs": [
    {
     "name": "stdout",
     "output_type": "stream",
     "text": [
      "<class 'pandas.core.frame.DataFrame'>\n",
      "Index: 622 entries, NCGC00261900-01 to NCGC00357118-01\n",
      "Columns: 802 entries, SR.ATAD5 to rygr\n",
      "dtypes: float64(802)\n",
      "memory usage: 3.8+ MB\n",
      "None\n"
     ]
    }
   ],
   "source": [
    "# Create single target without NAs\n",
    "y_test_atad5 = y_test[[\"SR.ATAD5\"]].dropna()\n",
    "\n",
    "# Inner merge with features:\n",
    "test_atad5 = y_test_atad5.merge(X_test, how=\"inner\", on=\"ID\")\n",
    "\n",
    "# Inspect\n",
    "print(test_atad5.info())\n",
    "\n",
    "# Split again\n",
    "X_test_atad5 = test_atad5.drop(columns=[\"SR.ATAD5\"])\n",
    "y_test_atad5 = test_atad5[\"SR.ATAD5\"]"
   ]
  },
  {
   "cell_type": "markdown",
   "id": "7935722b-f22e-40f5-b7dd-8ee7976fd437",
   "metadata": {},
   "source": [
    "### 10. SR.HSE"
   ]
  },
  {
   "cell_type": "code",
   "execution_count": 72,
   "id": "3207e344-2da1-4063-b80e-8f3648e28420",
   "metadata": {
    "execution": {
     "iopub.execute_input": "2025-06-17T13:33:44.743926Z",
     "iopub.status.busy": "2025-06-17T13:33:44.743471Z",
     "iopub.status.idle": "2025-06-17T13:33:44.867322Z",
     "shell.execute_reply": "2025-06-17T13:33:44.865870Z",
     "shell.execute_reply.started": "2025-06-17T13:33:44.743896Z"
    }
   },
   "outputs": [
    {
     "name": "stdout",
     "output_type": "stream",
     "text": [
      "<class 'pandas.core.frame.DataFrame'>\n",
      "Index: 610 entries, NCGC00261900-01 to NCGC00357144-01\n",
      "Columns: 802 entries, SR.HSE to rygr\n",
      "dtypes: float64(802)\n",
      "memory usage: 3.7+ MB\n",
      "None\n"
     ]
    }
   ],
   "source": [
    "# Create single target without NAs\n",
    "y_test_hse = y_test[[\"SR.HSE\"]].dropna()\n",
    "\n",
    "# Inner merge with features:\n",
    "test_hse = y_test_hse.merge(X_test, how=\"inner\", on=\"ID\")\n",
    "\n",
    "# Inspect\n",
    "print(test_hse.info())\n",
    "\n",
    "# Split again\n",
    "X_test_hse = test_hse.drop(columns=[\"SR.HSE\"])\n",
    "y_test_hse = test_hse[\"SR.HSE\"]"
   ]
  },
  {
   "cell_type": "markdown",
   "id": "5282dab7-d07b-44cd-a1ea-107e8f27bf5b",
   "metadata": {},
   "source": [
    "### 11. SR.MMP"
   ]
  },
  {
   "cell_type": "code",
   "execution_count": 73,
   "id": "66c05ba2-5989-4f50-853e-b670b684c7c2",
   "metadata": {
    "execution": {
     "iopub.execute_input": "2025-06-17T13:34:09.999187Z",
     "iopub.status.busy": "2025-06-17T13:34:09.998562Z",
     "iopub.status.idle": "2025-06-17T13:34:10.124902Z",
     "shell.execute_reply": "2025-06-17T13:34:10.123619Z",
     "shell.execute_reply.started": "2025-06-17T13:34:09.999126Z"
    }
   },
   "outputs": [
    {
     "name": "stdout",
     "output_type": "stream",
     "text": [
      "<class 'pandas.core.frame.DataFrame'>\n",
      "Index: 543 entries, NCGC00260869-01 to NCGC00357144-01\n",
      "Columns: 802 entries, SR.MMP to rygr\n",
      "dtypes: float64(802)\n",
      "memory usage: 3.3+ MB\n",
      "None\n"
     ]
    }
   ],
   "source": [
    "# Create single target without NAs\n",
    "y_test_mmp = y_test[[\"SR.MMP\"]].dropna()\n",
    "\n",
    "# Inner merge with features:\n",
    "test_mmp = y_test_mmp.merge(X_test, how=\"inner\", on=\"ID\")\n",
    "\n",
    "# Inspect\n",
    "print(test_mmp.info())\n",
    "\n",
    "# Split again\n",
    "X_test_mmp = test_mmp.drop(columns=[\"SR.MMP\"])\n",
    "y_test_mmp = test_mmp[\"SR.MMP\"]"
   ]
  },
  {
   "cell_type": "markdown",
   "id": "6f085461-a763-4104-99ba-75dfee882dc9",
   "metadata": {},
   "source": [
    "### 12. SR.p53"
   ]
  },
  {
   "cell_type": "code",
   "execution_count": 74,
   "id": "ec673ec3-29f5-4115-82d8-2a5d262539cb",
   "metadata": {
    "execution": {
     "iopub.execute_input": "2025-06-17T13:34:11.099344Z",
     "iopub.status.busy": "2025-06-17T13:34:11.098800Z",
     "iopub.status.idle": "2025-06-17T13:34:11.422233Z",
     "shell.execute_reply": "2025-06-17T13:34:11.420522Z",
     "shell.execute_reply.started": "2025-06-17T13:34:11.099309Z"
    }
   },
   "outputs": [
    {
     "name": "stdout",
     "output_type": "stream",
     "text": [
      "<class 'pandas.core.frame.DataFrame'>\n",
      "Index: 616 entries, NCGC00261900-01 to NCGC00357144-01\n",
      "Columns: 802 entries, SR.p53 to rygr\n",
      "dtypes: float64(802)\n",
      "memory usage: 3.8+ MB\n",
      "None\n"
     ]
    }
   ],
   "source": [
    "# Create single target without NAs\n",
    "y_test_p53 = y_test[[\"SR.p53\"]].dropna()\n",
    "\n",
    "# Inner merge with features:\n",
    "test_p53 = y_test_p53.merge(X_test, how=\"inner\", on=\"ID\")\n",
    "\n",
    "# Inspect\n",
    "print(test_p53.info())\n",
    "\n",
    "# Split again\n",
    "X_test_p53 = test_p53.drop(columns=[\"SR.p53\"])\n",
    "y_test_p53 = test_p53[\"SR.p53\"]"
   ]
  },
  {
   "cell_type": "markdown",
   "id": "7002d82a-fb50-4746-8b81-eb174297845c",
   "metadata": {},
   "source": [
    "# Gradient Boost with Unscaled data"
   ]
  },
  {
   "cell_type": "code",
   "execution_count": 5,
   "id": "983ac78d-ca09-47de-8900-fc7ed0f896e1",
   "metadata": {
    "execution": {
     "iopub.execute_input": "2025-06-17T03:53:14.603703Z",
     "iopub.status.busy": "2025-06-17T03:53:14.603561Z",
     "iopub.status.idle": "2025-06-17T03:53:14.645944Z",
     "shell.execute_reply": "2025-06-17T03:53:14.645657Z",
     "shell.execute_reply.started": "2025-06-17T03:53:14.603693Z"
    }
   },
   "outputs": [],
   "source": [
    "mmp_train = X_mmp.merge(y_mmp, how=\"inner\", on=\"Unnamed: 0\")"
   ]
  },
  {
   "cell_type": "markdown",
   "id": "9f13146a-38ad-4c4b-aa6c-e5e5db240cfc",
   "metadata": {
    "execution": {
     "iopub.execute_input": "2025-06-13T02:06:15.723129Z",
     "iopub.status.busy": "2025-06-13T02:06:15.722450Z",
     "iopub.status.idle": "2025-06-13T02:06:15.780894Z",
     "shell.execute_reply": "2025-06-13T02:06:15.780469Z",
     "shell.execute_reply.started": "2025-06-13T02:06:15.723092Z"
    }
   },
   "source": [
    "## split again"
   ]
  },
  {
   "cell_type": "code",
   "execution_count": 6,
   "id": "aaa8271d-7505-4be7-a7f5-397a429ae09e",
   "metadata": {
    "execution": {
     "iopub.execute_input": "2025-06-17T03:53:15.531597Z",
     "iopub.status.busy": "2025-06-17T03:53:15.531452Z",
     "iopub.status.idle": "2025-06-17T03:53:15.546619Z",
     "shell.execute_reply": "2025-06-17T03:53:15.546318Z",
     "shell.execute_reply.started": "2025-06-17T03:53:15.531585Z"
    }
   },
   "outputs": [],
   "source": [
    "X_mmp_train = mmp_train.drop(columns=[\"SR.MMP\"]).to_numpy()\n",
    "y_mmp_train = mmp_train[\"SR.MMP\"].to_numpy()"
   ]
  },
  {
   "cell_type": "code",
   "execution_count": 8,
   "id": "7f91ccf3-27f6-45ca-98f8-9812b16969d4",
   "metadata": {
    "execution": {
     "iopub.execute_input": "2025-06-17T03:53:44.530187Z",
     "iopub.status.busy": "2025-06-17T03:53:44.529471Z",
     "iopub.status.idle": "2025-06-17T03:53:44.536227Z",
     "shell.execute_reply": "2025-06-17T03:53:44.535275Z",
     "shell.execute_reply.started": "2025-06-17T03:53:44.530130Z"
    }
   },
   "outputs": [],
   "source": [
    "model = GradientBoostingClassifier(\n",
    "    n_estimators=300, \n",
    "    learning_rate=0.1,\n",
    "    max_depth=4\n",
    ")"
   ]
  },
  {
   "cell_type": "code",
   "execution_count": 9,
   "id": "bcffe2a7-9de3-4430-9c09-244d0f02ed20",
   "metadata": {
    "execution": {
     "iopub.execute_input": "2025-06-17T03:53:45.831482Z",
     "iopub.status.busy": "2025-06-17T03:53:45.830603Z",
     "iopub.status.idle": "2025-06-17T03:53:45.835747Z",
     "shell.execute_reply": "2025-06-17T03:53:45.835075Z",
     "shell.execute_reply.started": "2025-06-17T03:53:45.831444Z"
    }
   },
   "outputs": [],
   "source": [
    "# # Cross-validation\n",
    "# cross_validation = cross_validate(model\n",
    "#                                     , X=X_mmp_train, y=y_mmp_train, cv=5,\n",
    "#                                 scoring=[\"accuracy\",\n",
    "#                                          \"recall\",\n",
    "#                                          \"precision\",\n",
    "#                                          \"f1\"\n",
    "#                                         ]\n",
    "#                                )"
   ]
  },
  {
   "cell_type": "code",
   "execution_count": 10,
   "id": "f0a64128-cf10-4258-8126-af2e64d134a9",
   "metadata": {
    "execution": {
     "iopub.execute_input": "2025-06-17T03:53:46.462829Z",
     "iopub.status.busy": "2025-06-17T03:53:46.462085Z",
     "iopub.status.idle": "2025-06-17T03:58:44.324899Z",
     "shell.execute_reply": "2025-06-17T03:58:44.324476Z",
     "shell.execute_reply.started": "2025-06-17T03:53:46.462777Z"
    }
   },
   "outputs": [
    {
     "data": {
      "text/html": [
       "<style>#sk-container-id-1 {\n",
       "  /* Definition of color scheme common for light and dark mode */\n",
       "  --sklearn-color-text: #000;\n",
       "  --sklearn-color-text-muted: #666;\n",
       "  --sklearn-color-line: gray;\n",
       "  /* Definition of color scheme for unfitted estimators */\n",
       "  --sklearn-color-unfitted-level-0: #fff5e6;\n",
       "  --sklearn-color-unfitted-level-1: #f6e4d2;\n",
       "  --sklearn-color-unfitted-level-2: #ffe0b3;\n",
       "  --sklearn-color-unfitted-level-3: chocolate;\n",
       "  /* Definition of color scheme for fitted estimators */\n",
       "  --sklearn-color-fitted-level-0: #f0f8ff;\n",
       "  --sklearn-color-fitted-level-1: #d4ebff;\n",
       "  --sklearn-color-fitted-level-2: #b3dbfd;\n",
       "  --sklearn-color-fitted-level-3: cornflowerblue;\n",
       "\n",
       "  /* Specific color for light theme */\n",
       "  --sklearn-color-text-on-default-background: var(--sg-text-color, var(--theme-code-foreground, var(--jp-content-font-color1, black)));\n",
       "  --sklearn-color-background: var(--sg-background-color, var(--theme-background, var(--jp-layout-color0, white)));\n",
       "  --sklearn-color-border-box: var(--sg-text-color, var(--theme-code-foreground, var(--jp-content-font-color1, black)));\n",
       "  --sklearn-color-icon: #696969;\n",
       "\n",
       "  @media (prefers-color-scheme: dark) {\n",
       "    /* Redefinition of color scheme for dark theme */\n",
       "    --sklearn-color-text-on-default-background: var(--sg-text-color, var(--theme-code-foreground, var(--jp-content-font-color1, white)));\n",
       "    --sklearn-color-background: var(--sg-background-color, var(--theme-background, var(--jp-layout-color0, #111)));\n",
       "    --sklearn-color-border-box: var(--sg-text-color, var(--theme-code-foreground, var(--jp-content-font-color1, white)));\n",
       "    --sklearn-color-icon: #878787;\n",
       "  }\n",
       "}\n",
       "\n",
       "#sk-container-id-1 {\n",
       "  color: var(--sklearn-color-text);\n",
       "}\n",
       "\n",
       "#sk-container-id-1 pre {\n",
       "  padding: 0;\n",
       "}\n",
       "\n",
       "#sk-container-id-1 input.sk-hidden--visually {\n",
       "  border: 0;\n",
       "  clip: rect(1px 1px 1px 1px);\n",
       "  clip: rect(1px, 1px, 1px, 1px);\n",
       "  height: 1px;\n",
       "  margin: -1px;\n",
       "  overflow: hidden;\n",
       "  padding: 0;\n",
       "  position: absolute;\n",
       "  width: 1px;\n",
       "}\n",
       "\n",
       "#sk-container-id-1 div.sk-dashed-wrapped {\n",
       "  border: 1px dashed var(--sklearn-color-line);\n",
       "  margin: 0 0.4em 0.5em 0.4em;\n",
       "  box-sizing: border-box;\n",
       "  padding-bottom: 0.4em;\n",
       "  background-color: var(--sklearn-color-background);\n",
       "}\n",
       "\n",
       "#sk-container-id-1 div.sk-container {\n",
       "  /* jupyter's `normalize.less` sets `[hidden] { display: none; }`\n",
       "     but bootstrap.min.css set `[hidden] { display: none !important; }`\n",
       "     so we also need the `!important` here to be able to override the\n",
       "     default hidden behavior on the sphinx rendered scikit-learn.org.\n",
       "     See: https://github.com/scikit-learn/scikit-learn/issues/21755 */\n",
       "  display: inline-block !important;\n",
       "  position: relative;\n",
       "}\n",
       "\n",
       "#sk-container-id-1 div.sk-text-repr-fallback {\n",
       "  display: none;\n",
       "}\n",
       "\n",
       "div.sk-parallel-item,\n",
       "div.sk-serial,\n",
       "div.sk-item {\n",
       "  /* draw centered vertical line to link estimators */\n",
       "  background-image: linear-gradient(var(--sklearn-color-text-on-default-background), var(--sklearn-color-text-on-default-background));\n",
       "  background-size: 2px 100%;\n",
       "  background-repeat: no-repeat;\n",
       "  background-position: center center;\n",
       "}\n",
       "\n",
       "/* Parallel-specific style estimator block */\n",
       "\n",
       "#sk-container-id-1 div.sk-parallel-item::after {\n",
       "  content: \"\";\n",
       "  width: 100%;\n",
       "  border-bottom: 2px solid var(--sklearn-color-text-on-default-background);\n",
       "  flex-grow: 1;\n",
       "}\n",
       "\n",
       "#sk-container-id-1 div.sk-parallel {\n",
       "  display: flex;\n",
       "  align-items: stretch;\n",
       "  justify-content: center;\n",
       "  background-color: var(--sklearn-color-background);\n",
       "  position: relative;\n",
       "}\n",
       "\n",
       "#sk-container-id-1 div.sk-parallel-item {\n",
       "  display: flex;\n",
       "  flex-direction: column;\n",
       "}\n",
       "\n",
       "#sk-container-id-1 div.sk-parallel-item:first-child::after {\n",
       "  align-self: flex-end;\n",
       "  width: 50%;\n",
       "}\n",
       "\n",
       "#sk-container-id-1 div.sk-parallel-item:last-child::after {\n",
       "  align-self: flex-start;\n",
       "  width: 50%;\n",
       "}\n",
       "\n",
       "#sk-container-id-1 div.sk-parallel-item:only-child::after {\n",
       "  width: 0;\n",
       "}\n",
       "\n",
       "/* Serial-specific style estimator block */\n",
       "\n",
       "#sk-container-id-1 div.sk-serial {\n",
       "  display: flex;\n",
       "  flex-direction: column;\n",
       "  align-items: center;\n",
       "  background-color: var(--sklearn-color-background);\n",
       "  padding-right: 1em;\n",
       "  padding-left: 1em;\n",
       "}\n",
       "\n",
       "\n",
       "/* Toggleable style: style used for estimator/Pipeline/ColumnTransformer box that is\n",
       "clickable and can be expanded/collapsed.\n",
       "- Pipeline and ColumnTransformer use this feature and define the default style\n",
       "- Estimators will overwrite some part of the style using the `sk-estimator` class\n",
       "*/\n",
       "\n",
       "/* Pipeline and ColumnTransformer style (default) */\n",
       "\n",
       "#sk-container-id-1 div.sk-toggleable {\n",
       "  /* Default theme specific background. It is overwritten whether we have a\n",
       "  specific estimator or a Pipeline/ColumnTransformer */\n",
       "  background-color: var(--sklearn-color-background);\n",
       "}\n",
       "\n",
       "/* Toggleable label */\n",
       "#sk-container-id-1 label.sk-toggleable__label {\n",
       "  cursor: pointer;\n",
       "  display: flex;\n",
       "  width: 100%;\n",
       "  margin-bottom: 0;\n",
       "  padding: 0.5em;\n",
       "  box-sizing: border-box;\n",
       "  text-align: center;\n",
       "  align-items: start;\n",
       "  justify-content: space-between;\n",
       "  gap: 0.5em;\n",
       "}\n",
       "\n",
       "#sk-container-id-1 label.sk-toggleable__label .caption {\n",
       "  font-size: 0.6rem;\n",
       "  font-weight: lighter;\n",
       "  color: var(--sklearn-color-text-muted);\n",
       "}\n",
       "\n",
       "#sk-container-id-1 label.sk-toggleable__label-arrow:before {\n",
       "  /* Arrow on the left of the label */\n",
       "  content: \"▸\";\n",
       "  float: left;\n",
       "  margin-right: 0.25em;\n",
       "  color: var(--sklearn-color-icon);\n",
       "}\n",
       "\n",
       "#sk-container-id-1 label.sk-toggleable__label-arrow:hover:before {\n",
       "  color: var(--sklearn-color-text);\n",
       "}\n",
       "\n",
       "/* Toggleable content - dropdown */\n",
       "\n",
       "#sk-container-id-1 div.sk-toggleable__content {\n",
       "  max-height: 0;\n",
       "  max-width: 0;\n",
       "  overflow: hidden;\n",
       "  text-align: left;\n",
       "  /* unfitted */\n",
       "  background-color: var(--sklearn-color-unfitted-level-0);\n",
       "}\n",
       "\n",
       "#sk-container-id-1 div.sk-toggleable__content.fitted {\n",
       "  /* fitted */\n",
       "  background-color: var(--sklearn-color-fitted-level-0);\n",
       "}\n",
       "\n",
       "#sk-container-id-1 div.sk-toggleable__content pre {\n",
       "  margin: 0.2em;\n",
       "  border-radius: 0.25em;\n",
       "  color: var(--sklearn-color-text);\n",
       "  /* unfitted */\n",
       "  background-color: var(--sklearn-color-unfitted-level-0);\n",
       "}\n",
       "\n",
       "#sk-container-id-1 div.sk-toggleable__content.fitted pre {\n",
       "  /* unfitted */\n",
       "  background-color: var(--sklearn-color-fitted-level-0);\n",
       "}\n",
       "\n",
       "#sk-container-id-1 input.sk-toggleable__control:checked~div.sk-toggleable__content {\n",
       "  /* Expand drop-down */\n",
       "  max-height: 200px;\n",
       "  max-width: 100%;\n",
       "  overflow: auto;\n",
       "}\n",
       "\n",
       "#sk-container-id-1 input.sk-toggleable__control:checked~label.sk-toggleable__label-arrow:before {\n",
       "  content: \"▾\";\n",
       "}\n",
       "\n",
       "/* Pipeline/ColumnTransformer-specific style */\n",
       "\n",
       "#sk-container-id-1 div.sk-label input.sk-toggleable__control:checked~label.sk-toggleable__label {\n",
       "  color: var(--sklearn-color-text);\n",
       "  background-color: var(--sklearn-color-unfitted-level-2);\n",
       "}\n",
       "\n",
       "#sk-container-id-1 div.sk-label.fitted input.sk-toggleable__control:checked~label.sk-toggleable__label {\n",
       "  background-color: var(--sklearn-color-fitted-level-2);\n",
       "}\n",
       "\n",
       "/* Estimator-specific style */\n",
       "\n",
       "/* Colorize estimator box */\n",
       "#sk-container-id-1 div.sk-estimator input.sk-toggleable__control:checked~label.sk-toggleable__label {\n",
       "  /* unfitted */\n",
       "  background-color: var(--sklearn-color-unfitted-level-2);\n",
       "}\n",
       "\n",
       "#sk-container-id-1 div.sk-estimator.fitted input.sk-toggleable__control:checked~label.sk-toggleable__label {\n",
       "  /* fitted */\n",
       "  background-color: var(--sklearn-color-fitted-level-2);\n",
       "}\n",
       "\n",
       "#sk-container-id-1 div.sk-label label.sk-toggleable__label,\n",
       "#sk-container-id-1 div.sk-label label {\n",
       "  /* The background is the default theme color */\n",
       "  color: var(--sklearn-color-text-on-default-background);\n",
       "}\n",
       "\n",
       "/* On hover, darken the color of the background */\n",
       "#sk-container-id-1 div.sk-label:hover label.sk-toggleable__label {\n",
       "  color: var(--sklearn-color-text);\n",
       "  background-color: var(--sklearn-color-unfitted-level-2);\n",
       "}\n",
       "\n",
       "/* Label box, darken color on hover, fitted */\n",
       "#sk-container-id-1 div.sk-label.fitted:hover label.sk-toggleable__label.fitted {\n",
       "  color: var(--sklearn-color-text);\n",
       "  background-color: var(--sklearn-color-fitted-level-2);\n",
       "}\n",
       "\n",
       "/* Estimator label */\n",
       "\n",
       "#sk-container-id-1 div.sk-label label {\n",
       "  font-family: monospace;\n",
       "  font-weight: bold;\n",
       "  display: inline-block;\n",
       "  line-height: 1.2em;\n",
       "}\n",
       "\n",
       "#sk-container-id-1 div.sk-label-container {\n",
       "  text-align: center;\n",
       "}\n",
       "\n",
       "/* Estimator-specific */\n",
       "#sk-container-id-1 div.sk-estimator {\n",
       "  font-family: monospace;\n",
       "  border: 1px dotted var(--sklearn-color-border-box);\n",
       "  border-radius: 0.25em;\n",
       "  box-sizing: border-box;\n",
       "  margin-bottom: 0.5em;\n",
       "  /* unfitted */\n",
       "  background-color: var(--sklearn-color-unfitted-level-0);\n",
       "}\n",
       "\n",
       "#sk-container-id-1 div.sk-estimator.fitted {\n",
       "  /* fitted */\n",
       "  background-color: var(--sklearn-color-fitted-level-0);\n",
       "}\n",
       "\n",
       "/* on hover */\n",
       "#sk-container-id-1 div.sk-estimator:hover {\n",
       "  /* unfitted */\n",
       "  background-color: var(--sklearn-color-unfitted-level-2);\n",
       "}\n",
       "\n",
       "#sk-container-id-1 div.sk-estimator.fitted:hover {\n",
       "  /* fitted */\n",
       "  background-color: var(--sklearn-color-fitted-level-2);\n",
       "}\n",
       "\n",
       "/* Specification for estimator info (e.g. \"i\" and \"?\") */\n",
       "\n",
       "/* Common style for \"i\" and \"?\" */\n",
       "\n",
       ".sk-estimator-doc-link,\n",
       "a:link.sk-estimator-doc-link,\n",
       "a:visited.sk-estimator-doc-link {\n",
       "  float: right;\n",
       "  font-size: smaller;\n",
       "  line-height: 1em;\n",
       "  font-family: monospace;\n",
       "  background-color: var(--sklearn-color-background);\n",
       "  border-radius: 1em;\n",
       "  height: 1em;\n",
       "  width: 1em;\n",
       "  text-decoration: none !important;\n",
       "  margin-left: 0.5em;\n",
       "  text-align: center;\n",
       "  /* unfitted */\n",
       "  border: var(--sklearn-color-unfitted-level-1) 1pt solid;\n",
       "  color: var(--sklearn-color-unfitted-level-1);\n",
       "}\n",
       "\n",
       ".sk-estimator-doc-link.fitted,\n",
       "a:link.sk-estimator-doc-link.fitted,\n",
       "a:visited.sk-estimator-doc-link.fitted {\n",
       "  /* fitted */\n",
       "  border: var(--sklearn-color-fitted-level-1) 1pt solid;\n",
       "  color: var(--sklearn-color-fitted-level-1);\n",
       "}\n",
       "\n",
       "/* On hover */\n",
       "div.sk-estimator:hover .sk-estimator-doc-link:hover,\n",
       ".sk-estimator-doc-link:hover,\n",
       "div.sk-label-container:hover .sk-estimator-doc-link:hover,\n",
       ".sk-estimator-doc-link:hover {\n",
       "  /* unfitted */\n",
       "  background-color: var(--sklearn-color-unfitted-level-3);\n",
       "  color: var(--sklearn-color-background);\n",
       "  text-decoration: none;\n",
       "}\n",
       "\n",
       "div.sk-estimator.fitted:hover .sk-estimator-doc-link.fitted:hover,\n",
       ".sk-estimator-doc-link.fitted:hover,\n",
       "div.sk-label-container:hover .sk-estimator-doc-link.fitted:hover,\n",
       ".sk-estimator-doc-link.fitted:hover {\n",
       "  /* fitted */\n",
       "  background-color: var(--sklearn-color-fitted-level-3);\n",
       "  color: var(--sklearn-color-background);\n",
       "  text-decoration: none;\n",
       "}\n",
       "\n",
       "/* Span, style for the box shown on hovering the info icon */\n",
       ".sk-estimator-doc-link span {\n",
       "  display: none;\n",
       "  z-index: 9999;\n",
       "  position: relative;\n",
       "  font-weight: normal;\n",
       "  right: .2ex;\n",
       "  padding: .5ex;\n",
       "  margin: .5ex;\n",
       "  width: min-content;\n",
       "  min-width: 20ex;\n",
       "  max-width: 50ex;\n",
       "  color: var(--sklearn-color-text);\n",
       "  box-shadow: 2pt 2pt 4pt #999;\n",
       "  /* unfitted */\n",
       "  background: var(--sklearn-color-unfitted-level-0);\n",
       "  border: .5pt solid var(--sklearn-color-unfitted-level-3);\n",
       "}\n",
       "\n",
       ".sk-estimator-doc-link.fitted span {\n",
       "  /* fitted */\n",
       "  background: var(--sklearn-color-fitted-level-0);\n",
       "  border: var(--sklearn-color-fitted-level-3);\n",
       "}\n",
       "\n",
       ".sk-estimator-doc-link:hover span {\n",
       "  display: block;\n",
       "}\n",
       "\n",
       "/* \"?\"-specific style due to the `<a>` HTML tag */\n",
       "\n",
       "#sk-container-id-1 a.estimator_doc_link {\n",
       "  float: right;\n",
       "  font-size: 1rem;\n",
       "  line-height: 1em;\n",
       "  font-family: monospace;\n",
       "  background-color: var(--sklearn-color-background);\n",
       "  border-radius: 1rem;\n",
       "  height: 1rem;\n",
       "  width: 1rem;\n",
       "  text-decoration: none;\n",
       "  /* unfitted */\n",
       "  color: var(--sklearn-color-unfitted-level-1);\n",
       "  border: var(--sklearn-color-unfitted-level-1) 1pt solid;\n",
       "}\n",
       "\n",
       "#sk-container-id-1 a.estimator_doc_link.fitted {\n",
       "  /* fitted */\n",
       "  border: var(--sklearn-color-fitted-level-1) 1pt solid;\n",
       "  color: var(--sklearn-color-fitted-level-1);\n",
       "}\n",
       "\n",
       "/* On hover */\n",
       "#sk-container-id-1 a.estimator_doc_link:hover {\n",
       "  /* unfitted */\n",
       "  background-color: var(--sklearn-color-unfitted-level-3);\n",
       "  color: var(--sklearn-color-background);\n",
       "  text-decoration: none;\n",
       "}\n",
       "\n",
       "#sk-container-id-1 a.estimator_doc_link.fitted:hover {\n",
       "  /* fitted */\n",
       "  background-color: var(--sklearn-color-fitted-level-3);\n",
       "}\n",
       "</style><div id=\"sk-container-id-1\" class=\"sk-top-container\"><div class=\"sk-text-repr-fallback\"><pre>GradientBoostingClassifier(max_depth=4, n_estimators=300)</pre><b>In a Jupyter environment, please rerun this cell to show the HTML representation or trust the notebook. <br />On GitHub, the HTML representation is unable to render, please try loading this page with nbviewer.org.</b></div><div class=\"sk-container\" hidden><div class=\"sk-item\"><div class=\"sk-estimator fitted sk-toggleable\"><input class=\"sk-toggleable__control sk-hidden--visually\" id=\"sk-estimator-id-1\" type=\"checkbox\" checked><label for=\"sk-estimator-id-1\" class=\"sk-toggleable__label fitted sk-toggleable__label-arrow\"><div><div>GradientBoostingClassifier</div></div><div><a class=\"sk-estimator-doc-link fitted\" rel=\"noreferrer\" target=\"_blank\" href=\"https://scikit-learn.org/1.6/modules/generated/sklearn.ensemble.GradientBoostingClassifier.html\">?<span>Documentation for GradientBoostingClassifier</span></a><span class=\"sk-estimator-doc-link fitted\">i<span>Fitted</span></span></div></label><div class=\"sk-toggleable__content fitted\"><pre>GradientBoostingClassifier(max_depth=4, n_estimators=300)</pre></div> </div></div></div></div>"
      ],
      "text/plain": [
       "GradientBoostingClassifier(max_depth=4, n_estimators=300)"
      ]
     },
     "execution_count": 10,
     "metadata": {},
     "output_type": "execute_result"
    }
   ],
   "source": [
    "# model.fit(X_mmp_train, y_mmp_train)\n",
    "\n",
    "\n",
    "\n"
   ]
  },
  {
   "cell_type": "code",
   "execution_count": null,
   "id": "c6b6297e-55a3-4c95-aeb8-d2952007abf4",
   "metadata": {},
   "outputs": [],
   "source": [
    "# with open('GradientBoosting.pkl', 'wb') as f:\n",
    "#     pickle.dump(model, f)"
   ]
  },
  {
   "cell_type": "code",
   "execution_count": null,
   "id": "91c1f0a0-309e-43df-8058-1f032fcaffbc",
   "metadata": {},
   "outputs": [],
   "source": [
    "# mmp_train['proba_non_toxic'], mmp_train['proba_toxic'] = cross_val_predict(\n",
    "#     estimator=model,\n",
    "#     X=X_mmp_train,\n",
    "#     y=y_mmp_train,\n",
    "#     cv=5,\n",
    "#     method='predict_proba'\n",
    "# ).T\n",
    "\n",
    "# precision, recall, threshold = precision_recall_curve(\n",
    "#     mmp_train[\"SR.MMP\"], \n",
    "#     mmp_train['proba_toxic']\n",
    "# )\n",
    "\n",
    "# print(f'precision- {precision}')\n",
    "# print(f'recall- {recall}')\n",
    "# print(f'threshold- {threshold}')\n",
    "\n",
    "# scores = pd.DataFrame({\n",
    "#     'threshold': threshold,\n",
    "#     'precision': precision[:-1],\n",
    "#     'recall': recall[:-1]\n",
    "# })\n"
   ]
  },
  {
   "cell_type": "code",
   "execution_count": null,
   "id": "b07850dd-48f6-4e67-98d4-b439729a9a99",
   "metadata": {},
   "outputs": [],
   "source": [
    "# # Step 1: Get precision, recall, and thresholds from predicted probabilities\n",
    "# precision, recall, thresholds = precision_recall_curve(\n",
    "#     mmp_train[\"SR.MMP\"], \n",
    "#     mmp_train[\"proba_toxic\"]\n",
    "# )\n",
    "\n",
    "# # Step 2: Compute F1 score for each threshold\n",
    "# f1_scores = 2 * (precision * recall) / (precision + recall + 1e-8)\n",
    "\n",
    "# # Step 3: Find the best threshold that maximizes F1\n",
    "# best_idx = np.argmax(f1_scores)\n",
    "# best_threshold = thresholds[best_idx]\n",
    "# max_f1 = f1_scores[best_idx]\n",
    "\n",
    "# print(f\"Best Threshold for Max F1: {best_threshold:.4f}\")\n",
    "# print(f\"Max F1 Score: {max_f1:.4f}\")\n",
    "\n",
    "# # Step 4: Apply the best threshold to make binary predictions\n",
    "# mmp_train[\"predicted_class\"] = (mmp_train[\"proba_toxic\"] >= best_threshold).astype(int)\n",
    "\n",
    "# # Step 5: Evaluate the final classification performance\n",
    "# print(\"\\nClassification Report:\")\n",
    "# print(classification_report(\n",
    "#     mmp_train[\"SR.MMP\"], \n",
    "#     mmp_train[\"predicted_class\"]\n",
    "# ))\n",
    "\n",
    "# # Step 6: Optional — Plot F1 vs Threshold\n",
    "# plt.plot(thresholds, f1_scores[:-1])\n",
    "# plt.xlabel(\"Threshold\")\n",
    "# plt.ylabel(\"F1 Score\")\n",
    "# plt.title(\"F1 Score vs. Threshold\")\n",
    "# plt.grid(True)\n",
    "# plt.show()"
   ]
  },
  {
   "cell_type": "markdown",
   "id": "ae6474b2-0cfd-4eb2-acaf-5e24dc65ba4e",
   "metadata": {
    "jp-MarkdownHeadingCollapsed": true
   },
   "source": [
    "## Neural networks"
   ]
  },
  {
   "cell_type": "code",
   "execution_count": null,
   "id": "f2ce022b-5226-46e4-b8f7-9d0298146c98",
   "metadata": {},
   "outputs": [],
   "source": [
    "scaler = StandardScaler()\n",
    "X_mmp_train_scaled = scaler.fit_transform(X_mmp_train)"
   ]
  },
  {
   "cell_type": "code",
   "execution_count": null,
   "id": "6b0b0ef8-6964-43e8-a012-eac6589ef03b",
   "metadata": {},
   "outputs": [],
   "source": [
    "print(X_mmp_train_scaled)"
   ]
  },
  {
   "cell_type": "code",
   "execution_count": 30,
   "id": "7ea420d7-a2ba-434c-9296-1a9000de3caf",
   "metadata": {
    "execution": {
     "iopub.execute_input": "2025-06-17T07:42:49.028780Z",
     "iopub.status.busy": "2025-06-17T07:42:49.027167Z",
     "iopub.status.idle": "2025-06-17T07:42:49.096165Z",
     "shell.execute_reply": "2025-06-17T07:42:49.091673Z",
     "shell.execute_reply.started": "2025-06-17T07:42:49.028701Z"
    }
   },
   "outputs": [
    {
     "ename": "NameError",
     "evalue": "name 'X_mmp_train_scaled' is not defined",
     "output_type": "error",
     "traceback": [
      "\u001b[0;31m---------------------------------------------------------------------------\u001b[0m",
      "\u001b[0;31mNameError\u001b[0m                                 Traceback (most recent call last)",
      "Cell \u001b[0;32mIn[30], line 4\u001b[0m\n\u001b[1;32m      1\u001b[0m \u001b[38;5;28;01mfrom\u001b[39;00m\u001b[38;5;250m \u001b[39m\u001b[38;5;21;01mtensorflow\u001b[39;00m\u001b[38;5;21;01m.\u001b[39;00m\u001b[38;5;21;01mkeras\u001b[39;00m\u001b[38;5;21;01m.\u001b[39;00m\u001b[38;5;21;01mlayers\u001b[39;00m\u001b[38;5;250m \u001b[39m\u001b[38;5;28;01mimport\u001b[39;00m Dropout\n\u001b[1;32m      3\u001b[0m model \u001b[38;5;241m=\u001b[39m Sequential([\n\u001b[0;32m----> 4\u001b[0m     Input(shape\u001b[38;5;241m=\u001b[39m(\u001b[43mX_mmp_train_scaled\u001b[49m\u001b[38;5;241m.\u001b[39mshape[\u001b[38;5;241m1\u001b[39m],)),  \n\u001b[1;32m      5\u001b[0m     Dense(\u001b[38;5;241m64\u001b[39m, activation\u001b[38;5;241m=\u001b[39m\u001b[38;5;124m'\u001b[39m\u001b[38;5;124mrelu\u001b[39m\u001b[38;5;124m'\u001b[39m, kernel_regularizer\u001b[38;5;241m=\u001b[39ml2(\u001b[38;5;241m0.0005\u001b[39m)),\n\u001b[1;32m      6\u001b[0m     Dense(\u001b[38;5;241m32\u001b[39m, activation\u001b[38;5;241m=\u001b[39m\u001b[38;5;124m'\u001b[39m\u001b[38;5;124mrelu\u001b[39m\u001b[38;5;124m'\u001b[39m, kernel_regularizer\u001b[38;5;241m=\u001b[39ml2(\u001b[38;5;241m0.0005\u001b[39m)),\n\u001b[1;32m      7\u001b[0m     Dense(\u001b[38;5;241m1\u001b[39m, activation\u001b[38;5;241m=\u001b[39m\u001b[38;5;124m'\u001b[39m\u001b[38;5;124msigmoid\u001b[39m\u001b[38;5;124m'\u001b[39m)\n\u001b[1;32m      8\u001b[0m ])\n\u001b[1;32m     11\u001b[0m \u001b[38;5;66;03m# #0.0005 or 0.0001\u001b[39;00m\n\u001b[1;32m     15\u001b[0m model\u001b[38;5;241m.\u001b[39mcompile(optimizer\u001b[38;5;241m=\u001b[39m\u001b[38;5;124m'\u001b[39m\u001b[38;5;124madam\u001b[39m\u001b[38;5;124m'\u001b[39m, loss\u001b[38;5;241m=\u001b[39m\u001b[38;5;124m'\u001b[39m\u001b[38;5;124mbinary_crossentropy\u001b[39m\u001b[38;5;124m'\u001b[39m, metrics\u001b[38;5;241m=\u001b[39m[\u001b[38;5;124m'\u001b[39m\u001b[38;5;124mrecall\u001b[39m\u001b[38;5;124m'\u001b[39m,\u001b[38;5;124m'\u001b[39m\u001b[38;5;124mprecision\u001b[39m\u001b[38;5;124m'\u001b[39m])\n",
      "\u001b[0;31mNameError\u001b[0m: name 'X_mmp_train_scaled' is not defined"
     ]
    }
   ],
   "source": [
    "from tensorflow.keras.layers import Dropout\n",
    "\n",
    "model = Sequential([\n",
    "    Input(shape=(X_mmp_train_scaled.shape[1],)),  \n",
    "    Dense(64, activation='relu', kernel_regularizer=l2(0.0005)),\n",
    "    Dense(32, activation='relu', kernel_regularizer=l2(0.0005)),\n",
    "    Dense(1, activation='sigmoid')\n",
    "])\n",
    "\n",
    "\n",
    "# #0.0005 or 0.0001\n",
    "\n",
    "\n",
    "\n",
    "model.compile(optimizer='adam', loss='binary_crossentropy', metrics=['recall','precision'])\n",
    "\n",
    "\n",
    "\n",
    "early_stop = EarlyStopping(patience=5, restore_best_weights=True)"
   ]
  },
  {
   "cell_type": "code",
   "execution_count": null,
   "id": "96c45385-a8b2-4d0e-b944-55a4afccec36",
   "metadata": {},
   "outputs": [],
   "source": [
    "history = model.fit(X_mmp_train_scaled, y_mmp_train, validation_split=0.2,\n",
    "          epochs=50, batch_size=32, callbacks=[early_stop])"
   ]
  },
  {
   "cell_type": "code",
   "execution_count": null,
   "id": "8187c739-b9c7-45a5-bd0e-f512933451a8",
   "metadata": {},
   "outputs": [],
   "source": [
    "import matplotlib.pyplot as plt\n",
    "\n",
    "plt.plot(history.history['loss'], label='Train Loss')\n",
    "plt.plot(history.history['val_loss'], label='Val Loss')\n",
    "plt.title('Learning Curve')\n",
    "plt.xlabel('Epochs')\n",
    "plt.ylabel('Loss')\n",
    "plt.legend()\n",
    "plt.show()"
   ]
  },
  {
   "cell_type": "code",
   "execution_count": null,
   "id": "fa4c685e-8d46-4f62-a663-92de83045abf",
   "metadata": {},
   "outputs": [],
   "source": [
    "# model_2 = Sequential([\n",
    "#     Dense(64, input_dim=X_mmp_train_scaled.shape[1], activation='relu'),\n",
    "#     Dropout(0.3),\n",
    "#     Dense(32, activation='relu'),\n",
    "#     Dropout(0.3),\n",
    "#     Dense(1, activation='sigmoid')  \n",
    "# ])"
   ]
  },
  {
   "cell_type": "code",
   "execution_count": null,
   "id": "7a4adaa5-4b76-472c-ba53-7fde87b7dcd0",
   "metadata": {},
   "outputs": [],
   "source": [
    "# model_2.compile(optimizer='adam', loss='binary_crossentropy', metrics=['recall','precision'])"
   ]
  },
  {
   "cell_type": "code",
   "execution_count": null,
   "id": "0271a84c-76dc-43b5-a715-ab3ec4d2afd2",
   "metadata": {},
   "outputs": [],
   "source": [
    "# history_2 = model_2.fit(X_mmp_train_scaled, y_mmp_train, epochs=50, batch_size=32, validation_split=0.2, verbose=1)"
   ]
  },
  {
   "cell_type": "code",
   "execution_count": null,
   "id": "0b8b580b-9dcf-4e1e-9b32-37d089db2192",
   "metadata": {
    "scrolled": true
   },
   "outputs": [],
   "source": [
    "# y_probs = model_2.predict(X_val).flatten()\n",
    "# thresholds = np.arange(0.1, 0.9, 0.01)\n",
    "# f1_scores = [f1_score(y_val, y_probs > t) for t in thresholds]\n",
    "\n",
    "# best_threshold = thresholds[np.argmax(f1_scores)]\n",
    "# best_f1 = max(f1_scores)\n",
    "\n",
    "# print(f\"Best F1: {best_f1:.4f} at threshold {best_threshold:.2f}\")"
   ]
  },
  {
   "cell_type": "code",
   "execution_count": null,
   "id": "4feaebda-80f9-414f-a422-6f772c6d8f3b",
   "metadata": {},
   "outputs": [],
   "source": [
    "from imblearn.over_sampling import SMOTE\n",
    "from sklearn.model_selection import train_test_split\n",
    "\n",
    "# Step 1: Train/Test split (do this BEFORE applying SMOTE)\n",
    "X_train, X_test, y_train, y_test = train_test_split(X_mmp_train_scaled, y_mmp_train, stratify=y_mmp_train, test_size=0.2, random_state=42)\n",
    "\n",
    "# Step 2: Apply SMOTE to the training set only\n",
    "smote = SMOTE(random_state=42)\n",
    "X_train_resampled, y_train_resampled = smote.fit_resample(X_train, y_train)\n"
   ]
  },
  {
   "cell_type": "code",
   "execution_count": null,
   "id": "cabe6c05-7f64-46b9-a034-001cddc23c65",
   "metadata": {},
   "outputs": [],
   "source": [
    "pd.Series(y_train_resampled).value_counts()"
   ]
  },
  {
   "cell_type": "code",
   "execution_count": null,
   "id": "6f32f6ef-f7f2-4b1f-84a1-257378ab80e9",
   "metadata": {},
   "outputs": [],
   "source": [
    "neural_network = Sequential([\n",
    "    Input(shape=(X_train_resampled.shape[1],)),  \n",
    "    Dense(64, activation='relu', kernel_regularizer=l2(0.0005)),\n",
    "    Dense(32, activation='relu', kernel_regularizer=l2(0.0005)),\n",
    "    Dense(1, activation='sigmoid')\n",
    "])\n"
   ]
  },
  {
   "cell_type": "code",
   "execution_count": null,
   "id": "289e7f9f-7431-4a3c-a98a-4db5fd4fc002",
   "metadata": {},
   "outputs": [],
   "source": [
    "neural_network.compile(optimizer='adam', loss='binary_crossentropy', metrics=['recall','precision'])\n",
    "\n",
    "\n",
    "\n",
    "early_stop = EarlyStopping(patience=5, restore_best_weights=True)"
   ]
  },
  {
   "cell_type": "code",
   "execution_count": null,
   "id": "37c8ffaa-6105-4ed6-b9cf-e690932d08c8",
   "metadata": {},
   "outputs": [],
   "source": [
    "history = neural_network .fit(X_train_resampled, y_train_resampled,\n",
    "          epochs=50, batch_size=32)"
   ]
  },
  {
   "cell_type": "code",
   "execution_count": null,
   "id": "f79d6adf-48c9-4d9e-9d16-2953c23d7c01",
   "metadata": {},
   "outputs": [],
   "source": [
    "plt.plot(history.history['loss'], label='Train Loss')\n",
    "plt.plot(history.history['val_loss'], label='Val Loss')\n",
    "plt.title('Learning Curve')\n",
    "plt.xlabel('Epochs')\n",
    "plt.ylabel('Loss')\n",
    "plt.legend()\n",
    "plt.show()"
   ]
  },
  {
   "cell_type": "markdown",
   "id": "89e1998c-ff5d-492b-af71-26204eb2a87c",
   "metadata": {
    "jp-MarkdownHeadingCollapsed": true
   },
   "source": [
    "# Loading Test Data"
   ]
  },
  {
   "cell_type": "code",
   "execution_count": 22,
   "id": "d971c06c-ab7c-4036-b9f4-9ca3f6b505c3",
   "metadata": {
    "execution": {
     "iopub.execute_input": "2025-06-17T07:38:02.664859Z",
     "iopub.status.busy": "2025-06-17T07:38:02.664064Z",
     "iopub.status.idle": "2025-06-17T07:38:02.748605Z",
     "shell.execute_reply": "2025-06-17T07:38:02.748044Z",
     "shell.execute_reply.started": "2025-06-17T07:38:02.664805Z"
    }
   },
   "outputs": [],
   "source": [
    "path_features_test = \"../code/elcinelif/toxikind/raw_data/tox21_dense_test.csv.gz\"\n",
    "X_mmp_test = pd.read_csv(path_features_test).set_index(\"Unnamed: 0\")\n",
    "path_targets_test = \"../code/elcinelif/toxikind/raw_data/tox21_labels_test.csv.gz\"\n",
    "y_test = pd.read_csv(path_targets_test).set_index(\"Unnamed: 0\")\n",
    "y_mmp_test = y_test[[\"SR.MMP\"]].dropna()"
   ]
  },
  {
   "cell_type": "code",
   "execution_count": 23,
   "id": "05405c94-021a-4b4f-ae60-2468e7c2c0a6",
   "metadata": {
    "execution": {
     "iopub.execute_input": "2025-06-17T07:38:03.261020Z",
     "iopub.status.busy": "2025-06-17T07:38:03.260382Z",
     "iopub.status.idle": "2025-06-17T07:38:03.280914Z",
     "shell.execute_reply": "2025-06-17T07:38:03.280312Z",
     "shell.execute_reply.started": "2025-06-17T07:38:03.260969Z"
    }
   },
   "outputs": [],
   "source": [
    "mmp_test = X_mmp_test.merge(y_mmp_test, how=\"inner\", on=\"Unnamed: 0\")"
   ]
  },
  {
   "cell_type": "markdown",
   "id": "2b3cf563-f905-4e3e-bbcb-3edc95d247d3",
   "metadata": {
    "execution": {
     "iopub.execute_input": "2025-06-17T02:48:19.521565Z",
     "iopub.status.busy": "2025-06-17T02:48:19.521223Z",
     "iopub.status.idle": "2025-06-17T02:48:19.526565Z",
     "shell.execute_reply": "2025-06-17T02:48:19.524447Z",
     "shell.execute_reply.started": "2025-06-17T02:48:19.521540Z"
    }
   },
   "source": [
    "### Splitting test data again "
   ]
  },
  {
   "cell_type": "code",
   "execution_count": 24,
   "id": "88498c45-6bb7-494f-a824-7d0c527425d9",
   "metadata": {
    "execution": {
     "iopub.execute_input": "2025-06-17T07:38:05.733957Z",
     "iopub.status.busy": "2025-06-17T07:38:05.733459Z",
     "iopub.status.idle": "2025-06-17T07:38:05.747128Z",
     "shell.execute_reply": "2025-06-17T07:38:05.746552Z",
     "shell.execute_reply.started": "2025-06-17T07:38:05.733932Z"
    }
   },
   "outputs": [],
   "source": [
    "X_mmp_test = mmp_test.drop(columns=[\"SR.MMP\"]).to_numpy()\n",
    "y_mmp_test = mmp_test[\"SR.MMP\"].to_numpy()"
   ]
  },
  {
   "cell_type": "code",
   "execution_count": 25,
   "id": "587c225e-9c62-4c94-b313-59111aa872fc",
   "metadata": {
    "execution": {
     "iopub.execute_input": "2025-06-17T07:38:09.142766Z",
     "iopub.status.busy": "2025-06-17T07:38:09.142334Z",
     "iopub.status.idle": "2025-06-17T07:38:09.158685Z",
     "shell.execute_reply": "2025-06-17T07:38:09.158143Z",
     "shell.execute_reply.started": "2025-06-17T07:38:09.142743Z"
    }
   },
   "outputs": [],
   "source": [
    "importances = model.feature_importances_\n",
    "top_indices = np.argsort(importances)[::-1][:80]\n",
    "X_new = X_mmp_train[:, top_indices]"
   ]
  },
  {
   "cell_type": "code",
   "execution_count": 26,
   "id": "ca01cee6-1038-4346-8517-dcfda2e32790",
   "metadata": {
    "execution": {
     "iopub.execute_input": "2025-06-17T07:38:13.047382Z",
     "iopub.status.busy": "2025-06-17T07:38:13.046808Z",
     "iopub.status.idle": "2025-06-17T07:38:13.053294Z",
     "shell.execute_reply": "2025-06-17T07:38:13.052172Z",
     "shell.execute_reply.started": "2025-06-17T07:38:13.047353Z"
    }
   },
   "outputs": [
    {
     "data": {
      "text/plain": [
       "array([[ 7.533e+00,  0.000e+00,  1.908e+00, ..., -3.900e-02,  8.810e-01,\n",
       "         8.000e-02],\n",
       "       [ 5.007e+00,  0.000e+00,  1.705e+00, ..., -3.500e-02,  1.310e-01,\n",
       "         1.790e-01],\n",
       "       [ 3.188e+00,  0.000e+00,  1.713e+00, ...,  4.000e-03,  1.770e-01,\n",
       "         4.000e-02],\n",
       "       ...,\n",
       "       [ 8.905e+00,  0.000e+00,  1.897e+00, ...,  1.000e-01,  4.550e-01,\n",
       "        -5.600e-02],\n",
       "       [ 1.340e+00,  5.750e+00,  1.700e+00, ...,  1.290e-01,  1.953e+00,\n",
       "        -1.000e-03],\n",
       "       [-8.956e+00,  5.750e+00,  1.827e+00, ...,  1.140e-01,  2.240e-01,\n",
       "         3.900e-02]])"
      ]
     },
     "execution_count": 26,
     "metadata": {},
     "output_type": "execute_result"
    }
   ],
   "source": [
    "X_new\n"
   ]
  },
  {
   "cell_type": "code",
   "execution_count": 27,
   "id": "601c8e3a-8050-4ffe-8d74-e6595d8fe309",
   "metadata": {
    "execution": {
     "iopub.execute_input": "2025-06-17T07:38:15.843637Z",
     "iopub.status.busy": "2025-06-17T07:38:15.843221Z",
     "iopub.status.idle": "2025-06-17T07:38:15.850383Z",
     "shell.execute_reply": "2025-06-17T07:38:15.848839Z",
     "shell.execute_reply.started": "2025-06-17T07:38:15.843592Z"
    }
   },
   "outputs": [],
   "source": [
    "model_reduced = GradientBoostingClassifier()"
   ]
  },
  {
   "cell_type": "code",
   "execution_count": 28,
   "id": "7bdca6ee-1cd8-4183-a422-79fe4d959294",
   "metadata": {
    "execution": {
     "iopub.execute_input": "2025-06-17T07:38:18.106317Z",
     "iopub.status.busy": "2025-06-17T07:38:18.105704Z",
     "iopub.status.idle": "2025-06-17T07:40:11.137842Z",
     "shell.execute_reply": "2025-06-17T07:40:11.137593Z",
     "shell.execute_reply.started": "2025-06-17T07:38:18.106276Z"
    }
   },
   "outputs": [
    {
     "name": "stdout",
     "output_type": "stream",
     "text": [
      "precision- [0.15612596 0.15614662 0.15616728 ... 1.         1.         1.        ]\n",
      "recall- [1.00000000e+00 1.00000000e+00 1.00000000e+00 ... 1.69491525e-03\n",
      " 8.47457627e-04 0.00000000e+00]\n",
      "threshold- [6.23810938e-04 8.19792191e-04 9.16737739e-04 ... 9.95970012e-01\n",
      " 9.96826574e-01 9.97058964e-01]\n"
     ]
    }
   ],
   "source": [
    "mmp_train['proba_non_toxic'], mmp_train['proba_toxic'] = cross_val_predict(\n",
    "    estimator=model,\n",
    "    X=X_new,\n",
    "    y=y_mmp_train,\n",
    "    cv=5,\n",
    "    method='predict_proba'\n",
    ").T\n",
    "\n",
    "precision, recall, threshold = precision_recall_curve(\n",
    "    mmp_train[\"SR.MMP\"], \n",
    "    mmp_train['proba_toxic']\n",
    ")\n",
    "\n",
    "print(f'precision- {precision}')\n",
    "print(f'recall- {recall}')\n",
    "print(f'threshold- {threshold}')\n",
    "\n",
    "scores = pd.DataFrame({\n",
    "    'threshold': threshold,\n",
    "    'precision': precision[:-1],\n",
    "    'recall': recall[:-1]\n",
    "})"
   ]
  },
  {
   "cell_type": "code",
   "execution_count": 29,
   "id": "c0fc6eac-63ac-4506-841f-c501707a8489",
   "metadata": {
    "execution": {
     "iopub.execute_input": "2025-06-17T07:40:11.138513Z",
     "iopub.status.busy": "2025-06-17T07:40:11.138427Z",
     "iopub.status.idle": "2025-06-17T07:40:11.197477Z",
     "shell.execute_reply": "2025-06-17T07:40:11.197260Z",
     "shell.execute_reply.started": "2025-06-17T07:40:11.138505Z"
    }
   },
   "outputs": [
    {
     "name": "stdout",
     "output_type": "stream",
     "text": [
      "Best Threshold for Max F1: 0.2326\n",
      "Max F1 Score: 0.6833\n",
      "\n",
      "Classification Report:\n",
      "              precision    recall  f1-score   support\n",
      "\n",
      "         0.0       0.95      0.92      0.94      6378\n",
      "         1.0       0.64      0.73      0.68      1180\n",
      "\n",
      "    accuracy                           0.89      7558\n",
      "   macro avg       0.79      0.83      0.81      7558\n",
      "weighted avg       0.90      0.89      0.90      7558\n",
      "\n"
     ]
    },
    {
     "data": {
      "image/png": "[encoded data removed]",
      "text/plain": [
       "<Figure size 640x480 with 1 Axes>"
      ]
     },
     "metadata": {},
     "output_type": "display_data"
    }
   ],
   "source": [
    "# Step 1: Get precision, recall, and thresholds from predicted probabilities\n",
    "precision, recall, thresholds = precision_recall_curve(\n",
    "    mmp_train[\"SR.MMP\"], \n",
    "    mmp_train[\"proba_toxic\"]\n",
    ")\n",
    "\n",
    "# Step 2: Compute F1 score for each threshold\n",
    "f1_scores = 2 * (precision * recall) / (precision + recall + 1e-8)\n",
    "\n",
    "# Step 3: Find the best threshold that maximizes F1\n",
    "best_idx = np.argmax(f1_scores)\n",
    "best_threshold = thresholds[best_idx]\n",
    "max_f1 = f1_scores[best_idx]\n",
    "\n",
    "print(f\"Best Threshold for Max F1: {best_threshold:.4f}\")\n",
    "print(f\"Max F1 Score: {max_f1:.4f}\")\n",
    "\n",
    "# Step 4: Apply the best threshold to make binary predictions\n",
    "mmp_train[\"predicted_class\"] = (mmp_train[\"proba_toxic\"] >= best_threshold).astype(int)\n",
    "\n",
    "# Step 5: Evaluate the final classification performance\n",
    "print(\"\\nClassification Report:\")\n",
    "print(classification_report(\n",
    "    mmp_train[\"SR.MMP\"], \n",
    "    mmp_train[\"predicted_class\"]\n",
    "))\n",
    "\n",
    "# Step 6: Optional — Plot F1 vs Threshold\n",
    "plt.plot(thresholds, f1_scores[:-1])\n",
    "plt.xlabel(\"Threshold\")\n",
    "plt.ylabel(\"F1 Score\")\n",
    "plt.title(\"F1 Score vs. Threshold\")\n",
    "plt.grid(True)\n",
    "plt.show()"
   ]
  },
  {
   "cell_type": "code",
   "execution_count": null,
   "id": "d02b60e8-9333-4833-8e3a-73d80b8d426b",
   "metadata": {},
   "outputs": [],
   "source": []
  }
 ],
 "metadata": {
  "kernelspec": {
   "display_name": "Python 3 (ipykernel)",
   "language": "python",
   "name": "python3"
  },
  "language_info": {
   "codemirror_mode": {
    "name": "ipython",
    "version": 3
   },
   "file_extension": ".py",
   "mimetype": "text/x-python",
   "name": "python",
   "nbconvert_exporter": "python",
   "pygments_lexer": "ipython3",
   "version": "3.12.9"
  }
 },
 "nbformat": 4,
 "nbformat_minor": 5
}
