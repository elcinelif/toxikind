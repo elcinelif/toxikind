{
 "cells": [
  {
   "cell_type": "markdown",
   "id": "9fa9bd65-fc44-4231-8711-b4cb174a3e3e",
   "metadata": {},
   "source": [
    "# Toxikind: Data Exploration + Baseline Re"
   ]
  },
  {
   "cell_type": "code",
   "execution_count": 4,
   "id": "f86f4291-1bb3-4314-828a-54924a4bc1bd",
   "metadata": {
    "execution": {
     "iopub.execute_input": "2025-06-10T13:06:27.743291Z",
     "iopub.status.busy": "2025-06-10T13:06:27.742850Z",
     "iopub.status.idle": "2025-06-10T13:06:27.830293Z",
     "shell.execute_reply": "2025-06-10T13:06:27.826167Z",
     "shell.execute_reply.started": "2025-06-10T13:06:27.743264Z"
    }
   },
   "outputs": [],
   "source": [
    "# OS I/O\n",
    "import os\n",
    "import pickle\n",
    "\n",
    "# Data handling\n",
    "import numpy as np\n",
    "import pandas as pd\n",
    "from sklearn.pipeline import Pipeline\n",
    "from sklearn.preprocessing import MinMaxScaler\n",
    "from sklearn.compose import ColumnTransformer\n",
    "\n",
    "# Modeling\n",
    "from sklearn.preprocessing import MinMaxScaler\n",
    "from sklearn.model_selection import cross_validate, GridSearchCV #, cross_val_predict\n",
    "from sklearn.metrics import ConfusionMatrixDisplay #, classification_report# Models\n",
    "from sklearn.tree import DecisionTreeClassifier\n",
    "from sklearn.ensemble import RandomForestClassifier\n",
    "\n",
    "# Plotting\n",
    "%matplotlib inline\n",
    "import matplotlib.pyplot as plt\n",
    "import seaborn as sns"
   ]
  },
  {
   "cell_type": "markdown",
   "id": "ad5c51c0",
   "metadata": {},
   "source": [
    "Pure Preprocessing:\n",
    "1. Import Raw Data\n",
    "2. Scaling Pipeline (Features)\n",
    "3. Merge by Index (all the data) (export)\n",
    "-> .py-file and scaled full dataset in data folder\n",
    "\n",
    "Modeling: (assumption: NAs are removed)\n",
    "1. Select Target(s) by user/environement list\n",
    "2. Put in function which selects the target(s) of interest (by removing the other) and drops all NAs"
   ]
  },
  {
   "cell_type": "markdown",
   "id": "8209b3d8-b072-439f-bbc6-655f97ab45de",
   "metadata": {
    "execution": {
     "iopub.execute_input": "2025-06-09T14:45:59.895942Z",
     "iopub.status.busy": "2025-06-09T14:45:59.891764Z",
     "iopub.status.idle": "2025-06-09T14:45:59.917825Z",
     "shell.execute_reply": "2025-06-09T14:45:59.912899Z",
     "shell.execute_reply.started": "2025-06-09T14:45:59.895887Z"
    }
   },
   "source": [
    "# Features (Train)"
   ]
  },
  {
   "cell_type": "markdown",
   "id": "0e9d0e39-a33c-470f-9fa7-303d8ef39a99",
   "metadata": {},
   "source": [
    "**Load data:**"
   ]
  },
  {
   "cell_type": "code",
   "execution_count": 5,
   "id": "97da19ce-864a-4628-b5e4-785c5c8a3625",
   "metadata": {
    "execution": {
     "iopub.execute_input": "2025-06-10T12:24:11.529743Z",
     "iopub.status.busy": "2025-06-10T12:24:11.529195Z",
     "iopub.status.idle": "2025-06-10T12:24:13.780279Z",
     "shell.execute_reply": "2025-06-10T12:24:13.776505Z",
     "shell.execute_reply.started": "2025-06-10T12:24:11.529712Z"
    }
   },
   "outputs": [],
   "source": [
    "path_features_train = \"../raw_data/tox21_dense_train.csv.gz\"\n",
    "X_raw = pd.read_csv(path_features_train).set_index(\"Unnamed: 0\")"
   ]
  },
  {
   "cell_type": "markdown",
   "id": "08f84f06-cca3-412d-9f74-cb243f5173ab",
   "metadata": {},
   "source": [
    "**Shape:**"
   ]
  },
  {
   "cell_type": "code",
   "execution_count": 6,
   "id": "01f032c8-21bc-4cb5-9576-5c18cd0c960b",
   "metadata": {
    "execution": {
     "iopub.execute_input": "2025-06-10T12:24:13.789015Z",
     "iopub.status.busy": "2025-06-10T12:24:13.786890Z",
     "iopub.status.idle": "2025-06-10T12:24:13.808206Z",
     "shell.execute_reply": "2025-06-10T12:24:13.803273Z",
     "shell.execute_reply.started": "2025-06-10T12:24:13.788788Z"
    }
   },
   "outputs": [
    {
     "data": {
      "text/plain": [
       "(12060, 801)"
      ]
     },
     "execution_count": 6,
     "metadata": {},
     "output_type": "execute_result"
    }
   ],
   "source": [
    "X_raw.shape"
   ]
  },
  {
   "cell_type": "markdown",
   "id": "2c01906e-a432-4ec0-83a4-222309ae3532",
   "metadata": {
    "execution": {
     "iopub.execute_input": "2025-06-09T20:33:08.090538Z",
     "iopub.status.busy": "2025-06-09T20:33:08.089026Z",
     "iopub.status.idle": "2025-06-09T20:33:08.101065Z",
     "shell.execute_reply": "2025-06-09T20:33:08.099442Z",
     "shell.execute_reply.started": "2025-06-09T20:33:08.090501Z"
    }
   },
   "source": [
    "**Table info:**"
   ]
  },
  {
   "cell_type": "code",
   "execution_count": 7,
   "id": "dd0e3257-27be-41e7-95af-f7bb0c248ab7",
   "metadata": {
    "execution": {
     "iopub.execute_input": "2025-06-10T12:24:13.812725Z",
     "iopub.status.busy": "2025-06-10T12:24:13.811758Z",
     "iopub.status.idle": "2025-06-10T12:24:14.443480Z",
     "shell.execute_reply": "2025-06-10T12:24:14.442168Z",
     "shell.execute_reply.started": "2025-06-10T12:24:13.812643Z"
    }
   },
   "outputs": [
    {
     "name": "stdout",
     "output_type": "stream",
     "text": [
      "<class 'pandas.core.frame.DataFrame'>\n",
      "Index: 12060 entries, NCGC00178831-03 to NCGC00261465-01\n",
      "Columns: 801 entries, AW to rygr\n",
      "dtypes: float64(761), int64(40)\n",
      "memory usage: 73.8+ MB\n"
     ]
    }
   ],
   "source": [
    "X_raw.info()"
   ]
  },
  {
   "cell_type": "markdown",
   "id": "45f0f62a-f0b6-4482-89ce-6e7b29cdac72",
   "metadata": {},
   "source": [
    "**Table view:**"
   ]
  },
  {
   "cell_type": "markdown",
   "id": "94c792c7-d121-45af-af25-add579f25ae6",
   "metadata": {},
   "source": [
    "**Pipeline: Scale all features and retain colnames + index:**"
   ]
  },
  {
   "cell_type": "code",
   "execution_count": 8,
   "id": "bfacb4b9-68a8-4c2b-9299-533eb53b53c4",
   "metadata": {
    "execution": {
     "iopub.execute_input": "2025-06-10T12:24:15.039520Z",
     "iopub.status.busy": "2025-06-10T12:24:15.038815Z",
     "iopub.status.idle": "2025-06-10T12:24:16.393778Z",
     "shell.execute_reply": "2025-06-10T12:24:16.392343Z",
     "shell.execute_reply.started": "2025-06-10T12:24:15.039467Z"
    }
   },
   "outputs": [],
   "source": [
    "# Column Transformer with MinMax-Scaler\n",
    "column_transformer = ColumnTransformer([\n",
    "    (\"scaler\", MinMaxScaler(), X_raw.columns)\n",
    "    ])\n",
    "\n",
    "# Pipeline\n",
    "pipeline = Pipeline([\n",
    "    (\"transform\", column_transformer)\n",
    "    ])\n",
    "\n",
    "# Transform data while preserving column names\n",
    "X = pd.DataFrame(pipeline.fit_transform(X_raw), columns=X_raw.columns, index=X_raw.index)"
   ]
  },
  {
   "cell_type": "markdown",
   "id": "5501625a-fc7e-422a-a1b2-bc898a4c828d",
   "metadata": {},
   "source": [
    "# Targets (Train)"
   ]
  },
  {
   "cell_type": "markdown",
   "id": "4a98be39-247d-40a3-9dd1-000934992b39",
   "metadata": {},
   "source": [
    "**Load data:**"
   ]
  },
  {
   "cell_type": "code",
   "execution_count": 9,
   "id": "a4e44528-7777-46d3-8590-d5735e6e639a",
   "metadata": {
    "execution": {
     "iopub.execute_input": "2025-06-10T12:24:16.458653Z",
     "iopub.status.busy": "2025-06-10T12:24:16.457347Z",
     "iopub.status.idle": "2025-06-10T12:24:16.715862Z",
     "shell.execute_reply": "2025-06-10T12:24:16.714905Z",
     "shell.execute_reply.started": "2025-06-10T12:24:16.458590Z"
    }
   },
   "outputs": [],
   "source": [
    "path_targets_train = \"../raw_data/tox21_labels_train.csv.gz\"\n",
    "y = pd.read_csv(path_targets_train).set_index(\"Unnamed: 0\")"
   ]
  },
  {
   "cell_type": "markdown",
   "id": "cfc17182-cd5a-4d71-b7fe-c858b3f833bd",
   "metadata": {},
   "source": [
    "**Shape:**"
   ]
  },
  {
   "cell_type": "code",
   "execution_count": 10,
   "id": "1e74c6ee-b3f6-4e5b-b15d-7cfc812a59c9",
   "metadata": {
    "execution": {
     "iopub.execute_input": "2025-06-10T12:24:16.717072Z",
     "iopub.status.busy": "2025-06-10T12:24:16.716753Z",
     "iopub.status.idle": "2025-06-10T12:24:16.727631Z",
     "shell.execute_reply": "2025-06-10T12:24:16.724530Z",
     "shell.execute_reply.started": "2025-06-10T12:24:16.717050Z"
    }
   },
   "outputs": [
    {
     "data": {
      "text/plain": [
       "(12060, 12)"
      ]
     },
     "execution_count": 10,
     "metadata": {},
     "output_type": "execute_result"
    }
   ],
   "source": [
    "y.shape"
   ]
  },
  {
   "cell_type": "markdown",
   "id": "a42a5214-8bd4-473e-b30d-d5022a801b23",
   "metadata": {},
   "source": [
    "**Table info:**"
   ]
  },
  {
   "cell_type": "code",
   "execution_count": 11,
   "id": "947034f9-4ed4-428a-b6d2-90556d27be08",
   "metadata": {
    "execution": {
     "iopub.execute_input": "2025-06-10T12:24:16.733290Z",
     "iopub.status.busy": "2025-06-10T12:24:16.732526Z",
     "iopub.status.idle": "2025-06-10T12:24:16.756790Z",
     "shell.execute_reply": "2025-06-10T12:24:16.753201Z",
     "shell.execute_reply.started": "2025-06-10T12:24:16.733219Z"
    }
   },
   "outputs": [
    {
     "name": "stdout",
     "output_type": "stream",
     "text": [
      "<class 'pandas.core.frame.DataFrame'>\n",
      "Index: 12060 entries, NCGC00178831-03 to NCGC00261465-01\n",
      "Data columns (total 12 columns):\n",
      " #   Column         Non-Null Count  Dtype  \n",
      "---  ------         --------------  -----  \n",
      " 0   NR.AhR         8441 non-null   float64\n",
      " 1   NR.AR          9654 non-null   float64\n",
      " 2   NR.AR.LBD      8852 non-null   float64\n",
      " 3   NR.Aromatase   7440 non-null   float64\n",
      " 4   NR.ER          7962 non-null   float64\n",
      " 5   NR.ER.LBD      9040 non-null   float64\n",
      " 6   NR.PPAR.gamma  8451 non-null   float64\n",
      " 7   SR.ARE         7401 non-null   float64\n",
      " 8   SR.ATAD5       9363 non-null   float64\n",
      " 9   SR.HSE         8417 non-null   float64\n",
      " 10  SR.MMP         7558 non-null   float64\n",
      " 11  SR.p53         8903 non-null   float64\n",
      "dtypes: float64(12)\n",
      "memory usage: 1.2+ MB\n"
     ]
    }
   ],
   "source": [
    "y.info()"
   ]
  },
  {
   "cell_type": "markdown",
   "id": "4c78c250-439c-42e0-9586-0a69267a919f",
   "metadata": {},
   "source": [
    "**Table view:**"
   ]
  },
  {
   "cell_type": "markdown",
   "id": "34a8985e-4c98-43d2-b673-b92cdc05b2ae",
   "metadata": {},
   "source": [
    "**Number of missing values per target:**"
   ]
  },
  {
   "cell_type": "code",
   "execution_count": 12,
   "id": "b2c6c898-ad63-4de3-99df-328620a2af55",
   "metadata": {
    "execution": {
     "iopub.execute_input": "2025-06-10T12:24:16.842727Z",
     "iopub.status.busy": "2025-06-10T12:24:16.840378Z",
     "iopub.status.idle": "2025-06-10T12:24:16.875685Z",
     "shell.execute_reply": "2025-06-10T12:24:16.873454Z",
     "shell.execute_reply.started": "2025-06-10T12:24:16.842636Z"
    }
   },
   "outputs": [
    {
     "data": {
      "text/plain": [
       "SR.ARE           4659\n",
       "NR.Aromatase     4620\n",
       "SR.MMP           4502\n",
       "NR.ER            4098\n",
       "SR.HSE           3643\n",
       "NR.AhR           3619\n",
       "NR.PPAR.gamma    3609\n",
       "NR.AR.LBD        3208\n",
       "SR.p53           3157\n",
       "NR.ER.LBD        3020\n",
       "SR.ATAD5         2697\n",
       "NR.AR            2406\n",
       "dtype: int64"
      ]
     },
     "execution_count": 12,
     "metadata": {},
     "output_type": "execute_result"
    }
   ],
   "source": [
    "y.isnull().sum().sort_values(ascending=False)"
   ]
  },
  {
   "cell_type": "markdown",
   "id": "e455798c-48c5-4674-8cd1-0ac616ecb662",
   "metadata": {},
   "source": [
    "**Labels and NAs per target:**"
   ]
  },
  {
   "cell_type": "code",
   "execution_count": 13,
   "id": "a18c0615-39df-4351-9be5-bcc8be87d76d",
   "metadata": {
    "execution": {
     "iopub.execute_input": "2025-06-10T12:24:16.879396Z",
     "iopub.status.busy": "2025-06-10T12:24:16.877742Z",
     "iopub.status.idle": "2025-06-10T12:24:16.974756Z",
     "shell.execute_reply": "2025-06-10T12:24:16.972973Z",
     "shell.execute_reply.started": "2025-06-10T12:24:16.879295Z"
    }
   },
   "outputs": [],
   "source": [
    "# Calculate number of toxic, non toxic and NA\n",
    "experiments = y.columns\n",
    "exp_stats = []\n",
    "\n",
    "for i in experiments:\n",
    "    n_toxic = sum(y[i] ==1)\n",
    "    n_non_toxic = sum(y[i] ==0)\n",
    "    n_nan = sum(y[i].isna())\n",
    "    percent_toxic = n_toxic / (n_toxic + n_non_toxic) * 100\n",
    "    percent_non_toxic = 100 - percent_toxic\n",
    "    exp_stats.append([i, n_toxic, n_non_toxic, n_nan, percent_toxic, percent_non_toxic])"
   ]
  },
  {
   "cell_type": "code",
   "execution_count": 14,
   "id": "c6c5a703-f27e-4d59-a377-0bc20581904c",
   "metadata": {
    "execution": {
     "iopub.execute_input": "2025-06-10T12:24:16.978859Z",
     "iopub.status.busy": "2025-06-10T12:24:16.977900Z",
     "iopub.status.idle": "2025-06-10T12:24:17.030335Z",
     "shell.execute_reply": "2025-06-10T12:24:17.028605Z",
     "shell.execute_reply.started": "2025-06-10T12:24:16.978793Z"
    }
   },
   "outputs": [
    {
     "data": {
      "text/html": [
       "<div>\n",
       "<style scoped>\n",
       "    .dataframe tbody tr th:only-of-type {\n",
       "        vertical-align: middle;\n",
       "    }\n",
       "\n",
       "    .dataframe tbody tr th {\n",
       "        vertical-align: top;\n",
       "    }\n",
       "\n",
       "    .dataframe thead th {\n",
       "        text-align: right;\n",
       "    }\n",
       "</style>\n",
       "<table border=\"1\" class=\"dataframe\">\n",
       "  <thead>\n",
       "    <tr style=\"text-align: right;\">\n",
       "      <th></th>\n",
       "      <th>experiment</th>\n",
       "      <th>toxic</th>\n",
       "      <th>non_toxic</th>\n",
       "      <th>NA</th>\n",
       "      <th>percent_toxic</th>\n",
       "      <th>percent_non_toxic</th>\n",
       "    </tr>\n",
       "  </thead>\n",
       "  <tbody>\n",
       "    <tr>\n",
       "      <th>0</th>\n",
       "      <td>NR.AhR</td>\n",
       "      <td>981</td>\n",
       "      <td>7460</td>\n",
       "      <td>3619</td>\n",
       "      <td>11.621846</td>\n",
       "      <td>88.378154</td>\n",
       "    </tr>\n",
       "    <tr>\n",
       "      <th>1</th>\n",
       "      <td>NR.AR</td>\n",
       "      <td>383</td>\n",
       "      <td>9271</td>\n",
       "      <td>2406</td>\n",
       "      <td>3.967267</td>\n",
       "      <td>96.032733</td>\n",
       "    </tr>\n",
       "    <tr>\n",
       "      <th>2</th>\n",
       "      <td>NR.AR.LBD</td>\n",
       "      <td>307</td>\n",
       "      <td>8545</td>\n",
       "      <td>3208</td>\n",
       "      <td>3.468143</td>\n",
       "      <td>96.531857</td>\n",
       "    </tr>\n",
       "    <tr>\n",
       "      <th>3</th>\n",
       "      <td>NR.Aromatase</td>\n",
       "      <td>378</td>\n",
       "      <td>7062</td>\n",
       "      <td>4620</td>\n",
       "      <td>5.080645</td>\n",
       "      <td>94.919355</td>\n",
       "    </tr>\n",
       "    <tr>\n",
       "      <th>4</th>\n",
       "      <td>NR.ER</td>\n",
       "      <td>964</td>\n",
       "      <td>6998</td>\n",
       "      <td>4098</td>\n",
       "      <td>12.107511</td>\n",
       "      <td>87.892489</td>\n",
       "    </tr>\n",
       "    <tr>\n",
       "      <th>5</th>\n",
       "      <td>NR.ER.LBD</td>\n",
       "      <td>456</td>\n",
       "      <td>8584</td>\n",
       "      <td>3020</td>\n",
       "      <td>5.044248</td>\n",
       "      <td>94.955752</td>\n",
       "    </tr>\n",
       "    <tr>\n",
       "      <th>6</th>\n",
       "      <td>NR.PPAR.gamma</td>\n",
       "      <td>237</td>\n",
       "      <td>8214</td>\n",
       "      <td>3609</td>\n",
       "      <td>2.804402</td>\n",
       "      <td>97.195598</td>\n",
       "    </tr>\n",
       "    <tr>\n",
       "      <th>7</th>\n",
       "      <td>SR.ARE</td>\n",
       "      <td>1146</td>\n",
       "      <td>6255</td>\n",
       "      <td>4659</td>\n",
       "      <td>15.484394</td>\n",
       "      <td>84.515606</td>\n",
       "    </tr>\n",
       "    <tr>\n",
       "      <th>8</th>\n",
       "      <td>SR.ATAD5</td>\n",
       "      <td>363</td>\n",
       "      <td>9000</td>\n",
       "      <td>2697</td>\n",
       "      <td>3.876963</td>\n",
       "      <td>96.123037</td>\n",
       "    </tr>\n",
       "    <tr>\n",
       "      <th>9</th>\n",
       "      <td>SR.HSE</td>\n",
       "      <td>438</td>\n",
       "      <td>7979</td>\n",
       "      <td>3643</td>\n",
       "      <td>5.203754</td>\n",
       "      <td>94.796246</td>\n",
       "    </tr>\n",
       "    <tr>\n",
       "      <th>10</th>\n",
       "      <td>SR.MMP</td>\n",
       "      <td>1180</td>\n",
       "      <td>6378</td>\n",
       "      <td>4502</td>\n",
       "      <td>15.612596</td>\n",
       "      <td>84.387404</td>\n",
       "    </tr>\n",
       "    <tr>\n",
       "      <th>11</th>\n",
       "      <td>SR.p53</td>\n",
       "      <td>565</td>\n",
       "      <td>8338</td>\n",
       "      <td>3157</td>\n",
       "      <td>6.346175</td>\n",
       "      <td>93.653825</td>\n",
       "    </tr>\n",
       "  </tbody>\n",
       "</table>\n",
       "</div>"
      ],
      "text/plain": [
       "       experiment  toxic  non_toxic    NA  percent_toxic  percent_non_toxic\n",
       "0          NR.AhR    981       7460  3619      11.621846          88.378154\n",
       "1           NR.AR    383       9271  2406       3.967267          96.032733\n",
       "2       NR.AR.LBD    307       8545  3208       3.468143          96.531857\n",
       "3    NR.Aromatase    378       7062  4620       5.080645          94.919355\n",
       "4           NR.ER    964       6998  4098      12.107511          87.892489\n",
       "5       NR.ER.LBD    456       8584  3020       5.044248          94.955752\n",
       "6   NR.PPAR.gamma    237       8214  3609       2.804402          97.195598\n",
       "7          SR.ARE   1146       6255  4659      15.484394          84.515606\n",
       "8        SR.ATAD5    363       9000  2697       3.876963          96.123037\n",
       "9          SR.HSE    438       7979  3643       5.203754          94.796246\n",
       "10         SR.MMP   1180       6378  4502      15.612596          84.387404\n",
       "11         SR.p53    565       8338  3157       6.346175          93.653825"
      ]
     },
     "execution_count": 14,
     "metadata": {},
     "output_type": "execute_result"
    }
   ],
   "source": [
    "# As DataFrame\n",
    "stats_df = pd.DataFrame(exp_stats, columns=[\"experiment\", \"toxic\", \"non_toxic\", \"NA\", \"percent_toxic\", \"percent_non_toxic\"])\n",
    "stats_df"
   ]
  },
  {
   "cell_type": "code",
   "execution_count": 15,
   "id": "7c5648dd-e116-4e41-95f0-a071bef82ef9",
   "metadata": {
    "execution": {
     "iopub.execute_input": "2025-06-10T12:24:17.033113Z",
     "iopub.status.busy": "2025-06-10T12:24:17.031975Z",
     "iopub.status.idle": "2025-06-10T12:24:17.682075Z",
     "shell.execute_reply": "2025-06-10T12:24:17.680290Z",
     "shell.execute_reply.started": "2025-06-10T12:24:17.033033Z"
    }
   },
   "outputs": [
    {
     "data": {
      "image/png": "[encoded data removed]",
      "text/plain": [
       "<Figure size 1200x600 with 1 Axes>"
      ]
     },
     "metadata": {},
     "output_type": "display_data"
    }
   ],
   "source": [
    "# Plot toxic, non toxic, NA\n",
    "stats_df[[\"experiment\", \"toxic\", \"non_toxic\", \"NA\"]]\\\n",
    "    .set_index(\"experiment\").plot(kind=\"bar\", stacked=True, figsize=(12, 6))\n",
    "plt.title(\"Distribution of Toxic, Non-Toxic, and Missing Labels per Experiment\")\n",
    "plt.ylabel(\"Count\")\n",
    "plt.xlabel(\"Experiment\")\n",
    "plt.xticks(rotation=45, ha=\"right\")\n",
    "plt.tight_layout()\n",
    "plt.legend(loc=\"upper right\")\n",
    "plt.tight_layout()\n",
    "plt.show()"
   ]
  },
  {
   "cell_type": "markdown",
   "id": "563026d2-9f07-4df1-b4bc-050eb4c8d931",
   "metadata": {},
   "source": [
    "**Labels per target:**"
   ]
  },
  {
   "cell_type": "code",
   "execution_count": 16,
   "id": "ee9b5ed0-e2ae-43a2-9ba2-4da7ba5ab48d",
   "metadata": {
    "execution": {
     "iopub.execute_input": "2025-06-10T12:24:17.686242Z",
     "iopub.status.busy": "2025-06-10T12:24:17.685025Z",
     "iopub.status.idle": "2025-06-10T12:24:18.150048Z",
     "shell.execute_reply": "2025-06-10T12:24:18.148037Z",
     "shell.execute_reply.started": "2025-06-10T12:24:17.686112Z"
    }
   },
   "outputs": [
    {
     "data": {
      "image/png": "[encoded data removed]",
      "text/plain": [
       "<Figure size 1200x600 with 1 Axes>"
      ]
     },
     "metadata": {},
     "output_type": "display_data"
    }
   ],
   "source": [
    "# Generate the stacked bar chart\n",
    "ax = stats_df[[\"experiment\", \"percent_toxic\", \"percent_non_toxic\"]].set_index(\"experiment\") \\\n",
    "    .plot(kind=\"bar\", stacked=True, figsize=(12, 6))\n",
    "\n",
    "# Extract experiment names (to match labels correctly)\n",
    "experiment_names = stats_df[\"experiment\"].values\n",
    "\n",
    "# Add labels (loop through bars)\n",
    "for bars, col in zip(ax.containers, [\"percent_toxic\", \"percent_non_toxic\"]):\n",
    "    for bar, experiment in zip(bars, experiment_names):\n",
    "        height = bar.get_height()  # Get the height of each segment\n",
    "        if height > 0:  # Avoid labeling zero-height bars\n",
    "            ax.text(bar.get_x() + bar.get_width() / 2,\n",
    "                    bar.get_y() + height / 2,\n",
    "                    f\"{stats_df.loc[stats_df['experiment'] == experiment, col].values[0]:.1f}%\",\n",
    "                    ha=\"center\", va=\"center\", color=\"black\", fontsize=9)\n",
    "\n",
    "plt.title(\"Share of Toxic Labels per Experiment\")\n",
    "plt.ylabel(\"Count\")\n",
    "plt.xlabel(\"Experiment\")\n",
    "plt.xticks(rotation=45, ha=\"right\")\n",
    "plt.tight_layout()\n",
    "plt.legend(loc=\"upper right\")\n",
    "plt.tight_layout()\n",
    "plt.show()\n",
    "# Thank you, Microsoft Copilot!"
   ]
  },
  {
   "cell_type": "markdown",
   "id": "33ceac2c-8f9d-4ecd-9091-35d1221f0733",
   "metadata": {},
   "source": [
    "**Correlation between targets:**"
   ]
  },
  {
   "cell_type": "code",
   "execution_count": 17,
   "id": "23c78ec8-82ae-4962-8ea6-86cbabe02196",
   "metadata": {
    "execution": {
     "iopub.execute_input": "2025-06-10T12:24:18.151956Z",
     "iopub.status.busy": "2025-06-10T12:24:18.151366Z",
     "iopub.status.idle": "2025-06-10T12:24:18.997121Z",
     "shell.execute_reply": "2025-06-10T12:24:18.995695Z",
     "shell.execute_reply.started": "2025-06-10T12:24:18.151924Z"
    }
   },
   "outputs": [
    {
     "data": {
      "image/png": "[encoded data removed]",
      "text/plain": [
       "<Figure size 1200x1000 with 2 Axes>"
      ]
     },
     "metadata": {},
     "output_type": "display_data"
    }
   ],
   "source": [
    "# Calculate Correlation Matrix\n",
    "target_corr = y.corr()\n",
    "\n",
    "# Create Heatmap\n",
    "plt.figure(figsize=(12, 10))\n",
    "sns.heatmap(target_corr,\n",
    "           annot=True,  # Show numbers\n",
    "           cmap=\"coolwarm\",  # Blue-red color scheme\n",
    "           center=0,  # Center the colormap at 0\n",
    "           fmt=\".2f\" # Round to 2 decimal places\n",
    "           )\n",
    "\n",
    "plt.title(\"Correlation Between Targets\")\n",
    "plt.tight_layout()\n",
    "plt.show()"
   ]
  },
  {
   "cell_type": "markdown",
   "id": "81df775a-ee6f-4f1a-822d-5c4e2139c73d",
   "metadata": {},
   "source": [
    "# Baseline Model: Random Forest "
   ]
  },
  {
   "cell_type": "markdown",
   "id": "c648b78b-5082-4122-9125-8ca849c0a63e",
   "metadata": {},
   "source": [
    "### Target: \"SR.MMP\""
   ]
  },
  {
   "cell_type": "markdown",
   "id": "e86d4865-50e6-44b8-8e15-6be49a80a84d",
   "metadata": {},
   "source": [
    "**Create single target without NAs:**"
   ]
  },
  {
   "cell_type": "code",
   "execution_count": 18,
   "id": "42db3f08-888c-4a29-acc3-b1eef46b08bf",
   "metadata": {
    "execution": {
     "iopub.execute_input": "2025-06-10T12:24:19.000930Z",
     "iopub.status.busy": "2025-06-10T12:24:18.998735Z",
     "iopub.status.idle": "2025-06-10T12:24:19.017463Z",
     "shell.execute_reply": "2025-06-10T12:24:19.016173Z",
     "shell.execute_reply.started": "2025-06-10T12:24:19.000878Z"
    }
   },
   "outputs": [],
   "source": [
    "y_mmp = y[[\"SR.MMP\"]].dropna()"
   ]
  },
  {
   "cell_type": "code",
   "execution_count": 19,
   "id": "fbe527eb-2aab-4b43-a475-eb3a43ff193e",
   "metadata": {
    "execution": {
     "iopub.execute_input": "2025-06-10T12:24:19.020845Z",
     "iopub.status.busy": "2025-06-10T12:24:19.020135Z",
     "iopub.status.idle": "2025-06-10T12:24:19.056439Z",
     "shell.execute_reply": "2025-06-10T12:24:19.051925Z",
     "shell.execute_reply.started": "2025-06-10T12:24:19.020780Z"
    }
   },
   "outputs": [
    {
     "name": "stdout",
     "output_type": "stream",
     "text": [
      "<class 'pandas.core.frame.DataFrame'>\n",
      "Index: 7558 entries, NCGC00165865-01 to NCGC00261465-01\n",
      "Data columns (total 1 columns):\n",
      " #   Column  Non-Null Count  Dtype  \n",
      "---  ------  --------------  -----  \n",
      " 0   SR.MMP  7558 non-null   float64\n",
      "dtypes: float64(1)\n",
      "memory usage: 118.1+ KB\n"
     ]
    }
   ],
   "source": [
    "y_mmp.info()"
   ]
  },
  {
   "cell_type": "markdown",
   "id": "932a8a69-9fa8-4b5b-9bc0-d220c4e5670b",
   "metadata": {},
   "source": [
    "**Inner merge with features:**"
   ]
  },
  {
   "cell_type": "code",
   "execution_count": 20,
   "id": "506a212c-c18e-4d40-9fb8-80d1a57fef7d",
   "metadata": {
    "execution": {
     "iopub.execute_input": "2025-06-10T12:24:19.058098Z",
     "iopub.status.busy": "2025-06-10T12:24:19.057752Z",
     "iopub.status.idle": "2025-06-10T12:24:19.379046Z",
     "shell.execute_reply": "2025-06-10T12:24:19.377969Z",
     "shell.execute_reply.started": "2025-06-10T12:24:19.058069Z"
    }
   },
   "outputs": [],
   "source": [
    "mmp_train = y_mmp.merge(X, how=\"inner\", on=\"Unnamed: 0\")"
   ]
  },
  {
   "cell_type": "code",
   "execution_count": 21,
   "id": "613b1501-bb77-4db4-9b5b-9373e3af7d2f",
   "metadata": {
    "execution": {
     "iopub.execute_input": "2025-06-10T12:24:19.381341Z",
     "iopub.status.busy": "2025-06-10T12:24:19.380154Z",
     "iopub.status.idle": "2025-06-10T12:24:19.461409Z",
     "shell.execute_reply": "2025-06-10T12:24:19.459074Z",
     "shell.execute_reply.started": "2025-06-10T12:24:19.381289Z"
    },
    "scrolled": true
   },
   "outputs": [
    {
     "data": {
      "text/html": [
       "<div>\n",
       "<style scoped>\n",
       "    .dataframe tbody tr th:only-of-type {\n",
       "        vertical-align: middle;\n",
       "    }\n",
       "\n",
       "    .dataframe tbody tr th {\n",
       "        vertical-align: top;\n",
       "    }\n",
       "\n",
       "    .dataframe thead th {\n",
       "        text-align: right;\n",
       "    }\n",
       "</style>\n",
       "<table border=\"1\" class=\"dataframe\">\n",
       "  <thead>\n",
       "    <tr style=\"text-align: right;\">\n",
       "      <th></th>\n",
       "      <th>SR.MMP</th>\n",
       "      <th>AW</th>\n",
       "      <th>AWeight</th>\n",
       "      <th>Arto</th>\n",
       "      <th>BertzCT</th>\n",
       "      <th>Chi0</th>\n",
       "      <th>Chi1</th>\n",
       "      <th>Chi10</th>\n",
       "      <th>Chi2</th>\n",
       "      <th>Chi3</th>\n",
       "      <th>...</th>\n",
       "      <th>W3D</th>\n",
       "      <th>W3DH</th>\n",
       "      <th>WNSA1</th>\n",
       "      <th>WNSA2</th>\n",
       "      <th>WNSA3</th>\n",
       "      <th>WPSA1</th>\n",
       "      <th>WPSA2</th>\n",
       "      <th>WPSA3</th>\n",
       "      <th>grav</th>\n",
       "      <th>rygr</th>\n",
       "    </tr>\n",
       "    <tr>\n",
       "      <th>Unnamed: 0</th>\n",
       "      <th></th>\n",
       "      <th></th>\n",
       "      <th></th>\n",
       "      <th></th>\n",
       "      <th></th>\n",
       "      <th></th>\n",
       "      <th></th>\n",
       "      <th></th>\n",
       "      <th></th>\n",
       "      <th></th>\n",
       "      <th></th>\n",
       "      <th></th>\n",
       "      <th></th>\n",
       "      <th></th>\n",
       "      <th></th>\n",
       "      <th></th>\n",
       "      <th></th>\n",
       "      <th></th>\n",
       "      <th></th>\n",
       "      <th></th>\n",
       "      <th></th>\n",
       "    </tr>\n",
       "  </thead>\n",
       "  <tbody>\n",
       "    <tr>\n",
       "      <th>NCGC00165865-01</th>\n",
       "      <td>1.0</td>\n",
       "      <td>6.341000e-08</td>\n",
       "      <td>0.017366</td>\n",
       "      <td>0.812523</td>\n",
       "      <td>0.789928</td>\n",
       "      <td>0.273763</td>\n",
       "      <td>0.270577</td>\n",
       "      <td>0.119708</td>\n",
       "      <td>0.282093</td>\n",
       "      <td>0.256368</td>\n",
       "      <td>...</td>\n",
       "      <td>0.041851</td>\n",
       "      <td>0.032067</td>\n",
       "      <td>0.195228</td>\n",
       "      <td>0.987276</td>\n",
       "      <td>0.964649</td>\n",
       "      <td>0.085498</td>\n",
       "      <td>0.016266</td>\n",
       "      <td>0.032846</td>\n",
       "      <td>0.000227</td>\n",
       "      <td>0.323018</td>\n",
       "    </tr>\n",
       "    <tr>\n",
       "      <th>NCGC00095025-01</th>\n",
       "      <td>1.0</td>\n",
       "      <td>4.232804e-01</td>\n",
       "      <td>0.009179</td>\n",
       "      <td>0.776528</td>\n",
       "      <td>0.677698</td>\n",
       "      <td>0.213232</td>\n",
       "      <td>0.215202</td>\n",
       "      <td>0.053085</td>\n",
       "      <td>0.195447</td>\n",
       "      <td>0.160676</td>\n",
       "      <td>...</td>\n",
       "      <td>0.019685</td>\n",
       "      <td>0.032279</td>\n",
       "      <td>0.042972</td>\n",
       "      <td>0.996306</td>\n",
       "      <td>0.977962</td>\n",
       "      <td>0.097667</td>\n",
       "      <td>0.024509</td>\n",
       "      <td>0.038591</td>\n",
       "      <td>0.000160</td>\n",
       "      <td>0.233044</td>\n",
       "    </tr>\n",
       "    <tr>\n",
       "      <th>NCGC00255209-01</th>\n",
       "      <td>1.0</td>\n",
       "      <td>8.695657e-02</td>\n",
       "      <td>0.012498</td>\n",
       "      <td>0.717285</td>\n",
       "      <td>0.649496</td>\n",
       "      <td>0.169998</td>\n",
       "      <td>0.168857</td>\n",
       "      <td>0.022973</td>\n",
       "      <td>0.148787</td>\n",
       "      <td>0.113646</td>\n",
       "      <td>...</td>\n",
       "      <td>0.014453</td>\n",
       "      <td>0.029822</td>\n",
       "      <td>0.053196</td>\n",
       "      <td>0.996467</td>\n",
       "      <td>0.968684</td>\n",
       "      <td>0.099991</td>\n",
       "      <td>0.019386</td>\n",
       "      <td>0.035609</td>\n",
       "      <td>0.000114</td>\n",
       "      <td>0.264252</td>\n",
       "    </tr>\n",
       "    <tr>\n",
       "      <th>NCGC00260005-01</th>\n",
       "      <td>1.0</td>\n",
       "      <td>3.760000e-08</td>\n",
       "      <td>0.005746</td>\n",
       "      <td>0.809899</td>\n",
       "      <td>0.755683</td>\n",
       "      <td>0.190918</td>\n",
       "      <td>0.187776</td>\n",
       "      <td>0.047752</td>\n",
       "      <td>0.192760</td>\n",
       "      <td>0.187370</td>\n",
       "      <td>...</td>\n",
       "      <td>0.014743</td>\n",
       "      <td>0.018509</td>\n",
       "      <td>0.058717</td>\n",
       "      <td>0.996961</td>\n",
       "      <td>0.985609</td>\n",
       "      <td>0.081238</td>\n",
       "      <td>0.012272</td>\n",
       "      <td>0.031258</td>\n",
       "      <td>0.000129</td>\n",
       "      <td>0.220536</td>\n",
       "    </tr>\n",
       "    <tr>\n",
       "      <th>NCGC00258363-01</th>\n",
       "      <td>1.0</td>\n",
       "      <td>5.882360e-02</td>\n",
       "      <td>0.022841</td>\n",
       "      <td>0.705662</td>\n",
       "      <td>0.636547</td>\n",
       "      <td>0.256603</td>\n",
       "      <td>0.257801</td>\n",
       "      <td>0.048654</td>\n",
       "      <td>0.195549</td>\n",
       "      <td>0.162270</td>\n",
       "      <td>...</td>\n",
       "      <td>0.046014</td>\n",
       "      <td>0.117323</td>\n",
       "      <td>0.077582</td>\n",
       "      <td>0.991233</td>\n",
       "      <td>0.939187</td>\n",
       "      <td>0.269463</td>\n",
       "      <td>0.088882</td>\n",
       "      <td>0.090879</td>\n",
       "      <td>0.000196</td>\n",
       "      <td>0.371946</td>\n",
       "    </tr>\n",
       "  </tbody>\n",
       "</table>\n",
       "<p>5 rows × 802 columns</p>\n",
       "</div>"
      ],
      "text/plain": [
       "                 SR.MMP            AW   AWeight      Arto   BertzCT      Chi0  \\\n",
       "Unnamed: 0                                                                      \n",
       "NCGC00165865-01     1.0  6.341000e-08  0.017366  0.812523  0.789928  0.273763   \n",
       "NCGC00095025-01     1.0  4.232804e-01  0.009179  0.776528  0.677698  0.213232   \n",
       "NCGC00255209-01     1.0  8.695657e-02  0.012498  0.717285  0.649496  0.169998   \n",
       "NCGC00260005-01     1.0  3.760000e-08  0.005746  0.809899  0.755683  0.190918   \n",
       "NCGC00258363-01     1.0  5.882360e-02  0.022841  0.705662  0.636547  0.256603   \n",
       "\n",
       "                     Chi1     Chi10      Chi2      Chi3  ...       W3D  \\\n",
       "Unnamed: 0                                               ...             \n",
       "NCGC00165865-01  0.270577  0.119708  0.282093  0.256368  ...  0.041851   \n",
       "NCGC00095025-01  0.215202  0.053085  0.195447  0.160676  ...  0.019685   \n",
       "NCGC00255209-01  0.168857  0.022973  0.148787  0.113646  ...  0.014453   \n",
       "NCGC00260005-01  0.187776  0.047752  0.192760  0.187370  ...  0.014743   \n",
       "NCGC00258363-01  0.257801  0.048654  0.195549  0.162270  ...  0.046014   \n",
       "\n",
       "                     W3DH     WNSA1     WNSA2     WNSA3     WPSA1     WPSA2  \\\n",
       "Unnamed: 0                                                                    \n",
       "NCGC00165865-01  0.032067  0.195228  0.987276  0.964649  0.085498  0.016266   \n",
       "NCGC00095025-01  0.032279  0.042972  0.996306  0.977962  0.097667  0.024509   \n",
       "NCGC00255209-01  0.029822  0.053196  0.996467  0.968684  0.099991  0.019386   \n",
       "NCGC00260005-01  0.018509  0.058717  0.996961  0.985609  0.081238  0.012272   \n",
       "NCGC00258363-01  0.117323  0.077582  0.991233  0.939187  0.269463  0.088882   \n",
       "\n",
       "                    WPSA3      grav      rygr  \n",
       "Unnamed: 0                                     \n",
       "NCGC00165865-01  0.032846  0.000227  0.323018  \n",
       "NCGC00095025-01  0.038591  0.000160  0.233044  \n",
       "NCGC00255209-01  0.035609  0.000114  0.264252  \n",
       "NCGC00260005-01  0.031258  0.000129  0.220536  \n",
       "NCGC00258363-01  0.090879  0.000196  0.371946  \n",
       "\n",
       "[5 rows x 802 columns]"
      ]
     },
     "execution_count": 21,
     "metadata": {},
     "output_type": "execute_result"
    }
   ],
   "source": [
    "mmp_train.head()"
   ]
  },
  {
   "cell_type": "markdown",
   "id": "8344a7fd-36f5-49c3-902f-54b6069eaf11",
   "metadata": {},
   "source": [
    "### Initialize Decision Tree"
   ]
  },
  {
   "cell_type": "markdown",
   "id": "ac5f3b5a-6cc9-46f0-9766-fd6e10a8453f",
   "metadata": {},
   "source": [
    "**Split again:**"
   ]
  },
  {
   "cell_type": "code",
   "execution_count": 22,
   "id": "14e63a8e-6b03-49a8-bf86-b422b93c1fb7",
   "metadata": {
    "execution": {
     "iopub.execute_input": "2025-06-10T12:24:19.465783Z",
     "iopub.status.busy": "2025-06-10T12:24:19.464636Z",
     "iopub.status.idle": "2025-06-10T12:24:19.527014Z",
     "shell.execute_reply": "2025-06-10T12:24:19.522859Z",
     "shell.execute_reply.started": "2025-06-10T12:24:19.465726Z"
    }
   },
   "outputs": [
    {
     "name": "stdout",
     "output_type": "stream",
     "text": [
      "(7558, 801)\n",
      "(7558,)\n"
     ]
    }
   ],
   "source": [
    "X_mmp_train = mmp_train.drop(columns=[\"SR.MMP\"])\n",
    "print(X_mmp_train.shape)\n",
    "y_mmp_train = mmp_train[\"SR.MMP\"]\n",
    "print(y_mmp_train.shape)\n"
   ]
  },
  {
   "cell_type": "markdown",
   "id": "46a7c6b1-d2fb-44b2-80bc-91a88bc04b6f",
   "metadata": {},
   "source": [
    "**Model fit and evaluation:**"
   ]
  },
  {
   "cell_type": "code",
   "execution_count": 23,
   "id": "c465d08e-7d8c-4ba9-9421-ff0b4c49bbcc",
   "metadata": {
    "execution": {
     "iopub.execute_input": "2025-06-10T12:24:19.535423Z",
     "iopub.status.busy": "2025-06-10T12:24:19.532420Z",
     "iopub.status.idle": "2025-06-10T12:24:31.277545Z",
     "shell.execute_reply": "2025-06-10T12:24:31.274012Z",
     "shell.execute_reply.started": "2025-06-10T12:24:19.535334Z"
    }
   },
   "outputs": [
    {
     "data": {
      "text/html": [
       "<style>#sk-container-id-1 {\n",
       "  /* Definition of color scheme common for light and dark mode */\n",
       "  --sklearn-color-text: #000;\n",
       "  --sklearn-color-text-muted: #666;\n",
       "  --sklearn-color-line: gray;\n",
       "  /* Definition of color scheme for unfitted estimators */\n",
       "  --sklearn-color-unfitted-level-0: #fff5e6;\n",
       "  --sklearn-color-unfitted-level-1: #f6e4d2;\n",
       "  --sklearn-color-unfitted-level-2: #ffe0b3;\n",
       "  --sklearn-color-unfitted-level-3: chocolate;\n",
       "  /* Definition of color scheme for fitted estimators */\n",
       "  --sklearn-color-fitted-level-0: #f0f8ff;\n",
       "  --sklearn-color-fitted-level-1: #d4ebff;\n",
       "  --sklearn-color-fitted-level-2: #b3dbfd;\n",
       "  --sklearn-color-fitted-level-3: cornflowerblue;\n",
       "\n",
       "  /* Specific color for light theme */\n",
       "  --sklearn-color-text-on-default-background: var(--sg-text-color, var(--theme-code-foreground, var(--jp-content-font-color1, black)));\n",
       "  --sklearn-color-background: var(--sg-background-color, var(--theme-background, var(--jp-layout-color0, white)));\n",
       "  --sklearn-color-border-box: var(--sg-text-color, var(--theme-code-foreground, var(--jp-content-font-color1, black)));\n",
       "  --sklearn-color-icon: #696969;\n",
       "\n",
       "  @media (prefers-color-scheme: dark) {\n",
       "    /* Redefinition of color scheme for dark theme */\n",
       "    --sklearn-color-text-on-default-background: var(--sg-text-color, var(--theme-code-foreground, var(--jp-content-font-color1, white)));\n",
       "    --sklearn-color-background: var(--sg-background-color, var(--theme-background, var(--jp-layout-color0, #111)));\n",
       "    --sklearn-color-border-box: var(--sg-text-color, var(--theme-code-foreground, var(--jp-content-font-color1, white)));\n",
       "    --sklearn-color-icon: #878787;\n",
       "  }\n",
       "}\n",
       "\n",
       "#sk-container-id-1 {\n",
       "  color: var(--sklearn-color-text);\n",
       "}\n",
       "\n",
       "#sk-container-id-1 pre {\n",
       "  padding: 0;\n",
       "}\n",
       "\n",
       "#sk-container-id-1 input.sk-hidden--visually {\n",
       "  border: 0;\n",
       "  clip: rect(1px 1px 1px 1px);\n",
       "  clip: rect(1px, 1px, 1px, 1px);\n",
       "  height: 1px;\n",
       "  margin: -1px;\n",
       "  overflow: hidden;\n",
       "  padding: 0;\n",
       "  position: absolute;\n",
       "  width: 1px;\n",
       "}\n",
       "\n",
       "#sk-container-id-1 div.sk-dashed-wrapped {\n",
       "  border: 1px dashed var(--sklearn-color-line);\n",
       "  margin: 0 0.4em 0.5em 0.4em;\n",
       "  box-sizing: border-box;\n",
       "  padding-bottom: 0.4em;\n",
       "  background-color: var(--sklearn-color-background);\n",
       "}\n",
       "\n",
       "#sk-container-id-1 div.sk-container {\n",
       "  /* jupyter's `normalize.less` sets `[hidden] { display: none; }`\n",
       "     but bootstrap.min.css set `[hidden] { display: none !important; }`\n",
       "     so we also need the `!important` here to be able to override the\n",
       "     default hidden behavior on the sphinx rendered scikit-learn.org.\n",
       "     See: https://github.com/scikit-learn/scikit-learn/issues/21755 */\n",
       "  display: inline-block !important;\n",
       "  position: relative;\n",
       "}\n",
       "\n",
       "#sk-container-id-1 div.sk-text-repr-fallback {\n",
       "  display: none;\n",
       "}\n",
       "\n",
       "div.sk-parallel-item,\n",
       "div.sk-serial,\n",
       "div.sk-item {\n",
       "  /* draw centered vertical line to link estimators */\n",
       "  background-image: linear-gradient(var(--sklearn-color-text-on-default-background), var(--sklearn-color-text-on-default-background));\n",
       "  background-size: 2px 100%;\n",
       "  background-repeat: no-repeat;\n",
       "  background-position: center center;\n",
       "}\n",
       "\n",
       "/* Parallel-specific style estimator block */\n",
       "\n",
       "#sk-container-id-1 div.sk-parallel-item::after {\n",
       "  content: \"\";\n",
       "  width: 100%;\n",
       "  border-bottom: 2px solid var(--sklearn-color-text-on-default-background);\n",
       "  flex-grow: 1;\n",
       "}\n",
       "\n",
       "#sk-container-id-1 div.sk-parallel {\n",
       "  display: flex;\n",
       "  align-items: stretch;\n",
       "  justify-content: center;\n",
       "  background-color: var(--sklearn-color-background);\n",
       "  position: relative;\n",
       "}\n",
       "\n",
       "#sk-container-id-1 div.sk-parallel-item {\n",
       "  display: flex;\n",
       "  flex-direction: column;\n",
       "}\n",
       "\n",
       "#sk-container-id-1 div.sk-parallel-item:first-child::after {\n",
       "  align-self: flex-end;\n",
       "  width: 50%;\n",
       "}\n",
       "\n",
       "#sk-container-id-1 div.sk-parallel-item:last-child::after {\n",
       "  align-self: flex-start;\n",
       "  width: 50%;\n",
       "}\n",
       "\n",
       "#sk-container-id-1 div.sk-parallel-item:only-child::after {\n",
       "  width: 0;\n",
       "}\n",
       "\n",
       "/* Serial-specific style estimator block */\n",
       "\n",
       "#sk-container-id-1 div.sk-serial {\n",
       "  display: flex;\n",
       "  flex-direction: column;\n",
       "  align-items: center;\n",
       "  background-color: var(--sklearn-color-background);\n",
       "  padding-right: 1em;\n",
       "  padding-left: 1em;\n",
       "}\n",
       "\n",
       "\n",
       "/* Toggleable style: style used for estimator/Pipeline/ColumnTransformer box that is\n",
       "clickable and can be expanded/collapsed.\n",
       "- Pipeline and ColumnTransformer use this feature and define the default style\n",
       "- Estimators will overwrite some part of the style using the `sk-estimator` class\n",
       "*/\n",
       "\n",
       "/* Pipeline and ColumnTransformer style (default) */\n",
       "\n",
       "#sk-container-id-1 div.sk-toggleable {\n",
       "  /* Default theme specific background. It is overwritten whether we have a\n",
       "  specific estimator or a Pipeline/ColumnTransformer */\n",
       "  background-color: var(--sklearn-color-background);\n",
       "}\n",
       "\n",
       "/* Toggleable label */\n",
       "#sk-container-id-1 label.sk-toggleable__label {\n",
       "  cursor: pointer;\n",
       "  display: flex;\n",
       "  width: 100%;\n",
       "  margin-bottom: 0;\n",
       "  padding: 0.5em;\n",
       "  box-sizing: border-box;\n",
       "  text-align: center;\n",
       "  align-items: start;\n",
       "  justify-content: space-between;\n",
       "  gap: 0.5em;\n",
       "}\n",
       "\n",
       "#sk-container-id-1 label.sk-toggleable__label .caption {\n",
       "  font-size: 0.6rem;\n",
       "  font-weight: lighter;\n",
       "  color: var(--sklearn-color-text-muted);\n",
       "}\n",
       "\n",
       "#sk-container-id-1 label.sk-toggleable__label-arrow:before {\n",
       "  /* Arrow on the left of the label */\n",
       "  content: \"▸\";\n",
       "  float: left;\n",
       "  margin-right: 0.25em;\n",
       "  color: var(--sklearn-color-icon);\n",
       "}\n",
       "\n",
       "#sk-container-id-1 label.sk-toggleable__label-arrow:hover:before {\n",
       "  color: var(--sklearn-color-text);\n",
       "}\n",
       "\n",
       "/* Toggleable content - dropdown */\n",
       "\n",
       "#sk-container-id-1 div.sk-toggleable__content {\n",
       "  display: none;\n",
       "  text-align: left;\n",
       "  /* unfitted */\n",
       "  background-color: var(--sklearn-color-unfitted-level-0);\n",
       "}\n",
       "\n",
       "#sk-container-id-1 div.sk-toggleable__content.fitted {\n",
       "  /* fitted */\n",
       "  background-color: var(--sklearn-color-fitted-level-0);\n",
       "}\n",
       "\n",
       "#sk-container-id-1 div.sk-toggleable__content pre {\n",
       "  margin: 0.2em;\n",
       "  border-radius: 0.25em;\n",
       "  color: var(--sklearn-color-text);\n",
       "  /* unfitted */\n",
       "  background-color: var(--sklearn-color-unfitted-level-0);\n",
       "}\n",
       "\n",
       "#sk-container-id-1 div.sk-toggleable__content.fitted pre {\n",
       "  /* unfitted */\n",
       "  background-color: var(--sklearn-color-fitted-level-0);\n",
       "}\n",
       "\n",
       "#sk-container-id-1 input.sk-toggleable__control:checked~div.sk-toggleable__content {\n",
       "  /* Expand drop-down */\n",
       "  display: block;\n",
       "  width: 100%;\n",
       "  overflow: visible;\n",
       "}\n",
       "\n",
       "#sk-container-id-1 input.sk-toggleable__control:checked~label.sk-toggleable__label-arrow:before {\n",
       "  content: \"▾\";\n",
       "}\n",
       "\n",
       "/* Pipeline/ColumnTransformer-specific style */\n",
       "\n",
       "#sk-container-id-1 div.sk-label input.sk-toggleable__control:checked~label.sk-toggleable__label {\n",
       "  color: var(--sklearn-color-text);\n",
       "  background-color: var(--sklearn-color-unfitted-level-2);\n",
       "}\n",
       "\n",
       "#sk-container-id-1 div.sk-label.fitted input.sk-toggleable__control:checked~label.sk-toggleable__label {\n",
       "  background-color: var(--sklearn-color-fitted-level-2);\n",
       "}\n",
       "\n",
       "/* Estimator-specific style */\n",
       "\n",
       "/* Colorize estimator box */\n",
       "#sk-container-id-1 div.sk-estimator input.sk-toggleable__control:checked~label.sk-toggleable__label {\n",
       "  /* unfitted */\n",
       "  background-color: var(--sklearn-color-unfitted-level-2);\n",
       "}\n",
       "\n",
       "#sk-container-id-1 div.sk-estimator.fitted input.sk-toggleable__control:checked~label.sk-toggleable__label {\n",
       "  /* fitted */\n",
       "  background-color: var(--sklearn-color-fitted-level-2);\n",
       "}\n",
       "\n",
       "#sk-container-id-1 div.sk-label label.sk-toggleable__label,\n",
       "#sk-container-id-1 div.sk-label label {\n",
       "  /* The background is the default theme color */\n",
       "  color: var(--sklearn-color-text-on-default-background);\n",
       "}\n",
       "\n",
       "/* On hover, darken the color of the background */\n",
       "#sk-container-id-1 div.sk-label:hover label.sk-toggleable__label {\n",
       "  color: var(--sklearn-color-text);\n",
       "  background-color: var(--sklearn-color-unfitted-level-2);\n",
       "}\n",
       "\n",
       "/* Label box, darken color on hover, fitted */\n",
       "#sk-container-id-1 div.sk-label.fitted:hover label.sk-toggleable__label.fitted {\n",
       "  color: var(--sklearn-color-text);\n",
       "  background-color: var(--sklearn-color-fitted-level-2);\n",
       "}\n",
       "\n",
       "/* Estimator label */\n",
       "\n",
       "#sk-container-id-1 div.sk-label label {\n",
       "  font-family: monospace;\n",
       "  font-weight: bold;\n",
       "  display: inline-block;\n",
       "  line-height: 1.2em;\n",
       "}\n",
       "\n",
       "#sk-container-id-1 div.sk-label-container {\n",
       "  text-align: center;\n",
       "}\n",
       "\n",
       "/* Estimator-specific */\n",
       "#sk-container-id-1 div.sk-estimator {\n",
       "  font-family: monospace;\n",
       "  border: 1px dotted var(--sklearn-color-border-box);\n",
       "  border-radius: 0.25em;\n",
       "  box-sizing: border-box;\n",
       "  margin-bottom: 0.5em;\n",
       "  /* unfitted */\n",
       "  background-color: var(--sklearn-color-unfitted-level-0);\n",
       "}\n",
       "\n",
       "#sk-container-id-1 div.sk-estimator.fitted {\n",
       "  /* fitted */\n",
       "  background-color: var(--sklearn-color-fitted-level-0);\n",
       "}\n",
       "\n",
       "/* on hover */\n",
       "#sk-container-id-1 div.sk-estimator:hover {\n",
       "  /* unfitted */\n",
       "  background-color: var(--sklearn-color-unfitted-level-2);\n",
       "}\n",
       "\n",
       "#sk-container-id-1 div.sk-estimator.fitted:hover {\n",
       "  /* fitted */\n",
       "  background-color: var(--sklearn-color-fitted-level-2);\n",
       "}\n",
       "\n",
       "/* Specification for estimator info (e.g. \"i\" and \"?\") */\n",
       "\n",
       "/* Common style for \"i\" and \"?\" */\n",
       "\n",
       ".sk-estimator-doc-link,\n",
       "a:link.sk-estimator-doc-link,\n",
       "a:visited.sk-estimator-doc-link {\n",
       "  float: right;\n",
       "  font-size: smaller;\n",
       "  line-height: 1em;\n",
       "  font-family: monospace;\n",
       "  background-color: var(--sklearn-color-background);\n",
       "  border-radius: 1em;\n",
       "  height: 1em;\n",
       "  width: 1em;\n",
       "  text-decoration: none !important;\n",
       "  margin-left: 0.5em;\n",
       "  text-align: center;\n",
       "  /* unfitted */\n",
       "  border: var(--sklearn-color-unfitted-level-1) 1pt solid;\n",
       "  color: var(--sklearn-color-unfitted-level-1);\n",
       "}\n",
       "\n",
       ".sk-estimator-doc-link.fitted,\n",
       "a:link.sk-estimator-doc-link.fitted,\n",
       "a:visited.sk-estimator-doc-link.fitted {\n",
       "  /* fitted */\n",
       "  border: var(--sklearn-color-fitted-level-1) 1pt solid;\n",
       "  color: var(--sklearn-color-fitted-level-1);\n",
       "}\n",
       "\n",
       "/* On hover */\n",
       "div.sk-estimator:hover .sk-estimator-doc-link:hover,\n",
       ".sk-estimator-doc-link:hover,\n",
       "div.sk-label-container:hover .sk-estimator-doc-link:hover,\n",
       ".sk-estimator-doc-link:hover {\n",
       "  /* unfitted */\n",
       "  background-color: var(--sklearn-color-unfitted-level-3);\n",
       "  color: var(--sklearn-color-background);\n",
       "  text-decoration: none;\n",
       "}\n",
       "\n",
       "div.sk-estimator.fitted:hover .sk-estimator-doc-link.fitted:hover,\n",
       ".sk-estimator-doc-link.fitted:hover,\n",
       "div.sk-label-container:hover .sk-estimator-doc-link.fitted:hover,\n",
       ".sk-estimator-doc-link.fitted:hover {\n",
       "  /* fitted */\n",
       "  background-color: var(--sklearn-color-fitted-level-3);\n",
       "  color: var(--sklearn-color-background);\n",
       "  text-decoration: none;\n",
       "}\n",
       "\n",
       "/* Span, style for the box shown on hovering the info icon */\n",
       ".sk-estimator-doc-link span {\n",
       "  display: none;\n",
       "  z-index: 9999;\n",
       "  position: relative;\n",
       "  font-weight: normal;\n",
       "  right: .2ex;\n",
       "  padding: .5ex;\n",
       "  margin: .5ex;\n",
       "  width: min-content;\n",
       "  min-width: 20ex;\n",
       "  max-width: 50ex;\n",
       "  color: var(--sklearn-color-text);\n",
       "  box-shadow: 2pt 2pt 4pt #999;\n",
       "  /* unfitted */\n",
       "  background: var(--sklearn-color-unfitted-level-0);\n",
       "  border: .5pt solid var(--sklearn-color-unfitted-level-3);\n",
       "}\n",
       "\n",
       ".sk-estimator-doc-link.fitted span {\n",
       "  /* fitted */\n",
       "  background: var(--sklearn-color-fitted-level-0);\n",
       "  border: var(--sklearn-color-fitted-level-3);\n",
       "}\n",
       "\n",
       ".sk-estimator-doc-link:hover span {\n",
       "  display: block;\n",
       "}\n",
       "\n",
       "/* \"?\"-specific style due to the `<a>` HTML tag */\n",
       "\n",
       "#sk-container-id-1 a.estimator_doc_link {\n",
       "  float: right;\n",
       "  font-size: 1rem;\n",
       "  line-height: 1em;\n",
       "  font-family: monospace;\n",
       "  background-color: var(--sklearn-color-background);\n",
       "  border-radius: 1rem;\n",
       "  height: 1rem;\n",
       "  width: 1rem;\n",
       "  text-decoration: none;\n",
       "  /* unfitted */\n",
       "  color: var(--sklearn-color-unfitted-level-1);\n",
       "  border: var(--sklearn-color-unfitted-level-1) 1pt solid;\n",
       "}\n",
       "\n",
       "#sk-container-id-1 a.estimator_doc_link.fitted {\n",
       "  /* fitted */\n",
       "  border: var(--sklearn-color-fitted-level-1) 1pt solid;\n",
       "  color: var(--sklearn-color-fitted-level-1);\n",
       "}\n",
       "\n",
       "/* On hover */\n",
       "#sk-container-id-1 a.estimator_doc_link:hover {\n",
       "  /* unfitted */\n",
       "  background-color: var(--sklearn-color-unfitted-level-3);\n",
       "  color: var(--sklearn-color-background);\n",
       "  text-decoration: none;\n",
       "}\n",
       "\n",
       "#sk-container-id-1 a.estimator_doc_link.fitted:hover {\n",
       "  /* fitted */\n",
       "  background-color: var(--sklearn-color-fitted-level-3);\n",
       "}\n",
       "\n",
       ".estimator-table summary {\n",
       "    padding: .5rem;\n",
       "    font-family: monospace;\n",
       "    cursor: pointer;\n",
       "}\n",
       "\n",
       ".estimator-table details[open] {\n",
       "    padding-left: 0.1rem;\n",
       "    padding-right: 0.1rem;\n",
       "    padding-bottom: 0.3rem;\n",
       "}\n",
       "\n",
       ".estimator-table .parameters-table {\n",
       "    margin-left: auto !important;\n",
       "    margin-right: auto !important;\n",
       "}\n",
       "\n",
       ".estimator-table .parameters-table tr:nth-child(odd) {\n",
       "    background-color: #fff;\n",
       "}\n",
       "\n",
       ".estimator-table .parameters-table tr:nth-child(even) {\n",
       "    background-color: #f6f6f6;\n",
       "}\n",
       "\n",
       ".estimator-table .parameters-table tr:hover {\n",
       "    background-color: #e0e0e0;\n",
       "}\n",
       "\n",
       ".estimator-table table td {\n",
       "    border: 1px solid rgba(106, 105, 104, 0.232);\n",
       "}\n",
       "\n",
       ".user-set td {\n",
       "    color:rgb(255, 94, 0);\n",
       "    text-align: left;\n",
       "}\n",
       "\n",
       ".user-set td.value pre {\n",
       "    color:rgb(255, 94, 0) !important;\n",
       "    background-color: transparent !important;\n",
       "}\n",
       "\n",
       ".default td {\n",
       "    color: black;\n",
       "    text-align: left;\n",
       "}\n",
       "\n",
       ".user-set td i,\n",
       ".default td i {\n",
       "    color: black;\n",
       "}\n",
       "\n",
       ".copy-paste-icon {\n",
       "    background-image: url(data:image/svg+xml;base64,PHN2ZyB4bWxucz0iaHR0cDovL3d3dy53My5vcmcvMjAwMC9zdmciIHZpZXdCb3g9IjAgMCA0NDggNTEyIj48IS0tIUZvbnQgQXdlc29tZSBGcmVlIDYuNy4yIGJ5IEBmb250YXdlc29tZSAtIGh0dHBzOi8vZm9udGF3ZXNvbWUuY29tIExpY2Vuc2UgLSBodHRwczovL2ZvbnRhd2Vzb21lLmNvbS9saWNlbnNlL2ZyZWUgQ29weXJpZ2h0IDIwMjUgRm9udGljb25zLCBJbmMuLS0+PHBhdGggZD0iTTIwOCAwTDMzMi4xIDBjMTIuNyAwIDI0LjkgNS4xIDMzLjkgMTQuMWw2Ny45IDY3LjljOSA5IDE0LjEgMjEuMiAxNC4xIDMzLjlMNDQ4IDMzNmMwIDI2LjUtMjEuNSA0OC00OCA0OGwtMTkyIDBjLTI2LjUgMC00OC0yMS41LTQ4LTQ4bDAtMjg4YzAtMjYuNSAyMS41LTQ4IDQ4LTQ4ek00OCAxMjhsODAgMCAwIDY0LTY0IDAgMCAyNTYgMTkyIDAgMC0zMiA2NCAwIDAgNDhjMCAyNi41LTIxLjUgNDgtNDggNDhMNDggNTEyYy0yNi41IDAtNDgtMjEuNS00OC00OEwwIDE3NmMwLTI2LjUgMjEuNS00OCA0OC00OHoiLz48L3N2Zz4=);\n",
       "    background-repeat: no-repeat;\n",
       "    background-size: 14px 14px;\n",
       "    background-position: 0;\n",
       "    display: inline-block;\n",
       "    width: 14px;\n",
       "    height: 14px;\n",
       "    cursor: pointer;\n",
       "}\n",
       "</style><body><div id=\"sk-container-id-1\" class=\"sk-top-container\"><div class=\"sk-text-repr-fallback\"><pre>RandomForestClassifier()</pre><b>In a Jupyter environment, please rerun this cell to show the HTML representation or trust the notebook. <br />On GitHub, the HTML representation is unable to render, please try loading this page with nbviewer.org.</b></div><div class=\"sk-container\" hidden><div class=\"sk-item\"><div class=\"sk-estimator fitted sk-toggleable\"><input class=\"sk-toggleable__control sk-hidden--visually\" id=\"sk-estimator-id-1\" type=\"checkbox\" checked><label for=\"sk-estimator-id-1\" class=\"sk-toggleable__label fitted sk-toggleable__label-arrow\"><div><div>RandomForestClassifier</div></div><div><a class=\"sk-estimator-doc-link fitted\" rel=\"noreferrer\" target=\"_blank\" href=\"https://scikit-learn.org/1.7/modules/generated/sklearn.ensemble.RandomForestClassifier.html\">?<span>Documentation for RandomForestClassifier</span></a><span class=\"sk-estimator-doc-link fitted\">i<span>Fitted</span></span></div></label><div class=\"sk-toggleable__content fitted\" data-param-prefix=\"\">\n",
       "        <div class=\"estimator-table\">\n",
       "            <details>\n",
       "                <summary>Parameters</summary>\n",
       "                <table class=\"parameters-table\">\n",
       "                  <tbody>\n",
       "                    \n",
       "        <tr class=\"default\">\n",
       "            <td><i class=\"copy-paste-icon\"\n",
       "                 onclick=\"copyToClipboard('n_estimators',\n",
       "                          this.parentElement.nextElementSibling)\"\n",
       "            ></i></td>\n",
       "            <td class=\"param\">n_estimators&nbsp;</td>\n",
       "            <td class=\"value\">100</td>\n",
       "        </tr>\n",
       "    \n",
       "\n",
       "        <tr class=\"default\">\n",
       "            <td><i class=\"copy-paste-icon\"\n",
       "                 onclick=\"copyToClipboard('criterion',\n",
       "                          this.parentElement.nextElementSibling)\"\n",
       "            ></i></td>\n",
       "            <td class=\"param\">criterion&nbsp;</td>\n",
       "            <td class=\"value\">&#x27;gini&#x27;</td>\n",
       "        </tr>\n",
       "    \n",
       "\n",
       "        <tr class=\"default\">\n",
       "            <td><i class=\"copy-paste-icon\"\n",
       "                 onclick=\"copyToClipboard('max_depth',\n",
       "                          this.parentElement.nextElementSibling)\"\n",
       "            ></i></td>\n",
       "            <td class=\"param\">max_depth&nbsp;</td>\n",
       "            <td class=\"value\">None</td>\n",
       "        </tr>\n",
       "    \n",
       "\n",
       "        <tr class=\"default\">\n",
       "            <td><i class=\"copy-paste-icon\"\n",
       "                 onclick=\"copyToClipboard('min_samples_split',\n",
       "                          this.parentElement.nextElementSibling)\"\n",
       "            ></i></td>\n",
       "            <td class=\"param\">min_samples_split&nbsp;</td>\n",
       "            <td class=\"value\">2</td>\n",
       "        </tr>\n",
       "    \n",
       "\n",
       "        <tr class=\"default\">\n",
       "            <td><i class=\"copy-paste-icon\"\n",
       "                 onclick=\"copyToClipboard('min_samples_leaf',\n",
       "                          this.parentElement.nextElementSibling)\"\n",
       "            ></i></td>\n",
       "            <td class=\"param\">min_samples_leaf&nbsp;</td>\n",
       "            <td class=\"value\">1</td>\n",
       "        </tr>\n",
       "    \n",
       "\n",
       "        <tr class=\"default\">\n",
       "            <td><i class=\"copy-paste-icon\"\n",
       "                 onclick=\"copyToClipboard('min_weight_fraction_leaf',\n",
       "                          this.parentElement.nextElementSibling)\"\n",
       "            ></i></td>\n",
       "            <td class=\"param\">min_weight_fraction_leaf&nbsp;</td>\n",
       "            <td class=\"value\">0.0</td>\n",
       "        </tr>\n",
       "    \n",
       "\n",
       "        <tr class=\"default\">\n",
       "            <td><i class=\"copy-paste-icon\"\n",
       "                 onclick=\"copyToClipboard('max_features',\n",
       "                          this.parentElement.nextElementSibling)\"\n",
       "            ></i></td>\n",
       "            <td class=\"param\">max_features&nbsp;</td>\n",
       "            <td class=\"value\">&#x27;sqrt&#x27;</td>\n",
       "        </tr>\n",
       "    \n",
       "\n",
       "        <tr class=\"default\">\n",
       "            <td><i class=\"copy-paste-icon\"\n",
       "                 onclick=\"copyToClipboard('max_leaf_nodes',\n",
       "                          this.parentElement.nextElementSibling)\"\n",
       "            ></i></td>\n",
       "            <td class=\"param\">max_leaf_nodes&nbsp;</td>\n",
       "            <td class=\"value\">None</td>\n",
       "        </tr>\n",
       "    \n",
       "\n",
       "        <tr class=\"default\">\n",
       "            <td><i class=\"copy-paste-icon\"\n",
       "                 onclick=\"copyToClipboard('min_impurity_decrease',\n",
       "                          this.parentElement.nextElementSibling)\"\n",
       "            ></i></td>\n",
       "            <td class=\"param\">min_impurity_decrease&nbsp;</td>\n",
       "            <td class=\"value\">0.0</td>\n",
       "        </tr>\n",
       "    \n",
       "\n",
       "        <tr class=\"default\">\n",
       "            <td><i class=\"copy-paste-icon\"\n",
       "                 onclick=\"copyToClipboard('bootstrap',\n",
       "                          this.parentElement.nextElementSibling)\"\n",
       "            ></i></td>\n",
       "            <td class=\"param\">bootstrap&nbsp;</td>\n",
       "            <td class=\"value\">True</td>\n",
       "        </tr>\n",
       "    \n",
       "\n",
       "        <tr class=\"default\">\n",
       "            <td><i class=\"copy-paste-icon\"\n",
       "                 onclick=\"copyToClipboard('oob_score',\n",
       "                          this.parentElement.nextElementSibling)\"\n",
       "            ></i></td>\n",
       "            <td class=\"param\">oob_score&nbsp;</td>\n",
       "            <td class=\"value\">False</td>\n",
       "        </tr>\n",
       "    \n",
       "\n",
       "        <tr class=\"default\">\n",
       "            <td><i class=\"copy-paste-icon\"\n",
       "                 onclick=\"copyToClipboard('n_jobs',\n",
       "                          this.parentElement.nextElementSibling)\"\n",
       "            ></i></td>\n",
       "            <td class=\"param\">n_jobs&nbsp;</td>\n",
       "            <td class=\"value\">None</td>\n",
       "        </tr>\n",
       "    \n",
       "\n",
       "        <tr class=\"default\">\n",
       "            <td><i class=\"copy-paste-icon\"\n",
       "                 onclick=\"copyToClipboard('random_state',\n",
       "                          this.parentElement.nextElementSibling)\"\n",
       "            ></i></td>\n",
       "            <td class=\"param\">random_state&nbsp;</td>\n",
       "            <td class=\"value\">None</td>\n",
       "        </tr>\n",
       "    \n",
       "\n",
       "        <tr class=\"default\">\n",
       "            <td><i class=\"copy-paste-icon\"\n",
       "                 onclick=\"copyToClipboard('verbose',\n",
       "                          this.parentElement.nextElementSibling)\"\n",
       "            ></i></td>\n",
       "            <td class=\"param\">verbose&nbsp;</td>\n",
       "            <td class=\"value\">0</td>\n",
       "        </tr>\n",
       "    \n",
       "\n",
       "        <tr class=\"default\">\n",
       "            <td><i class=\"copy-paste-icon\"\n",
       "                 onclick=\"copyToClipboard('warm_start',\n",
       "                          this.parentElement.nextElementSibling)\"\n",
       "            ></i></td>\n",
       "            <td class=\"param\">warm_start&nbsp;</td>\n",
       "            <td class=\"value\">False</td>\n",
       "        </tr>\n",
       "    \n",
       "\n",
       "        <tr class=\"default\">\n",
       "            <td><i class=\"copy-paste-icon\"\n",
       "                 onclick=\"copyToClipboard('class_weight',\n",
       "                          this.parentElement.nextElementSibling)\"\n",
       "            ></i></td>\n",
       "            <td class=\"param\">class_weight&nbsp;</td>\n",
       "            <td class=\"value\">None</td>\n",
       "        </tr>\n",
       "    \n",
       "\n",
       "        <tr class=\"default\">\n",
       "            <td><i class=\"copy-paste-icon\"\n",
       "                 onclick=\"copyToClipboard('ccp_alpha',\n",
       "                          this.parentElement.nextElementSibling)\"\n",
       "            ></i></td>\n",
       "            <td class=\"param\">ccp_alpha&nbsp;</td>\n",
       "            <td class=\"value\">0.0</td>\n",
       "        </tr>\n",
       "    \n",
       "\n",
       "        <tr class=\"default\">\n",
       "            <td><i class=\"copy-paste-icon\"\n",
       "                 onclick=\"copyToClipboard('max_samples',\n",
       "                          this.parentElement.nextElementSibling)\"\n",
       "            ></i></td>\n",
       "            <td class=\"param\">max_samples&nbsp;</td>\n",
       "            <td class=\"value\">None</td>\n",
       "        </tr>\n",
       "    \n",
       "\n",
       "        <tr class=\"default\">\n",
       "            <td><i class=\"copy-paste-icon\"\n",
       "                 onclick=\"copyToClipboard('monotonic_cst',\n",
       "                          this.parentElement.nextElementSibling)\"\n",
       "            ></i></td>\n",
       "            <td class=\"param\">monotonic_cst&nbsp;</td>\n",
       "            <td class=\"value\">None</td>\n",
       "        </tr>\n",
       "    \n",
       "                  </tbody>\n",
       "                </table>\n",
       "            </details>\n",
       "        </div>\n",
       "    </div></div></div></div></div><script>function copyToClipboard(text, element) {\n",
       "    // Get the parameter prefix from the closest toggleable content\n",
       "    const toggleableContent = element.closest('.sk-toggleable__content');\n",
       "    const paramPrefix = toggleableContent ? toggleableContent.dataset.paramPrefix : '';\n",
       "    const fullParamName = paramPrefix ? `${paramPrefix}${text}` : text;\n",
       "\n",
       "    const originalStyle = element.style;\n",
       "    const computedStyle = window.getComputedStyle(element);\n",
       "    const originalWidth = computedStyle.width;\n",
       "    const originalHTML = element.innerHTML.replace('Copied!', '');\n",
       "\n",
       "    navigator.clipboard.writeText(fullParamName)\n",
       "        .then(() => {\n",
       "            element.style.width = originalWidth;\n",
       "            element.style.color = 'green';\n",
       "            element.innerHTML = \"Copied!\";\n",
       "\n",
       "            setTimeout(() => {\n",
       "                element.innerHTML = originalHTML;\n",
       "                element.style = originalStyle;\n",
       "            }, 2000);\n",
       "        })\n",
       "        .catch(err => {\n",
       "            console.error('Failed to copy:', err);\n",
       "            element.style.color = 'red';\n",
       "            element.innerHTML = \"Failed!\";\n",
       "            setTimeout(() => {\n",
       "                element.innerHTML = originalHTML;\n",
       "                element.style = originalStyle;\n",
       "            }, 2000);\n",
       "        });\n",
       "    return false;\n",
       "}\n",
       "\n",
       "document.querySelectorAll('.fa-regular.fa-copy').forEach(function(element) {\n",
       "    const toggleableContent = element.closest('.sk-toggleable__content');\n",
       "    const paramPrefix = toggleableContent ? toggleableContent.dataset.paramPrefix : '';\n",
       "    const paramName = element.parentElement.nextElementSibling.textContent.trim();\n",
       "    const fullParamName = paramPrefix ? `${paramPrefix}${paramName}` : paramName;\n",
       "\n",
       "    element.setAttribute('title', fullParamName);\n",
       "});\n",
       "</script></body>"
      ],
      "text/plain": [
       "RandomForestClassifier()"
      ]
     },
     "execution_count": 23,
     "metadata": {},
     "output_type": "execute_result"
    }
   ],
   "source": [
    "# Model Instantiation and Fit\n",
    "random_forest = RandomForestClassifier()\n",
    "random_forest.fit(X_mmp_train, y_mmp_train)"
   ]
  },
  {
   "cell_type": "code",
   "execution_count": 24,
   "id": "c844f3ca-39bc-48f3-b6f8-b7f02c036ad1",
   "metadata": {
    "execution": {
     "iopub.execute_input": "2025-06-10T12:24:31.281629Z",
     "iopub.status.busy": "2025-06-10T12:24:31.280436Z",
     "iopub.status.idle": "2025-06-10T12:25:27.598071Z",
     "shell.execute_reply": "2025-06-10T12:25:27.596545Z",
     "shell.execute_reply.started": "2025-06-10T12:24:31.281556Z"
    }
   },
   "outputs": [],
   "source": [
    "# Cross-validation\n",
    "random_forest_mmp_cv = cross_validate(random_forest\n",
    "                                    , X=X_mmp_train, y=y_mmp_train, cv=5,\n",
    "                                scoring=[\"accuracy\",\n",
    "                                         \"recall\",\n",
    "                                         \"precision\",\n",
    "                                         \"f1\"\n",
    "                                        ]\n",
    "                               )"
   ]
  },
  {
   "cell_type": "code",
   "execution_count": 25,
   "id": "81a9189c-6276-4e43-85e9-c907c552ef01",
   "metadata": {
    "execution": {
     "iopub.execute_input": "2025-06-10T12:26:50.331122Z",
     "iopub.status.busy": "2025-06-10T12:26:50.330420Z",
     "iopub.status.idle": "2025-06-10T12:26:50.365484Z",
     "shell.execute_reply": "2025-06-10T12:26:50.360712Z",
     "shell.execute_reply.started": "2025-06-10T12:26:50.331087Z"
    }
   },
   "outputs": [
    {
     "data": {
      "text/plain": [
       "{'accuracy': 'fit_time',\n",
       " 'recall': 'score_time',\n",
       " 'precision': 'test_accuracy',\n",
       " 'f1': 'test_recall'}"
      ]
     },
     "execution_count": 25,
     "metadata": {},
     "output_type": "execute_result"
    }
   ],
   "source": [
    "random_forest_mmp_scoring_metrics = pd.DataFrame((list(random_forest_mmp_cv.values()))[2:]).mean(axis=1)\n",
    "keys = [\"accuracy\", \"recall\", \"precision\", \"f1\"]\n",
    "logit_scoring_metrics = dict(zip(keys, list(random_forest_mmp_cv)))\n",
    "logit_scoring_metrics"
   ]
  },
  {
   "cell_type": "markdown",
   "id": "a12db8e8",
   "metadata": {},
   "source": [
    "### Save Model to Pickle File "
   ]
  },
  {
   "cell_type": "code",
   "execution_count": 28,
   "id": "39c99833",
   "metadata": {},
   "outputs": [],
   "source": [
    "# save the model to disk\n",
    "filename = 'random_forest_mmp_model.pkl'\n",
    "pickle.dump(random_forest, open(filename, 'wb'))"
   ]
  },
  {
   "cell_type": "markdown",
   "id": "c81c2218-a916-45d8-ba01-d1d9921f48f6",
   "metadata": {
    "execution": {
     "iopub.execute_input": "2025-06-10T12:14:56.012186Z",
     "iopub.status.busy": "2025-06-10T12:14:56.008156Z",
     "iopub.status.idle": "2025-06-10T12:14:56.034448Z",
     "shell.execute_reply": "2025-06-10T12:14:56.032265Z",
     "shell.execute_reply.started": "2025-06-10T12:14:56.012051Z"
    }
   },
   "source": [
    "## Target: SR.ARE"
   ]
  },
  {
   "cell_type": "code",
   "execution_count": null,
   "id": "06d23fa2-7be2-4e12-a357-16ece2c4eacc",
   "metadata": {},
   "outputs": [],
   "source": []
  },
  {
   "cell_type": "markdown",
   "id": "054d37d6",
   "metadata": {},
   "source": []
  }
 ],
 "metadata": {
  "kernelspec": {
   "display_name": "toxikind",
   "language": "python",
   "name": "python3"
  },
  "language_info": {
   "codemirror_mode": {
    "name": "ipython",
    "version": 3
   },
   "file_extension": ".py",
   "mimetype": "text/x-python",
   "name": "python",
   "nbconvert_exporter": "python",
   "pygments_lexer": "ipython3",
   "version": "3.10.6"
  }
 },
 "nbformat": 4,
 "nbformat_minor": 5
}
