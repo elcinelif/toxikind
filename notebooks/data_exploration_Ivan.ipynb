{
 "cells": [
  {
   "cell_type": "code",
   "execution_count": null,
   "id": "b579e9f7",
   "metadata": {},
   "outputs": [],
   "source": [
    "# Data handling\n",
    "import numpy as np\n",
    "import pandas as pd\n",
    "\n",
    "# Plotting\n",
    "%matplotlib inline\n",
    "import matplotlib.pyplot as plt\n",
    "import seaborn as sns\n",
    "\n",
    "# Models\n",
    "from sklearn.tree import DecisionTreeClassifier\n",
    "from sklearn.ensemble import RandomForestClassifier\n",
    "from sklearn.model_selection import cross_validate, train_test_split, GridSearchCV"
   ]
  },
  {
   "cell_type": "code",
   "execution_count": 9,
   "id": "dc3dc436",
   "metadata": {},
   "outputs": [],
   "source": [
    "path_features_train = \"../raw_data/tox21_dense_train.csv.gz\"\n",
    "X = pd.read_csv(path_features_train).set_index(\"Unnamed: 0\")"
   ]
  },
  {
   "cell_type": "code",
   "execution_count": null,
   "id": "b86d914a",
   "metadata": {},
   "outputs": [],
   "source": [
    "path_targets_train = \"../raw_data/tox21_labels_train.csv.gz\"\n",
    "y = pd.read_csv(path_targets_train).set_index(\"Unnamed: 0\")"
   ]
  },
  {
   "cell_type": "code",
   "execution_count": 18,
   "id": "219da92a",
   "metadata": {},
   "outputs": [],
   "source": [
    "y_mmp = y[[\"SR.MMP\"]].dropna()\n",
    "mmp_train = X.merge(y_mmp, how=\"inner\", on=\"Unnamed: 0\")\n"
   ]
  },
  {
   "cell_type": "code",
   "execution_count": 23,
   "id": "0c83eaaf",
   "metadata": {},
   "outputs": [],
   "source": [
    "mmp_train\n",
    "\n",
    "X_mmp = mmp_train.drop(columns='SR.MMP')\n",
    "y_mmp = mmp_train['SR.MMP']"
   ]
  },
  {
   "cell_type": "markdown",
   "id": "a9b98ee5",
   "metadata": {},
   "source": [
    "# Baseline Model: Random Forest Regression"
   ]
  },
  {
   "cell_type": "code",
   "execution_count": null,
   "id": "9db41373",
   "metadata": {},
   "outputs": [],
   "source": [
    "tree_classsifier = DecisionTreeClassifier()\n",
    "\n",
    "scoring = {'accuracy': 'accuracy',\n",
    "           'recall': 'recall'}\n",
    "\n",
    "max_depth = np.arange(100,401,1)\n",
    "min_samples_split = np.arange(0,1025,25)\n",
    "min_samples_leaf = np.arange(1,100,1)\n",
    "max_leaf_nodes = np.arange(10, 101, 10)\n",
    "criterion=['entropy','gini']\n",
    "\n",
    "param_grid = {\n",
    "    'max_depth': max_depth,\n",
    "    'min_samples_split': min_samples_split,\n",
    "    'min_samples_leaf': min_samples_leaf,\n",
    "    'max_leaf_nodes': max_leaf_nodes,\n",
    "    'criterion': criterion\n",
    "}\n",
    "\n",
    "grid_search = GridSearchCV(tree_classsifier, param_grid, cv=5, scoring='recall')\n",
    "#cv = cross_validate(tree_classsifier, X_mmp, y_mmp, cv=5, scoring=scoring)\n",
    "grid_search.fit(X_mmp, y_mmp)"
   ]
  },
  {
   "cell_type": "code",
   "execution_count": null,
   "id": "358214bb",
   "metadata": {},
   "outputs": [],
   "source": [
    "# Grid of parameters to search\n",
    "\n",
    "# Grid Search\n",
    "grid_search = GridSearchCV(tree, param_grid, cv=5, scoring='accuracy')\n"
   ]
  },
  {
   "cell_type": "code",
   "execution_count": 39,
   "id": "ab60f861",
   "metadata": {},
   "outputs": [
    {
     "name": "stdout",
     "output_type": "stream",
     "text": [
      "0.5169491525423728\n",
      "0.8496999954478446\n"
     ]
    }
   ],
   "source": [
    "print(cv['test_recall'].mean())\n",
    "print(cv['test_accuracy'].mean())"
   ]
  },
  {
   "cell_type": "code",
   "execution_count": null,
   "id": "226e1617",
   "metadata": {},
   "outputs": [],
   "source": []
  }
 ],
 "metadata": {
  "kernelspec": {
   "display_name": "toxikind",
   "language": "python",
   "name": "python3"
  },
  "language_info": {
   "codemirror_mode": {
    "name": "ipython",
    "version": 3
   },
   "file_extension": ".py",
   "mimetype": "text/x-python",
   "name": "python",
   "nbconvert_exporter": "python",
   "pygments_lexer": "ipython3",
   "version": "3.10.6"
  }
 },
 "nbformat": 4,
 "nbformat_minor": 5
}
