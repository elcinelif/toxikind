{
 "cells": [
  {
   "cell_type": "code",
   "execution_count": null,
   "id": "f86f4291-1bb3-4314-828a-54924a4bc1bd",
   "metadata": {},
   "outputs": [],
   "source": [
    "# Data handling\n",
    "import numpy as np\n",
    "import pandas as pd\n",
    "\n",
    "# Plotting\n",
    "%matplotlib inline"
   ]
  },
  {
   "cell_type": "markdown",
   "id": "9fa9bd65-fc44-4231-8711-b4cb174a3e3e",
   "metadata": {},
   "source": [
    "# Data Exploration"
   ]
  },
  {
   "cell_type": "code",
   "execution_count": 1,
   "id": "66b0031a-a119-46b9-9bc7-966079a3d12f",
   "metadata": {
    "execution": {
     "iopub.execute_input": "2025-06-09T14:45:59.895942Z",
     "iopub.status.busy": "2025-06-09T14:45:59.891764Z",
     "iopub.status.idle": "2025-06-09T14:45:59.917825Z",
     "shell.execute_reply": "2025-06-09T14:45:59.912899Z",
     "shell.execute_reply.started": "2025-06-09T14:45:59.895887Z"
    }
   },
   "outputs": [],
   "source": [
    "# Load Data"
   ]
  },
  {
   "cell_type": "code",
   "execution_count": null,
   "id": "2fd430ca-7572-4190-b16c-55518b9aa6c6",
   "metadata": {},
   "outputs": [],
   "source": []
  }
 ],
 "metadata": {
  "kernelspec": {
   "display_name": "Python 3 (ipykernel)",
   "language": "python",
   "name": "python3"
  },
  "language_info": {
   "codemirror_mode": {
    "name": "ipython",
    "version": 3
   },
   "file_extension": ".py",
   "mimetype": "text/x-python",
   "name": "python",
   "nbconvert_exporter": "python",
   "pygments_lexer": "ipython3",
   "version": "3.12.9"
  }
 },
 "nbformat": 4,
 "nbformat_minor": 5
}
