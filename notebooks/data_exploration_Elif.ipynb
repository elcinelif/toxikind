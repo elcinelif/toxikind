{
 "cells": [
  {
   "cell_type": "code",
   "execution_count": 15,
   "id": "f86f4291-1bb3-4314-828a-54924a4bc1bd",
   "metadata": {
    "execution": {
     "iopub.execute_input": "2025-06-09T15:12:51.929065Z",
     "iopub.status.busy": "2025-06-09T15:12:51.928583Z",
     "iopub.status.idle": "2025-06-09T15:12:53.399420Z",
     "shell.execute_reply": "2025-06-09T15:12:53.395289Z",
     "shell.execute_reply.started": "2025-06-09T15:12:51.929028Z"
    }
   },
   "outputs": [],
   "source": [
    "%pwd\n",
    "import pandas as pd\n",
    "import matplotlib.pyplot as plt"
   ]
  },
  {
   "cell_type": "code",
   "execution_count": 5,
   "id": "32a22409-4356-49e8-aa09-9f8063646c97",
   "metadata": {
    "execution": {
     "iopub.execute_input": "2025-06-09T15:04:50.857389Z",
     "iopub.status.busy": "2025-06-09T15:04:50.849332Z",
     "iopub.status.idle": "2025-06-09T15:04:53.434648Z",
     "shell.execute_reply": "2025-06-09T15:04:53.432898Z",
     "shell.execute_reply.started": "2025-06-09T15:04:50.857358Z"
    }
   },
   "outputs": [
    {
     "data": {
      "text/html": [
       "<div>\n",
       "<style scoped>\n",
       "    .dataframe tbody tr th:only-of-type {\n",
       "        vertical-align: middle;\n",
       "    }\n",
       "\n",
       "    .dataframe tbody tr th {\n",
       "        vertical-align: top;\n",
       "    }\n",
       "\n",
       "    .dataframe thead th {\n",
       "        text-align: right;\n",
       "    }\n",
       "</style>\n",
       "<table border=\"1\" class=\"dataframe\">\n",
       "  <thead>\n",
       "    <tr style=\"text-align: right;\">\n",
       "      <th></th>\n",
       "      <th>Unnamed: 0</th>\n",
       "      <th>AW</th>\n",
       "      <th>AWeight</th>\n",
       "      <th>Arto</th>\n",
       "      <th>BertzCT</th>\n",
       "      <th>Chi0</th>\n",
       "      <th>Chi1</th>\n",
       "      <th>Chi10</th>\n",
       "      <th>Chi2</th>\n",
       "      <th>Chi3</th>\n",
       "      <th>...</th>\n",
       "      <th>W3D</th>\n",
       "      <th>W3DH</th>\n",
       "      <th>WNSA1</th>\n",
       "      <th>WNSA2</th>\n",
       "      <th>WNSA3</th>\n",
       "      <th>WPSA1</th>\n",
       "      <th>WPSA2</th>\n",
       "      <th>WPSA3</th>\n",
       "      <th>grav</th>\n",
       "      <th>rygr</th>\n",
       "    </tr>\n",
       "  </thead>\n",
       "  <tbody>\n",
       "    <tr>\n",
       "      <th>0</th>\n",
       "      <td>NCGC00178831-03</td>\n",
       "      <td>5.436720e+07</td>\n",
       "      <td>13.053</td>\n",
       "      <td>2.176</td>\n",
       "      <td>3.194</td>\n",
       "      <td>23.112</td>\n",
       "      <td>15.868</td>\n",
       "      <td>1.496</td>\n",
       "      <td>15.127</td>\n",
       "      <td>12.592</td>\n",
       "      <td>...</td>\n",
       "      <td>2687.469</td>\n",
       "      <td>9241.018</td>\n",
       "      <td>115.371</td>\n",
       "      <td>-915.496</td>\n",
       "      <td>-39.983</td>\n",
       "      <td>290.078</td>\n",
       "      <td>2301.941</td>\n",
       "      <td>59.492</td>\n",
       "      <td>88.147</td>\n",
       "      <td>3.708</td>\n",
       "    </tr>\n",
       "    <tr>\n",
       "      <th>1</th>\n",
       "      <td>NCGC00166114-03</td>\n",
       "      <td>1.268818e+07</td>\n",
       "      <td>22.123</td>\n",
       "      <td>2.065</td>\n",
       "      <td>3.137</td>\n",
       "      <td>21.033</td>\n",
       "      <td>13.718</td>\n",
       "      <td>1.937</td>\n",
       "      <td>13.187</td>\n",
       "      <td>11.951</td>\n",
       "      <td>...</td>\n",
       "      <td>2184.384</td>\n",
       "      <td>3234.199</td>\n",
       "      <td>194.740</td>\n",
       "      <td>-1029.609</td>\n",
       "      <td>-34.205</td>\n",
       "      <td>235.360</td>\n",
       "      <td>1244.323</td>\n",
       "      <td>82.906</td>\n",
       "      <td>134.852</td>\n",
       "      <td>4.131</td>\n",
       "    </tr>\n",
       "    <tr>\n",
       "      <th>2</th>\n",
       "      <td>NCGC00263563-01</td>\n",
       "      <td>3.076932e+06</td>\n",
       "      <td>13.085</td>\n",
       "      <td>2.154</td>\n",
       "      <td>3.207</td>\n",
       "      <td>46.896</td>\n",
       "      <td>29.958</td>\n",
       "      <td>3.806</td>\n",
       "      <td>30.105</td>\n",
       "      <td>25.569</td>\n",
       "      <td>...</td>\n",
       "      <td>13803.524</td>\n",
       "      <td>76582.899</td>\n",
       "      <td>238.004</td>\n",
       "      <td>-4358.946</td>\n",
       "      <td>-106.537</td>\n",
       "      <td>868.685</td>\n",
       "      <td>15909.444</td>\n",
       "      <td>135.335</td>\n",
       "      <td>216.852</td>\n",
       "      <td>5.075</td>\n",
       "    </tr>\n",
       "    <tr>\n",
       "      <th>3</th>\n",
       "      <td>NCGC00013058-02</td>\n",
       "      <td>7.168569e+07</td>\n",
       "      <td>12.832</td>\n",
       "      <td>2.029</td>\n",
       "      <td>3.380</td>\n",
       "      <td>51.086</td>\n",
       "      <td>32.045</td>\n",
       "      <td>1.806</td>\n",
       "      <td>29.090</td>\n",
       "      <td>21.603</td>\n",
       "      <td>...</td>\n",
       "      <td>13807.345</td>\n",
       "      <td>50498.175</td>\n",
       "      <td>226.312</td>\n",
       "      <td>-2785.555</td>\n",
       "      <td>-61.923</td>\n",
       "      <td>763.288</td>\n",
       "      <td>9394.859</td>\n",
       "      <td>125.509</td>\n",
       "      <td>238.265</td>\n",
       "      <td>4.640</td>\n",
       "    </tr>\n",
       "    <tr>\n",
       "      <th>4</th>\n",
       "      <td>NCGC00167516-01</td>\n",
       "      <td>7.989702e+06</td>\n",
       "      <td>12.936</td>\n",
       "      <td>2.124</td>\n",
       "      <td>3.573</td>\n",
       "      <td>70.295</td>\n",
       "      <td>46.402</td>\n",
       "      <td>3.604</td>\n",
       "      <td>42.132</td>\n",
       "      <td>32.570</td>\n",
       "      <td>...</td>\n",
       "      <td>43231.286</td>\n",
       "      <td>163659.229</td>\n",
       "      <td>850.869</td>\n",
       "      <td>-21136.699</td>\n",
       "      <td>-367.122</td>\n",
       "      <td>1798.703</td>\n",
       "      <td>44681.209</td>\n",
       "      <td>362.168</td>\n",
       "      <td>317.901</td>\n",
       "      <td>7.845</td>\n",
       "    </tr>\n",
       "  </tbody>\n",
       "</table>\n",
       "<p>5 rows × 802 columns</p>\n",
       "</div>"
      ],
      "text/plain": [
       "        Unnamed: 0            AW  AWeight   Arto  BertzCT    Chi0    Chi1  \\\n",
       "0  NCGC00178831-03  5.436720e+07   13.053  2.176    3.194  23.112  15.868   \n",
       "1  NCGC00166114-03  1.268818e+07   22.123  2.065    3.137  21.033  13.718   \n",
       "2  NCGC00263563-01  3.076932e+06   13.085  2.154    3.207  46.896  29.958   \n",
       "3  NCGC00013058-02  7.168569e+07   12.832  2.029    3.380  51.086  32.045   \n",
       "4  NCGC00167516-01  7.989702e+06   12.936  2.124    3.573  70.295  46.402   \n",
       "\n",
       "   Chi10    Chi2    Chi3  ...        W3D        W3DH    WNSA1      WNSA2  \\\n",
       "0  1.496  15.127  12.592  ...   2687.469    9241.018  115.371   -915.496   \n",
       "1  1.937  13.187  11.951  ...   2184.384    3234.199  194.740  -1029.609   \n",
       "2  3.806  30.105  25.569  ...  13803.524   76582.899  238.004  -4358.946   \n",
       "3  1.806  29.090  21.603  ...  13807.345   50498.175  226.312  -2785.555   \n",
       "4  3.604  42.132  32.570  ...  43231.286  163659.229  850.869 -21136.699   \n",
       "\n",
       "     WNSA3     WPSA1      WPSA2    WPSA3     grav   rygr  \n",
       "0  -39.983   290.078   2301.941   59.492   88.147  3.708  \n",
       "1  -34.205   235.360   1244.323   82.906  134.852  4.131  \n",
       "2 -106.537   868.685  15909.444  135.335  216.852  5.075  \n",
       "3  -61.923   763.288   9394.859  125.509  238.265  4.640  \n",
       "4 -367.122  1798.703  44681.209  362.168  317.901  7.845  \n",
       "\n",
       "[5 rows x 802 columns]"
      ]
     },
     "execution_count": 5,
     "metadata": {},
     "output_type": "execute_result"
    }
   ],
   "source": [
    "path_features_train = \"../raw_data/tox21_dense_train.csv.gz\" \n",
    "X = pd.read_csv(path_features_train)\n",
    "X.head()"
   ]
  },
  {
   "cell_type": "code",
   "execution_count": 6,
   "id": "184a6df0-f2ac-4134-980d-e180df81291c",
   "metadata": {
    "execution": {
     "iopub.execute_input": "2025-06-09T15:05:44.337467Z",
     "iopub.status.busy": "2025-06-09T15:05:44.336773Z",
     "iopub.status.idle": "2025-06-09T15:05:44.373281Z",
     "shell.execute_reply": "2025-06-09T15:05:44.371913Z",
     "shell.execute_reply.started": "2025-06-09T15:05:44.337354Z"
    }
   },
   "outputs": [
    {
     "data": {
      "text/plain": [
       "(12060, 802)"
      ]
     },
     "execution_count": 6,
     "metadata": {},
     "output_type": "execute_result"
    }
   ],
   "source": [
    "X.shape"
   ]
  },
  {
   "cell_type": "code",
   "execution_count": 9,
   "id": "3038ab08-2fa9-4b1c-aea0-a0e7799ff7cb",
   "metadata": {
    "execution": {
     "iopub.execute_input": "2025-06-09T15:07:56.932507Z",
     "iopub.status.busy": "2025-06-09T15:07:56.931775Z",
     "iopub.status.idle": "2025-06-09T15:07:57.000705Z",
     "shell.execute_reply": "2025-06-09T15:07:56.999293Z",
     "shell.execute_reply.started": "2025-06-09T15:07:56.932461Z"
    }
   },
   "outputs": [],
   "source": [
    "path_targets_train = \"../raw_data/tox21_labels_train.csv.gz\"  \n",
    "y = pd.read_csv(path_targets_train)"
   ]
  },
  {
   "cell_type": "code",
   "execution_count": 11,
   "id": "0282c0a5-e5dc-49f3-a444-c0c69c89434b",
   "metadata": {
    "execution": {
     "iopub.execute_input": "2025-06-09T15:08:21.849194Z",
     "iopub.status.busy": "2025-06-09T15:08:21.848768Z",
     "iopub.status.idle": "2025-06-09T15:08:21.905368Z",
     "shell.execute_reply": "2025-06-09T15:08:21.904293Z",
     "shell.execute_reply.started": "2025-06-09T15:08:21.849158Z"
    }
   },
   "outputs": [
    {
     "data": {
      "text/html": [
       "<div>\n",
       "<style scoped>\n",
       "    .dataframe tbody tr th:only-of-type {\n",
       "        vertical-align: middle;\n",
       "    }\n",
       "\n",
       "    .dataframe tbody tr th {\n",
       "        vertical-align: top;\n",
       "    }\n",
       "\n",
       "    .dataframe thead th {\n",
       "        text-align: right;\n",
       "    }\n",
       "</style>\n",
       "<table border=\"1\" class=\"dataframe\">\n",
       "  <thead>\n",
       "    <tr style=\"text-align: right;\">\n",
       "      <th></th>\n",
       "      <th>Unnamed: 0</th>\n",
       "      <th>NR.AhR</th>\n",
       "      <th>NR.AR</th>\n",
       "      <th>NR.AR.LBD</th>\n",
       "      <th>NR.Aromatase</th>\n",
       "      <th>NR.ER</th>\n",
       "      <th>NR.ER.LBD</th>\n",
       "      <th>NR.PPAR.gamma</th>\n",
       "      <th>SR.ARE</th>\n",
       "      <th>SR.ATAD5</th>\n",
       "      <th>SR.HSE</th>\n",
       "      <th>SR.MMP</th>\n",
       "      <th>SR.p53</th>\n",
       "    </tr>\n",
       "  </thead>\n",
       "  <tbody>\n",
       "    <tr>\n",
       "      <th>12055</th>\n",
       "      <td>NCGC00261292-01</td>\n",
       "      <td>0.0</td>\n",
       "      <td>0.0</td>\n",
       "      <td>0.0</td>\n",
       "      <td>0.0</td>\n",
       "      <td>0.0</td>\n",
       "      <td>0.0</td>\n",
       "      <td>0.0</td>\n",
       "      <td>0.0</td>\n",
       "      <td>0.0</td>\n",
       "      <td>0.0</td>\n",
       "      <td>0.0</td>\n",
       "      <td>0.0</td>\n",
       "    </tr>\n",
       "    <tr>\n",
       "      <th>12056</th>\n",
       "      <td>NCGC00261245-01</td>\n",
       "      <td>0.0</td>\n",
       "      <td>0.0</td>\n",
       "      <td>0.0</td>\n",
       "      <td>NaN</td>\n",
       "      <td>NaN</td>\n",
       "      <td>0.0</td>\n",
       "      <td>0.0</td>\n",
       "      <td>NaN</td>\n",
       "      <td>NaN</td>\n",
       "      <td>NaN</td>\n",
       "      <td>NaN</td>\n",
       "      <td>NaN</td>\n",
       "    </tr>\n",
       "    <tr>\n",
       "      <th>12057</th>\n",
       "      <td>NCGC00260828-01</td>\n",
       "      <td>0.0</td>\n",
       "      <td>0.0</td>\n",
       "      <td>0.0</td>\n",
       "      <td>0.0</td>\n",
       "      <td>0.0</td>\n",
       "      <td>0.0</td>\n",
       "      <td>0.0</td>\n",
       "      <td>0.0</td>\n",
       "      <td>0.0</td>\n",
       "      <td>0.0</td>\n",
       "      <td>0.0</td>\n",
       "      <td>0.0</td>\n",
       "    </tr>\n",
       "    <tr>\n",
       "      <th>12058</th>\n",
       "      <td>NCGC00260687-01</td>\n",
       "      <td>0.0</td>\n",
       "      <td>0.0</td>\n",
       "      <td>0.0</td>\n",
       "      <td>0.0</td>\n",
       "      <td>0.0</td>\n",
       "      <td>0.0</td>\n",
       "      <td>0.0</td>\n",
       "      <td>0.0</td>\n",
       "      <td>0.0</td>\n",
       "      <td>0.0</td>\n",
       "      <td>0.0</td>\n",
       "      <td>0.0</td>\n",
       "    </tr>\n",
       "    <tr>\n",
       "      <th>12059</th>\n",
       "      <td>NCGC00261465-01</td>\n",
       "      <td>0.0</td>\n",
       "      <td>0.0</td>\n",
       "      <td>0.0</td>\n",
       "      <td>0.0</td>\n",
       "      <td>NaN</td>\n",
       "      <td>0.0</td>\n",
       "      <td>0.0</td>\n",
       "      <td>0.0</td>\n",
       "      <td>0.0</td>\n",
       "      <td>0.0</td>\n",
       "      <td>0.0</td>\n",
       "      <td>0.0</td>\n",
       "    </tr>\n",
       "  </tbody>\n",
       "</table>\n",
       "</div>"
      ],
      "text/plain": [
       "            Unnamed: 0  NR.AhR  NR.AR  NR.AR.LBD  NR.Aromatase  NR.ER  \\\n",
       "12055  NCGC00261292-01     0.0    0.0        0.0           0.0    0.0   \n",
       "12056  NCGC00261245-01     0.0    0.0        0.0           NaN    NaN   \n",
       "12057  NCGC00260828-01     0.0    0.0        0.0           0.0    0.0   \n",
       "12058  NCGC00260687-01     0.0    0.0        0.0           0.0    0.0   \n",
       "12059  NCGC00261465-01     0.0    0.0        0.0           0.0    NaN   \n",
       "\n",
       "       NR.ER.LBD  NR.PPAR.gamma  SR.ARE  SR.ATAD5  SR.HSE  SR.MMP  SR.p53  \n",
       "12055        0.0            0.0     0.0       0.0     0.0     0.0     0.0  \n",
       "12056        0.0            0.0     NaN       NaN     NaN     NaN     NaN  \n",
       "12057        0.0            0.0     0.0       0.0     0.0     0.0     0.0  \n",
       "12058        0.0            0.0     0.0       0.0     0.0     0.0     0.0  \n",
       "12059        0.0            0.0     0.0       0.0     0.0     0.0     0.0  "
      ]
     },
     "execution_count": 11,
     "metadata": {},
     "output_type": "execute_result"
    }
   ],
   "source": [
    "y.tail()"
   ]
  },
  {
   "cell_type": "code",
   "execution_count": 12,
   "id": "51b74392-48b6-4be7-a3cd-083513e33ad2",
   "metadata": {
    "execution": {
     "iopub.execute_input": "2025-06-09T15:08:33.754814Z",
     "iopub.status.busy": "2025-06-09T15:08:33.754461Z",
     "iopub.status.idle": "2025-06-09T15:08:33.775946Z",
     "shell.execute_reply": "2025-06-09T15:08:33.775168Z",
     "shell.execute_reply.started": "2025-06-09T15:08:33.754789Z"
    }
   },
   "outputs": [
    {
     "data": {
      "text/plain": [
       "(12060, 13)"
      ]
     },
     "execution_count": 12,
     "metadata": {},
     "output_type": "execute_result"
    }
   ],
   "source": [
    "y.shape"
   ]
  },
  {
   "cell_type": "code",
   "execution_count": 13,
   "id": "a3adc48c-7175-463d-b47f-69fadbdf51cf",
   "metadata": {
    "execution": {
     "iopub.execute_input": "2025-06-09T15:09:13.444051Z",
     "iopub.status.busy": "2025-06-09T15:09:13.443474Z",
     "iopub.status.idle": "2025-06-09T15:09:13.458968Z",
     "shell.execute_reply": "2025-06-09T15:09:13.457033Z",
     "shell.execute_reply.started": "2025-06-09T15:09:13.444027Z"
    }
   },
   "outputs": [
    {
     "data": {
      "text/plain": [
       "SR.ARE           4659\n",
       "NR.Aromatase     4620\n",
       "SR.MMP           4502\n",
       "NR.ER            4098\n",
       "SR.HSE           3643\n",
       "NR.AhR           3619\n",
       "NR.PPAR.gamma    3609\n",
       "NR.AR.LBD        3208\n",
       "SR.p53           3157\n",
       "NR.ER.LBD        3020\n",
       "SR.ATAD5         2697\n",
       "NR.AR            2406\n",
       "Unnamed: 0          0\n",
       "dtype: int64"
      ]
     },
     "execution_count": 13,
     "metadata": {},
     "output_type": "execute_result"
    }
   ],
   "source": [
    "y.isnull().sum().sort_values(ascending=False)"
   ]
  },
  {
   "cell_type": "code",
   "execution_count": 14,
   "id": "fa0b983c-4f5b-48a9-bf3e-d60b69c1a861",
   "metadata": {
    "execution": {
     "iopub.execute_input": "2025-06-09T15:12:32.313549Z",
     "iopub.status.busy": "2025-06-09T15:12:32.301795Z",
     "iopub.status.idle": "2025-06-09T15:12:32.357021Z",
     "shell.execute_reply": "2025-06-09T15:12:32.355082Z",
     "shell.execute_reply.started": "2025-06-09T15:12:32.313415Z"
    }
   },
   "outputs": [
    {
     "data": {
      "text/plain": [
       "Index(['NR.AhR', 'NR.AR', 'NR.AR.LBD', 'NR.Aromatase', 'NR.ER', 'NR.ER.LBD',\n",
       "       'NR.PPAR.gamma', 'SR.ARE', 'SR.ATAD5', 'SR.HSE', 'SR.MMP', 'SR.p53'],\n",
       "      dtype='object')"
      ]
     },
     "execution_count": 14,
     "metadata": {},
     "output_type": "execute_result"
    }
   ],
   "source": [
    "experiments = y.columns[1:]\n",
    "experiments"
   ]
  },
  {
   "cell_type": "code",
   "execution_count": 16,
   "id": "60a7607d-0242-434e-a501-e0a85aa3d373",
   "metadata": {
    "execution": {
     "iopub.execute_input": "2025-06-09T15:13:13.408800Z",
     "iopub.status.busy": "2025-06-09T15:13:13.408165Z",
     "iopub.status.idle": "2025-06-09T15:13:13.556194Z",
     "shell.execute_reply": "2025-06-09T15:13:13.554854Z",
     "shell.execute_reply.started": "2025-06-09T15:13:13.408772Z"
    }
   },
   "outputs": [
    {
     "data": {
      "text/html": [
       "<div>\n",
       "<style scoped>\n",
       "    .dataframe tbody tr th:only-of-type {\n",
       "        vertical-align: middle;\n",
       "    }\n",
       "\n",
       "    .dataframe tbody tr th {\n",
       "        vertical-align: top;\n",
       "    }\n",
       "\n",
       "    .dataframe thead th {\n",
       "        text-align: right;\n",
       "    }\n",
       "</style>\n",
       "<table border=\"1\" class=\"dataframe\">\n",
       "  <thead>\n",
       "    <tr style=\"text-align: right;\">\n",
       "      <th></th>\n",
       "      <th>Experiment</th>\n",
       "      <th>Toxic (1)</th>\n",
       "      <th>Non-toxic (0)</th>\n",
       "      <th>Missing (NaN)</th>\n",
       "    </tr>\n",
       "  </thead>\n",
       "  <tbody>\n",
       "    <tr>\n",
       "      <th>0</th>\n",
       "      <td>NR.AhR</td>\n",
       "      <td>981</td>\n",
       "      <td>7460</td>\n",
       "      <td>3619</td>\n",
       "    </tr>\n",
       "    <tr>\n",
       "      <th>1</th>\n",
       "      <td>NR.AR</td>\n",
       "      <td>383</td>\n",
       "      <td>9271</td>\n",
       "      <td>2406</td>\n",
       "    </tr>\n",
       "    <tr>\n",
       "      <th>2</th>\n",
       "      <td>NR.AR.LBD</td>\n",
       "      <td>307</td>\n",
       "      <td>8545</td>\n",
       "      <td>3208</td>\n",
       "    </tr>\n",
       "    <tr>\n",
       "      <th>3</th>\n",
       "      <td>NR.Aromatase</td>\n",
       "      <td>378</td>\n",
       "      <td>7062</td>\n",
       "      <td>4620</td>\n",
       "    </tr>\n",
       "    <tr>\n",
       "      <th>4</th>\n",
       "      <td>NR.ER</td>\n",
       "      <td>964</td>\n",
       "      <td>6998</td>\n",
       "      <td>4098</td>\n",
       "    </tr>\n",
       "  </tbody>\n",
       "</table>\n",
       "</div>"
      ],
      "text/plain": [
       "     Experiment  Toxic (1)  Non-toxic (0)  Missing (NaN)\n",
       "0        NR.AhR        981           7460           3619\n",
       "1         NR.AR        383           9271           2406\n",
       "2     NR.AR.LBD        307           8545           3208\n",
       "3  NR.Aromatase        378           7062           4620\n",
       "4         NR.ER        964           6998           4098"
      ]
     },
     "execution_count": 16,
     "metadata": {},
     "output_type": "execute_result"
    }
   ],
   "source": [
    "exp_stats = []\n",
    "\n",
    "for i in experiments:\n",
    "    n_toxic = sum(y[i] ==1)\n",
    "    n_non_toxic = sum(y[i] ==0)\n",
    "    n_nan = sum(y[i].isna())\n",
    "    exp_stats.append([i, n_toxic, n_non_toxic, n_nan])\n",
    "\n",
    "exp_stats\n",
    "stats_df = pd.DataFrame(exp_stats, columns=['Experiment', 'Toxic (1)', 'Non-toxic (0)', 'Missing (NaN)'])\n",
    "stats_df.head()"
   ]
  },
  {
   "cell_type": "code",
   "execution_count": 17,
   "id": "057b3e8a-c649-4fba-be92-602f14988bfa",
   "metadata": {
    "execution": {
     "iopub.execute_input": "2025-06-09T15:13:35.322670Z",
     "iopub.status.busy": "2025-06-09T15:13:35.322365Z",
     "iopub.status.idle": "2025-06-09T15:13:36.269844Z",
     "shell.execute_reply": "2025-06-09T15:13:36.266057Z",
     "shell.execute_reply.started": "2025-06-09T15:13:35.322648Z"
    }
   },
   "outputs": [
    {
     "data": {
      "image/png": "[encoded data removed]",
      "text/plain": [
       "<Figure size 1200x600 with 1 Axes>"
      ]
     },
     "metadata": {},
     "output_type": "display_data"
    }
   ],
   "source": [
    "# Plot\n",
    "stats_df.set_index('Experiment').plot(kind='bar', stacked=True, figsize=(12, 6))\n",
    "plt.title(\"Distribution of Toxic, Non-Toxic, and Missing Labels per Experiment\")\n",
    "plt.ylabel(\"Count\")\n",
    "plt.xlabel(\"Experiment\")\n",
    "plt.xticks(rotation=45, ha='right')\n",
    "plt.tight_layout()\n",
    "plt.legend(loc='upper right')\n",
    "plt.show()"
   ]
  },
  {
   "cell_type": "code",
   "execution_count": null,
   "id": "b73f4a5e-ecde-4951-953a-14c9d6074b7e",
   "metadata": {},
   "outputs": [],
   "source": []
  }
 ],
 "metadata": {
  "kernelspec": {
   "display_name": "Python 3 (ipykernel)",
   "language": "python",
   "name": "python3"
  },
  "language_info": {
   "codemirror_mode": {
    "name": "ipython",
    "version": 3
   },
   "file_extension": ".py",
   "mimetype": "text/x-python",
   "name": "python",
   "nbconvert_exporter": "python",
   "pygments_lexer": "ipython3",
   "version": "3.12.9"
  }
 },
 "nbformat": 4,
 "nbformat_minor": 5
}
