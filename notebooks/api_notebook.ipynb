{
 "cells": [
  {
   "cell_type": "code",
   "execution_count": null,
   "id": "62417875",
   "metadata": {},
   "outputs": [],
   "source": [
    "import pandas as pd\n",
    "import pickle"
   ]
  },
  {
   "cell_type": "code",
   "execution_count": null,
   "id": "f416b2a3",
   "metadata": {},
   "outputs": [],
   "source": [
    "def target_selection (target):\n",
    "\n",
    "    all_targets_y_train= pd.read_csv('../data/y_test.csv')\n",
    "    y_train = all_targets_y_train[['ID',target]].set_index('ID').dropna()\n",
    "\n",
    "    return y_train"
   ]
  },
  {
   "cell_type": "code",
   "execution_count": null,
   "id": "d9e76088",
   "metadata": {},
   "outputs": [],
   "source": [
    "def featurize_test_df (compound):\n",
    "\n",
    "    X_test = pd.read_csv('../data/X_test.csv',index_col='ID')\n",
    "    X_predict = X_test[X_test.index==compound]\n",
    "\n",
    "    if X_predict.shape[0] == 0:\n",
    "        return 'Compound not found in Dataset'\n",
    "\n",
    "    with open('../production_model/feature_scaler.pkl','rb') as f:\n",
    "        scaler_fitted = pickle.load(f)\n",
    "\n",
    "    X_predict_transformed = pd.DataFrame(scaler_fitted.transform(X_predict),columns=X_predict.columns)\n",
    "\n",
    "    return X_predict_transformed\n",
    "\n",
    "def predict(X_predict_transformed):\n",
    "\n",
    "    with open('../trained_models/random_forest_mmp.pkl','rb') as f:\n",
    "        trained_model = pickle.load(f)\n",
    "\n",
    "    prediction = int(trained_model.predict(X_predict_transformed)[0])\n",
    "\n",
    "    if prediction == 1:\n",
    "        return 'The compound is toxic'\n",
    "\n",
    "    return 'The compound is not toxic'"
   ]
  },
  {
   "cell_type": "code",
   "execution_count": 57,
   "id": "89305862",
   "metadata": {},
   "outputs": [],
   "source": [
    "def featurize_test_df (compound):\n",
    "\n",
    "    X_test = pd.read_csv('../data/X_test.csv',index_col='ID')\n",
    "    X_predict = X_test[X_test.index==compound]\n",
    "\n",
    "    return X_predict"
   ]
  },
  {
   "cell_type": "code",
   "execution_count": null,
   "id": "ccf03343",
   "metadata": {},
   "outputs": [],
   "source": [
    "X_predict = featurize_test_df('NCGC00261900-01')\n",
    "\n",
    "with open('../trained_models/random_forest_mmp.pkl','rb') as f:\n",
    "        trained_model = pickle.load(f)\n",
    "\n",
    "for i in all_targets_y_train.columns:\n",
    "\n",
    "    if trained_model.predict(X_predict) > 0:\n",
    "        print(trained_model.predict(X_predict))"
   ]
  },
  {
   "cell_type": "code",
   "execution_count": null,
   "id": "dd075dc6",
   "metadata": {},
   "outputs": [],
   "source": [
    "all_y_train = pd.read_csv('../data/y_train.csv')\n",
    "all_X_train = pd.read_csv('../data/X_train.csv').set_index('ID')\n",
    "all_y_test = pd.read_csv('../data/y_test.csv')\n",
    "all_X_test = pd.read_csv('../data/X_test.csv').set_index('ID')"
   ]
  },
  {
   "cell_type": "markdown",
   "id": "0bdd1f33",
   "metadata": {},
   "source": [
    "SR.MMP SR.ARE\t"
   ]
  },
  {
   "cell_type": "code",
   "execution_count": 122,
   "id": "3b2c508a",
   "metadata": {},
   "outputs": [],
   "source": [
    "target = 'SR.MMP'\n",
    "\n",
    "\n",
    "y_train = all_y_train[['ID',target]].set_index('ID').dropna()\n",
    "X_train = y_train.join(all_X_train,how='inner')\n",
    "\n",
    "y_test = all_y_test[['ID',target]].set_index('ID').dropna()\n",
    "X_test = y_test.join(all_X_test,how='inner')"
   ]
  },
  {
   "cell_type": "code",
   "execution_count": 117,
   "id": "f2c4d287",
   "metadata": {},
   "outputs": [
    {
     "name": "stderr",
     "output_type": "stream",
     "text": [
      "/home/ivan/.pyenv/versions/3.10.6/envs/toxikind/lib/python3.10/site-packages/sklearn/preprocessing/_label.py:110: DataConversionWarning: A column-vector y was passed when a 1d array was expected. Please change the shape of y to (n_samples, ), for example using ravel().\n",
      "  y = column_or_1d(y, warn=True)\n"
     ]
    },
    {
     "name": "stdout",
     "output_type": "stream",
     "text": [
      "              precision    recall  f1-score   support\n",
      "\n",
      "         0.0       1.00      1.00      1.00       483\n",
      "         1.0       1.00      1.00      1.00        60\n",
      "\n",
      "    accuracy                           1.00       543\n",
      "   macro avg       1.00      1.00      1.00       543\n",
      "weighted avg       1.00      1.00      1.00       543\n",
      "\n"
     ]
    }
   ],
   "source": [
    "from xgboost import XGBClassifier\n",
    "from sklearn.ensemble import GradientBoostingClassifier\n",
    "from sklearn.metrics import classification_report\n",
    "\n",
    "model = GradientBoostingClassifier()\n",
    "fitted_model_mmp = model.fit(X_train,y_train)\n",
    "\n",
    "\n",
    "y_pred = fitted_model_mmp.predict(X_test)\n",
    "\n",
    "print(classification_report(y_test, y_pred))"
   ]
  },
  {
   "cell_type": "code",
   "execution_count": 100,
   "id": "1d23a2a0",
   "metadata": {},
   "outputs": [],
   "source": [
    "with open(f'../production_model/fitted_xgb_are.pkl', 'wb') as f:\n",
    "    pickle.dump(fitted_model_mmp, f)\n"
   ]
  },
  {
   "cell_type": "code",
   "execution_count": 111,
   "id": "c5f98801",
   "metadata": {},
   "outputs": [
    {
     "name": "stdout",
     "output_type": "stream",
     "text": [
      "              precision    recall  f1-score   support\n",
      "\n",
      "           0       1.00      1.00      1.00       483\n",
      "           1       1.00      1.00      1.00        60\n",
      "\n",
      "    accuracy                           1.00       543\n",
      "   macro avg       1.00      1.00      1.00       543\n",
      "weighted avg       1.00      1.00      1.00       543\n",
      "\n"
     ]
    }
   ],
   "source": [
    "from sklearn.metrics import classification_report\n",
    "\n",
    "y_pred = model.predict(X_test)\n",
    "\n",
    "print(classification_report( y_pred, y_pred))"
   ]
  },
  {
   "cell_type": "code",
   "execution_count": 123,
   "id": "0e0f24ab",
   "metadata": {},
   "outputs": [
    {
     "data": {
      "text/html": [
       "<div>\n",
       "<style scoped>\n",
       "    .dataframe tbody tr th:only-of-type {\n",
       "        vertical-align: middle;\n",
       "    }\n",
       "\n",
       "    .dataframe tbody tr th {\n",
       "        vertical-align: top;\n",
       "    }\n",
       "\n",
       "    .dataframe thead th {\n",
       "        text-align: right;\n",
       "    }\n",
       "</style>\n",
       "<table border=\"1\" class=\"dataframe\">\n",
       "  <thead>\n",
       "    <tr style=\"text-align: right;\">\n",
       "      <th></th>\n",
       "      <th>SR.MMP</th>\n",
       "    </tr>\n",
       "    <tr>\n",
       "      <th>ID</th>\n",
       "      <th></th>\n",
       "    </tr>\n",
       "  </thead>\n",
       "  <tbody>\n",
       "    <tr>\n",
       "      <th>NCGC00260869-01</th>\n",
       "      <td>0.0</td>\n",
       "    </tr>\n",
       "    <tr>\n",
       "      <th>NCGC00261776-01</th>\n",
       "      <td>1.0</td>\n",
       "    </tr>\n",
       "    <tr>\n",
       "      <th>NCGC00261380-01</th>\n",
       "      <td>0.0</td>\n",
       "    </tr>\n",
       "    <tr>\n",
       "      <th>NCGC00261190-01</th>\n",
       "      <td>1.0</td>\n",
       "    </tr>\n",
       "    <tr>\n",
       "      <th>NCGC00260731-01</th>\n",
       "      <td>1.0</td>\n",
       "    </tr>\n",
       "    <tr>\n",
       "      <th>...</th>\n",
       "      <td>...</td>\n",
       "    </tr>\n",
       "    <tr>\n",
       "      <th>NCGC00356954-01</th>\n",
       "      <td>0.0</td>\n",
       "    </tr>\n",
       "    <tr>\n",
       "      <th>NCGC00357020-01</th>\n",
       "      <td>0.0</td>\n",
       "    </tr>\n",
       "    <tr>\n",
       "      <th>NCGC00357168-01</th>\n",
       "      <td>0.0</td>\n",
       "    </tr>\n",
       "    <tr>\n",
       "      <th>NCGC00357283-01</th>\n",
       "      <td>0.0</td>\n",
       "    </tr>\n",
       "    <tr>\n",
       "      <th>NCGC00357144-01</th>\n",
       "      <td>0.0</td>\n",
       "    </tr>\n",
       "  </tbody>\n",
       "</table>\n",
       "<p>543 rows × 1 columns</p>\n",
       "</div>"
      ],
      "text/plain": [
       "                 SR.MMP\n",
       "ID                     \n",
       "NCGC00260869-01     0.0\n",
       "NCGC00261776-01     1.0\n",
       "NCGC00261380-01     0.0\n",
       "NCGC00261190-01     1.0\n",
       "NCGC00260731-01     1.0\n",
       "...                 ...\n",
       "NCGC00356954-01     0.0\n",
       "NCGC00357020-01     0.0\n",
       "NCGC00357168-01     0.0\n",
       "NCGC00357283-01     0.0\n",
       "NCGC00357144-01     0.0\n",
       "\n",
       "[543 rows x 1 columns]"
      ]
     },
     "execution_count": 123,
     "metadata": {},
     "output_type": "execute_result"
    }
   ],
   "source": [
    "y_test"
   ]
  },
  {
   "cell_type": "markdown",
   "id": "91b0c1fc",
   "metadata": {},
   "source": [
    "MMP\n",
    "\n",
    "NCGC00260869-01\t0.0\n",
    "NCGC00261776-01\t1.0\n",
    "NCGC00261380-01\t0.0\n",
    "\n",
    "ARE\n",
    "\n",
    "NCGC00260869-01\t0.0\n",
    "NCGC00261776-01\t1.0\n",
    "NCGC00261380-01\t1.0"
   ]
  },
  {
   "cell_type": "code",
   "execution_count": null,
   "id": "fb66c43b",
   "metadata": {},
   "outputs": [],
   "source": []
  }
 ],
 "metadata": {
  "kernelspec": {
   "display_name": "toxikind",
   "language": "python",
   "name": "python3"
  },
  "language_info": {
   "codemirror_mode": {
    "name": "ipython",
    "version": 3
   },
   "file_extension": ".py",
   "mimetype": "text/x-python",
   "name": "python",
   "nbconvert_exporter": "python",
   "pygments_lexer": "ipython3",
   "version": "3.10.6"
  }
 },
 "nbformat": 4,
 "nbformat_minor": 5
}
